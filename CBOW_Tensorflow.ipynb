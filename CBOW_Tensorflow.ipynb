{
  "nbformat": 4,
  "nbformat_minor": 0,
  "metadata": {
    "colab": {
      "name": "CBOW_Tensorflow.ipynb",
      "provenance": [],
      "collapsed_sections": [],
      "authorship_tag": "ABX9TyMaet4GzaG6yU7NqbbuoHfE",
      "include_colab_link": true
    },
    "kernelspec": {
      "name": "python3",
      "display_name": "Python 3"
    },
    "language_info": {
      "name": "python"
    },
    "accelerator": "GPU",
    "gpuClass": "standard"
  },
  "cells": [
    {
      "cell_type": "markdown",
      "metadata": {
        "id": "view-in-github",
        "colab_type": "text"
      },
      "source": [
        "<a href=\"https://colab.research.google.com/github/juramireza/Introducci-n-a-la-inteligencia-artificial/blob/main/CBOW_Tensorflow.ipynb\" target=\"_parent\"><img src=\"https://colab.research.google.com/assets/colab-badge.svg\" alt=\"Open In Colab\"/></a>"
      ]
    },
    {
      "cell_type": "markdown",
      "source": [
        "#1.Importar librerías"
      ],
      "metadata": {
        "id": "xQwbis6yOVUX"
      }
    },
    {
      "cell_type": "code",
      "execution_count": 15,
      "metadata": {
        "id": "k5e9waN2OP8E"
      },
      "outputs": [],
      "source": [
        "from nltk.corpus import gutenberg # obtener el corpus de la biblia\n",
        "from string import punctuation # remover la puntiación \n",
        "import nltk \n",
        "import re\n",
        "import numpy as np\n",
        "import pandas as pd\n",
        "from keras.preprocessing import text\n",
        "from keras.preprocessing.sequence import skipgrams \n",
        "from keras.layers import *\n",
        "from keras.layers.core import Dense, Reshape\n",
        "from keras.layers.embeddings import Embedding\n",
        "from keras.models import Model,Sequential\n",
        "from nltk.corpus import gutenberg\n",
        "from string import punctuation\n",
        "pd.options.display.max_colwidth = 200\n",
        "import tensorflow as tf\n",
        "from tensorflow.keras.preprocessing import text\n",
        "from tensorflow.keras.utils import np_utils\n",
        "from tensorflow.keras.utils import to_categorical \n",
        "from tensorflow.keras.preprocessing import sequence\n",
        "from tensorflow.keras.layers import Input, Dense, Embedding, Lambda\n",
        "from tensorflow.keras.models import Model\n",
        "from tensorflow.keras.utils import plot_model\n",
        "from tensorflow.keras.optimizers import Adam\n",
        "from tensorflow.keras.losses import MeanSquaredError\n",
        "%matplotlib inline"
      ]
    },
    {
      "cell_type": "markdown",
      "source": [
        "#2.Descarga del proyecto gutenberg, el modelo puntkt y las palabras vacías "
      ],
      "metadata": {
        "id": "0E4DosqeRriE"
      }
    },
    {
      "cell_type": "code",
      "source": [
        "nltk.download('gutenberg')\n",
        "nltk.download('punkt')\n",
        "nltk.download('stopwords')\n",
        "\n",
        "stop_words = nltk.corpus.stopwords.words('english')"
      ],
      "metadata": {
        "colab": {
          "base_uri": "https://localhost:8080/"
        },
        "id": "G-rDBeIpPI0c",
        "outputId": "7036adc4-6faa-48d6-8059-83a700fec495"
      },
      "execution_count": 4,
      "outputs": [
        {
          "output_type": "stream",
          "name": "stderr",
          "text": [
            "[nltk_data] Downloading package gutenberg to /root/nltk_data...\n",
            "[nltk_data]   Unzipping corpora/gutenberg.zip.\n",
            "[nltk_data] Downloading package punkt to /root/nltk_data...\n",
            "[nltk_data]   Unzipping tokenizers/punkt.zip.\n",
            "[nltk_data] Downloading package stopwords to /root/nltk_data...\n",
            "[nltk_data]   Unzipping corpora/stopwords.zip.\n"
          ]
        }
      ]
    },
    {
      "cell_type": "markdown",
      "source": [
        "#3.Limpieza del corpus documental y tokenización"
      ],
      "metadata": {
        "id": "CagQLJP9RvoS"
      }
    },
    {
      "cell_type": "code",
      "source": [
        "bible = gutenberg.sents(\"bible-kjv.txt\")\n",
        "remove_terms = punctuation + '0123456789'"
      ],
      "metadata": {
        "id": "NWBTl1RVQN8s"
      },
      "execution_count": 5,
      "outputs": []
    },
    {
      "cell_type": "code",
      "source": [
        "wpt = nltk.WordPunctTokenizer()\n",
        "\n",
        "def normalize_document(doc):\n",
        "    # Se remueven carácteres especiales y espacios \n",
        "    doc = re.sub(r'[^a-zA-Z\\s]', '', doc,re.I|re.A)\n",
        "    doc = doc.lower()\n",
        "    doc = doc.strip()\n",
        "    # Se tokeniza el documento\n",
        "    tokens = wpt.tokenize(doc)\n",
        "    # Se filtran las palabras vacías \n",
        "    filtered_tokens = [token for token in tokens if token not in stop_words]\n",
        "    # se reconstruye el docuemento tokenizado\n",
        "    doc = ' '.join(filtered_tokens)\n",
        "    return doc\n",
        "\n",
        "normalize_corpus = np.vectorize(normalize_document)"
      ],
      "metadata": {
        "id": "rWd_aC_YPIO9"
      },
      "execution_count": 6,
      "outputs": []
    },
    {
      "cell_type": "code",
      "source": [
        "norm_bible = [[word.lower() for word in sent if word not in remove_terms] for sent in bible]\n",
        "norm_bible = [' '.join(tok_sent) for tok_sent in norm_bible]\n",
        "norm_bible = filter(None, normalize_corpus(norm_bible))\n",
        "norm_bible = [tok_sent for tok_sent in norm_bible if len(tok_sent.split()) > 2]\n",
        "\n",
        "print('Total lines:', len(bible))\n",
        "print('\\nSample line:', bible[10])\n",
        "print('\\nProcessed line:', norm_bible[10])"
      ],
      "metadata": {
        "colab": {
          "base_uri": "https://localhost:8080/"
        },
        "id": "wg_bVBCXP7Zt",
        "outputId": "d4d273ab-563d-4063-e62e-5bad853b3c45"
      },
      "execution_count": 7,
      "outputs": [
        {
          "output_type": "stream",
          "name": "stdout",
          "text": [
            "Total lines: 30103\n",
            "\n",
            "Sample line: ['1', ':', '6', 'And', 'God', 'said', ',', 'Let', 'there', 'be', 'a', 'firmament', 'in', 'the', 'midst', 'of', 'the', 'waters', ',', 'and', 'let', 'it', 'divide', 'the', 'waters', 'from', 'the', 'waters', '.']\n",
            "\n",
            "Processed line: god said let firmament midst waters let divide waters waters\n"
          ]
        }
      ]
    },
    {
      "cell_type": "markdown",
      "source": [
        "#4.Construcción del vocabulario "
      ],
      "metadata": {
        "id": "MIhy7vhuR7hs"
      }
    },
    {
      "cell_type": "code",
      "source": [
        "from keras.preprocessing import text\n",
        "from keras.utils import np_utils\n",
        "from keras.preprocessing import sequence\n",
        "\n",
        "tokenizer = text.Tokenizer()\n",
        "tokenizer.fit_on_texts(norm_bible)\n",
        "word2id = tokenizer.word_index\n",
        "\n",
        "word2id['PAD'] = 0\n",
        "id2word = {v:k for k, v in word2id.items()}\n",
        "wids = [[word2id[w] for w in text.text_to_word_sequence(doc)] for doc in norm_bible]\n",
        "\n",
        "vocab_size = len(word2id)\n",
        "embed_size = 100\n",
        "window_size = 2\n",
        "\n",
        "print('Vocabulary Size:', vocab_size)\n",
        "print('Vocabulary Sample:', list(word2id.items())[:10])"
      ],
      "metadata": {
        "colab": {
          "base_uri": "https://localhost:8080/"
        },
        "id": "Ws6hmmZgQbN8",
        "outputId": "20c3164b-fb5b-49aa-eb6f-bd33c7c5b870"
      },
      "execution_count": 8,
      "outputs": [
        {
          "output_type": "stream",
          "name": "stdout",
          "text": [
            "Vocabulary Size: 12425\n",
            "Vocabulary Sample: [('shall', 1), ('unto', 2), ('lord', 3), ('thou', 4), ('thy', 5), ('god', 6), ('ye', 7), ('said', 8), ('thee', 9), ('upon', 10)]\n"
          ]
        }
      ]
    },
    {
      "cell_type": "markdown",
      "source": [
        "#5.Construcción de context_words y target_word"
      ],
      "metadata": {
        "id": "Ql2PhTLsSeFL"
      }
    },
    {
      "cell_type": "code",
      "source": [
        "def generate_context_word_pairs(corpus, window_size, vocab_size):\n",
        "    context_length = window_size*2\n",
        "    for words in corpus:\n",
        "        sentence_length = len(words)\n",
        "        for index, word in enumerate(words):\n",
        "            context_words = []\n",
        "            label_word   = []            \n",
        "            start = index - window_size\n",
        "            end = index + window_size + 1\n",
        "            \n",
        "            context_words.append([words[i] \n",
        "                                 for i in range(start, end) \n",
        "                                 if 0 <= i < sentence_length \n",
        "                                 and i != index])\n",
        "            label_word.append(word)\n",
        "\n",
        "            x = sequence.pad_sequences(context_words, maxlen=context_length)\n",
        "            y = np_utils.to_categorical(label_word, vocab_size)\n",
        "            yield (x, y)"
      ],
      "metadata": {
        "id": "Zx0wKDziQd1T"
      },
      "execution_count": 9,
      "outputs": []
    },
    {
      "cell_type": "code",
      "source": [
        "i = 0\n",
        "for x, y in generate_context_word_pairs(corpus=wids, window_size=window_size, vocab_size=vocab_size):\n",
        "    if 0 not in x[0]:\n",
        "        print('Context (X):', [id2word[w] for w in x[0]], '-> Target (Y):', id2word[np.argwhere(y[0])[0][0]])\n",
        "    \n",
        "        if i == 10:\n",
        "            break\n",
        "        i += 1"
      ],
      "metadata": {
        "colab": {
          "base_uri": "https://localhost:8080/"
        },
        "id": "GmJEmdF8OcPd",
        "outputId": "fb6ffe29-aa9c-4b8e-b033-329a1bb18d97"
      },
      "execution_count": 10,
      "outputs": [
        {
          "output_type": "stream",
          "name": "stdout",
          "text": [
            "Context (X): ['old', 'testament', 'james', 'bible'] -> Target (Y): king\n",
            "Context (X): ['first', 'book', 'called', 'genesis'] -> Target (Y): moses\n",
            "Context (X): ['beginning', 'god', 'heaven', 'earth'] -> Target (Y): created\n",
            "Context (X): ['earth', 'without', 'void', 'darkness'] -> Target (Y): form\n",
            "Context (X): ['without', 'form', 'darkness', 'upon'] -> Target (Y): void\n",
            "Context (X): ['form', 'void', 'upon', 'face'] -> Target (Y): darkness\n",
            "Context (X): ['void', 'darkness', 'face', 'deep'] -> Target (Y): upon\n",
            "Context (X): ['spirit', 'god', 'upon', 'face'] -> Target (Y): moved\n",
            "Context (X): ['god', 'moved', 'face', 'waters'] -> Target (Y): upon\n",
            "Context (X): ['god', 'said', 'light', 'light'] -> Target (Y): let\n",
            "Context (X): ['god', 'saw', 'good', 'god'] -> Target (Y): light\n"
          ]
        }
      ]
    },
    {
      "cell_type": "markdown",
      "source": [
        "#6.Construcción del modelo de redes neuronales de CBOW"
      ],
      "metadata": {
        "id": "mtUHDLhRSrgG"
      }
    },
    {
      "cell_type": "code",
      "source": [
        "import keras.backend as K\n",
        "from keras.models import Sequential\n",
        "from keras.layers import Dense, Embedding, Lambda\n",
        "\n",
        "cbow = Sequential()\n",
        "cbow.add(Embedding(input_dim=vocab_size, output_dim=embed_size, input_length=window_size*2))\n",
        "cbow.add(Lambda(lambda x: K.mean(x, axis=1), output_shape=(embed_size,)))\n",
        "cbow.add(Dense(vocab_size, activation='softmax'))\n",
        "\n",
        "cbow.compile(loss='categorical_crossentropy', optimizer='rmsprop')\n",
        "print(cbow.summary())"
      ],
      "metadata": {
        "colab": {
          "base_uri": "https://localhost:8080/"
        },
        "id": "Qh_H-B-lQrVz",
        "outputId": "726f9b8b-2ae5-4b5f-ea71-f22703616d89"
      },
      "execution_count": 11,
      "outputs": [
        {
          "output_type": "stream",
          "name": "stdout",
          "text": [
            "Model: \"sequential\"\n",
            "_________________________________________________________________\n",
            " Layer (type)                Output Shape              Param #   \n",
            "=================================================================\n",
            " embedding (Embedding)       (None, 4, 100)            1242500   \n",
            "                                                                 \n",
            " lambda (Lambda)             (None, 100)               0         \n",
            "                                                                 \n",
            " dense (Dense)               (None, 12425)             1254925   \n",
            "                                                                 \n",
            "=================================================================\n",
            "Total params: 2,497,425\n",
            "Trainable params: 2,497,425\n",
            "Non-trainable params: 0\n",
            "_________________________________________________________________\n",
            "None\n"
          ]
        }
      ]
    },
    {
      "cell_type": "code",
      "source": [
        "from IPython.display import SVG\n",
        "from keras.utils.vis_utils import model_to_dot\n",
        "\n",
        "SVG(model_to_dot(cbow, show_shapes=True, show_layer_names=False, \n",
        "                 rankdir='TB').create(prog='dot', format='svg'))"
      ],
      "metadata": {
        "colab": {
          "base_uri": "https://localhost:8080/",
          "height": 561
        },
        "id": "5SOURnTDQ5M0",
        "outputId": "bedfa03f-6644-4ca6-f283-99a86f3a19f5"
      },
      "execution_count": 12,
      "outputs": [
        {
          "output_type": "execute_result",
          "data": {
            "text/plain": [
              "<IPython.core.display.SVG object>"
            ],
            "image/svg+xml": "<svg height=\"405pt\" viewBox=\"0.00 0.00 324.00 304.00\" width=\"432pt\" xmlns=\"http://www.w3.org/2000/svg\" xmlns:xlink=\"http://www.w3.org/1999/xlink\">\n<g class=\"graph\" id=\"graph0\" transform=\"scale(1.3333 1.3333) rotate(0) translate(4 300)\">\n<title>G</title>\n<polygon fill=\"#ffffff\" points=\"-4,4 -4,-300 320,-300 320,4 -4,4\" stroke=\"transparent\"/>\n<!-- 140387786723280 -->\n<g class=\"node\" id=\"node1\">\n<title>140387786723280</title>\n<polygon fill=\"none\" points=\"8,-249.5 8,-295.5 308,-295.5 308,-249.5 8,-249.5\" stroke=\"#000000\"/>\n<text fill=\"#000000\" font-family=\"Times,serif\" font-size=\"14.00\" text-anchor=\"middle\" x=\"48\" y=\"-268.8\">InputLayer</text>\n<polyline fill=\"none\" points=\"88,-249.5 88,-295.5 \" stroke=\"#000000\"/>\n<text fill=\"#000000\" font-family=\"Times,serif\" font-size=\"14.00\" text-anchor=\"middle\" x=\"117\" y=\"-280.3\">input:</text>\n<polyline fill=\"none\" points=\"88,-272.5 146,-272.5 \" stroke=\"#000000\"/>\n<text fill=\"#000000\" font-family=\"Times,serif\" font-size=\"14.00\" text-anchor=\"middle\" x=\"117\" y=\"-257.3\">output:</text>\n<polyline fill=\"none\" points=\"146,-249.5 146,-295.5 \" stroke=\"#000000\"/>\n<text fill=\"#000000\" font-family=\"Times,serif\" font-size=\"14.00\" text-anchor=\"middle\" x=\"186.5\" y=\"-268.8\">[(None, 4)]</text>\n<polyline fill=\"none\" points=\"227,-249.5 227,-295.5 \" stroke=\"#000000\"/>\n<text fill=\"#000000\" font-family=\"Times,serif\" font-size=\"14.00\" text-anchor=\"middle\" x=\"267.5\" y=\"-268.8\">[(None, 4)]</text>\n</g>\n<!-- 140387783876816 -->\n<g class=\"node\" id=\"node2\">\n<title>140387783876816</title>\n<polygon fill=\"none\" points=\"0,-166.5 0,-212.5 316,-212.5 316,-166.5 0,-166.5\" stroke=\"#000000\"/>\n<text fill=\"#000000\" font-family=\"Times,serif\" font-size=\"14.00\" text-anchor=\"middle\" x=\"42\" y=\"-185.8\">Embedding</text>\n<polyline fill=\"none\" points=\"84,-166.5 84,-212.5 \" stroke=\"#000000\"/>\n<text fill=\"#000000\" font-family=\"Times,serif\" font-size=\"14.00\" text-anchor=\"middle\" x=\"113\" y=\"-197.3\">input:</text>\n<polyline fill=\"none\" points=\"84,-189.5 142,-189.5 \" stroke=\"#000000\"/>\n<text fill=\"#000000\" font-family=\"Times,serif\" font-size=\"14.00\" text-anchor=\"middle\" x=\"113\" y=\"-174.3\">output:</text>\n<polyline fill=\"none\" points=\"142,-166.5 142,-212.5 \" stroke=\"#000000\"/>\n<text fill=\"#000000\" font-family=\"Times,serif\" font-size=\"14.00\" text-anchor=\"middle\" x=\"178\" y=\"-185.8\">(None, 4)</text>\n<polyline fill=\"none\" points=\"214,-166.5 214,-212.5 \" stroke=\"#000000\"/>\n<text fill=\"#000000\" font-family=\"Times,serif\" font-size=\"14.00\" text-anchor=\"middle\" x=\"265\" y=\"-185.8\">(None, 4, 100)</text>\n</g>\n<!-- 140387786723280&#45;&gt;140387783876816 -->\n<g class=\"edge\" id=\"edge1\">\n<title>140387786723280-&gt;140387783876816</title>\n<path d=\"M158,-249.3799C158,-241.1745 158,-231.7679 158,-222.8786\" fill=\"none\" stroke=\"#000000\"/>\n<polygon fill=\"#000000\" points=\"161.5001,-222.784 158,-212.784 154.5001,-222.784 161.5001,-222.784\" stroke=\"#000000\"/>\n</g>\n<!-- 140387783876880 -->\n<g class=\"node\" id=\"node3\">\n<title>140387783876880</title>\n<polygon fill=\"none\" points=\"2.5,-83.5 2.5,-129.5 313.5,-129.5 313.5,-83.5 2.5,-83.5\" stroke=\"#000000\"/>\n<text fill=\"#000000\" font-family=\"Times,serif\" font-size=\"14.00\" text-anchor=\"middle\" x=\"34.5\" y=\"-102.8\">Lambda</text>\n<polyline fill=\"none\" points=\"66.5,-83.5 66.5,-129.5 \" stroke=\"#000000\"/>\n<text fill=\"#000000\" font-family=\"Times,serif\" font-size=\"14.00\" text-anchor=\"middle\" x=\"95.5\" y=\"-114.3\">input:</text>\n<polyline fill=\"none\" points=\"66.5,-106.5 124.5,-106.5 \" stroke=\"#000000\"/>\n<text fill=\"#000000\" font-family=\"Times,serif\" font-size=\"14.00\" text-anchor=\"middle\" x=\"95.5\" y=\"-91.3\">output:</text>\n<polyline fill=\"none\" points=\"124.5,-83.5 124.5,-129.5 \" stroke=\"#000000\"/>\n<text fill=\"#000000\" font-family=\"Times,serif\" font-size=\"14.00\" text-anchor=\"middle\" x=\"175.5\" y=\"-102.8\">(None, 4, 100)</text>\n<polyline fill=\"none\" points=\"226.5,-83.5 226.5,-129.5 \" stroke=\"#000000\"/>\n<text fill=\"#000000\" font-family=\"Times,serif\" font-size=\"14.00\" text-anchor=\"middle\" x=\"270\" y=\"-102.8\">(None, 100)</text>\n</g>\n<!-- 140387783876816&#45;&gt;140387783876880 -->\n<g class=\"edge\" id=\"edge2\">\n<title>140387783876816-&gt;140387783876880</title>\n<path d=\"M158,-166.3799C158,-158.1745 158,-148.7679 158,-139.8786\" fill=\"none\" stroke=\"#000000\"/>\n<polygon fill=\"#000000\" points=\"161.5001,-139.784 158,-129.784 154.5001,-139.784 161.5001,-139.784\" stroke=\"#000000\"/>\n</g>\n<!-- 140387816440272 -->\n<g class=\"node\" id=\"node4\">\n<title>140387816440272</title>\n<polygon fill=\"none\" points=\"8.5,-.5 8.5,-46.5 307.5,-46.5 307.5,-.5 8.5,-.5\" stroke=\"#000000\"/>\n<text fill=\"#000000\" font-family=\"Times,serif\" font-size=\"14.00\" text-anchor=\"middle\" x=\"34.5\" y=\"-19.8\">Dense</text>\n<polyline fill=\"none\" points=\"60.5,-.5 60.5,-46.5 \" stroke=\"#000000\"/>\n<text fill=\"#000000\" font-family=\"Times,serif\" font-size=\"14.00\" text-anchor=\"middle\" x=\"89.5\" y=\"-31.3\">input:</text>\n<polyline fill=\"none\" points=\"60.5,-23.5 118.5,-23.5 \" stroke=\"#000000\"/>\n<text fill=\"#000000\" font-family=\"Times,serif\" font-size=\"14.00\" text-anchor=\"middle\" x=\"89.5\" y=\"-8.3\">output:</text>\n<polyline fill=\"none\" points=\"118.5,-.5 118.5,-46.5 \" stroke=\"#000000\"/>\n<text fill=\"#000000\" font-family=\"Times,serif\" font-size=\"14.00\" text-anchor=\"middle\" x=\"162\" y=\"-19.8\">(None, 100)</text>\n<polyline fill=\"none\" points=\"205.5,-.5 205.5,-46.5 \" stroke=\"#000000\"/>\n<text fill=\"#000000\" font-family=\"Times,serif\" font-size=\"14.00\" text-anchor=\"middle\" x=\"256.5\" y=\"-19.8\">(None, 12425)</text>\n</g>\n<!-- 140387783876880&#45;&gt;140387816440272 -->\n<g class=\"edge\" id=\"edge3\">\n<title>140387783876880-&gt;140387816440272</title>\n<path d=\"M158,-83.3799C158,-75.1745 158,-65.7679 158,-56.8786\" fill=\"none\" stroke=\"#000000\"/>\n<polygon fill=\"#000000\" points=\"161.5001,-56.784 158,-46.784 154.5001,-56.784 161.5001,-56.784\" stroke=\"#000000\"/>\n</g>\n</g>\n</svg>"
          },
          "metadata": {},
          "execution_count": 12
        }
      ]
    },
    {
      "cell_type": "markdown",
      "source": [
        "#7.Entrenamiento del modelo "
      ],
      "metadata": {
        "id": "LoKhHpAWTZSy"
      }
    },
    {
      "cell_type": "code",
      "source": [
        "for epoch in range(1, 2):\n",
        "    loss = 0.\n",
        "    i = 0\n",
        "    for x, y in generate_context_word_pairs(corpus=wids, window_size=window_size, vocab_size=vocab_size):\n",
        "        i += 1\n",
        "        loss += cbow.train_on_batch(x, y)\n",
        "        if i % 100000 == 0:\n",
        "            print('Processed {} (context, word) pairs'.format(i))\n",
        "\n",
        "    print('Epoch:', epoch, '\\tLoss:', loss)\n",
        "    print()"
      ],
      "metadata": {
        "id": "o0pg8x41TMqC",
        "colab": {
          "base_uri": "https://localhost:8080/"
        },
        "outputId": "fdc4d756-2e74-46c6-a8ed-faf5035d10fb"
      },
      "execution_count": 13,
      "outputs": [
        {
          "output_type": "stream",
          "name": "stdout",
          "text": [
            "Processed 100000 (context, word) pairs\n",
            "Processed 200000 (context, word) pairs\n",
            "Processed 300000 (context, word) pairs\n",
            "Epoch: 1 \tLoss: 4304323.513128225\n",
            "\n"
          ]
        }
      ]
    },
    {
      "cell_type": "markdown",
      "source": [
        "#8.Obtener los embeddings de las palabras"
      ],
      "metadata": {
        "id": "BqMin0EaTedV"
      }
    },
    {
      "cell_type": "code",
      "source": [
        "weights = cbow.get_weights()[0]\n",
        "weights = weights[1:]\n",
        "print(weights.shape)\n",
        "\n",
        "pd.DataFrame(weights, index=list(id2word.values())[1:]).head()"
      ],
      "metadata": {
        "id": "Chws8RSwRCVq",
        "colab": {
          "base_uri": "https://localhost:8080/",
          "height": 317
        },
        "outputId": "ffbea41b-f8b5-4341-b2f2-bc430a67e288"
      },
      "execution_count": 14,
      "outputs": [
        {
          "output_type": "stream",
          "name": "stdout",
          "text": [
            "(12424, 100)\n"
          ]
        },
        {
          "output_type": "execute_result",
          "data": {
            "text/plain": [
              "            0         1         2         3         4         5         6   \\\n",
              "unto  0.548027  0.536858  0.563319 -0.571886 -0.995081  0.620486  0.958802   \n",
              "lord  1.090287  0.738525  1.137477 -0.716326 -1.216226  0.713075  0.797588   \n",
              "thou  1.014197  1.134574  0.959357 -0.359762 -1.110829  0.352859  0.683742   \n",
              "thy   0.642547  0.614721  0.961373 -0.769273 -0.773796  0.575285  1.274230   \n",
              "god   0.748166  0.842013  0.397855 -0.365034 -0.708285  0.448927  0.892557   \n",
              "\n",
              "            7         8         9   ...        90        91        92  \\\n",
              "unto -0.891449 -0.962193  1.105696  ... -0.893296 -0.812448  0.721232   \n",
              "lord -1.045836 -1.218183  1.144727  ... -1.096756 -0.905809  0.706046   \n",
              "thou -0.682392 -0.813862  1.191729  ... -0.620948 -0.620199  1.008694   \n",
              "thy  -0.553037 -0.645885  0.957949  ... -0.895595 -0.459273  0.651339   \n",
              "god  -0.619979 -0.613265  0.426813  ... -0.960678 -0.431184  0.741216   \n",
              "\n",
              "            93        94        95        96        97        98        99  \n",
              "unto -0.819662  0.748104  1.068949 -0.846017  0.640654  0.765545 -0.911540  \n",
              "lord -1.312984  1.014619  0.987287 -0.745313  0.645334  0.857952 -0.789944  \n",
              "thou -0.908294  0.846741  1.099974 -0.839624  0.599624  0.613071 -0.802546  \n",
              "thy  -0.766996  0.928160  0.995963 -0.583877  0.685638  0.636399 -0.911842  \n",
              "god  -0.818475  0.823447  0.782347 -0.746370  0.649249  0.666183 -0.681127  \n",
              "\n",
              "[5 rows x 100 columns]"
            ],
            "text/html": [
              "\n",
              "  <div id=\"df-b7b59c41-2bd7-41df-90a9-ae06bb429f5e\">\n",
              "    <div class=\"colab-df-container\">\n",
              "      <div>\n",
              "<style scoped>\n",
              "    .dataframe tbody tr th:only-of-type {\n",
              "        vertical-align: middle;\n",
              "    }\n",
              "\n",
              "    .dataframe tbody tr th {\n",
              "        vertical-align: top;\n",
              "    }\n",
              "\n",
              "    .dataframe thead th {\n",
              "        text-align: right;\n",
              "    }\n",
              "</style>\n",
              "<table border=\"1\" class=\"dataframe\">\n",
              "  <thead>\n",
              "    <tr style=\"text-align: right;\">\n",
              "      <th></th>\n",
              "      <th>0</th>\n",
              "      <th>1</th>\n",
              "      <th>2</th>\n",
              "      <th>3</th>\n",
              "      <th>4</th>\n",
              "      <th>5</th>\n",
              "      <th>6</th>\n",
              "      <th>7</th>\n",
              "      <th>8</th>\n",
              "      <th>9</th>\n",
              "      <th>...</th>\n",
              "      <th>90</th>\n",
              "      <th>91</th>\n",
              "      <th>92</th>\n",
              "      <th>93</th>\n",
              "      <th>94</th>\n",
              "      <th>95</th>\n",
              "      <th>96</th>\n",
              "      <th>97</th>\n",
              "      <th>98</th>\n",
              "      <th>99</th>\n",
              "    </tr>\n",
              "  </thead>\n",
              "  <tbody>\n",
              "    <tr>\n",
              "      <th>unto</th>\n",
              "      <td>0.548027</td>\n",
              "      <td>0.536858</td>\n",
              "      <td>0.563319</td>\n",
              "      <td>-0.571886</td>\n",
              "      <td>-0.995081</td>\n",
              "      <td>0.620486</td>\n",
              "      <td>0.958802</td>\n",
              "      <td>-0.891449</td>\n",
              "      <td>-0.962193</td>\n",
              "      <td>1.105696</td>\n",
              "      <td>...</td>\n",
              "      <td>-0.893296</td>\n",
              "      <td>-0.812448</td>\n",
              "      <td>0.721232</td>\n",
              "      <td>-0.819662</td>\n",
              "      <td>0.748104</td>\n",
              "      <td>1.068949</td>\n",
              "      <td>-0.846017</td>\n",
              "      <td>0.640654</td>\n",
              "      <td>0.765545</td>\n",
              "      <td>-0.911540</td>\n",
              "    </tr>\n",
              "    <tr>\n",
              "      <th>lord</th>\n",
              "      <td>1.090287</td>\n",
              "      <td>0.738525</td>\n",
              "      <td>1.137477</td>\n",
              "      <td>-0.716326</td>\n",
              "      <td>-1.216226</td>\n",
              "      <td>0.713075</td>\n",
              "      <td>0.797588</td>\n",
              "      <td>-1.045836</td>\n",
              "      <td>-1.218183</td>\n",
              "      <td>1.144727</td>\n",
              "      <td>...</td>\n",
              "      <td>-1.096756</td>\n",
              "      <td>-0.905809</td>\n",
              "      <td>0.706046</td>\n",
              "      <td>-1.312984</td>\n",
              "      <td>1.014619</td>\n",
              "      <td>0.987287</td>\n",
              "      <td>-0.745313</td>\n",
              "      <td>0.645334</td>\n",
              "      <td>0.857952</td>\n",
              "      <td>-0.789944</td>\n",
              "    </tr>\n",
              "    <tr>\n",
              "      <th>thou</th>\n",
              "      <td>1.014197</td>\n",
              "      <td>1.134574</td>\n",
              "      <td>0.959357</td>\n",
              "      <td>-0.359762</td>\n",
              "      <td>-1.110829</td>\n",
              "      <td>0.352859</td>\n",
              "      <td>0.683742</td>\n",
              "      <td>-0.682392</td>\n",
              "      <td>-0.813862</td>\n",
              "      <td>1.191729</td>\n",
              "      <td>...</td>\n",
              "      <td>-0.620948</td>\n",
              "      <td>-0.620199</td>\n",
              "      <td>1.008694</td>\n",
              "      <td>-0.908294</td>\n",
              "      <td>0.846741</td>\n",
              "      <td>1.099974</td>\n",
              "      <td>-0.839624</td>\n",
              "      <td>0.599624</td>\n",
              "      <td>0.613071</td>\n",
              "      <td>-0.802546</td>\n",
              "    </tr>\n",
              "    <tr>\n",
              "      <th>thy</th>\n",
              "      <td>0.642547</td>\n",
              "      <td>0.614721</td>\n",
              "      <td>0.961373</td>\n",
              "      <td>-0.769273</td>\n",
              "      <td>-0.773796</td>\n",
              "      <td>0.575285</td>\n",
              "      <td>1.274230</td>\n",
              "      <td>-0.553037</td>\n",
              "      <td>-0.645885</td>\n",
              "      <td>0.957949</td>\n",
              "      <td>...</td>\n",
              "      <td>-0.895595</td>\n",
              "      <td>-0.459273</td>\n",
              "      <td>0.651339</td>\n",
              "      <td>-0.766996</td>\n",
              "      <td>0.928160</td>\n",
              "      <td>0.995963</td>\n",
              "      <td>-0.583877</td>\n",
              "      <td>0.685638</td>\n",
              "      <td>0.636399</td>\n",
              "      <td>-0.911842</td>\n",
              "    </tr>\n",
              "    <tr>\n",
              "      <th>god</th>\n",
              "      <td>0.748166</td>\n",
              "      <td>0.842013</td>\n",
              "      <td>0.397855</td>\n",
              "      <td>-0.365034</td>\n",
              "      <td>-0.708285</td>\n",
              "      <td>0.448927</td>\n",
              "      <td>0.892557</td>\n",
              "      <td>-0.619979</td>\n",
              "      <td>-0.613265</td>\n",
              "      <td>0.426813</td>\n",
              "      <td>...</td>\n",
              "      <td>-0.960678</td>\n",
              "      <td>-0.431184</td>\n",
              "      <td>0.741216</td>\n",
              "      <td>-0.818475</td>\n",
              "      <td>0.823447</td>\n",
              "      <td>0.782347</td>\n",
              "      <td>-0.746370</td>\n",
              "      <td>0.649249</td>\n",
              "      <td>0.666183</td>\n",
              "      <td>-0.681127</td>\n",
              "    </tr>\n",
              "  </tbody>\n",
              "</table>\n",
              "<p>5 rows × 100 columns</p>\n",
              "</div>\n",
              "      <button class=\"colab-df-convert\" onclick=\"convertToInteractive('df-b7b59c41-2bd7-41df-90a9-ae06bb429f5e')\"\n",
              "              title=\"Convert this dataframe to an interactive table.\"\n",
              "              style=\"display:none;\">\n",
              "        \n",
              "  <svg xmlns=\"http://www.w3.org/2000/svg\" height=\"24px\"viewBox=\"0 0 24 24\"\n",
              "       width=\"24px\">\n",
              "    <path d=\"M0 0h24v24H0V0z\" fill=\"none\"/>\n",
              "    <path d=\"M18.56 5.44l.94 2.06.94-2.06 2.06-.94-2.06-.94-.94-2.06-.94 2.06-2.06.94zm-11 1L8.5 8.5l.94-2.06 2.06-.94-2.06-.94L8.5 2.5l-.94 2.06-2.06.94zm10 10l.94 2.06.94-2.06 2.06-.94-2.06-.94-.94-2.06-.94 2.06-2.06.94z\"/><path d=\"M17.41 7.96l-1.37-1.37c-.4-.4-.92-.59-1.43-.59-.52 0-1.04.2-1.43.59L10.3 9.45l-7.72 7.72c-.78.78-.78 2.05 0 2.83L4 21.41c.39.39.9.59 1.41.59.51 0 1.02-.2 1.41-.59l7.78-7.78 2.81-2.81c.8-.78.8-2.07 0-2.86zM5.41 20L4 18.59l7.72-7.72 1.47 1.35L5.41 20z\"/>\n",
              "  </svg>\n",
              "      </button>\n",
              "      \n",
              "  <style>\n",
              "    .colab-df-container {\n",
              "      display:flex;\n",
              "      flex-wrap:wrap;\n",
              "      gap: 12px;\n",
              "    }\n",
              "\n",
              "    .colab-df-convert {\n",
              "      background-color: #E8F0FE;\n",
              "      border: none;\n",
              "      border-radius: 50%;\n",
              "      cursor: pointer;\n",
              "      display: none;\n",
              "      fill: #1967D2;\n",
              "      height: 32px;\n",
              "      padding: 0 0 0 0;\n",
              "      width: 32px;\n",
              "    }\n",
              "\n",
              "    .colab-df-convert:hover {\n",
              "      background-color: #E2EBFA;\n",
              "      box-shadow: 0px 1px 2px rgba(60, 64, 67, 0.3), 0px 1px 3px 1px rgba(60, 64, 67, 0.15);\n",
              "      fill: #174EA6;\n",
              "    }\n",
              "\n",
              "    [theme=dark] .colab-df-convert {\n",
              "      background-color: #3B4455;\n",
              "      fill: #D2E3FC;\n",
              "    }\n",
              "\n",
              "    [theme=dark] .colab-df-convert:hover {\n",
              "      background-color: #434B5C;\n",
              "      box-shadow: 0px 1px 3px 1px rgba(0, 0, 0, 0.15);\n",
              "      filter: drop-shadow(0px 1px 2px rgba(0, 0, 0, 0.3));\n",
              "      fill: #FFFFFF;\n",
              "    }\n",
              "  </style>\n",
              "\n",
              "      <script>\n",
              "        const buttonEl =\n",
              "          document.querySelector('#df-b7b59c41-2bd7-41df-90a9-ae06bb429f5e button.colab-df-convert');\n",
              "        buttonEl.style.display =\n",
              "          google.colab.kernel.accessAllowed ? 'block' : 'none';\n",
              "\n",
              "        async function convertToInteractive(key) {\n",
              "          const element = document.querySelector('#df-b7b59c41-2bd7-41df-90a9-ae06bb429f5e');\n",
              "          const dataTable =\n",
              "            await google.colab.kernel.invokeFunction('convertToInteractive',\n",
              "                                                     [key], {});\n",
              "          if (!dataTable) return;\n",
              "\n",
              "          const docLinkHtml = 'Like what you see? Visit the ' +\n",
              "            '<a target=\"_blank\" href=https://colab.research.google.com/notebooks/data_table.ipynb>data table notebook</a>'\n",
              "            + ' to learn more about interactive tables.';\n",
              "          element.innerHTML = '';\n",
              "          dataTable['output_type'] = 'display_data';\n",
              "          await google.colab.output.renderOutput(dataTable, element);\n",
              "          const docLink = document.createElement('div');\n",
              "          docLink.innerHTML = docLinkHtml;\n",
              "          element.appendChild(docLink);\n",
              "        }\n",
              "      </script>\n",
              "    </div>\n",
              "  </div>\n",
              "  "
            ]
          },
          "metadata": {},
          "execution_count": 14
        }
      ]
    },
    {
      "cell_type": "markdown",
      "source": [
        "#9.Matriz de distancia entre palabras similares"
      ],
      "metadata": {
        "id": "Wd6nuoObTmUg"
      }
    },
    {
      "cell_type": "code",
      "source": [
        "from sklearn.metrics.pairwise import euclidean_distances\n",
        "\n",
        "# compute pairwise distance matrix\n",
        "distance_matrix = euclidean_distances(weights)\n",
        "print(distance_matrix.shape)\n",
        "\n",
        "# view contextually similar words\n",
        "similar_words = {search_term: [id2word[idx] for idx in distance_matrix[word2id[search_term]-1].argsort()[1:6]+1] \n",
        "                   for search_term in ['god', 'jesus', 'noah', 'egypt', 'john', 'gospel', 'moses','famine']}\n",
        "\n",
        "similar_words"
      ],
      "metadata": {
        "id": "6OTgKqqXRFN3",
        "colab": {
          "base_uri": "https://localhost:8080/"
        },
        "outputId": "0661680c-3970-47dc-d1cb-54d5a3c80672"
      },
      "execution_count": 16,
      "outputs": [
        {
          "output_type": "stream",
          "name": "stdout",
          "text": [
            "(12424, 12424)\n"
          ]
        },
        {
          "output_type": "execute_result",
          "data": {
            "text/plain": [
              "{'egypt': ['wherein', 'houses', 'mountains', 'dwell', 'strength'],\n",
              " 'famine': ['waste', 'reproach', 'ones', 'slay', 'sore'],\n",
              " 'god': ['also', 'unto', 'things', 'shall', 'hath'],\n",
              " 'gospel': ['hope', 'saints', 'hearts', 'must', 'committed'],\n",
              " 'jesus': ['spirit', 'holy', 'christ', 'saw', 'law'],\n",
              " 'john': ['peter', 'knew', 'departed', 'new', 'whether'],\n",
              " 'moses': ['lie', 'believe', 'believed', 'committed', 'gentiles'],\n",
              " 'noah': ['shammah', 'transgress', 'reverence', 'possessions', 'lightning']}"
            ]
          },
          "metadata": {},
          "execution_count": 16
        }
      ]
    }
  ]
}