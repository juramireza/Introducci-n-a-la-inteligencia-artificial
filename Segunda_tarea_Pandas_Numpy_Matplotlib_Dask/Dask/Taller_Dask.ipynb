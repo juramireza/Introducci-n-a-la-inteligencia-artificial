{
  "nbformat": 4,
  "nbformat_minor": 0,
  "metadata": {
    "colab": {
      "name": "Taller_Dask.ipynb",
      "provenance": []
    },
    "kernelspec": {
      "name": "python3",
      "display_name": "Python 3"
    },
    "language_info": {
      "name": "python"
    }
  },
  "cells": [
    {
      "cell_type": "markdown",
      "source": [
        "#Paralelizar código con **dask.delayed**"
      ],
      "metadata": {
        "id": "w9Txugx0mCHQ"
      }
    },
    {
      "cell_type": "markdown",
      "source": [
        "Dask tiene varias formas de ejecutar código en paralelo, para empezar vamos a utilizar **dask.distributed**"
      ],
      "metadata": {
        "id": "smz-TyADn__i"
      }
    },
    {
      "cell_type": "code",
      "source": [
        "from dask.distributed import Client"
      ],
      "metadata": {
        "id": "6Emvj3Thmpfy"
      },
      "execution_count": 83,
      "outputs": []
    },
    {
      "cell_type": "markdown",
      "source": [
        "##Básico"
      ],
      "metadata": {
        "id": "HU3rVD03ngB8"
      }
    },
    {
      "cell_type": "markdown",
      "source": [
        "Primero se construyen dos funciones de prueba, la primera con inc y la segunda con add, que se van a mantener en principio inactivas. Y posteriormente, se programa la ejecución de las funciones con normalidad. \n"
      ],
      "metadata": {
        "id": "U8MWssRVoXdy"
      }
    },
    {
      "cell_type": "code",
      "source": [
        "from time import sleep\n",
        "\n",
        "def inc(x):\n",
        "    sleep(1)\n",
        "    return x + 1\n",
        "\n",
        "def add(x, y):\n",
        "    sleep(1)\n",
        "    return x + y"
      ],
      "metadata": {
        "id": "YpYAH5jxnd11"
      },
      "execution_count": 84,
      "outputs": []
    },
    {
      "cell_type": "code",
      "source": [
        "%%time\n",
        "# Esto toma tres segundos, porque se llama a a cada función secuencialmente una después de la otra\n",
        "x = inc(1)\n",
        "y = inc(2)\n",
        "z = add(x, y)"
      ],
      "metadata": {
        "colab": {
          "base_uri": "https://localhost:8080/"
        },
        "id": "k1pbbAQTotrj",
        "outputId": "0f9bbc1f-ff6e-4cef-ad9e-c9576028f712"
      },
      "execution_count": 85,
      "outputs": [
        {
          "output_type": "stream",
          "name": "stdout",
          "text": [
            "CPU times: user 126 ms, sys: 16.6 ms, total: 143 ms\n",
            "Wall time: 3 s\n"
          ]
        }
      ]
    },
    {
      "cell_type": "markdown",
      "source": [
        "#Paralelizando con dask.delayed"
      ],
      "metadata": {
        "id": "flTr4-kCp0WZ"
      }
    },
    {
      "cell_type": "markdown",
      "source": [
        "Las llamadas de incremento de x e y, se pueden llamar en paralelo, ya que son indenpendientes entre sí. \n",
        "\n",
        "Entonces, se transforma las funciones inc y add con la función dask.delayed. \n"
      ],
      "metadata": {
        "id": "waEy2wwwqhNb"
      }
    },
    {
      "cell_type": "code",
      "source": [
        "from dask import delayed"
      ],
      "metadata": {
        "id": "wfICT1OfnuEb"
      },
      "execution_count": 86,
      "outputs": []
    },
    {
      "cell_type": "code",
      "source": [
        "%%time\n",
        "\n",
        "x = delayed(inc)(1)\n",
        "y = delayed(inc)(2)\n",
        "z = delayed(add)(x, y)"
      ],
      "metadata": {
        "colab": {
          "base_uri": "https://localhost:8080/"
        },
        "id": "VEcqERI1qJb1",
        "outputId": "74106057-5165-44c7-8689-c43846bfebf1"
      },
      "execution_count": 87,
      "outputs": [
        {
          "output_type": "stream",
          "name": "stdout",
          "text": [
            "CPU times: user 816 µs, sys: 0 ns, total: 816 µs\n",
            "Wall time: 710 µs\n"
          ]
        }
      ]
    },
    {
      "cell_type": "markdown",
      "source": [
        "Entonces, la operación se ejecuta inmediatamente, mucho más rápido que el código original. Y para obtener el resultado, que se llama al método `compute`.\n",
        "Vemos que se obtuvo una reducción de casi un segundo en el tiempo de ejecución. "
      ],
      "metadata": {
        "id": "g20cMQnkrHS5"
      }
    },
    {
      "cell_type": "code",
      "source": [
        "%%time\n",
        "z.compute()"
      ],
      "metadata": {
        "colab": {
          "base_uri": "https://localhost:8080/"
        },
        "id": "mWCBx8RTronC",
        "outputId": "ff25d601-11dd-44cf-b0d6-e0e5a90ccac7"
      },
      "execution_count": 88,
      "outputs": [
        {
          "output_type": "stream",
          "name": "stdout",
          "text": [
            "CPU times: user 84.5 ms, sys: 11.4 ms, total: 95.9 ms\n",
            "Wall time: 2 s\n"
          ]
        },
        {
          "output_type": "execute_result",
          "data": {
            "text/plain": [
              "5"
            ]
          },
          "metadata": {},
          "execution_count": 88
        }
      ]
    },
    {
      "cell_type": "markdown",
      "source": [
        "#¿Qué esta pasando?"
      ],
      "metadata": {
        "id": "GkKaUtG4r2Rh"
      }
    },
    {
      "cell_type": "markdown",
      "source": [
        "A continuación, mostramos el gráfico que muestra como se estan realizado las operaciones para obtener el valor de $z$. "
      ],
      "metadata": {
        "id": "iOEdJCSisa3y"
      }
    },
    {
      "cell_type": "code",
      "source": [
        "z"
      ],
      "metadata": {
        "colab": {
          "base_uri": "https://localhost:8080/"
        },
        "id": "jrDkEZoYr9ST",
        "outputId": "a9732f81-9af2-47a7-f0f0-1dd9910c7ab1"
      },
      "execution_count": 89,
      "outputs": [
        {
          "output_type": "execute_result",
          "data": {
            "text/plain": [
              "Delayed('add-ac38cd6d-9b01-4158-aab0-d8f59d55e90c')"
            ]
          },
          "metadata": {},
          "execution_count": 89
        }
      ]
    },
    {
      "cell_type": "code",
      "source": [
        "z.visualize()"
      ],
      "metadata": {
        "colab": {
          "base_uri": "https://localhost:8080/",
          "height": 392
        },
        "id": "S0uHPxCEr-qM",
        "outputId": "4e95f79e-cd1c-4a4c-8239-bb9cdb9b2ad0"
      },
      "execution_count": 90,
      "outputs": [
        {
          "output_type": "execute_result",
          "data": {
            "text/plain": [
              "<IPython.core.display.Image object>"
            ],
            "image/png": "[encoded data removed]"
          },
          "metadata": {},
          "execution_count": 90
        }
      ]
    },
    {
      "cell_type": "markdown",
      "source": [
        "##Ejercicio paralelizar un ciclo for"
      ],
      "metadata": {
        "id": "gs7AAfvOs-k8"
      }
    },
    {
      "cell_type": "markdown",
      "source": [
        "Generalmente necesitamos paralelizar los bucles for. Entonces con dask.delayed, lo podemos hacer como se muestra en este código. "
      ],
      "metadata": {
        "id": "GYMjCZ6m7szR"
      }
    },
    {
      "cell_type": "code",
      "source": [
        "data = [1, 2, 3, 4, 5, 6, 7, 8]"
      ],
      "metadata": {
        "id": "DxyoBNESsi5q"
      },
      "execution_count": 91,
      "outputs": []
    },
    {
      "cell_type": "code",
      "source": [
        "%%time\n",
        "# Código secuencial \n",
        "\n",
        "results = []\n",
        "for x in data:\n",
        "    y = inc(x)\n",
        "    results.append(y)\n",
        "    \n",
        "total = sum(results)\n",
        "total"
      ],
      "metadata": {
        "colab": {
          "base_uri": "https://localhost:8080/"
        },
        "id": "rsOaAE-StFrU",
        "outputId": "5e8e4532-8e1a-48f3-c66f-1a05ef01964c"
      },
      "execution_count": 39,
      "outputs": [
        {
          "output_type": "stream",
          "name": "stdout",
          "text": [
            "CPU times: user 445 ms, sys: 90.1 ms, total: 535 ms\n",
            "Wall time: 8.01 s\n"
          ]
        }
      ]
    },
    {
      "cell_type": "code",
      "source": [
        "total"
      ],
      "metadata": {
        "colab": {
          "base_uri": "https://localhost:8080/"
        },
        "id": "7iGUp2Y5tYcC",
        "outputId": "2a2815e8-ead0-41c2-a240-e3b1433a6ba4"
      },
      "execution_count": 92,
      "outputs": [
        {
          "output_type": "execute_result",
          "data": {
            "text/plain": [
              "90"
            ]
          },
          "metadata": {},
          "execution_count": 92
        }
      ]
    },
    {
      "cell_type": "code",
      "source": [
        "%%time\n",
        "#Código en paralelo \n",
        "for x in data:\n",
        "    y = delayed(inc)(x)\n",
        "    results.append(y)\n",
        "    \n",
        "total = delayed(sum)(results)\n",
        "\n",
        "#Primero se imprime, el objeto total antes de computarlo\n",
        "print(\"Antes del computo\", total)  \n",
        "result = total.compute()\n",
        "#Después del computo se obtiene\n",
        "print(\"Después del computo :\", result) \n"
      ],
      "metadata": {
        "colab": {
          "base_uri": "https://localhost:8080/"
        },
        "id": "yAta61eqtNlF",
        "outputId": "c68e6925-1a2d-475c-da12-da765e546093"
      },
      "execution_count": 93,
      "outputs": [
        {
          "output_type": "stream",
          "name": "stdout",
          "text": [
            "Antes del computo Delayed('sum-c9c9c3c3-019b-4454-86c3-aa2b4140d793')\n",
            "Después del computo : 134\n",
            "CPU times: user 194 ms, sys: 14.9 ms, total: 208 ms\n",
            "Wall time: 4.01 s\n"
          ]
        }
      ]
    },
    {
      "cell_type": "markdown",
      "source": [
        "##Ejercicio paralelizar un bucle for con control de flujo"
      ],
      "metadata": {
        "id": "IH1-3dhMuZ5x"
      }
    },
    {
      "cell_type": "markdown",
      "source": [
        "En ocasiones deseamos retrasar unas funciones determinadas, ejecutando algunas de estas inmediatamente. Entonces, debememos revisar que funciones retrasar y cuales no, y acá debemos validar con atención donde y cuando usar dask.layed. "
      ],
      "metadata": {
        "id": "GpUSg9Mf8W9f"
      }
    },
    {
      "cell_type": "code",
      "source": [
        "def double(x):\n",
        "    sleep(1)\n",
        "    return 2 * x\n",
        "\n",
        "def is_even(x):\n",
        "    return not x % 2\n",
        "\n",
        "data = [1, 2, 3, 4, 5, 6, 7, 8, 9, 10]"
      ],
      "metadata": {
        "id": "HgyRggWvusaE"
      },
      "execution_count": 94,
      "outputs": []
    },
    {
      "cell_type": "code",
      "source": [
        "%%time\n",
        "# Código secuencial\n",
        "\n",
        "results = []\n",
        "for x in data:\n",
        "    if is_even(x):\n",
        "        y = double(x)\n",
        "    else:\n",
        "        y = inc(x)\n",
        "    results.append(y)\n",
        "    \n",
        "total = sum(results)\n",
        "print(total)"
      ],
      "metadata": {
        "colab": {
          "base_uri": "https://localhost:8080/"
        },
        "id": "anEBU7dLxTdQ",
        "outputId": "5837f028-83ee-4c10-b306-721737ca29f1"
      },
      "execution_count": 95,
      "outputs": [
        {
          "output_type": "stream",
          "name": "stdout",
          "text": [
            "90\n",
            "CPU times: user 482 ms, sys: 60 ms, total: 542 ms\n",
            "Wall time: 10 s\n"
          ]
        }
      ]
    },
    {
      "cell_type": "code",
      "source": [
        "%%time\n",
        "#Código en paralelo \n",
        "\n",
        "results = []\n",
        "for x in data:\n",
        "    if is_even(x):  # even\n",
        "        y = delayed(double)(x)\n",
        "    else:          # odd\n",
        "        y = delayed(inc)(x)\n",
        "    results.append(y)\n",
        "    \n",
        "total = delayed(sum)(results)"
      ],
      "metadata": {
        "colab": {
          "base_uri": "https://localhost:8080/"
        },
        "id": "BZg7Om05xY_J",
        "outputId": "90503e5d-a4ec-4d7c-9199-57a8d453322f"
      },
      "execution_count": 96,
      "outputs": [
        {
          "output_type": "stream",
          "name": "stdout",
          "text": [
            "CPU times: user 3.13 ms, sys: 0 ns, total: 3.13 ms\n",
            "Wall time: 3.13 ms\n"
          ]
        }
      ]
    },
    {
      "cell_type": "code",
      "source": [
        "%time total.compute()"
      ],
      "metadata": {
        "colab": {
          "base_uri": "https://localhost:8080/"
        },
        "id": "as5HMYGmxiaO",
        "outputId": "27af4e7b-1663-4caf-b0a0-bef017477b17"
      },
      "execution_count": 45,
      "outputs": [
        {
          "output_type": "stream",
          "name": "stdout",
          "text": [
            "CPU times: user 283 ms, sys: 40 ms, total: 323 ms\n",
            "Wall time: 5.01 s\n"
          ]
        },
        {
          "output_type": "execute_result",
          "data": {
            "text/plain": [
              "90"
            ]
          },
          "metadata": {},
          "execution_count": 45
        }
      ]
    },
    {
      "cell_type": "code",
      "source": [
        "#A continuación, se presenta un gráfico en el que se muestra un gráfico en el que se visualiza como se esta realizando el computo. \n",
        "total.visualize()"
      ],
      "metadata": {
        "colab": {
          "base_uri": "https://localhost:8080/",
          "height": 407
        },
        "id": "OkB_ykqaxlXR",
        "outputId": "017edb4b-7ef3-44f8-82e8-f4976f5a855c"
      },
      "execution_count": 97,
      "outputs": [
        {
          "output_type": "execute_result",
          "data": {
            "text/plain": [
              "<IPython.core.display.Image object>"
            ],
            "image/png": "[encoded data removed]"
          },
          "metadata": {},
          "execution_count": 97
        }
      ]
    }
  ]
}