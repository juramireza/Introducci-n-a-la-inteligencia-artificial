{
  "nbformat": 4,
  "nbformat_minor": 0,
  "metadata": {
    "colab": {
      "name": "Taller_Dask.ipynb",
      "provenance": []
    },
    "kernelspec": {
      "name": "python3",
      "display_name": "Python 3"
    },
    "language_info": {
      "name": "python"
    }
  },
  "cells": [
    {
      "cell_type": "markdown",
      "source": [
        "#Paralelizar código con **dask.delayed**"
      ],
      "metadata": {
        "id": "w9Txugx0mCHQ"
      }
    },
    {
      "cell_type": "markdown",
      "source": [
        "Dask tiene varias formas de ejecutar código en paralelo, para empezar vamos a utilizar **dask.distributed**"
      ],
      "metadata": {
        "id": "smz-TyADn__i"
      }
    },
    {
      "cell_type": "code",
      "source": [
        "from dask.distributed import Client"
      ],
      "metadata": {
        "id": "6Emvj3Thmpfy"
      },
      "execution_count": 16,
      "outputs": []
    },
    {
      "cell_type": "markdown",
      "source": [
        "##Básico"
      ],
      "metadata": {
        "id": "HU3rVD03ngB8"
      }
    },
    {
      "cell_type": "markdown",
      "source": [
        "Primero se construyen dos funciones de prueba, la primera con inc y la segunda con add, que se van a mantener en principio inactivas. Y posteriormente, se programa la ejecución de las funciones con normalidad. \n"
      ],
      "metadata": {
        "id": "U8MWssRVoXdy"
      }
    },
    {
      "cell_type": "code",
      "source": [
        "from time import sleep\n",
        "\n",
        "def inc(x):\n",
        "    sleep(1)\n",
        "    return x + 1\n",
        "\n",
        "def add(x, y):\n",
        "    sleep(1)\n",
        "    return x + y"
      ],
      "metadata": {
        "colab": {
          "base_uri": "https://localhost:8080/"
        },
        "id": "YpYAH5jxnd11",
        "outputId": "d9a35ce4-459a-4df8-e633-b3a5192ae72e"
      },
      "execution_count": 17,
      "outputs": [
        {
          "output_type": "stream",
          "name": "stderr",
          "text": [
            "distributed.nanny - WARNING - Restarting worker\n"
          ]
        }
      ]
    },
    {
      "cell_type": "code",
      "source": [
        "%%time\n",
        "# Esto toma tres segundos, porque se llama a a cada función secuencialmente una después de la otra\n",
        "x = inc(1)\n",
        "y = inc(2)\n",
        "z = add(x, y)"
      ],
      "metadata": {
        "colab": {
          "base_uri": "https://localhost:8080/"
        },
        "id": "k1pbbAQTotrj",
        "outputId": "8388befe-bad1-4a92-8fc7-be0e88694470"
      },
      "execution_count": 18,
      "outputs": [
        {
          "output_type": "stream",
          "name": "stderr",
          "text": [
            "distributed.nanny - WARNING - Restarting worker\n",
            "distributed.nanny - WARNING - Restarting worker\n",
            "distributed.nanny - WARNING - Restarting worker\n",
            "distributed.nanny - WARNING - Restarting worker\n"
          ]
        },
        {
          "output_type": "stream",
          "name": "stdout",
          "text": [
            "CPU times: user 273 ms, sys: 34.3 ms, total: 307 ms\n",
            "Wall time: 3 s\n"
          ]
        }
      ]
    },
    {
      "cell_type": "markdown",
      "source": [
        "#Paralelizando con dask.delayed"
      ],
      "metadata": {
        "id": "flTr4-kCp0WZ"
      }
    },
    {
      "cell_type": "markdown",
      "source": [
        "Las llamadas de incremento de x e y, se pueden llamar en paralelo, ya que son indenpendientes entre sí. \n",
        "\n",
        "Entonces, se transforma las funciones inc y add con la función dask.delayed. \n"
      ],
      "metadata": {
        "id": "waEy2wwwqhNb"
      }
    },
    {
      "cell_type": "code",
      "source": [
        "from dask import delayed"
      ],
      "metadata": {
        "id": "wfICT1OfnuEb"
      },
      "execution_count": 20,
      "outputs": []
    },
    {
      "cell_type": "code",
      "source": [
        "%%time\n",
        "\n",
        "x = delayed(inc)(1)\n",
        "y = delayed(inc)(2)\n",
        "z = delayed(add)(x, y)"
      ],
      "metadata": {
        "colab": {
          "base_uri": "https://localhost:8080/"
        },
        "id": "VEcqERI1qJb1",
        "outputId": "28d1926c-b92c-40bd-9e7c-5debc0405ab5"
      },
      "execution_count": 21,
      "outputs": [
        {
          "output_type": "stream",
          "name": "stdout",
          "text": [
            "CPU times: user 3.11 ms, sys: 837 µs, total: 3.95 ms\n",
            "Wall time: 13.8 ms\n"
          ]
        }
      ]
    },
    {
      "cell_type": "markdown",
      "source": [
        "Entonces, la operación se ejecuta inmediatamente, mucho más rápido que el código original. Y para obtener el resultado, que se llama al método `compute`.\n",
        "Vemos que se obtuvo una reducción de casi un segundo en el tiempo de ejecución. "
      ],
      "metadata": {
        "id": "g20cMQnkrHS5"
      }
    },
    {
      "cell_type": "code",
      "source": [
        "%%time\n",
        "z.compute()"
      ],
      "metadata": {
        "colab": {
          "base_uri": "https://localhost:8080/"
        },
        "id": "mWCBx8RTronC",
        "outputId": "e1df7f29-489d-490c-8df4-6258af05ea59"
      },
      "execution_count": 27,
      "outputs": [
        {
          "output_type": "stream",
          "name": "stdout",
          "text": [
            "CPU times: user 135 ms, sys: 16.6 ms, total: 152 ms\n",
            "Wall time: 2.01 s\n"
          ]
        },
        {
          "output_type": "execute_result",
          "data": {
            "text/plain": [
              "5"
            ]
          },
          "metadata": {},
          "execution_count": 27
        }
      ]
    },
    {
      "cell_type": "markdown",
      "source": [
        "#¿Qué esta pasando?"
      ],
      "metadata": {
        "id": "GkKaUtG4r2Rh"
      }
    },
    {
      "cell_type": "markdown",
      "source": [
        "A continuación, mostramos el gráfico que muestra como se estan realizado las operaciones para obtener el valor de $z$. "
      ],
      "metadata": {
        "id": "iOEdJCSisa3y"
      }
    },
    {
      "cell_type": "code",
      "source": [
        "z"
      ],
      "metadata": {
        "colab": {
          "base_uri": "https://localhost:8080/"
        },
        "id": "jrDkEZoYr9ST",
        "outputId": "d5d97523-20bd-43d7-c41f-a39b8915c625"
      },
      "execution_count": 24,
      "outputs": [
        {
          "output_type": "execute_result",
          "data": {
            "text/plain": [
              "Delayed('add-f9ead741-5bf3-455c-a3ec-ea53d9ccac84')"
            ]
          },
          "metadata": {},
          "execution_count": 24
        }
      ]
    },
    {
      "cell_type": "code",
      "source": [
        "z.visualize()"
      ],
      "metadata": {
        "colab": {
          "base_uri": "https://localhost:8080/",
          "height": 392
        },
        "id": "S0uHPxCEr-qM",
        "outputId": "20a72291-08dc-4d7b-ca11-80c1785a68ee"
      },
      "execution_count": 26,
      "outputs": [
        {
          "output_type": "execute_result",
          "data": {
            "text/plain": [
              "<IPython.core.display.Image object>"
            ],
            "image/png": "[encoded data removed]"
          },
          "metadata": {},
          "execution_count": 26
        }
      ]
    },
    {
      "cell_type": "markdown",
      "source": [
        "##Ejercicio paralelizar un ciclo for"
      ],
      "metadata": {
        "id": "gs7AAfvOs-k8"
      }
    },
    {
      "cell_type": "markdown",
      "source": [
        "Generalmente necesitamos paralelizar los bucles for. Entonces con dask.delayed, lo podemos hacer como se muestra en este código. "
      ],
      "metadata": {
        "id": "GYMjCZ6m7szR"
      }
    },
    {
      "cell_type": "code",
      "source": [
        "data = [1, 2, 3, 4, 5, 6, 7, 8]"
      ],
      "metadata": {
        "id": "DxyoBNESsi5q"
      },
      "execution_count": 28,
      "outputs": []
    },
    {
      "cell_type": "code",
      "source": [
        "%%time\n",
        "# Código secuencial \n",
        "\n",
        "results = []\n",
        "for x in data:\n",
        "    y = inc(x)\n",
        "    results.append(y)\n",
        "    \n",
        "total = sum(results)\n",
        "total"
      ],
      "metadata": {
        "colab": {
          "base_uri": "https://localhost:8080/"
        },
        "id": "rsOaAE-StFrU",
        "outputId": "5e8e4532-8e1a-48f3-c66f-1a05ef01964c"
      },
      "execution_count": 39,
      "outputs": [
        {
          "output_type": "stream",
          "name": "stdout",
          "text": [
            "CPU times: user 445 ms, sys: 90.1 ms, total: 535 ms\n",
            "Wall time: 8.01 s\n"
          ]
        }
      ]
    },
    {
      "cell_type": "code",
      "source": [
        "total"
      ],
      "metadata": {
        "colab": {
          "base_uri": "https://localhost:8080/"
        },
        "id": "7iGUp2Y5tYcC",
        "outputId": "732d00dd-c161-4579-9dd3-117d2ab57ab0"
      },
      "execution_count": 34,
      "outputs": [
        {
          "output_type": "execute_result",
          "data": {
            "text/plain": [
              "44"
            ]
          },
          "metadata": {},
          "execution_count": 34
        }
      ]
    },
    {
      "cell_type": "code",
      "source": [
        "%%time\n",
        "#Código en paralelo \n",
        "for x in data:\n",
        "    y = delayed(inc)(x)\n",
        "    results.append(y)\n",
        "    \n",
        "total = delayed(sum)(results)\n",
        "\n",
        "#Primero se imprime, el objeto total antes de computarlo\n",
        "print(\"Antes del computo\", total)  \n",
        "result = total.compute()\n",
        "#Después del computo se obtiene\n",
        "print(\"Después del computo :\", result) \n"
      ],
      "metadata": {
        "colab": {
          "base_uri": "https://localhost:8080/"
        },
        "id": "yAta61eqtNlF",
        "outputId": "afb4dfc6-147e-4b2e-f773-aa4d491a030e"
      },
      "execution_count": 40,
      "outputs": [
        {
          "output_type": "stream",
          "name": "stdout",
          "text": [
            "Antes del computo Delayed('sum-115da23e-fdb4-4958-a585-e65401b339f0')\n",
            "Después del computo : 88\n",
            "CPU times: user 271 ms, sys: 33.8 ms, total: 305 ms\n",
            "Wall time: 4.01 s\n"
          ]
        }
      ]
    },
    {
      "cell_type": "markdown",
      "source": [
        "##Ejercicio paralelizar un bucle for con control de flujo"
      ],
      "metadata": {
        "id": "IH1-3dhMuZ5x"
      }
    },
    {
      "cell_type": "markdown",
      "source": [
        "En ocasiones deseamos retrasar unas funciones determinadas, ejecutando algunas de estas inmediatamente. Entonces, debememos revisar que funciones retrasar y cuales no, y acá debemos validar con atención donde y cuando usar dask.layed. "
      ],
      "metadata": {
        "id": "GpUSg9Mf8W9f"
      }
    },
    {
      "cell_type": "code",
      "source": [
        "def double(x):\n",
        "    sleep(1)\n",
        "    return 2 * x\n",
        "\n",
        "def is_even(x):\n",
        "    return not x % 2\n",
        "\n",
        "data = [1, 2, 3, 4, 5, 6, 7, 8, 9, 10]"
      ],
      "metadata": {
        "id": "HgyRggWvusaE"
      },
      "execution_count": 77,
      "outputs": []
    },
    {
      "cell_type": "code",
      "source": [
        "%%time\n",
        "# Código secuencial\n",
        "\n",
        "results = []\n",
        "for x in data:\n",
        "    if is_even(x):\n",
        "        y = double(x)\n",
        "    else:\n",
        "        y = inc(x)\n",
        "    results.append(y)\n",
        "    \n",
        "total = sum(results)\n",
        "print(total)"
      ],
      "metadata": {
        "colab": {
          "base_uri": "https://localhost:8080/"
        },
        "id": "anEBU7dLxTdQ",
        "outputId": "e389c943-d952-46f1-e711-842306028c78"
      },
      "execution_count": 78,
      "outputs": [
        {
          "output_type": "stream",
          "name": "stdout",
          "text": [
            "90\n",
            "CPU times: user 393 ms, sys: 68.1 ms, total: 461 ms\n",
            "Wall time: 10 s\n"
          ]
        }
      ]
    },
    {
      "cell_type": "code",
      "source": [
        "%%time\n",
        "#Código en paralelo \n",
        "\n",
        "results = []\n",
        "for x in data:\n",
        "    if is_even(x):  # even\n",
        "        y = delayed(double)(x)\n",
        "    else:          # odd\n",
        "        y = delayed(inc)(x)\n",
        "    results.append(y)\n",
        "    \n",
        "total = delayed(sum)(results)"
      ],
      "metadata": {
        "colab": {
          "base_uri": "https://localhost:8080/"
        },
        "id": "BZg7Om05xY_J",
        "outputId": "dd54659d-fe22-48d8-f1e0-a8100ecd6ea7"
      },
      "execution_count": 44,
      "outputs": [
        {
          "output_type": "stream",
          "name": "stdout",
          "text": [
            "CPU times: user 2.39 ms, sys: 0 ns, total: 2.39 ms\n",
            "Wall time: 1.95 ms\n"
          ]
        }
      ]
    },
    {
      "cell_type": "code",
      "source": [
        "%time total.compute()"
      ],
      "metadata": {
        "colab": {
          "base_uri": "https://localhost:8080/"
        },
        "id": "as5HMYGmxiaO",
        "outputId": "27af4e7b-1663-4caf-b0a0-bef017477b17"
      },
      "execution_count": 45,
      "outputs": [
        {
          "output_type": "stream",
          "name": "stdout",
          "text": [
            "CPU times: user 283 ms, sys: 40 ms, total: 323 ms\n",
            "Wall time: 5.01 s\n"
          ]
        },
        {
          "output_type": "execute_result",
          "data": {
            "text/plain": [
              "90"
            ]
          },
          "metadata": {},
          "execution_count": 45
        }
      ]
    },
    {
      "cell_type": "code",
      "source": [
        "#A continuación, se presenta un gráfico en el que se muestra un gráfico en el que se visualiza como se esta realizando el computo. \n",
        "total.visualize()"
      ],
      "metadata": {
        "colab": {
          "base_uri": "https://localhost:8080/",
          "height": 407
        },
        "id": "OkB_ykqaxlXR",
        "outputId": "da30dad5-d94a-4806-ea2a-cfce7f27dd48"
      },
      "execution_count": 46,
      "outputs": [
        {
          "output_type": "execute_result",
          "data": {
            "text/plain": [
              "<IPython.core.display.Image object>"
            ],
            "image/png": "[encoded data removed]"
          },
          "metadata": {},
          "execution_count": 46
        }
      ]
    }
  ]
}