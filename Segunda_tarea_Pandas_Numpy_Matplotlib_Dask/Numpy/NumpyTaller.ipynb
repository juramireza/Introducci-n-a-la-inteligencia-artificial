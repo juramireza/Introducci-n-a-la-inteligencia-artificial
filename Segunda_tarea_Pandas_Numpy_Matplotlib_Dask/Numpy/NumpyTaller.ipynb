{
  "nbformat": 4,
  "nbformat_minor": 0,
  "metadata": {
    "colab": {
      "name": "NumpyTaller.ipynb",
      "provenance": [],
      "collapsed_sections": [],
      "toc_visible": true
    },
    "kernelspec": {
      "name": "python3",
      "display_name": "Python 3"
    }
  },
  "cells": [
    {
      "cell_type": "markdown",
      "metadata": {
        "id": "8v3BFtGhGsNd"
      },
      "source": [
        "# Módulos de `Python`: `numpy`"
      ]
    },
    {
      "cell_type": "markdown",
      "metadata": {
        "id": "fRmok3PiUpg8"
      },
      "source": [
        "## `numpy`"
      ]
    },
    {
      "cell_type": "markdown",
      "metadata": {
        "id": "BC5RulfgbTfY"
      },
      "source": [
        "`numpy` es un módulo para trabajar con arrays, que son un tipo de lista, lo que mucho más rápidos de procesar.\n",
        "\n",
        "El objeto array de `numpy` recibe el nombre de `ndarray`. Este tipo de dato es muy usado en el mundo de la ciencia de datos, donde la velocidad y los recursos son de gran importancia."
      ]
    },
    {
      "cell_type": "code",
      "metadata": {
        "id": "oGDJf6j-bY72"
      },
      "source": [
        "import numpy as np"
      ],
      "execution_count": 1,
      "outputs": []
    },
    {
      "cell_type": "markdown",
      "metadata": {
        "id": "mRZiW-MLcUu6"
      },
      "source": [
        "Podemos comprobar la versión de `numpy` con la siguiente línea de código"
      ]
    },
    {
      "cell_type": "code",
      "metadata": {
        "colab": {
          "base_uri": "https://localhost:8080/"
        },
        "id": "hPLTB_3ccZIo",
        "outputId": "297cd0e3-b9c3-453a-a3cf-b9a2b0df2287"
      },
      "source": [
        "print(np.__version__)"
      ],
      "execution_count": 2,
      "outputs": [
        {
          "output_type": "stream",
          "name": "stdout",
          "text": [
            "1.21.5\n"
          ]
        }
      ]
    },
    {
      "cell_type": "markdown",
      "metadata": {
        "id": "2bOZgYz0ciRt"
      },
      "source": [
        "#### Creando arrays\n",
        "\n",
        "Para crear un `ndarray` usamos el método `.array()`.\n",
        "\n",
        "Lo podemos hacer a partir de una lista:"
      ]
    },
    {
      "cell_type": "code",
      "metadata": {
        "colab": {
          "base_uri": "https://localhost:8080/"
        },
        "id": "xGqHw0bNcrIv",
        "outputId": "3e890711-1d5b-4b51-8478-05c830d7c67c"
      },
      "source": [
        "a = np.array([1, 2, 3, 4, 5])\n",
        "print(a)"
      ],
      "execution_count": 3,
      "outputs": [
        {
          "output_type": "stream",
          "name": "stdout",
          "text": [
            "[1 2 3 4 5]\n"
          ]
        }
      ]
    },
    {
      "cell_type": "code",
      "metadata": {
        "colab": {
          "base_uri": "https://localhost:8080/"
        },
        "id": "UeF1K8lx4mP-",
        "outputId": "6bbeff5c-5bb1-4630-c7a0-1fc555f17eb1"
      },
      "source": [
        "print(type(a))"
      ],
      "execution_count": 4,
      "outputs": [
        {
          "output_type": "stream",
          "name": "stdout",
          "text": [
            "<class 'numpy.ndarray'>\n"
          ]
        }
      ]
    },
    {
      "cell_type": "markdown",
      "metadata": {
        "id": "I26AgRA04v4t"
      },
      "source": [
        "O bien, a partir de una tupla:"
      ]
    },
    {
      "cell_type": "code",
      "metadata": {
        "colab": {
          "base_uri": "https://localhost:8080/"
        },
        "id": "DUn7B-ns4y7Y",
        "outputId": "86668403-ccf4-45f5-ee57-cf66c6ea3170"
      },
      "source": [
        "b = np.array((1, 2, 3, 4, 5, 6, 7))\n",
        "print(b)"
      ],
      "execution_count": 5,
      "outputs": [
        {
          "output_type": "stream",
          "name": "stdout",
          "text": [
            "[1 2 3 4 5 6 7]\n"
          ]
        }
      ]
    },
    {
      "cell_type": "code",
      "metadata": {
        "colab": {
          "base_uri": "https://localhost:8080/"
        },
        "id": "IrTwXkOe43j-",
        "outputId": "b89aca82-9793-45cc-e0fd-e9d98de6f4ac"
      },
      "source": [
        "print(type(b))"
      ],
      "execution_count": 6,
      "outputs": [
        {
          "output_type": "stream",
          "name": "stdout",
          "text": [
            "<class 'numpy.ndarray'>\n"
          ]
        }
      ]
    },
    {
      "cell_type": "markdown",
      "metadata": {
        "id": "gGhrumGF479l"
      },
      "source": [
        "### Dimensiones de un array\n",
        "\n",
        "La dimensión de una array viene dada por el nivel de profundidad de éste.\n",
        "\n",
        "Para saber la dimensión de un array, podemos usar la propiedad `.ndim`\n",
        "\n",
        "**¡Cuidado!**. En las versiones actuales de `Python`, si creamos un array $n$-dimensional, entonces todos los arrays de dimensión fija $m < n$, deben contener el mismo número de elementos. Es decir, si creamos un array de 4 dimensiones, todos los arrays de 3 dimensiones deben tener el mismo número de elementos; por su parte, todos los arrays de 2 dimensiones, deben tener el mismo número de elementos; y lo mismo para los arrays 1-dimensionales. Esto se debe a que en caso contrario, el atributo `.shape` que veremos a continuación no tendría sentido."
      ]
    },
    {
      "cell_type": "markdown",
      "metadata": {
        "id": "Ggws-iAn5HSS"
      },
      "source": [
        "#### Arrays 0-dimensionales\n",
        "\n",
        "Son los arrays constantes:"
      ]
    },
    {
      "cell_type": "code",
      "metadata": {
        "colab": {
          "base_uri": "https://localhost:8080/"
        },
        "id": "WAQ-A99_5NTa",
        "outputId": "d3068aaf-48a9-4522-c502-ebaac97900cf"
      },
      "source": [
        "d0 = np.array(77)\n",
        "d0.ndim"
      ],
      "execution_count": 7,
      "outputs": [
        {
          "output_type": "execute_result",
          "data": {
            "text/plain": [
              "0"
            ]
          },
          "metadata": {},
          "execution_count": 7
        }
      ]
    },
    {
      "cell_type": "markdown",
      "metadata": {
        "id": "sfJ7Dpp85Tuo"
      },
      "source": [
        "#### Arrays 1-dimensionales\n",
        "\n",
        "Son los arrays con un solo nivel de profundidad"
      ]
    },
    {
      "cell_type": "code",
      "metadata": {
        "colab": {
          "base_uri": "https://localhost:8080/"
        },
        "id": "W1xD2fpL5cw7",
        "outputId": "6b0258d7-f4cd-4cfb-a758-dad1661ef17c"
      },
      "source": [
        "d1 = np.array([-1, 0, 1])\n",
        "d1.ndim"
      ],
      "execution_count": 8,
      "outputs": [
        {
          "output_type": "execute_result",
          "data": {
            "text/plain": [
              "1"
            ]
          },
          "metadata": {},
          "execution_count": 8
        }
      ]
    },
    {
      "cell_type": "markdown",
      "metadata": {
        "id": "Z7sl4Z635hFc"
      },
      "source": [
        "#### Arrays 2-dimensionales\n",
        "\n",
        "Son los arrays que tienen por elementos arrays unidimensionales:"
      ]
    },
    {
      "cell_type": "code",
      "metadata": {
        "colab": {
          "base_uri": "https://localhost:8080/"
        },
        "id": "Ch92bI3o5q7H",
        "outputId": "30328619-c4c6-4033-97ef-0053975a77c0"
      },
      "source": [
        "d2 = np.array([[-3, -2], [-1, 0]])\n",
        "d2.ndim"
      ],
      "execution_count": 9,
      "outputs": [
        {
          "output_type": "execute_result",
          "data": {
            "text/plain": [
              "2"
            ]
          },
          "metadata": {},
          "execution_count": 9
        }
      ]
    },
    {
      "cell_type": "markdown",
      "metadata": {
        "id": "WIkw7L_X5wpm"
      },
      "source": [
        "#### Arrays 3-dimensionales\n",
        "\n",
        "Son los arrays que tinenen por elementos arrays bidimensionales:"
      ]
    },
    {
      "cell_type": "code",
      "metadata": {
        "colab": {
          "base_uri": "https://localhost:8080/"
        },
        "id": "cuSt3ZSA590b",
        "outputId": "419803d1-ae5e-4ea6-da59-8f705cd1bbf4"
      },
      "source": [
        "d3 = np.array([[[1, 2, 3, 4], [4, 3, 2, 1]], [[1, 0, 1, 0], [-1, 1, -1, 1]]])\n",
        "d3.ndim"
      ],
      "execution_count": 10,
      "outputs": [
        {
          "output_type": "execute_result",
          "data": {
            "text/plain": [
              "3"
            ]
          },
          "metadata": {},
          "execution_count": 10
        }
      ]
    },
    {
      "cell_type": "markdown",
      "metadata": {
        "id": "q76fJ1yj6jA3"
      },
      "source": [
        "#### Arrays multidimensionales\n",
        "\n",
        "Un array puede tener cualquier número finito de dimensiones.\n",
        "\n",
        "A la hora de crear un `ndarray`, podemos indicar como parámetro el número de dimensiones que queramos que tenga dicho array con el argumento `ndmin`"
      ]
    },
    {
      "cell_type": "code",
      "metadata": {
        "colab": {
          "base_uri": "https://localhost:8080/"
        },
        "id": "xy3VD4Ax6yn0",
        "outputId": "b89eb084-860a-493e-c06b-b6f3e17c1cf1"
      },
      "source": [
        "a = np.array([-2, -1, 0, 1, 2], ndmin = 7)\n",
        "print(\"El array a tiene {} dimensiones\".format(a.ndim))\n",
        "print(a)"
      ],
      "execution_count": 11,
      "outputs": [
        {
          "output_type": "stream",
          "name": "stdout",
          "text": [
            "El array a tiene 7 dimensiones\n",
            "[[[[[[[-2 -1  0  1  2]]]]]]]\n"
          ]
        }
      ]
    },
    {
      "cell_type": "markdown",
      "metadata": {
        "id": "fxWu8294Nwl-"
      },
      "source": [
        "### `Shape` de un array\n",
        "\n",
        "**Shape.** Es el número de elementos de cada dimensión.\n",
        "\n",
        "Lo calculamos con el atributo `.shape`"
      ]
    },
    {
      "cell_type": "code",
      "metadata": {
        "colab": {
          "base_uri": "https://localhost:8080/"
        },
        "id": "0XLnwpuDN8X1",
        "outputId": "71e37f95-74d9-4ea5-f1e0-9e0e2049f8d5"
      },
      "source": [
        "# Hay 3 elementos en el array 1-dimensional\n",
        "d1 = np.array([-1, 0, 1])\n",
        "d1.shape"
      ],
      "execution_count": 12,
      "outputs": [
        {
          "output_type": "execute_result",
          "data": {
            "text/plain": [
              "(3,)"
            ]
          },
          "metadata": {},
          "execution_count": 12
        }
      ]
    },
    {
      "cell_type": "code",
      "metadata": {
        "colab": {
          "base_uri": "https://localhost:8080/"
        },
        "id": "DUBdOsoTOFY1",
        "outputId": "933f2f0f-5d5a-4dc0-f3b6-22172dadbf61"
      },
      "source": [
        "# Hay 2 elementos en el array 2D y 2 elementos en los arrays 1D\n",
        "d2 = np.array([[-3, -2], [-1, 0]])\n",
        "d2.shape"
      ],
      "execution_count": 13,
      "outputs": [
        {
          "output_type": "execute_result",
          "data": {
            "text/plain": [
              "(2, 2)"
            ]
          },
          "metadata": {},
          "execution_count": 13
        }
      ]
    },
    {
      "cell_type": "code",
      "metadata": {
        "colab": {
          "base_uri": "https://localhost:8080/"
        },
        "id": "sQMH3z_aOXZj",
        "outputId": "56224f7f-4356-4cf9-b399-cab1c2bedb7d"
      },
      "source": [
        "# Hay 2 elementos en el array 3D, 2 elementos en cada array 2D y 4 elementos en cada array 1D\n",
        "d3 = np.array([[[1, 2, 3, 4], [4, 3, 2, 1]], [[1, 0, 1, 0], [-1, 1, -1, 1]]])\n",
        "d3.shape"
      ],
      "execution_count": 14,
      "outputs": [
        {
          "output_type": "execute_result",
          "data": {
            "text/plain": [
              "(2, 2, 4)"
            ]
          },
          "metadata": {},
          "execution_count": 14
        }
      ]
    },
    {
      "cell_type": "markdown",
      "metadata": {
        "id": "eBMLZnt0O_tw"
      },
      "source": [
        "La tupla resultante del atributo `.shape` se interpreta del siguiente modo: \n",
        "* Cada elemento de la tupla nos indica el número de elementos que hay en cada dimensión.\n",
        "* El primer índice se corresponde con la mayor dimensión, correspondiente al valor obtenido con `ndim`. \n",
        "* El último índice se corresponde con la menor dimensión (dimensión 1).\n",
        "\n",
        "Aquí es donde podemo observar la razón por la cuál todos los arrays de misma dimensión $m$ pertenecientes a un array $n$-dimensional, debe tener el mismo número de elementos.\n",
        "\n",
        "Por ejemplo, dado un array 4D, todos los arrays 2D pertenecientes a este deben tener el mismo número de elementos, que será el que nos devuelva la tupla resultante de aplicar `.shape` en el índice correspondiente, que en este caso sería el índice 2 (tercer y penúltimo elemento de la tupla)."
      ]
    },
    {
      "cell_type": "markdown",
      "metadata": {
        "id": "b60MYV2_SfHL"
      },
      "source": [
        "### Reshape de un array\n",
        "\n",
        "**Reshape.** Cambiar la `shape` de un array\n",
        "\n",
        "Mediante el proceso de reshape, podemos añadir o eliminar dimensiones, o bien cambiar el número de elementos de cada dimensión."
      ]
    },
    {
      "cell_type": "markdown",
      "metadata": {
        "id": "6edrdN8QTT2D"
      },
      "source": [
        "--- \n",
        "#### Ejemplo 1\n",
        "\n",
        "Partiremos de un array 1D con 8 elementos y lo transformaremos en un array 2D con 2 arrays 1D, cada uno de ellos con 4 elementos."
      ]
    },
    {
      "cell_type": "code",
      "metadata": {
        "colab": {
          "base_uri": "https://localhost:8080/"
        },
        "id": "fzRbIY_lSeMp",
        "outputId": "861b38d6-b5ef-48d3-ea6f-ca8cd6437146"
      },
      "source": [
        "d1 = np.array([1, 2, 3, 4, 5, 6, 7, 8])\n",
        "print(\"d1 =\", d1)\n",
        "print(\"Dimensión:\", d1.ndim)\n",
        "print(\"Shape:\", d1.shape)"
      ],
      "execution_count": 15,
      "outputs": [
        {
          "output_type": "stream",
          "name": "stdout",
          "text": [
            "d1 = [1 2 3 4 5 6 7 8]\n",
            "Dimensión: 1\n",
            "Shape: (8,)\n"
          ]
        }
      ]
    },
    {
      "cell_type": "markdown",
      "metadata": {
        "id": "iSzOyiLBTRy3"
      },
      "source": [
        "Nuestro array 1D `d1` consta de 8 elementos."
      ]
    },
    {
      "cell_type": "code",
      "metadata": {
        "colab": {
          "base_uri": "https://localhost:8080/"
        },
        "id": "bceOiZRGSee4",
        "outputId": "b473e596-cd9b-42e8-f769-f9077a4d4ad6"
      },
      "source": [
        "d2 = d1.reshape(2, 4)\n",
        "print(\"d2 =\", d2)\n",
        "print(\"Dimensión:\", d2.ndim)\n",
        "print(\"Shape:\", d2.shape)"
      ],
      "execution_count": 16,
      "outputs": [
        {
          "output_type": "stream",
          "name": "stdout",
          "text": [
            "d2 = [[1 2 3 4]\n",
            " [5 6 7 8]]\n",
            "Dimensión: 2\n",
            "Shape: (2, 4)\n"
          ]
        }
      ]
    },
    {
      "cell_type": "markdown",
      "metadata": {
        "id": "DB6mZKxTT9Wh"
      },
      "source": [
        "Nuestro nuevo array 2D `d2` consta de 2 arrays de dimensión 1, con 4 elementos cada uno. De modo que en total, seguimos teniendo los 8 elementos originales, pero con diferente `shape`.\n",
        "\n",
        "**¡Cuidado!** A la hora de llevar a cabo un reshape, el producto de los elementos de la tupla resultante de aplicar `.shape` debe coincidir con el número total de elementos que tiene el array orignial.\n",
        "\n",
        "En este caso, partíamos de 8 elementos en 1 dimensión y hemos acabado en $2\\cdot 4 = 8$ elementos distribuidos en 2 dimensiones.\n",
        "\n",
        "---"
      ]
    },
    {
      "cell_type": "markdown",
      "metadata": {
        "id": "mnIE8sN7UuO0"
      },
      "source": [
        "---\n",
        "#### Ejemplo 2\n",
        "\n",
        "En este caso, partiremos de un array 1D y lo transformaremos en un array 3D"
      ]
    },
    {
      "cell_type": "code",
      "metadata": {
        "colab": {
          "base_uri": "https://localhost:8080/"
        },
        "id": "XZ-34B0BVBDJ",
        "outputId": "164e0d62-302c-430d-bf51-906d18918328"
      },
      "source": [
        "d1 = np.array([1, 2, 3, 4, 5, 6, 7, 8, 9, 10, 11, 12, 13, 14, 15, 16])\n",
        "print(\"d1 =\", d1)\n",
        "print(\"Dimensión:\", d1.ndim)\n",
        "print(\"Shape:\", d1.shape)"
      ],
      "execution_count": 17,
      "outputs": [
        {
          "output_type": "stream",
          "name": "stdout",
          "text": [
            "d1 = [ 1  2  3  4  5  6  7  8  9 10 11 12 13 14 15 16]\n",
            "Dimensión: 1\n",
            "Shape: (16,)\n"
          ]
        }
      ]
    },
    {
      "cell_type": "markdown",
      "metadata": {
        "id": "mheohx1yVLfe"
      },
      "source": [
        "Nuestro array 1D consta de 16 elementos."
      ]
    },
    {
      "cell_type": "code",
      "metadata": {
        "colab": {
          "base_uri": "https://localhost:8080/"
        },
        "id": "peR91w19VOgw",
        "outputId": "14a97ff1-5cef-4702-e970-f2127e62f313"
      },
      "source": [
        "d3 = d1.reshape(2, 4, 2)\n",
        "print(\"d3 =\", d3)\n",
        "print(\"Dimensión:\", d3.ndim)\n",
        "print(\"Shape:\", d3.shape)"
      ],
      "execution_count": 18,
      "outputs": [
        {
          "output_type": "stream",
          "name": "stdout",
          "text": [
            "d3 = [[[ 1  2]\n",
            "  [ 3  4]\n",
            "  [ 5  6]\n",
            "  [ 7  8]]\n",
            "\n",
            " [[ 9 10]\n",
            "  [11 12]\n",
            "  [13 14]\n",
            "  [15 16]]]\n",
            "Dimensión: 3\n",
            "Shape: (2, 4, 2)\n"
          ]
        }
      ]
    },
    {
      "cell_type": "markdown",
      "metadata": {
        "id": "GPZDep58VVhq"
      },
      "source": [
        "Nuestro array 3D consta de 2 arrays bidimensionales, cada uno con 4 arrays 1D, cada cual contiene 2 elementos.\n",
        "\n",
        "En total, hay $2\\cdot 4\\cdot 2 = 16$ elementos, tal y como teníamos originalmente.\n",
        "\n",
        "---"
      ]
    },
    {
      "cell_type": "markdown",
      "metadata": {
        "id": "e-YOj_D1Vybe"
      },
      "source": [
        "#### Ejemplo 3\n",
        "\n",
        "En este caso, vamos a transformar un array 2D a un array 5D."
      ]
    },
    {
      "cell_type": "code",
      "metadata": {
        "colab": {
          "base_uri": "https://localhost:8080/"
        },
        "id": "REIX8ZGdVxgb",
        "outputId": "25f7a6e9-dede-48ed-e204-8ceb7cef13dc"
      },
      "source": [
        "d2 = np.array([[-10, -9, -8, -7], [-6, -5, -4, -3], [-2, -1, 1, 2], [3, 4, 5, 6], [7, 8, 9, 10]])\n",
        "print(\"d2 =\", d2)\n",
        "print(\"Dimensión:\", d2.ndim)\n",
        "print(\"Shape:\", d2.shape)"
      ],
      "execution_count": 19,
      "outputs": [
        {
          "output_type": "stream",
          "name": "stdout",
          "text": [
            "d2 = [[-10  -9  -8  -7]\n",
            " [ -6  -5  -4  -3]\n",
            " [ -2  -1   1   2]\n",
            " [  3   4   5   6]\n",
            " [  7   8   9  10]]\n",
            "Dimensión: 2\n",
            "Shape: (5, 4)\n"
          ]
        }
      ]
    },
    {
      "cell_type": "markdown",
      "metadata": {
        "id": "gyB7V0W_WZmo"
      },
      "source": [
        "Partimos de un array 2D, que tiene 5 arrays 1D, cada uno con 4 elementos. En total hay 20 elementos."
      ]
    },
    {
      "cell_type": "code",
      "metadata": {
        "colab": {
          "base_uri": "https://localhost:8080/"
        },
        "id": "I_mXVaCDWeMZ",
        "outputId": "3c7be416-07a8-43a5-ac9c-8fe6803266ea"
      },
      "source": [
        "d5 = d2.reshape(2, 1, 2, 1, 5)\n",
        "print(\"d5 =\", d5)\n",
        "print(\"Dimensión:\", d5.ndim)\n",
        "print(\"Shape:\", d5.shape)"
      ],
      "execution_count": 20,
      "outputs": [
        {
          "output_type": "stream",
          "name": "stdout",
          "text": [
            "d5 = [[[[[-10  -9  -8  -7  -6]]\n",
            "\n",
            "   [[ -5  -4  -3  -2  -1]]]]\n",
            "\n",
            "\n",
            "\n",
            " [[[[  1   2   3   4   5]]\n",
            "\n",
            "   [[  6   7   8   9  10]]]]]\n",
            "Dimensión: 5\n",
            "Shape: (2, 1, 2, 1, 5)\n"
          ]
        }
      ]
    },
    {
      "cell_type": "markdown",
      "metadata": {
        "id": "6co5cqjOWtBB"
      },
      "source": [
        "Hemos transformado nuestro array original 2D en un array 5D que consta de 2 arrays 4D, cada uno de los cuales contiene un array 3D, que tiene 2 arrays 2D con 1 array 1D en su interior que consta de 5 elementos. En total, $2\\cdot 1\\cdot 2\\cdot 1\\cdot 5 = 20$\n",
        "\n",
        "---"
      ]
    },
    {
      "cell_type": "markdown",
      "metadata": {
        "id": "X3wy5uy_XGyx"
      },
      "source": [
        "**Observación.** El resultado de un `.reshape()` es una `view` del array original."
      ]
    },
    {
      "cell_type": "code",
      "metadata": {
        "colab": {
          "base_uri": "https://localhost:8080/"
        },
        "id": "HHfuKzSPXNZp",
        "outputId": "61a440c5-13d3-46f2-e6f2-c4255f34eaec"
      },
      "source": [
        "print(\"El array transformado a partir del array d2 del Ejemplo 3 es una view,\\npues al aplicar .base se nos devuelve el array 2D original:\\n\", d5.base)"
      ],
      "execution_count": 21,
      "outputs": [
        {
          "output_type": "stream",
          "name": "stdout",
          "text": [
            "El array transformado a partir del array d2 del Ejemplo 3 es una view,\n",
            "pues al aplicar .base se nos devuelve el array 2D original:\n",
            " [[-10  -9  -8  -7]\n",
            " [ -6  -5  -4  -3]\n",
            " [ -2  -1   1   2]\n",
            " [  3   4   5   6]\n",
            " [  7   8   9  10]]\n"
          ]
        }
      ]
    },
    {
      "cell_type": "markdown",
      "metadata": {
        "id": "9i0RhGsEX10P"
      },
      "source": [
        "#### Dimensión desconocida\n",
        "\n",
        "Al hacer un reshape no siempre hay que especificar el número exacto de una de las dimensiones como parámetro del método `.reshape()`. \n",
        "\n",
        "Si desconocemos una dimensión, basta indicar -1 en el lugar adecuado y `numpy` la calculará por nosotros.\n",
        "\n",
        "Tomando el array 2D del Ejemplo 3,"
      ]
    },
    {
      "cell_type": "code",
      "metadata": {
        "id": "HMIUocibYNbo"
      },
      "source": [
        "d2 = np.array([[-10, -9, -8, -7], [-6, -5, -4, -3], [-2, -1, 1, 2], [3, 4, 5, 6], [7, 8, 9, 10]])"
      ],
      "execution_count": 22,
      "outputs": []
    },
    {
      "cell_type": "markdown",
      "metadata": {
        "id": "Ntu4U75YYRSs"
      },
      "source": [
        "supongamos que no sabemos la última dimensión a la hora de transformarlo al array 5D. En ese caso, introducimos -1 como parámetro."
      ]
    },
    {
      "cell_type": "code",
      "metadata": {
        "colab": {
          "base_uri": "https://localhost:8080/"
        },
        "id": "Muj-XuZSYZNO",
        "outputId": "3f57e000-69d9-4cc8-82a0-1dc12a0c791f"
      },
      "source": [
        "d5 = d2.reshape(2, 1, 2, 1, -1)\n",
        "print(\"d5 =\", d5)\n",
        "print(\"Dimensión:\", d5.ndim)\n",
        "print(\"Shape:\", d5.shape)"
      ],
      "execution_count": 23,
      "outputs": [
        {
          "output_type": "stream",
          "name": "stdout",
          "text": [
            "d5 = [[[[[-10  -9  -8  -7  -6]]\n",
            "\n",
            "   [[ -5  -4  -3  -2  -1]]]]\n",
            "\n",
            "\n",
            "\n",
            " [[[[  1   2   3   4   5]]\n",
            "\n",
            "   [[  6   7   8   9  10]]]]]\n",
            "Dimensión: 5\n",
            "Shape: (2, 1, 2, 1, 5)\n"
          ]
        }
      ]
    },
    {
      "cell_type": "markdown",
      "metadata": {
        "id": "ngF7uEwFYeZW"
      },
      "source": [
        "Observamos que `numpy` ha calculado dicha dimensión por nosotros, que coincide con el resultado indicado en el Ejemplo 3."
      ]
    },
    {
      "cell_type": "markdown",
      "metadata": {
        "id": "cbYXH6tQYlj8"
      },
      "source": [
        "**¡Cuidado!** Solamente podemos pasar -1 por parámetro al método `.reshape()` para una sola dimensión."
      ]
    },
    {
      "cell_type": "markdown",
      "metadata": {
        "id": "YwYvY0WoYxLP"
      },
      "source": [
        "**Observación.** El uso del -1 nos puede ser muy útil cuando queramos transformar cualquier array multidimensional a un array unidimensional.\n",
        "\n",
        "Por ejemplo, partiendo del array 5D del Ejemplo 3, lo podemos trasformar a array undimensional del siguiente modo:"
      ]
    },
    {
      "cell_type": "code",
      "metadata": {
        "colab": {
          "base_uri": "https://localhost:8080/"
        },
        "id": "fllAb0yEY5AS",
        "outputId": "d429c1d0-30b0-4a39-d3a6-2607731b45f3"
      },
      "source": [
        "d1 = d5.reshape(-1)\n",
        "print(\"d1 =\", d1)\n",
        "print(\"Dimensión:\", d1.ndim)\n",
        "print(\"Shape:\", d1.shape)"
      ],
      "execution_count": 24,
      "outputs": [
        {
          "output_type": "stream",
          "name": "stdout",
          "text": [
            "d1 = [-10  -9  -8  -7  -6  -5  -4  -3  -2  -1   1   2   3   4   5   6   7   8\n",
            "   9  10]\n",
            "Dimensión: 1\n",
            "Shape: (20,)\n"
          ]
        }
      ]
    },
    {
      "cell_type": "markdown",
      "metadata": {
        "id": "ZNANC2tm7T2q"
      },
      "source": [
        "### Elementos de un array\n"
      ]
    },
    {
      "cell_type": "markdown",
      "metadata": {
        "id": "aHN5Yq0x8PAe"
      },
      "source": [
        "#### Caso unidimensional\n",
        "\n",
        "Podemos acceder a los elementos de un array con la sintaxis `[]`.\n",
        "\n",
        "**Observación.** Recordad que en `Python` los índices empezaban en 0"
      ]
    },
    {
      "cell_type": "code",
      "metadata": {
        "colab": {
          "base_uri": "https://localhost:8080/"
        },
        "id": "ZzNEcvvW7eWK",
        "outputId": "94ed0a52-94d2-4b74-945c-9dc35c16445b"
      },
      "source": [
        "a = np.array([2, 3, 4, 5, 6])\n",
        "print(a)\n",
        "\n",
        "print(\"Primer elemento = \", a[0])\n",
        "print(\"Segundo elemento = \", a[1])\n",
        "print(\"Último elemento = \", a[-1])"
      ],
      "execution_count": 25,
      "outputs": [
        {
          "output_type": "stream",
          "name": "stdout",
          "text": [
            "[2 3 4 5 6]\n",
            "Primer elemento =  2\n",
            "Segundo elemento =  3\n",
            "Último elemento =  6\n"
          ]
        }
      ]
    },
    {
      "cell_type": "markdown",
      "metadata": {
        "id": "PyWa7X0y8SDp"
      },
      "source": [
        "#### Caso multidimensional\n",
        "\n",
        "A la hora de acceder a elementos de un array multidimensional, tendremos que empezar indicando el índice del elemento en el nivel menos profundo y acabar indicando el índice del elemento en en nivel más profundo, todos entre `[]` separados por comas.\n",
        "\n",
        "En el caso de un array bidimiensional, como el que se muestra a continuación,"
      ]
    },
    {
      "cell_type": "code",
      "metadata": {
        "colab": {
          "base_uri": "https://localhost:8080/"
        },
        "id": "qBuwEhAQ8xw-",
        "outputId": "d2e9f162-2a2b-40c7-a6a8-613b24c9fc0f"
      },
      "source": [
        "a = np.array([[-10, -9], [7, 8]])\n",
        "a.ndim"
      ],
      "execution_count": 26,
      "outputs": [
        {
          "output_type": "execute_result",
          "data": {
            "text/plain": [
              "2"
            ]
          },
          "metadata": {},
          "execution_count": 26
        }
      ]
    },
    {
      "cell_type": "markdown",
      "metadata": {
        "id": "RZxrvJfL8-KZ"
      },
      "source": [
        "Para acceder al elemento -9, primero habrá que indicar el índice 0, pues el array unidimensional al que pertenece se encuentra en el índice 0 del nivel menos profundo. A continuación, indicaremos el índice 1, pues esa es la posición que ocupa el elemento de nuestro interés dentro del array unidimensional, que se trata del nivel más profundo en este caso:"
      ]
    },
    {
      "cell_type": "code",
      "metadata": {
        "colab": {
          "base_uri": "https://localhost:8080/"
        },
        "id": "OV2DoLCy9RwO",
        "outputId": "3f3e7d86-7de1-43f5-bc55-ee9bf42db3d8"
      },
      "source": [
        "a[0, 1]"
      ],
      "execution_count": 27,
      "outputs": [
        {
          "output_type": "execute_result",
          "data": {
            "text/plain": [
              "-9"
            ]
          },
          "metadata": {},
          "execution_count": 27
        }
      ]
    },
    {
      "cell_type": "markdown",
      "metadata": {
        "id": "f6m73UtJ9Wfk"
      },
      "source": [
        "En el caso de un array tridimensional, como el que se muestra a continuación,"
      ]
    },
    {
      "cell_type": "code",
      "metadata": {
        "colab": {
          "base_uri": "https://localhost:8080/"
        },
        "id": "yXx82f-A9ZnH",
        "outputId": "81ecc744-07ba-458d-84a6-962cf068a1ec"
      },
      "source": [
        "a = np.array([[[1, 2, 3], [-3, -2, -1]], [[4, 5, 6], [7, 8, 9]]])\n",
        "a.ndim"
      ],
      "execution_count": 28,
      "outputs": [
        {
          "output_type": "execute_result",
          "data": {
            "text/plain": [
              "3"
            ]
          },
          "metadata": {},
          "execution_count": 28
        }
      ]
    },
    {
      "cell_type": "markdown",
      "metadata": {
        "id": "z-qmk_ZA9rSL"
      },
      "source": [
        "Para acceder al elemento 7, primero habrá que indicar el índice 1, pues el array 2-dimensional al que pertenece se encuentra en la posición 1 del nivel menos profundo. Entramos en el siguiente nivel, el array 2-dimensional. Ahora, la posición que hay que indicar es la 1, pues el array 1-dimensional ocupa dicho índice dentro del array 2-dimensional. Finalmente, llegamos al nivel más profundo, el array 1-dimensional, y ahora hay que indicar el índice 0, pues esa es la posición que ocupa el elemento de nuestro interés dentro del array unidimensional."
      ]
    },
    {
      "cell_type": "code",
      "metadata": {
        "colab": {
          "base_uri": "https://localhost:8080/"
        },
        "id": "G974Zcjt-Lgz",
        "outputId": "89fed035-0cef-4a52-9d58-d129f1731f1e"
      },
      "source": [
        "a[1, 1, 0]"
      ],
      "execution_count": 29,
      "outputs": [
        {
          "output_type": "execute_result",
          "data": {
            "text/plain": [
              "7"
            ]
          },
          "metadata": {},
          "execution_count": 29
        }
      ]
    },
    {
      "cell_type": "markdown",
      "metadata": {
        "id": "zT4GRFhM-fNp"
      },
      "source": [
        "Dado un array multidimensional, si lo que queremos es que se nos devuelva un array de dimensión menor, entonces solamnente tenemos que indicar sus índices tal cuál hacíamos para obtener un elemento.\n",
        "\n",
        "Dado el array `a` tridimensional anterior, si queremos acceder al array unidimensional `[-3, -2, -1]`, entonces indicaremos entre `[]` los índices 0 y, a continuación, 1. Pues dicho array se encuentra en el primer array bidimensional y dentro de éste, ocupa la segunda posición, es decir, el índice 1:"
      ]
    },
    {
      "cell_type": "code",
      "metadata": {
        "colab": {
          "base_uri": "https://localhost:8080/"
        },
        "id": "m7NcclHJ-4xE",
        "outputId": "0ad80668-b8b9-41ca-9112-658077ec42fc"
      },
      "source": [
        "a[0, 1]"
      ],
      "execution_count": 30,
      "outputs": [
        {
          "output_type": "execute_result",
          "data": {
            "text/plain": [
              "array([-3, -2, -1])"
            ]
          },
          "metadata": {},
          "execution_count": 30
        }
      ]
    },
    {
      "cell_type": "markdown",
      "metadata": {
        "id": "8JB4HYFUAQ9l"
      },
      "source": [
        "#### Índices negativos\n",
        "\n",
        "Al igual que para el caso de las listas, los elementos de los `ndarrays` también pueden ser accedidos mediante índices negativos. \n",
        "\n",
        "El índice `-1` hace referencia al último elemento; el `-2`, al penúltimo; el `-3` al antepenúltimo; y así sucesivamente."
      ]
    },
    {
      "cell_type": "code",
      "metadata": {
        "colab": {
          "base_uri": "https://localhost:8080/"
        },
        "id": "hLFBvwEUITZt",
        "outputId": "602f32e4-a02e-4bc3-b1db-fe449bce91b9"
      },
      "source": [
        "a[-1]"
      ],
      "execution_count": 31,
      "outputs": [
        {
          "output_type": "execute_result",
          "data": {
            "text/plain": [
              "array([[4, 5, 6],\n",
              "       [7, 8, 9]])"
            ]
          },
          "metadata": {},
          "execution_count": 31
        }
      ]
    },
    {
      "cell_type": "markdown",
      "metadata": {
        "id": "fBF975JcAy-V"
      },
      "source": [
        "### Slicing\n",
        "\n",
        "En `Python`, **slicing** hace referencia a tomar elementos desde un índice dado hasta otro proporcionado.\n",
        "\n",
        "Ya conocemos la sintaxis:\n",
        "\n",
        "* `[inicio:fin]` donde iremos desde el índice `inicio` hasta el índice `fin`-1, y lo haremos de 1 en 1\n",
        "* `[inicio:fin:paso]` donde iremos desde el índice `inicio` hasta el índice `fin`-1, y lo haremos de `paso` en `paso`\n",
        "\n"
      ]
    },
    {
      "cell_type": "markdown",
      "metadata": {
        "id": "xFkU26ZWCoMW"
      },
      "source": [
        "#### Caso unidimensional"
      ]
    },
    {
      "cell_type": "code",
      "metadata": {
        "id": "WvYZDhcCCFqH",
        "colab": {
          "base_uri": "https://localhost:8080/"
        },
        "outputId": "eb39ebef-f994-48c5-c6c5-7d987fbcf777"
      },
      "source": [
        "# Array unidimensional\n",
        "a1 = np.array([9, 8, 7, 6, 5, 4, 3])\n",
        "a1"
      ],
      "execution_count": 32,
      "outputs": [
        {
          "output_type": "execute_result",
          "data": {
            "text/plain": [
              "array([9, 8, 7, 6, 5, 4, 3])"
            ]
          },
          "metadata": {},
          "execution_count": 32
        }
      ]
    },
    {
      "cell_type": "code",
      "metadata": {
        "colab": {
          "base_uri": "https://localhost:8080/"
        },
        "id": "0FUMtjTQBlnG",
        "outputId": "cdaef3ca-585e-4287-b4d6-04bfac4854dd"
      },
      "source": [
        "# Del segundo elemento al cuarto de 1 en 1\n",
        "a1[1:4]"
      ],
      "execution_count": 33,
      "outputs": [
        {
          "output_type": "execute_result",
          "data": {
            "text/plain": [
              "array([8, 7, 6])"
            ]
          },
          "metadata": {},
          "execution_count": 33
        }
      ]
    },
    {
      "cell_type": "code",
      "metadata": {
        "colab": {
          "base_uri": "https://localhost:8080/"
        },
        "id": "86U46AZWBzjq",
        "outputId": "6ace986c-1ff9-4e1e-ba9b-a4d61dc326cb"
      },
      "source": [
        "# Del primer elemento al sexto de 1 en 1\n",
        "a1[:6]"
      ],
      "execution_count": 34,
      "outputs": [
        {
          "output_type": "execute_result",
          "data": {
            "text/plain": [
              "array([9, 8, 7, 6, 5, 4])"
            ]
          },
          "metadata": {},
          "execution_count": 34
        }
      ]
    },
    {
      "cell_type": "code",
      "metadata": {
        "colab": {
          "base_uri": "https://localhost:8080/"
        },
        "id": "Wg6tSJFzB5Ep",
        "outputId": "90a18fe1-121e-4370-8890-3bb571cfd28a"
      },
      "source": [
        "# Del tercer elemento al último de 1 en 1\n",
        "a1[2:]"
      ],
      "execution_count": 35,
      "outputs": [
        {
          "output_type": "execute_result",
          "data": {
            "text/plain": [
              "array([7, 6, 5, 4, 3])"
            ]
          },
          "metadata": {},
          "execution_count": 35
        }
      ]
    },
    {
      "cell_type": "code",
      "metadata": {
        "colab": {
          "base_uri": "https://localhost:8080/"
        },
        "id": "ODkKs9RMCslh",
        "outputId": "f2fdbdcd-2dfa-40d4-c391-600c609d6648"
      },
      "source": [
        "# Del segundo elemento al sexto de 2 en 2\n",
        "a1[1:6:2]"
      ],
      "execution_count": 36,
      "outputs": [
        {
          "output_type": "execute_result",
          "data": {
            "text/plain": [
              "array([8, 6, 4])"
            ]
          },
          "metadata": {},
          "execution_count": 36
        }
      ]
    },
    {
      "cell_type": "code",
      "metadata": {
        "colab": {
          "base_uri": "https://localhost:8080/"
        },
        "id": "yP_V6COaCS6F",
        "outputId": "5bbf76e8-a5d7-4228-f5be-0b84a9664a9f"
      },
      "source": [
        "# Del primer elemento al quinto de 2 en 2\n",
        "a1[:5:2]"
      ],
      "execution_count": 37,
      "outputs": [
        {
          "output_type": "execute_result",
          "data": {
            "text/plain": [
              "array([9, 7, 5])"
            ]
          },
          "metadata": {},
          "execution_count": 37
        }
      ]
    },
    {
      "cell_type": "code",
      "metadata": {
        "colab": {
          "base_uri": "https://localhost:8080/"
        },
        "id": "AnWBlZvACDld",
        "outputId": "781e1d73-d6d2-49a0-b819-340139886ccf"
      },
      "source": [
        "# Del segundo elemento al último de 3 en 3\n",
        "a1[2::3]"
      ],
      "execution_count": 38,
      "outputs": [
        {
          "output_type": "execute_result",
          "data": {
            "text/plain": [
              "array([7, 4])"
            ]
          },
          "metadata": {},
          "execution_count": 38
        }
      ]
    },
    {
      "cell_type": "code",
      "metadata": {
        "colab": {
          "base_uri": "https://localhost:8080/"
        },
        "id": "RMaIy9_qCcqr",
        "outputId": "c97f0fb6-8338-4cbc-ef57-e3a5b89be882"
      },
      "source": [
        "# Del primer elemento al último de 4 en 4\n",
        "a1[::4]"
      ],
      "execution_count": 39,
      "outputs": [
        {
          "output_type": "execute_result",
          "data": {
            "text/plain": [
              "array([9, 5])"
            ]
          },
          "metadata": {},
          "execution_count": 39
        }
      ]
    },
    {
      "cell_type": "markdown",
      "metadata": {
        "id": "PSqFBMlnC0Cg"
      },
      "source": [
        "#### Caso multidimensional\n"
      ]
    },
    {
      "cell_type": "code",
      "metadata": {
        "colab": {
          "base_uri": "https://localhost:8080/"
        },
        "id": "y_xc0RcQC2_I",
        "outputId": "5c90ccd6-565a-4fe7-f4a4-d87f6d1f31c0"
      },
      "source": [
        "# Array 4-dimensional\n",
        "a4 = np.array([[[[-211, -210], [-29, -28], [-27, -26]], [[-25, -24], [-23, -22], [-21, -20]]],\n",
        "               [[[-111, -110], [-19, -18], [-17, -16]], [[-15, -14], [-13, -12], [-11, -10]]],\n",
        "               [[[111, 110], [19, 18], [17, 16]], [[15, 14], [13, 12], [11, 10]]],\n",
        "               [[[211, 210], [29, 28], [27, 26]], [[25, 24], [23, 22], [21, 20]]]])\n",
        "a4.ndim"
      ],
      "execution_count": 40,
      "outputs": [
        {
          "output_type": "execute_result",
          "data": {
            "text/plain": [
              "4"
            ]
          },
          "metadata": {},
          "execution_count": 40
        }
      ]
    },
    {
      "cell_type": "code",
      "metadata": {
        "colab": {
          "base_uri": "https://localhost:8080/"
        },
        "id": "E7pqRoPrKJ1g",
        "outputId": "4c5901fd-72d0-4517-cddc-f0a16b32eb69"
      },
      "source": [
        "a4.shape"
      ],
      "execution_count": 41,
      "outputs": [
        {
          "output_type": "execute_result",
          "data": {
            "text/plain": [
              "(4, 2, 3, 2)"
            ]
          },
          "metadata": {},
          "execution_count": 41
        }
      ]
    },
    {
      "cell_type": "markdown",
      "metadata": {
        "id": "3Ov1Mb6MEjSO"
      },
      "source": [
        "El array 4-dimensional `a4` consta de 4 arrays tridimensionales, cada uno de ellos con 2 arrays bidimensionales que contienen cada uno 3 arrays unidimensionales."
      ]
    },
    {
      "cell_type": "code",
      "metadata": {
        "colab": {
          "base_uri": "https://localhost:8080/"
        },
        "id": "zHRORNmGE1qE",
        "outputId": "c831409d-e445-4fb3-bc32-846aeb86e403"
      },
      "source": [
        "# Mostramos del segundo al tercer array 3D\n",
        "a4[1:3]"
      ],
      "execution_count": 42,
      "outputs": [
        {
          "output_type": "execute_result",
          "data": {
            "text/plain": [
              "array([[[[-111, -110],\n",
              "         [ -19,  -18],\n",
              "         [ -17,  -16]],\n",
              "\n",
              "        [[ -15,  -14],\n",
              "         [ -13,  -12],\n",
              "         [ -11,  -10]]],\n",
              "\n",
              "\n",
              "       [[[ 111,  110],\n",
              "         [  19,   18],\n",
              "         [  17,   16]],\n",
              "\n",
              "        [[  15,   14],\n",
              "         [  13,   12],\n",
              "         [  11,   10]]]])"
            ]
          },
          "metadata": {},
          "execution_count": 42
        }
      ]
    },
    {
      "cell_type": "code",
      "metadata": {
        "colab": {
          "base_uri": "https://localhost:8080/"
        },
        "id": "SkIhw5YmFBtJ",
        "outputId": "ddf10798-2dca-407a-a2b9-da2bea6dc927"
      },
      "source": [
        "# Del segundo array 2D del primer array 3D, mostramos los dos primeros arrays 1D\n",
        "a4[0, 1, :2]"
      ],
      "execution_count": 43,
      "outputs": [
        {
          "output_type": "execute_result",
          "data": {
            "text/plain": [
              "array([[-25, -24],\n",
              "       [-23, -22]])"
            ]
          },
          "metadata": {},
          "execution_count": 43
        }
      ]
    },
    {
      "cell_type": "code",
      "metadata": {
        "colab": {
          "base_uri": "https://localhost:8080/"
        },
        "id": "OpnYYmJ9FZeP",
        "outputId": "d69606af-824b-4e7a-a791-b2f23394920d"
      },
      "source": [
        "# Del segundo al último array 3D, mostramos el segundo array 1D del primer array 2D\n",
        "a4[1:, 0, 1]"
      ],
      "execution_count": 44,
      "outputs": [
        {
          "output_type": "execute_result",
          "data": {
            "text/plain": [
              "array([[-19, -18],\n",
              "       [ 19,  18],\n",
              "       [ 29,  28]])"
            ]
          },
          "metadata": {},
          "execution_count": 44
        }
      ]
    },
    {
      "cell_type": "markdown",
      "metadata": {
        "id": "qzYEs42MGA2f"
      },
      "source": [
        "**Observación.** Al igual que para acceder a elementos, los índices negativos también funcionan en el slicing de arrays (Negative Slicing)"
      ]
    },
    {
      "cell_type": "code",
      "metadata": {
        "colab": {
          "base_uri": "https://localhost:8080/"
        },
        "id": "nGrkczBeGKs9",
        "outputId": "856527e9-7997-4880-9b74-693104e93b0e"
      },
      "source": [
        "# De los dos últimos arrays 3D, mostramos el último elemento de, del último array 1D de cada array 2D\n",
        "a4[-2:, :, -1, -1]"
      ],
      "execution_count": 45,
      "outputs": [
        {
          "output_type": "execute_result",
          "data": {
            "text/plain": [
              "array([[16, 10],\n",
              "       [26, 20]])"
            ]
          },
          "metadata": {},
          "execution_count": 45
        }
      ]
    },
    {
      "cell_type": "markdown",
      "metadata": {
        "id": "kgleaaEIdurF"
      },
      "source": [
        "### Filtrando arrays\n",
        "\n",
        "Filtrar un array implica la selección de elementos de un array existente que satisfagan una condición y crear un nuevo array con dichos elementos.\n",
        "\n",
        "La sintaxis es muy similar al slicing, pero en vez de eso, entre corchetes indicamos una condición booleana. Los elementos que satisfagan la condición serán los que permanezcan, mientras que el resto serán omitidos.\n",
        "\n",
        "Visto de otro modo, la condición crea un array booleano. Aquellas posiciones ocupadas por un `True` serán las contenidas en el array filtrado, mientras que las que estén ocupadas por `False` (porque no satisfacen la condición), serán descartadas."
      ]
    },
    {
      "cell_type": "code",
      "metadata": {
        "colab": {
          "base_uri": "https://localhost:8080/"
        },
        "id": "-CCaCh4feKU6",
        "outputId": "565d8957-f4df-4248-b044-449f7a70c5c8"
      },
      "source": [
        "a = np.array([4, 3, 2, 3, 4])\n",
        "b = a[a == 4]\n",
        "print(b)"
      ],
      "execution_count": 46,
      "outputs": [
        {
          "output_type": "stream",
          "name": "stdout",
          "text": [
            "[4 4]\n"
          ]
        }
      ]
    },
    {
      "cell_type": "code",
      "metadata": {
        "colab": {
          "base_uri": "https://localhost:8080/"
        },
        "id": "W447Jf6JMRLJ",
        "outputId": "826ec134-7035-49d3-e8db-be7c1dd85fe8"
      },
      "source": [
        "a == 4"
      ],
      "execution_count": 47,
      "outputs": [
        {
          "output_type": "execute_result",
          "data": {
            "text/plain": [
              "array([ True, False, False, False,  True])"
            ]
          },
          "metadata": {},
          "execution_count": 47
        }
      ]
    },
    {
      "cell_type": "code",
      "metadata": {
        "colab": {
          "base_uri": "https://localhost:8080/"
        },
        "id": "t79OKWxXe1nC",
        "outputId": "44a977f1-27d9-459d-ebdb-ddff152630d9"
      },
      "source": [
        "c = a[a % 2 == 0]\n",
        "print(c)"
      ],
      "execution_count": 48,
      "outputs": [
        {
          "output_type": "stream",
          "name": "stdout",
          "text": [
            "[4 2 4]\n"
          ]
        }
      ]
    },
    {
      "cell_type": "code",
      "metadata": {
        "colab": {
          "base_uri": "https://localhost:8080/"
        },
        "id": "d6G0E1DCe9Jn",
        "outputId": "e1c365dc-ccb9-48fa-9f34-f2ffc615d505"
      },
      "source": [
        "d = a[a <= 2]\n",
        "print(d)"
      ],
      "execution_count": 49,
      "outputs": [
        {
          "output_type": "stream",
          "name": "stdout",
          "text": [
            "[2]\n"
          ]
        }
      ]
    },
    {
      "cell_type": "code",
      "metadata": {
        "colab": {
          "base_uri": "https://localhost:8080/"
        },
        "id": "U3oy5v6KM4Pm",
        "outputId": "a6921cbb-2989-46e8-9248-92cbfdaec003"
      },
      "source": [
        "d5[d5 % 2 == 0]"
      ],
      "execution_count": 50,
      "outputs": [
        {
          "output_type": "execute_result",
          "data": {
            "text/plain": [
              "array([-10,  -8,  -6,  -4,  -2,   2,   4,   6,   8,  10])"
            ]
          },
          "metadata": {},
          "execution_count": 50
        }
      ]
    },
    {
      "cell_type": "markdown",
      "metadata": {
        "id": "3QN-lijfHmdX"
      },
      "source": [
        "### Tipos de datos en `numpy`"
      ]
    },
    {
      "cell_type": "markdown",
      "metadata": {
        "id": "iyyGw2ayArZM"
      },
      "source": [
        "Por defecto, `Python` tiene los siguientes tipos de dato:\n",
        "\n",
        "* `int`: integer\n",
        "* `float`: float\n",
        "* `complex`: complex float\n",
        "* `bool`: boolean\n",
        "* `str`: string\n",
        "\n",
        "En `numpy` encontramos tipos de datos adicicionales\n",
        "\n",
        "* `i`: integer\n",
        "* `u`: unsigned integer \n",
        "* `f`: float\n",
        "* `c`: complex float\n",
        "* `b`: boolean\n",
        "* `m`: timedelta\n",
        "* `M`: datetime\n",
        "* `O`: object\n",
        "* `S`: string\n",
        "* `U`: unicode string\n",
        "* `V`: void"
      ]
    },
    {
      "cell_type": "markdown",
      "metadata": {
        "id": "RU1O95ghGtct"
      },
      "source": [
        "Para comprobar el tipo de dato de un array, usamos el método `.dtype`"
      ]
    },
    {
      "cell_type": "code",
      "metadata": {
        "colab": {
          "base_uri": "https://localhost:8080/"
        },
        "id": "MNWMdC_oAqmP",
        "outputId": "e7cbc0b5-d2c4-416c-db23-db03a8e9eae2"
      },
      "source": [
        "a = np.array([1, 2, 3])\n",
        "print(a)\n",
        "a.dtype"
      ],
      "execution_count": 51,
      "outputs": [
        {
          "output_type": "stream",
          "name": "stdout",
          "text": [
            "[1 2 3]\n"
          ]
        },
        {
          "output_type": "execute_result",
          "data": {
            "text/plain": [
              "dtype('int64')"
            ]
          },
          "metadata": {},
          "execution_count": 51
        }
      ]
    },
    {
      "cell_type": "markdown",
      "metadata": {
        "id": "UcLg6cKLHF-q"
      },
      "source": [
        "**Observación.** Como podéis ver, no solo se muestra el tipo de dato, sino también el tamaño"
      ]
    },
    {
      "cell_type": "code",
      "metadata": {
        "colab": {
          "base_uri": "https://localhost:8080/"
        },
        "id": "tVu15CACG4W7",
        "outputId": "4d39b0cf-b500-4955-96bc-8155d85ecf90"
      },
      "source": [
        "a = np.array([1.5, 2.4, 3.7])\n",
        "print(a)\n",
        "a.dtype"
      ],
      "execution_count": 52,
      "outputs": [
        {
          "output_type": "stream",
          "name": "stdout",
          "text": [
            "[1.5 2.4 3.7]\n"
          ]
        },
        {
          "output_type": "execute_result",
          "data": {
            "text/plain": [
              "dtype('float64')"
            ]
          },
          "metadata": {},
          "execution_count": 52
        }
      ]
    },
    {
      "cell_type": "code",
      "metadata": {
        "colab": {
          "base_uri": "https://localhost:8080/"
        },
        "id": "CZ1rBju5G86i",
        "outputId": "1bf81806-9467-4a6e-823d-d872f4d93c74"
      },
      "source": [
        "a = np.array([1j, 2 + 3j, 3 - 7j])\n",
        "print(a)\n",
        "a.dtype"
      ],
      "execution_count": 53,
      "outputs": [
        {
          "output_type": "stream",
          "name": "stdout",
          "text": [
            "[0.+1.j 2.+3.j 3.-7.j]\n"
          ]
        },
        {
          "output_type": "execute_result",
          "data": {
            "text/plain": [
              "dtype('complex128')"
            ]
          },
          "metadata": {},
          "execution_count": 53
        }
      ]
    },
    {
      "cell_type": "code",
      "metadata": {
        "colab": {
          "base_uri": "https://localhost:8080/"
        },
        "id": "6MyrRAYQHT95",
        "outputId": "64dd3996-6579-4981-f7f6-59d24e52978e"
      },
      "source": [
        "a = np.array([\"araña\", \"barco\", \"colonia\"])\n",
        "print(a)\n",
        "a.dtype"
      ],
      "execution_count": 54,
      "outputs": [
        {
          "output_type": "stream",
          "name": "stdout",
          "text": [
            "['araña' 'barco' 'colonia']\n"
          ]
        },
        {
          "output_type": "execute_result",
          "data": {
            "text/plain": [
              "dtype('<U7')"
            ]
          },
          "metadata": {},
          "execution_count": 54
        }
      ]
    },
    {
      "cell_type": "code",
      "metadata": {
        "colab": {
          "base_uri": "https://localhost:8080/"
        },
        "id": "j1AjoQfhHMmL",
        "outputId": "9c7e163e-51af-4085-c634-097887a1cc0a"
      },
      "source": [
        "a = np.array([\"a\", \"b\", \"c\"])\n",
        "print(a)\n",
        "a.dtype"
      ],
      "execution_count": 55,
      "outputs": [
        {
          "output_type": "stream",
          "name": "stdout",
          "text": [
            "['a' 'b' 'c']\n"
          ]
        },
        {
          "output_type": "execute_result",
          "data": {
            "text/plain": [
              "dtype('<U1')"
            ]
          },
          "metadata": {},
          "execution_count": 55
        }
      ]
    },
    {
      "cell_type": "markdown",
      "metadata": {
        "id": "PwtzzQkHHh7h"
      },
      "source": [
        "Al usar el método `.array()`, existe un parámetro `dtype` que nos permite definir el tipo de dato que queremos que tengan los elementos de dicho ndarray"
      ]
    },
    {
      "cell_type": "code",
      "metadata": {
        "colab": {
          "base_uri": "https://localhost:8080/"
        },
        "id": "QJ9dBMTPHslL",
        "outputId": "b3091181-48d7-4034-f8ec-0426b3e412bd"
      },
      "source": [
        "a = np.array([1, 2, 3, 4, 5], dtype = \"S\")\n",
        "print(a)\n",
        "a.dtype"
      ],
      "execution_count": 56,
      "outputs": [
        {
          "output_type": "stream",
          "name": "stdout",
          "text": [
            "[b'1' b'2' b'3' b'4' b'5']\n"
          ]
        },
        {
          "output_type": "execute_result",
          "data": {
            "text/plain": [
              "dtype('S1')"
            ]
          },
          "metadata": {},
          "execution_count": 56
        }
      ]
    },
    {
      "cell_type": "markdown",
      "metadata": {
        "id": "u3_5PpXZH5Pr"
      },
      "source": [
        "**Observación.** Para el caso de los tipos de dato `i`, `u`, `f`, `S` y `U`, con el parámetro `dtype` también podemos definir el tamaño"
      ]
    },
    {
      "cell_type": "code",
      "metadata": {
        "colab": {
          "base_uri": "https://localhost:8080/"
        },
        "id": "8EEJ0rYkIZqK",
        "outputId": "dc51aa1b-789c-4f31-dc2d-5840000758d9"
      },
      "source": [
        "a = np.array([1, 2, 3, 4, 5], dtype = \"i1\")\n",
        "print(a)\n",
        "a.dtype"
      ],
      "execution_count": 57,
      "outputs": [
        {
          "output_type": "stream",
          "name": "stdout",
          "text": [
            "[1 2 3 4 5]\n"
          ]
        },
        {
          "output_type": "execute_result",
          "data": {
            "text/plain": [
              "dtype('int8')"
            ]
          },
          "metadata": {},
          "execution_count": 57
        }
      ]
    },
    {
      "cell_type": "code",
      "metadata": {
        "colab": {
          "base_uri": "https://localhost:8080/"
        },
        "id": "79SOgnOrH4RG",
        "outputId": "b6012374-9f66-4256-b76e-1363aa21f4e8"
      },
      "source": [
        "a = np.array([1, 2, 3, 4, 5], dtype = \"i2\")\n",
        "print(a)\n",
        "a.dtype"
      ],
      "execution_count": 58,
      "outputs": [
        {
          "output_type": "stream",
          "name": "stdout",
          "text": [
            "[1 2 3 4 5]\n"
          ]
        },
        {
          "output_type": "execute_result",
          "data": {
            "text/plain": [
              "dtype('int16')"
            ]
          },
          "metadata": {},
          "execution_count": 58
        }
      ]
    },
    {
      "cell_type": "code",
      "metadata": {
        "colab": {
          "base_uri": "https://localhost:8080/"
        },
        "id": "vHcMErNmIqKt",
        "outputId": "53ec4f8a-96c7-43a8-e607-edc5b821a2fd"
      },
      "source": [
        "a = np.array([1, 2, 3, 4, 5], dtype = \"f8\")\n",
        "print(a)\n",
        "a.dtype"
      ],
      "execution_count": 59,
      "outputs": [
        {
          "output_type": "stream",
          "name": "stdout",
          "text": [
            "[1. 2. 3. 4. 5.]\n"
          ]
        },
        {
          "output_type": "execute_result",
          "data": {
            "text/plain": [
              "dtype('float64')"
            ]
          },
          "metadata": {},
          "execution_count": 59
        }
      ]
    },
    {
      "cell_type": "code",
      "metadata": {
        "colab": {
          "base_uri": "https://localhost:8080/"
        },
        "id": "oy-Lkf7eI77C",
        "outputId": "3af45ec9-84e0-4393-b21c-676754ecfac2"
      },
      "source": [
        "a = np.array([1, 2, 3, 4, 5], dtype = \"c16\")\n",
        "print(a)\n",
        "a.dtype"
      ],
      "execution_count": 60,
      "outputs": [
        {
          "output_type": "stream",
          "name": "stdout",
          "text": [
            "[1.+0.j 2.+0.j 3.+0.j 4.+0.j 5.+0.j]\n"
          ]
        },
        {
          "output_type": "execute_result",
          "data": {
            "text/plain": [
              "dtype('complex128')"
            ]
          },
          "metadata": {},
          "execution_count": 60
        }
      ]
    },
    {
      "cell_type": "code",
      "metadata": {
        "id": "HwIUek2IIGaZ",
        "colab": {
          "base_uri": "https://localhost:8080/"
        },
        "outputId": "a80aba81-2a20-4f21-fe36-8c2c7f2a23b6"
      },
      "source": [
        "a = np.array([1, 2, 3, 4, 5], dtype = \"S2\")\n",
        "print(a)\n",
        "a.dtype"
      ],
      "execution_count": 61,
      "outputs": [
        {
          "output_type": "stream",
          "name": "stdout",
          "text": [
            "[b'1' b'2' b'3' b'4' b'5']\n"
          ]
        },
        {
          "output_type": "execute_result",
          "data": {
            "text/plain": [
              "dtype('S2')"
            ]
          },
          "metadata": {},
          "execution_count": 61
        }
      ]
    },
    {
      "cell_type": "markdown",
      "metadata": {
        "id": "ABTFETRJJHFU"
      },
      "source": [
        "Si queremos cambiar el tipo de dato de un array existente, usamos el método `.astype()`"
      ]
    },
    {
      "cell_type": "code",
      "metadata": {
        "colab": {
          "base_uri": "https://localhost:8080/"
        },
        "id": "JosJT5zZJLfn",
        "outputId": "654529a8-a102-4f4c-d017-811bdfe968a5"
      },
      "source": [
        "a = np.array([1, 2, 3, 4, 5], dtype = \"f16\")\n",
        "print(\"El array a es de tipo\", a.dtype)\n",
        "b = a.astype(\"i\")\n",
        "print(\"El array b es de tipo\", b.dtype)"
      ],
      "execution_count": 62,
      "outputs": [
        {
          "output_type": "stream",
          "name": "stdout",
          "text": [
            "El array a es de tipo float128\n",
            "El array b es de tipo int32\n"
          ]
        }
      ]
    },
    {
      "cell_type": "code",
      "metadata": {
        "colab": {
          "base_uri": "https://localhost:8080/"
        },
        "id": "s-2GbK2IJ-P9",
        "outputId": "3f20a746-8d89-48b2-f63d-629e843fb955"
      },
      "source": [
        "a = np.array([1, 2, 3, 4, 5], dtype = \"f16\")\n",
        "print(\"El array a es de tipo\", a.dtype)\n",
        "b = a.astype(int)\n",
        "print(\"El array b es de tipo\", b.dtype)"
      ],
      "execution_count": 63,
      "outputs": [
        {
          "output_type": "stream",
          "name": "stdout",
          "text": [
            "El array a es de tipo float128\n",
            "El array b es de tipo int64\n"
          ]
        }
      ]
    },
    {
      "cell_type": "code",
      "metadata": {
        "colab": {
          "base_uri": "https://localhost:8080/"
        },
        "id": "VkiE3On1JnJo",
        "outputId": "a57d2039-3fe2-4223-a896-9b6e20a03c17"
      },
      "source": [
        "a = np.array([1, 0, 3, 0, 5, -10])\n",
        "print(a)\n",
        "print(\"El array a es de tipo\", a.dtype)\n",
        "b = a.astype(bool)\n",
        "print(b)\n",
        "print(\"El array b es de tipo\", b.dtype)"
      ],
      "execution_count": 64,
      "outputs": [
        {
          "output_type": "stream",
          "name": "stdout",
          "text": [
            "[  1   0   3   0   5 -10]\n",
            "El array a es de tipo int64\n",
            "[ True False  True False  True  True]\n",
            "El array b es de tipo bool\n"
          ]
        }
      ]
    },
    {
      "cell_type": "markdown",
      "metadata": {
        "id": "UJIMgKIYKH_e"
      },
      "source": [
        "### Copias y Views de arrays\n",
        "\n",
        "**Copia.** Una copia de un array crea un nuevo array exactamente igual al original.\n",
        "\n",
        "La copia no es afectada pos los cambios aplicados en el array original."
      ]
    },
    {
      "cell_type": "code",
      "metadata": {
        "colab": {
          "base_uri": "https://localhost:8080/"
        },
        "id": "VeHRNp2ZKR61",
        "outputId": "c4b455eb-ec97-4870-e85a-1ee9d6a7cfcf"
      },
      "source": [
        "x = np.array([\"a\", \"b\", \"c\"])\n",
        "print(x)\n",
        "x_copy = x.copy()\n",
        "print(x_copy)"
      ],
      "execution_count": 65,
      "outputs": [
        {
          "output_type": "stream",
          "name": "stdout",
          "text": [
            "['a' 'b' 'c']\n",
            "['a' 'b' 'c']\n"
          ]
        }
      ]
    },
    {
      "cell_type": "markdown",
      "metadata": {
        "id": "nJaD2jjTKswe"
      },
      "source": [
        "**View.** Una view de un array es una referencial al array original.\n",
        "\n",
        "Los cambios aplicados al array original afectan también a la view, y viceversa."
      ]
    },
    {
      "cell_type": "code",
      "metadata": {
        "colab": {
          "base_uri": "https://localhost:8080/"
        },
        "id": "yBPjtYamLDA2",
        "outputId": "bbfa945d-1c25-46d2-e307-d1806494267d"
      },
      "source": [
        "y = np.array([1, 2, 3])\n",
        "print(\"y =\", y)\n",
        "y_view = y.view()\n",
        "print(\"y_view =\", y_view)"
      ],
      "execution_count": 66,
      "outputs": [
        {
          "output_type": "stream",
          "name": "stdout",
          "text": [
            "y = [1 2 3]\n",
            "y_view = [1 2 3]\n"
          ]
        }
      ]
    },
    {
      "cell_type": "markdown",
      "metadata": {
        "id": "JSSmmGToLK-p"
      },
      "source": [
        "Si modificamos el original, veremos los cambios también aplicados en la view"
      ]
    },
    {
      "cell_type": "code",
      "metadata": {
        "colab": {
          "base_uri": "https://localhost:8080/"
        },
        "id": "FOWkumglLQCB",
        "outputId": "3bfc8cbd-825a-4e98-c3a7-376f53f39fa7"
      },
      "source": [
        "y[1] = 0\n",
        "print(\"y =\", y)\n",
        "print(\"y_view =\", y_view)"
      ],
      "execution_count": 67,
      "outputs": [
        {
          "output_type": "stream",
          "name": "stdout",
          "text": [
            "y = [1 0 3]\n",
            "y_view = [1 0 3]\n"
          ]
        }
      ]
    },
    {
      "cell_type": "markdown",
      "metadata": {
        "id": "q-fKsWK3LhVx"
      },
      "source": [
        "Si modificamos la view, veremos los cambios también aplicados en el array original"
      ]
    },
    {
      "cell_type": "code",
      "metadata": {
        "colab": {
          "base_uri": "https://localhost:8080/"
        },
        "id": "M0x6eMtaLlbO",
        "outputId": "881c547c-1dd7-4369-ffea-ae5c53841593"
      },
      "source": [
        "y_view[0] = -3\n",
        "print(\"y =\", y)\n",
        "print(\"y_view =\", y_view)"
      ],
      "execution_count": 68,
      "outputs": [
        {
          "output_type": "stream",
          "name": "stdout",
          "text": [
            "y = [-3  0  3]\n",
            "y_view = [-3  0  3]\n"
          ]
        }
      ]
    },
    {
      "cell_type": "markdown",
      "metadata": {
        "id": "qwQQHWKCLv6x"
      },
      "source": [
        "Para asegurarnos de si hemos hecho una copia o una view, podemos usar el método `.base`, que nos devolverá `None` si se trata de una copia y nos devolverá el array original si se trata de una view."
      ]
    },
    {
      "cell_type": "code",
      "metadata": {
        "colab": {
          "base_uri": "https://localhost:8080/"
        },
        "id": "hRHkja5-L6Mw",
        "outputId": "03f7901f-3970-47d2-df9e-012e2b33e056"
      },
      "source": [
        "z = np.array([1j, 0, -1j])\n",
        "z_copy = z.copy()\n",
        "z_view = z.view()\n",
        "\n",
        "print(\"z_copy nos devuelve\", z_copy.base, \"porque es una copia\")\n",
        "print(\"z_view nos devuelve\", z_view.base, \"porque es una view\")"
      ],
      "execution_count": 69,
      "outputs": [
        {
          "output_type": "stream",
          "name": "stdout",
          "text": [
            "z_copy nos devuelve None porque es una copia\n",
            "z_view nos devuelve [ 0.+1.j  0.+0.j -0.-1.j] porque es una view\n"
          ]
        }
      ]
    },
    {
      "cell_type": "markdown",
      "metadata": {
        "id": "bHGmjVXYZNqw"
      },
      "source": [
        "### Arrays y bucles\n",
        "\n",
        "Podemos iterar un array tal cual lo hacíamos con listas:"
      ]
    },
    {
      "cell_type": "markdown",
      "metadata": {
        "id": "_Bpp3rlLaVgE"
      },
      "source": [
        "#### Array 1D"
      ]
    },
    {
      "cell_type": "code",
      "metadata": {
        "colab": {
          "base_uri": "https://localhost:8080/"
        },
        "id": "i3Zy7nl0aBj9",
        "outputId": "1b8e4852-3dca-4889-891c-5b59e035e65e"
      },
      "source": [
        "d1 = np.array([\"a\", \"b\", \"c\"])\n",
        "\n",
        "for i in d1:\n",
        "  print(i)"
      ],
      "execution_count": 70,
      "outputs": [
        {
          "output_type": "stream",
          "name": "stdout",
          "text": [
            "a\n",
            "b\n",
            "c\n"
          ]
        }
      ]
    },
    {
      "cell_type": "markdown",
      "metadata": {
        "id": "vZc_vDLoaYab"
      },
      "source": [
        "#### Array 2D"
      ]
    },
    {
      "cell_type": "code",
      "metadata": {
        "id": "TciBStXdaaEh"
      },
      "source": [
        "d2 = np.array([[\"a\", \"b\", \"c\"], [1, 2, 3]])"
      ],
      "execution_count": 71,
      "outputs": []
    },
    {
      "cell_type": "code",
      "metadata": {
        "colab": {
          "base_uri": "https://localhost:8080/"
        },
        "id": "ZZzrgNhHa92Z",
        "outputId": "16fd259d-eb90-4df3-8bd6-d53d8f82107a"
      },
      "source": [
        "# Imprimimos los elementos del array 2D\n",
        "for d1 in d2:\n",
        "  print(d1)"
      ],
      "execution_count": 72,
      "outputs": [
        {
          "output_type": "stream",
          "name": "stdout",
          "text": [
            "['a' 'b' 'c']\n",
            "['1' '2' '3']\n"
          ]
        }
      ]
    },
    {
      "cell_type": "code",
      "metadata": {
        "colab": {
          "base_uri": "https://localhost:8080/"
        },
        "id": "Da4Gcojdag6s",
        "outputId": "58d5fd26-73fe-4ac6-9c8d-75eddd0f6e12"
      },
      "source": [
        "# Imprimimos los elementos de los arrays 1D\n",
        "for d1 in d2:\n",
        "  for i in d1:\n",
        "    print(i)"
      ],
      "execution_count": 73,
      "outputs": [
        {
          "output_type": "stream",
          "name": "stdout",
          "text": [
            "a\n",
            "b\n",
            "c\n",
            "1\n",
            "2\n",
            "3\n"
          ]
        }
      ]
    },
    {
      "cell_type": "markdown",
      "metadata": {
        "id": "KAQOhCAIauCH"
      },
      "source": [
        "#### Array 3D"
      ]
    },
    {
      "cell_type": "code",
      "metadata": {
        "colab": {
          "base_uri": "https://localhost:8080/"
        },
        "id": "4v1l9dVXaxjr",
        "outputId": "2a37c921-2758-4803-9856-1763cbb97658"
      },
      "source": [
        "d3 = np.array([[[\"a\", \"b\", \"c\", \"d\"], [\"e\", \"f\", \"g\", \"h\"]], [[1, 2, 3, 4], [5, 6, 7, 8]]])\n",
        "d3.dtype"
      ],
      "execution_count": 74,
      "outputs": [
        {
          "output_type": "execute_result",
          "data": {
            "text/plain": [
              "dtype('<U21')"
            ]
          },
          "metadata": {},
          "execution_count": 74
        }
      ]
    },
    {
      "cell_type": "code",
      "metadata": {
        "colab": {
          "base_uri": "https://localhost:8080/"
        },
        "id": "YbRGbkQsbPUC",
        "outputId": "5ccfead1-a614-482d-c307-8e98041c1044"
      },
      "source": [
        "# Imprimimos los elementos del array 3D\n",
        "for d2 in d3:\n",
        "  print(d2)"
      ],
      "execution_count": 75,
      "outputs": [
        {
          "output_type": "stream",
          "name": "stdout",
          "text": [
            "[['a' 'b' 'c' 'd']\n",
            " ['e' 'f' 'g' 'h']]\n",
            "[['1' '2' '3' '4']\n",
            " ['5' '6' '7' '8']]\n"
          ]
        }
      ]
    },
    {
      "cell_type": "code",
      "metadata": {
        "colab": {
          "base_uri": "https://localhost:8080/"
        },
        "id": "uLpUwyrIbWqt",
        "outputId": "81c7bfc0-0502-44b3-f719-f5155d522f80"
      },
      "source": [
        "# Imprimimos los elementos de los arrays 2D\n",
        "for d2 in d3:\n",
        "  for d1 in d2:\n",
        "    print(d1)"
      ],
      "execution_count": 76,
      "outputs": [
        {
          "output_type": "stream",
          "name": "stdout",
          "text": [
            "['a' 'b' 'c' 'd']\n",
            "['e' 'f' 'g' 'h']\n",
            "['1' '2' '3' '4']\n",
            "['5' '6' '7' '8']\n"
          ]
        }
      ]
    },
    {
      "cell_type": "code",
      "metadata": {
        "colab": {
          "base_uri": "https://localhost:8080/"
        },
        "id": "Yao3BMyKbeTP",
        "outputId": "e1ca7fc8-96e6-4b23-e024-99a7d7c523b6"
      },
      "source": [
        "# Imprimimos los elementos de los arrays 1D\n",
        "for d2 in d3:\n",
        "  for d1 in d2:\n",
        "    for i in d1:\n",
        "      print(i)"
      ],
      "execution_count": 77,
      "outputs": [
        {
          "output_type": "stream",
          "name": "stdout",
          "text": [
            "a\n",
            "b\n",
            "c\n",
            "d\n",
            "e\n",
            "f\n",
            "g\n",
            "h\n",
            "1\n",
            "2\n",
            "3\n",
            "4\n",
            "5\n",
            "6\n",
            "7\n",
            "8\n"
          ]
        }
      ]
    },
    {
      "cell_type": "markdown",
      "metadata": {
        "id": "M7n3UfDobqwJ"
      },
      "source": [
        "Como vemos, cada vez que aumentamos la dimensión del array, hay que anidar bucles `for` para imprimir cada uno de los elementos de los arrays 1D.\n",
        "\n",
        "Como alternativa podríamos hacer un reshape del array multidimensional a un array unidimensional, pero dado un array con dimensión suficientemente grande, este proceso sería computacionalmente muy costoso:"
      ]
    },
    {
      "cell_type": "code",
      "metadata": {
        "colab": {
          "base_uri": "https://localhost:8080/"
        },
        "id": "15CPBbNtcWhh",
        "outputId": "7b7e4944-0182-47f5-f3c9-20fa3e5e9c7e"
      },
      "source": [
        "for i in d3.reshape(-1):\n",
        "  print(i)"
      ],
      "execution_count": 78,
      "outputs": [
        {
          "output_type": "stream",
          "name": "stdout",
          "text": [
            "a\n",
            "b\n",
            "c\n",
            "d\n",
            "e\n",
            "f\n",
            "g\n",
            "h\n",
            "1\n",
            "2\n",
            "3\n",
            "4\n",
            "5\n",
            "6\n",
            "7\n",
            "8\n"
          ]
        }
      ]
    },
    {
      "cell_type": "markdown",
      "metadata": {
        "id": "i75xJF3scww9"
      },
      "source": [
        "#### El método `.nditer()`"
      ]
    },
    {
      "cell_type": "markdown",
      "metadata": {
        "id": "gBt75f7_caWa"
      },
      "source": [
        "Para evitarnos tantas líneas de código y tanto coste computacional, tenemos el método `.nditer()`, que nos crea un iterable el cual nos permite imprimir todos los elementos de los arrays 1D, tal cuál hemos estado obteniendo hasta ahora:"
      ]
    },
    {
      "cell_type": "code",
      "metadata": {
        "colab": {
          "base_uri": "https://localhost:8080/"
        },
        "id": "LAmM9rLFb-zH",
        "outputId": "243317c4-9f50-4c8d-8a4d-991c14a1d7c8"
      },
      "source": [
        "for i in np.nditer(d3):\n",
        "  print(i)"
      ],
      "execution_count": 79,
      "outputs": [
        {
          "output_type": "stream",
          "name": "stdout",
          "text": [
            "a\n",
            "b\n",
            "c\n",
            "d\n",
            "e\n",
            "f\n",
            "g\n",
            "h\n",
            "1\n",
            "2\n",
            "3\n",
            "4\n",
            "5\n",
            "6\n",
            "7\n",
            "8\n"
          ]
        }
      ]
    },
    {
      "cell_type": "markdown",
      "metadata": {
        "id": "SneVrau9c27w"
      },
      "source": [
        "El método `.nditer()` también nos permite cambiar el tipo de dato de los elementos de un array durante la iteración mediante el parámetro `op_dtypes`.\n",
        "\n",
        "`numpy` no ambia el tipo de dato de los elementos de un array en el sitio, de modo qu enecesita algún otro espacio para llevar a cabo esta acción. Este espacio extra es llamado **buffer** y se lo proporcionamos al método `.nditer()` con el argumento `flags = [\"buffered\"]`"
      ]
    },
    {
      "cell_type": "code",
      "metadata": {
        "colab": {
          "base_uri": "https://localhost:8080/"
        },
        "id": "pBU4M5W0dbHG",
        "outputId": "0301859a-26f2-40c0-fa6e-0ad06b02e419"
      },
      "source": [
        "d2 = np.array([[1, 2], [3, 4], [5, 6]])\n",
        "for i in np.nditer(d2, flags = [\"buffered\"], op_dtypes = [\"S\"]):\n",
        "  print(i)"
      ],
      "execution_count": 80,
      "outputs": [
        {
          "output_type": "stream",
          "name": "stdout",
          "text": [
            "b'1'\n",
            "b'2'\n",
            "b'3'\n",
            "b'4'\n",
            "b'5'\n",
            "b'6'\n"
          ]
        }
      ]
    },
    {
      "cell_type": "markdown",
      "metadata": {
        "id": "Qb7wgD_6dzvU"
      },
      "source": [
        "El método `.nditer()` también nos permite iterar con distinto paso (de 1 en 1, de 2 en 2, ...)"
      ]
    },
    {
      "cell_type": "code",
      "metadata": {
        "colab": {
          "base_uri": "https://localhost:8080/"
        },
        "id": "GnGPzC5qeLZa",
        "outputId": "b6bff74d-a860-4b76-82dd-36e00a95aeac"
      },
      "source": [
        "d2 = np.array([[1, 2], [3, 4], [5, 6]])\n",
        "for i in np.nditer(d2[:, ::2]):\n",
        "  print(i)"
      ],
      "execution_count": 81,
      "outputs": [
        {
          "output_type": "stream",
          "name": "stdout",
          "text": [
            "1\n",
            "3\n",
            "5\n"
          ]
        }
      ]
    },
    {
      "cell_type": "markdown",
      "metadata": {
        "id": "cJnDPVe8eaIr"
      },
      "source": [
        "#### El método `.ndenumerate()`\n",
        "\n",
        "A veces necesitamos el índice correspondiente al elemento durante la iteración. El método `.ndenumerate()` nos proporciona dicha información.\n",
        "\n"
      ]
    },
    {
      "cell_type": "code",
      "metadata": {
        "colab": {
          "base_uri": "https://localhost:8080/"
        },
        "id": "Daqw8nl2fEtI",
        "outputId": "40c39d33-bc22-47ea-b07e-a0f5f7d85e19"
      },
      "source": [
        "d1 = np.array([\"a\", \"b\", \"c\"])\n",
        "\n",
        "for idx, i in np.ndenumerate(d1):\n",
        "  print(\"Índice:\", idx,\"Elemento:\", i)"
      ],
      "execution_count": 82,
      "outputs": [
        {
          "output_type": "stream",
          "name": "stdout",
          "text": [
            "Índice: (0,) Elemento: a\n",
            "Índice: (1,) Elemento: b\n",
            "Índice: (2,) Elemento: c\n"
          ]
        }
      ]
    },
    {
      "cell_type": "code",
      "metadata": {
        "colab": {
          "base_uri": "https://localhost:8080/"
        },
        "id": "1f_KlfYqexo8",
        "outputId": "1c17e80e-4b67-4253-d5fb-99c7653325a9"
      },
      "source": [
        "d2 = np.array([[1, 2], [3, 4], [5, 6]])\n",
        "\n",
        "for idx, i in np.ndenumerate(d2):\n",
        "  print(\"Índice:\", idx,\"Elemento:\", i)"
      ],
      "execution_count": 83,
      "outputs": [
        {
          "output_type": "stream",
          "name": "stdout",
          "text": [
            "Índice: (0, 0) Elemento: 1\n",
            "Índice: (0, 1) Elemento: 2\n",
            "Índice: (1, 0) Elemento: 3\n",
            "Índice: (1, 1) Elemento: 4\n",
            "Índice: (2, 0) Elemento: 5\n",
            "Índice: (2, 1) Elemento: 6\n"
          ]
        }
      ]
    },
    {
      "cell_type": "code",
      "metadata": {
        "colab": {
          "base_uri": "https://localhost:8080/"
        },
        "id": "sqRgpIpYfFav",
        "outputId": "8a8bfdcd-6db4-4fa9-b8d7-5b5e6542b088"
      },
      "source": [
        "d3 = np.array([[[\"a\", \"b\", \"c\", \"d\"], [\"e\", \"f\", \"g\", \"h\"]], [[1, 2, 3, 4], [5, 6, 7, 8]]])\n",
        "\n",
        "for idx, i in np.ndenumerate(d3):\n",
        "  print(\"Índice:\", idx,\"Elemento:\", i)"
      ],
      "execution_count": 84,
      "outputs": [
        {
          "output_type": "stream",
          "name": "stdout",
          "text": [
            "Índice: (0, 0, 0) Elemento: a\n",
            "Índice: (0, 0, 1) Elemento: b\n",
            "Índice: (0, 0, 2) Elemento: c\n",
            "Índice: (0, 0, 3) Elemento: d\n",
            "Índice: (0, 1, 0) Elemento: e\n",
            "Índice: (0, 1, 1) Elemento: f\n",
            "Índice: (0, 1, 2) Elemento: g\n",
            "Índice: (0, 1, 3) Elemento: h\n",
            "Índice: (1, 0, 0) Elemento: 1\n",
            "Índice: (1, 0, 1) Elemento: 2\n",
            "Índice: (1, 0, 2) Elemento: 3\n",
            "Índice: (1, 0, 3) Elemento: 4\n",
            "Índice: (1, 1, 0) Elemento: 5\n",
            "Índice: (1, 1, 1) Elemento: 6\n",
            "Índice: (1, 1, 2) Elemento: 7\n",
            "Índice: (1, 1, 3) Elemento: 8\n"
          ]
        }
      ]
    },
    {
      "cell_type": "markdown",
      "metadata": {
        "id": "AkafJcV-juN0"
      },
      "source": [
        "### Concatenación de arrays"
      ]
    },
    {
      "cell_type": "markdown",
      "metadata": {
        "id": "zFsWd91SzQ3Z"
      },
      "source": [
        "Para concatenar arrays, es decir, juntar dos o más arrays en un único array, usamos el método `.concatenate()`"
      ]
    },
    {
      "cell_type": "code",
      "metadata": {
        "colab": {
          "base_uri": "https://localhost:8080/"
        },
        "id": "EkrUswDbzaCy",
        "outputId": "7aba4072-e4c8-4918-ec07-74bbd9bf7291"
      },
      "source": [
        "# Conatenamos arrays 1D\n",
        "a1 = np.array([-3, -2, -1])\n",
        "a2 = np.array([1, 2, 3])\n",
        "a = np.concatenate((a1, a2))\n",
        "print(a)"
      ],
      "execution_count": 85,
      "outputs": [
        {
          "output_type": "stream",
          "name": "stdout",
          "text": [
            "[-3 -2 -1  1  2  3]\n"
          ]
        }
      ]
    },
    {
      "cell_type": "code",
      "metadata": {
        "colab": {
          "base_uri": "https://localhost:8080/"
        },
        "id": "Ka_kv89uz1RI",
        "outputId": "b213d3f0-f210-4ec2-8cae-d471ca4277a1"
      },
      "source": [
        "# Concatenamos arrays 2D\n",
        "b1 = np.array([[-6, -5], [-4, -3], [-2, -1]])\n",
        "b2 = np.array([[1, 2], [3, 4], [5, 6]])\n",
        "\n",
        "# Con axis = 0\n",
        "b = np.concatenate((b1, b2), axis = 0)\n",
        "print(\"axis = 0 nos devuelve\\n\", b)\n",
        "\n",
        "# Con axis = 1\n",
        "b = np.concatenate((b1, b2), axis = 1)\n",
        "print(\"\\naxis = 1 nos devuelve\\n\", b)"
      ],
      "execution_count": 86,
      "outputs": [
        {
          "output_type": "stream",
          "name": "stdout",
          "text": [
            "axis = 0 nos devuelve\n",
            " [[-6 -5]\n",
            " [-4 -3]\n",
            " [-2 -1]\n",
            " [ 1  2]\n",
            " [ 3  4]\n",
            " [ 5  6]]\n",
            "\n",
            "axis = 1 nos devuelve\n",
            " [[-6 -5  1  2]\n",
            " [-4 -3  3  4]\n",
            " [-2 -1  5  6]]\n"
          ]
        }
      ]
    },
    {
      "cell_type": "markdown",
      "metadata": {
        "id": "_da1ID4V0MDX"
      },
      "source": [
        "**Observación.** En este caso, nos funcionan ambas configuraciones del valor `axis` pues los dos arrays 2D, `b1` y `b2` tienen tanto el mismo número de arrays 1D como el mismo número de elementos dentro de cada array 1D. \n",
        "\n",
        "Si indicamos `axis = 0`, se nos combinan ambos arrays 2D en un solo array 2D. En este caso es necesario que todos los arrays 1D tengan el mismo número de elementos. \n",
        "\n",
        "Sin embargo, si seleccionamos `axis = 1`, entonces obtenemos como resultado un array 2D con cada uno de los arrays 1D concatenados. En este caso necesitamos que en ambos arrays 2D haya el mismo número de arrays 1D."
      ]
    },
    {
      "cell_type": "code",
      "metadata": {
        "colab": {
          "base_uri": "https://localhost:8080/"
        },
        "id": "rYlZJpb617_m",
        "outputId": "77ec11d8-666c-4cff-e317-062501260d50"
      },
      "source": [
        "# Concatenamos arrays 3D\n",
        "c1 = np.array([[[-10, -9], [-8, -7], [-6, -5]], [[-4, -3], [-2, -1], [0, 0]]])\n",
        "c2 = np.array([[[0, 0], [1, 2], [3, 4]], [[5, 6], [7, 8], [9, 10]]])\n",
        "\n",
        "# Con axis = 0\n",
        "c = np.concatenate((c1, c2), axis = 0)\n",
        "print(\"axis = 0 nos devuelve\\n\", c)\n",
        "\n",
        "# Con axis = 1\n",
        "c = np.concatenate((c1, c2), axis = 1)\n",
        "print(\"\\naxis = 1 nos devuelve\\n\", c)\n",
        "\n",
        "# Con axis = 2\n",
        "c = np.concatenate((c1, c2), axis = 2)\n",
        "print(\"\\naxis = 2 nos devuelve\\n\", c)"
      ],
      "execution_count": 87,
      "outputs": [
        {
          "output_type": "stream",
          "name": "stdout",
          "text": [
            "axis = 0 nos devuelve\n",
            " [[[-10  -9]\n",
            "  [ -8  -7]\n",
            "  [ -6  -5]]\n",
            "\n",
            " [[ -4  -3]\n",
            "  [ -2  -1]\n",
            "  [  0   0]]\n",
            "\n",
            " [[  0   0]\n",
            "  [  1   2]\n",
            "  [  3   4]]\n",
            "\n",
            " [[  5   6]\n",
            "  [  7   8]\n",
            "  [  9  10]]]\n",
            "\n",
            "axis = 1 nos devuelve\n",
            " [[[-10  -9]\n",
            "  [ -8  -7]\n",
            "  [ -6  -5]\n",
            "  [  0   0]\n",
            "  [  1   2]\n",
            "  [  3   4]]\n",
            "\n",
            " [[ -4  -3]\n",
            "  [ -2  -1]\n",
            "  [  0   0]\n",
            "  [  5   6]\n",
            "  [  7   8]\n",
            "  [  9  10]]]\n",
            "\n",
            "axis = 2 nos devuelve\n",
            " [[[-10  -9   0   0]\n",
            "  [ -8  -7   1   2]\n",
            "  [ -6  -5   3   4]]\n",
            "\n",
            " [[ -4  -3   5   6]\n",
            "  [ -2  -1   7   8]\n",
            "  [  0   0   9  10]]]\n"
          ]
        }
      ]
    },
    {
      "cell_type": "markdown",
      "metadata": {
        "id": "akULHV-z2j8t"
      },
      "source": [
        "**Observación.** En este caso, nos vuelven a funcionar todas las configuraciones del valor `axis` pues los dos arrays 3D, `c1` y `c2` tienen tanto el mismo número de arrays 2D, como el mismo número de arrays 1D en cada array 2D, como el mismo número de elementos dentro de cada array 1D. \n",
        "\n",
        "Si indicamos `axis = 0`, se nos combinan ambos arrays 3D en un solo array 3D. Por su parte, si seleccionamos `axis = 1`, entonces obtenemos como resultado un array 3D con cada uno de los arrays 2D concatenados. Por último, si indicamos `axis = 2`, obtendremos un array 3D donde los arrays 1D han sido concatenados.\n",
        "\n",
        "**Observación.** Si queremos concatenar arrays $n$-dimensionales, tendremos $n-1$ opciones para el parámetro `axis`."
      ]
    },
    {
      "cell_type": "markdown",
      "metadata": {
        "id": "l_ftGdLG3r2K"
      },
      "source": [
        "#### Concatenación de arrays usando `.stack()`\n",
        "\n",
        "Llevar a cabo un stack es lo mismo que concatenar, solo que el stack se hace sobre un eje nuevo.\n",
        "\n",
        "Por ejemplo, podemos concatenar dos arrays unidimensionales sobre un segundo eje, lo que resultaría en poner un array sobre el otro: realizar un stack."
      ]
    },
    {
      "cell_type": "code",
      "metadata": {
        "id": "vFXxfsxk5b-B"
      },
      "source": [
        "a1 = np.array([-3, -2, -1])\n",
        "a2 = np.array([1, 2, 3])"
      ],
      "execution_count": 88,
      "outputs": []
    },
    {
      "cell_type": "code",
      "metadata": {
        "colab": {
          "base_uri": "https://localhost:8080/"
        },
        "id": "doplusNL4qaj",
        "outputId": "cf236cb8-4dce-40fb-cdaa-289c8519c18e"
      },
      "source": [
        "# Hacemos stack de arrays 1D con axis = 0\n",
        "a = np.stack((a1, a2), axis = 0)\n",
        "print(a)"
      ],
      "execution_count": 89,
      "outputs": [
        {
          "output_type": "stream",
          "name": "stdout",
          "text": [
            "[[-3 -2 -1]\n",
            " [ 1  2  3]]\n"
          ]
        }
      ]
    },
    {
      "cell_type": "code",
      "metadata": {
        "colab": {
          "base_uri": "https://localhost:8080/"
        },
        "id": "nzqhccb-4REQ",
        "outputId": "f257a588-f8f6-4673-e1a8-a4d84a41d3a1"
      },
      "source": [
        "# Hacemos stack de arrays 1D con axis = 1\n",
        "a = np.stack((a1, a2), axis = 1)\n",
        "print(a)"
      ],
      "execution_count": 90,
      "outputs": [
        {
          "output_type": "stream",
          "name": "stdout",
          "text": [
            "[[-3  1]\n",
            " [-2  2]\n",
            " [-1  3]]\n"
          ]
        }
      ]
    },
    {
      "cell_type": "markdown",
      "metadata": {
        "id": "03OMDf424aaU"
      },
      "source": [
        "**Observación.** Al hacer stack de los arrays 1D, habiendo seleccionado `axis = 0`, obtenemos como resultado un array 2D con los dos arrays 1D originales. Sin embargo, si elegimos `axis = 1`, obtenemos nuevamente un array 2D, pero éste consta de 3 elementos 1D (en este ejemplo en concreto), cada cual con 2 elementos (el primero se corresponde con un elemento del array original `a1`, mientras que el segundo, con un elemento del array `a2`)"
      ]
    },
    {
      "cell_type": "code",
      "metadata": {
        "id": "b3UrcKOy5gj5"
      },
      "source": [
        "b1 = np.array([[-6, -5], [-4, -3], [-2, -1]])\n",
        "b2 = np.array([[1, 2], [3, 4], [5, 6]])"
      ],
      "execution_count": 91,
      "outputs": []
    },
    {
      "cell_type": "code",
      "metadata": {
        "colab": {
          "base_uri": "https://localhost:8080/"
        },
        "id": "-PQSX_6S5YAr",
        "outputId": "a857114e-281c-4792-a2b2-b55c2218bda3"
      },
      "source": [
        "# Hacemos stack de arrays 2D con axis = 0\n",
        "b = np.stack((b1, b2), axis = 0)\n",
        "print(b)"
      ],
      "execution_count": 92,
      "outputs": [
        {
          "output_type": "stream",
          "name": "stdout",
          "text": [
            "[[[-6 -5]\n",
            "  [-4 -3]\n",
            "  [-2 -1]]\n",
            "\n",
            " [[ 1  2]\n",
            "  [ 3  4]\n",
            "  [ 5  6]]]\n"
          ]
        }
      ]
    },
    {
      "cell_type": "code",
      "metadata": {
        "colab": {
          "base_uri": "https://localhost:8080/"
        },
        "id": "vMkGXXAr5smy",
        "outputId": "d6947e6a-8d00-4482-888c-cffcfe83f1da"
      },
      "source": [
        "# Hacemos stack de arrays 2D con axis = 1\n",
        "b = np.stack((b1, b2), axis = 1)\n",
        "print(b)"
      ],
      "execution_count": 93,
      "outputs": [
        {
          "output_type": "stream",
          "name": "stdout",
          "text": [
            "[[[-6 -5]\n",
            "  [ 1  2]]\n",
            "\n",
            " [[-4 -3]\n",
            "  [ 3  4]]\n",
            "\n",
            " [[-2 -1]\n",
            "  [ 5  6]]]\n"
          ]
        }
      ]
    },
    {
      "cell_type": "code",
      "metadata": {
        "colab": {
          "base_uri": "https://localhost:8080/"
        },
        "id": "MvnMuXau5tCe",
        "outputId": "c664817f-e363-42a9-d484-de625570f3d0"
      },
      "source": [
        "# Hacemos stack de arrays 2D con axis = 2\n",
        "b = np.stack((b1, b2), axis = 2)\n",
        "print(b)"
      ],
      "execution_count": 94,
      "outputs": [
        {
          "output_type": "stream",
          "name": "stdout",
          "text": [
            "[[[-6  1]\n",
            "  [-5  2]]\n",
            "\n",
            " [[-4  3]\n",
            "  [-3  4]]\n",
            "\n",
            " [[-2  5]\n",
            "  [-1  6]]]\n"
          ]
        }
      ]
    },
    {
      "cell_type": "markdown",
      "metadata": {
        "id": "GryZyljO50yj"
      },
      "source": [
        "**Observación.** Al hacer stack de los arrays 2D, habiendo seleccionado `axis = 0`, obtenemos como resultado un array 3D con los dos arrays 2D originales. Por su parte, si elegimos `axis = 1`, obtenemos nuevamente un array 3D, pero éste consta de 3 elementos 2D (en este ejemplo en concreto), cada cual con 2 elementos 1D (el primero se corresponde con un elemento del array original `b1`, mientras que el segundo, con un elemento del array `b2`). Por último, si consideramos `axis = 2`, obtenemos también un array 3D, que consta de 3 elementos 2D (en este ejemplo en concreto), cada uno con 2 elementos 1D que han sido concatenados del siguiente modo: el primer elemento del array 1D se corresponde con un elemento original del array `b1`, mientras que el segundo y último elemento del array 1D procede del array `b2`."
      ]
    },
    {
      "cell_type": "markdown",
      "metadata": {
        "id": "VeWRAalk6qrr"
      },
      "source": [
        "**Observación.** Si queremos hacer stack de arrays $n$-dimensionales, tendremos $n$ opciones para el parámetro `axis` y siempre obtendremos como resultado un array de dimensión $n+1$ que ha sido combinado según el `axis` seleccionado."
      ]
    },
    {
      "cell_type": "markdown",
      "metadata": {
        "id": "1NS_Xu4q7EGw"
      },
      "source": [
        "#### Concatenando por filas\n",
        "\n",
        "`numpy` proporciona la función helper `hstack()` que lleva a cabo una concatenación por filas:"
      ]
    },
    {
      "cell_type": "code",
      "metadata": {
        "colab": {
          "base_uri": "https://localhost:8080/"
        },
        "id": "gRaEjrMA7O5W",
        "outputId": "bd7d38c9-8a61-4b69-fe80-f84a520aef50"
      },
      "source": [
        "# Caso 1D (se corresponde con el resultado de .concatenate())\n",
        "a1 = np.array([-3, -2, -1])\n",
        "a2 = np.array([1, 2, 3])\n",
        "a = np.hstack((a1, a2))\n",
        "print(a)"
      ],
      "execution_count": 95,
      "outputs": [
        {
          "output_type": "stream",
          "name": "stdout",
          "text": [
            "[-3 -2 -1  1  2  3]\n"
          ]
        }
      ]
    },
    {
      "cell_type": "code",
      "metadata": {
        "colab": {
          "base_uri": "https://localhost:8080/"
        },
        "id": "mUgbwSyG7oVa",
        "outputId": "c6428744-bc13-4ab2-90a1-3f6574e565ce"
      },
      "source": [
        "# Caso 2D (se corresponde con el resultado de .concatenate() con axis = 1)\n",
        "b1 = np.array([[-6, -5], [-4, -3], [-2, -1]])\n",
        "b2 = np.array([[1, 2], [3, 4], [5, 6]])\n",
        "b = np.hstack((b1, b2))\n",
        "print(b)"
      ],
      "execution_count": 96,
      "outputs": [
        {
          "output_type": "stream",
          "name": "stdout",
          "text": [
            "[[-6 -5  1  2]\n",
            " [-4 -3  3  4]\n",
            " [-2 -1  5  6]]\n"
          ]
        }
      ]
    },
    {
      "cell_type": "code",
      "metadata": {
        "colab": {
          "base_uri": "https://localhost:8080/"
        },
        "id": "_8bhJ2Yr8GoA",
        "outputId": "e1032b06-944e-4281-8656-342a236665c4"
      },
      "source": [
        "# Caso 3D (se corresponde con el resultado de .concatenate() con axis = 1)\n",
        "c1 = np.array([[[-10, -9], [-8, -7], [-6, -5]], [[-4, -3], [-2, -1], [0, 0]]])\n",
        "c2 = np.array([[[0, 0], [1, 2], [3, 4]], [[5, 6], [7, 8], [9, 10]]])\n",
        "c = np.hstack((c1, c2))\n",
        "print(c)"
      ],
      "execution_count": 97,
      "outputs": [
        {
          "output_type": "stream",
          "name": "stdout",
          "text": [
            "[[[-10  -9]\n",
            "  [ -8  -7]\n",
            "  [ -6  -5]\n",
            "  [  0   0]\n",
            "  [  1   2]\n",
            "  [  3   4]]\n",
            "\n",
            " [[ -4  -3]\n",
            "  [ -2  -1]\n",
            "  [  0   0]\n",
            "  [  5   6]\n",
            "  [  7   8]\n",
            "  [  9  10]]]\n"
          ]
        }
      ]
    },
    {
      "cell_type": "markdown",
      "metadata": {
        "id": "JL3F-8VG8bOr"
      },
      "source": [
        "#### Concatenando por columnas\n",
        "\n",
        "`numpy` proporciona la función helper `vstack()` que lleva a cabo una concatenación por columnas:"
      ]
    },
    {
      "cell_type": "code",
      "metadata": {
        "colab": {
          "base_uri": "https://localhost:8080/"
        },
        "id": "5x500yRd8i0Z",
        "outputId": "a24e2296-8bc2-4a8d-aa8f-10f4f0ea9e46"
      },
      "source": [
        "# Caso 1D (se corresponde con el resultado de .stack() con axis = 0)\n",
        "a1 = np.array([-3, -2, -1])\n",
        "a2 = np.array([1, 2, 3])\n",
        "a = np.vstack((a1, a2))\n",
        "print(a)"
      ],
      "execution_count": 98,
      "outputs": [
        {
          "output_type": "stream",
          "name": "stdout",
          "text": [
            "[[-3 -2 -1]\n",
            " [ 1  2  3]]\n"
          ]
        }
      ]
    },
    {
      "cell_type": "code",
      "metadata": {
        "colab": {
          "base_uri": "https://localhost:8080/"
        },
        "id": "bb8oiAxH8jLw",
        "outputId": "35180c01-a364-40d3-f948-ac67e38c7c82"
      },
      "source": [
        "# Caso 2D (se corresponde con el resultado de .concatenate() con axis = 0)\n",
        "b1 = np.array([[-6, -5], [-4, -3], [-2, -1]])\n",
        "b2 = np.array([[1, 2], [3, 4], [5, 6]])\n",
        "b = np.vstack((b1, b2))\n",
        "print(b)"
      ],
      "execution_count": 99,
      "outputs": [
        {
          "output_type": "stream",
          "name": "stdout",
          "text": [
            "[[-6 -5]\n",
            " [-4 -3]\n",
            " [-2 -1]\n",
            " [ 1  2]\n",
            " [ 3  4]\n",
            " [ 5  6]]\n"
          ]
        }
      ]
    },
    {
      "cell_type": "code",
      "metadata": {
        "colab": {
          "base_uri": "https://localhost:8080/"
        },
        "id": "GQkQN2wj9IIC",
        "outputId": "02e3bc58-6747-436a-f1d6-ea01b06fd30d"
      },
      "source": [
        "# Caso 3D (se corresponde con el resultado de .concatenate() con axis = 0)\n",
        "c1 = np.array([[[-10, -9], [-8, -7], [-6, -5]], [[-4, -3], [-2, -1], [0, 0]]])\n",
        "c2 = np.array([[[0, 0], [1, 2], [3, 4]], [[5, 6], [7, 8], [9, 10]]])\n",
        "c = np.vstack((c1, c2))\n",
        "print(c)"
      ],
      "execution_count": 100,
      "outputs": [
        {
          "output_type": "stream",
          "name": "stdout",
          "text": [
            "[[[-10  -9]\n",
            "  [ -8  -7]\n",
            "  [ -6  -5]]\n",
            "\n",
            " [[ -4  -3]\n",
            "  [ -2  -1]\n",
            "  [  0   0]]\n",
            "\n",
            " [[  0   0]\n",
            "  [  1   2]\n",
            "  [  3   4]]\n",
            "\n",
            " [[  5   6]\n",
            "  [  7   8]\n",
            "  [  9  10]]]\n"
          ]
        }
      ]
    },
    {
      "cell_type": "markdown",
      "metadata": {
        "id": "ue4vtFKe9ZJ5"
      },
      "source": [
        "#### Concatenando por profundidad\n",
        "\n",
        "`numpy` proporciona la función helper `dstack()` que lleva a cabo una concatenación por profundidad:"
      ]
    },
    {
      "cell_type": "code",
      "metadata": {
        "colab": {
          "base_uri": "https://localhost:8080/"
        },
        "id": "PHR02r4q9jEO",
        "outputId": "7cd6c94d-5eaa-45a9-a2cd-6d7270725b31"
      },
      "source": [
        "# Caso 1D (se corresponde con el resultado de .stack() con axis = 1)\n",
        "a1 = np.array([-3, -2, -1])\n",
        "a2 = np.array([1, 2, 3])\n",
        "a = np.dstack((a1, a2))\n",
        "print(a)"
      ],
      "execution_count": 101,
      "outputs": [
        {
          "output_type": "stream",
          "name": "stdout",
          "text": [
            "[[[-3  1]\n",
            "  [-2  2]\n",
            "  [-1  3]]]\n"
          ]
        }
      ]
    },
    {
      "cell_type": "code",
      "metadata": {
        "colab": {
          "base_uri": "https://localhost:8080/"
        },
        "id": "b9Z0bMOw9jW-",
        "outputId": "940066a5-705b-43c5-a0ec-3bb675533f0f"
      },
      "source": [
        "# Caso 2D (se corresponde con el resultado de .stack() con axis = 2)\n",
        "b1 = np.array([[-6, -5], [-4, -3], [-2, -1]])\n",
        "b2 = np.array([[1, 2], [3, 4], [5, 6]])\n",
        "b = np.dstack((b1, b2))\n",
        "print(b)"
      ],
      "execution_count": 102,
      "outputs": [
        {
          "output_type": "stream",
          "name": "stdout",
          "text": [
            "[[[-6  1]\n",
            "  [-5  2]]\n",
            "\n",
            " [[-4  3]\n",
            "  [-3  4]]\n",
            "\n",
            " [[-2  5]\n",
            "  [-1  6]]]\n"
          ]
        }
      ]
    },
    {
      "cell_type": "code",
      "metadata": {
        "colab": {
          "base_uri": "https://localhost:8080/"
        },
        "id": "_bftSes59jjS",
        "outputId": "3d97bad6-fc5c-4edb-fb1b-d902c665000c"
      },
      "source": [
        "# Caso 3D (se corresponde con el resultado de .concatenate() con axis = 2)\n",
        "c1 = np.array([[[-10, -9], [-8, -7], [-6, -5]], [[-4, -3], [-2, -1], [0, 0]]])\n",
        "c2 = np.array([[[0, 0], [1, 2], [3, 4]], [[5, 6], [7, 8], [9, 10]]])\n",
        "c = np.dstack((c1, c2))\n",
        "print(c)"
      ],
      "execution_count": 103,
      "outputs": [
        {
          "output_type": "stream",
          "name": "stdout",
          "text": [
            "[[[-10  -9   0   0]\n",
            "  [ -8  -7   1   2]\n",
            "  [ -6  -5   3   4]]\n",
            "\n",
            " [[ -4  -3   5   6]\n",
            "  [ -2  -1   7   8]\n",
            "  [  0   0   9  10]]]\n"
          ]
        }
      ]
    },
    {
      "cell_type": "markdown",
      "metadata": {
        "id": "zd8a3ZS-DrFT"
      },
      "source": [
        "### División de arrays\n",
        "\n",
        "El proceso inverso a la concatenación es la división de arrays. La división de arrays consiste en romper un array en múltiples arrays.\n",
        "\n",
        "Para dividir arrays usamos el método `.array_split()`"
      ]
    },
    {
      "cell_type": "markdown",
      "metadata": {
        "id": "oDxkAfOyKzsK"
      },
      "source": [
        "#### Dividiendo arrays 1D"
      ]
    },
    {
      "cell_type": "code",
      "metadata": {
        "colab": {
          "base_uri": "https://localhost:8080/"
        },
        "id": "ztfal5lcJ-id",
        "outputId": "53ba4771-fe60-4d80-d063-72fb70187000"
      },
      "source": [
        "x = np.array([1, 2, 3, 4, 5, 6, 7, 8])\n",
        "y = np.array_split(x, 4)\n",
        "print(\"Del array original x =\", x)\n",
        "print(\"Dividiéndolo en 4 obtenemos:\", y)"
      ],
      "execution_count": 104,
      "outputs": [
        {
          "output_type": "stream",
          "name": "stdout",
          "text": [
            "Del array original x = [1 2 3 4 5 6 7 8]\n",
            "Dividiéndolo en 4 obtenemos: [array([1, 2]), array([3, 4]), array([5, 6]), array([7, 8])]\n"
          ]
        }
      ]
    },
    {
      "cell_type": "markdown",
      "metadata": {
        "id": "wCMgTMNYKciM"
      },
      "source": [
        "Como resultado, obtenemos una lista con el número de arrays 1D que hemos indicado por parámetro.\n",
        "\n",
        "**Observación.** El array original lo podemos dividir en 2, 3,... hasta en tantos arrays como elementos contenga. Es decir, dado por ejemplo un array 1D con 8 elementos, podemos dividirlo en 2, 3, 4, ..., 8 arrays:"
      ]
    },
    {
      "cell_type": "code",
      "metadata": {
        "colab": {
          "base_uri": "https://localhost:8080/"
        },
        "id": "yPoZgD94J_5A",
        "outputId": "516c7de8-4cdb-4906-9126-2ae2c6b53c58"
      },
      "source": [
        "for i in range(2, x.shape[0] + 1):\n",
        "  print(\"Dividimos en {} arrays: {}\".format(i, np.array_split(x, i)))"
      ],
      "execution_count": 105,
      "outputs": [
        {
          "output_type": "stream",
          "name": "stdout",
          "text": [
            "Dividimos en 2 arrays: [array([1, 2, 3, 4]), array([5, 6, 7, 8])]\n",
            "Dividimos en 3 arrays: [array([1, 2, 3]), array([4, 5, 6]), array([7, 8])]\n",
            "Dividimos en 4 arrays: [array([1, 2]), array([3, 4]), array([5, 6]), array([7, 8])]\n",
            "Dividimos en 5 arrays: [array([1, 2]), array([3, 4]), array([5, 6]), array([7]), array([8])]\n",
            "Dividimos en 6 arrays: [array([1, 2]), array([3, 4]), array([5]), array([6]), array([7]), array([8])]\n",
            "Dividimos en 7 arrays: [array([1, 2]), array([3]), array([4]), array([5]), array([6]), array([7]), array([8])]\n",
            "Dividimos en 8 arrays: [array([1]), array([2]), array([3]), array([4]), array([5]), array([6]), array([7]), array([8])]\n"
          ]
        }
      ]
    },
    {
      "cell_type": "markdown",
      "metadata": {
        "id": "WM0yEiBUMI10"
      },
      "source": [
        "**Observación.** Si el número de arrays en que queremos dividir el array original, $m$, es divisor del número de elementos que tiene el array original, $n$, entonces todos los arrays resultantes tendrán el mismo número de elementos, $q$, donde $q$ es el cociente de la división entera de $n$ entre $m$.\n",
        "\n",
        "En cambio, si el número introducido por parámetro, $m$, no es divisor del número total de elementos del array original, $n$, entonces los $r$ primeros arrays resultantes, siendo $r$ el resto de la división entera de $n$ entre $m$, tendrán cada uno de ellos $q + 1$ elementos, mientras que el resto de arrays, los $m-r$ restantes, tendrán $q$ elementos. De modo que \n",
        "\n",
        "$$n = r\\cdot (q + 1) + (m - r)\\cdot q = qr + r + mq - qr = mq + r $$\n"
      ]
    },
    {
      "cell_type": "markdown",
      "metadata": {
        "id": "Zqnn5ibqNj4A"
      },
      "source": [
        "---\n",
        "#### Ejemplo 4\n",
        "\n",
        "Consideremos un array 1D con 20 elementos. Entonces,"
      ]
    },
    {
      "cell_type": "code",
      "metadata": {
        "colab": {
          "base_uri": "https://localhost:8080/"
        },
        "id": "azCL_tJ8Kkxj",
        "outputId": "d45f1e42-6edd-4523-9041-de505d35e63b"
      },
      "source": [
        "a = np.array([1, 2, 3, 4, 5, 6, 7, 8, 9, 10,\n",
        "              11, 12, 13, 14, 15, 16, 17, 18, 19, 20])\n",
        "\n",
        "n = a.shape[0]\n",
        "for m in range(2, n + 1):\n",
        "  print(\"\\nDividimos el array original en {} arrays\".format(m))\n",
        "  q = n//m\n",
        "  r = n % m\n",
        "  print(\"n = {}, m = {}, q = {}, r = {}\".format(n, m, q, r))\n",
        "\n",
        "  if r == 0:\n",
        "    print(\"Los {} arrays resultantes tienen el mismo número de elementos: {}\".format(m, q))\n",
        "  \n",
        "  else:\n",
        "    print(\"Los primeros {} arrays tienen {} elementos. El resto de los arrays tienen {} elementos\".format(r, q + 1, q))\n",
        "\n",
        "  for i in np.array_split(a, m):\n",
        "    print(i)"
      ],
      "execution_count": 106,
      "outputs": [
        {
          "output_type": "stream",
          "name": "stdout",
          "text": [
            "\n",
            "Dividimos el array original en 2 arrays\n",
            "n = 20, m = 2, q = 10, r = 0\n",
            "Los 2 arrays resultantes tienen el mismo número de elementos: 10\n",
            "[ 1  2  3  4  5  6  7  8  9 10]\n",
            "[11 12 13 14 15 16 17 18 19 20]\n",
            "\n",
            "Dividimos el array original en 3 arrays\n",
            "n = 20, m = 3, q = 6, r = 2\n",
            "Los primeros 2 arrays tienen 7 elementos. El resto de los arrays tienen 6 elementos\n",
            "[1 2 3 4 5 6 7]\n",
            "[ 8  9 10 11 12 13 14]\n",
            "[15 16 17 18 19 20]\n",
            "\n",
            "Dividimos el array original en 4 arrays\n",
            "n = 20, m = 4, q = 5, r = 0\n",
            "Los 4 arrays resultantes tienen el mismo número de elementos: 5\n",
            "[1 2 3 4 5]\n",
            "[ 6  7  8  9 10]\n",
            "[11 12 13 14 15]\n",
            "[16 17 18 19 20]\n",
            "\n",
            "Dividimos el array original en 5 arrays\n",
            "n = 20, m = 5, q = 4, r = 0\n",
            "Los 5 arrays resultantes tienen el mismo número de elementos: 4\n",
            "[1 2 3 4]\n",
            "[5 6 7 8]\n",
            "[ 9 10 11 12]\n",
            "[13 14 15 16]\n",
            "[17 18 19 20]\n",
            "\n",
            "Dividimos el array original en 6 arrays\n",
            "n = 20, m = 6, q = 3, r = 2\n",
            "Los primeros 2 arrays tienen 4 elementos. El resto de los arrays tienen 3 elementos\n",
            "[1 2 3 4]\n",
            "[5 6 7 8]\n",
            "[ 9 10 11]\n",
            "[12 13 14]\n",
            "[15 16 17]\n",
            "[18 19 20]\n",
            "\n",
            "Dividimos el array original en 7 arrays\n",
            "n = 20, m = 7, q = 2, r = 6\n",
            "Los primeros 6 arrays tienen 3 elementos. El resto de los arrays tienen 2 elementos\n",
            "[1 2 3]\n",
            "[4 5 6]\n",
            "[7 8 9]\n",
            "[10 11 12]\n",
            "[13 14 15]\n",
            "[16 17 18]\n",
            "[19 20]\n",
            "\n",
            "Dividimos el array original en 8 arrays\n",
            "n = 20, m = 8, q = 2, r = 4\n",
            "Los primeros 4 arrays tienen 3 elementos. El resto de los arrays tienen 2 elementos\n",
            "[1 2 3]\n",
            "[4 5 6]\n",
            "[7 8 9]\n",
            "[10 11 12]\n",
            "[13 14]\n",
            "[15 16]\n",
            "[17 18]\n",
            "[19 20]\n",
            "\n",
            "Dividimos el array original en 9 arrays\n",
            "n = 20, m = 9, q = 2, r = 2\n",
            "Los primeros 2 arrays tienen 3 elementos. El resto de los arrays tienen 2 elementos\n",
            "[1 2 3]\n",
            "[4 5 6]\n",
            "[7 8]\n",
            "[ 9 10]\n",
            "[11 12]\n",
            "[13 14]\n",
            "[15 16]\n",
            "[17 18]\n",
            "[19 20]\n",
            "\n",
            "Dividimos el array original en 10 arrays\n",
            "n = 20, m = 10, q = 2, r = 0\n",
            "Los 10 arrays resultantes tienen el mismo número de elementos: 2\n",
            "[1 2]\n",
            "[3 4]\n",
            "[5 6]\n",
            "[7 8]\n",
            "[ 9 10]\n",
            "[11 12]\n",
            "[13 14]\n",
            "[15 16]\n",
            "[17 18]\n",
            "[19 20]\n",
            "\n",
            "Dividimos el array original en 11 arrays\n",
            "n = 20, m = 11, q = 1, r = 9\n",
            "Los primeros 9 arrays tienen 2 elementos. El resto de los arrays tienen 1 elementos\n",
            "[1 2]\n",
            "[3 4]\n",
            "[5 6]\n",
            "[7 8]\n",
            "[ 9 10]\n",
            "[11 12]\n",
            "[13 14]\n",
            "[15 16]\n",
            "[17 18]\n",
            "[19]\n",
            "[20]\n",
            "\n",
            "Dividimos el array original en 12 arrays\n",
            "n = 20, m = 12, q = 1, r = 8\n",
            "Los primeros 8 arrays tienen 2 elementos. El resto de los arrays tienen 1 elementos\n",
            "[1 2]\n",
            "[3 4]\n",
            "[5 6]\n",
            "[7 8]\n",
            "[ 9 10]\n",
            "[11 12]\n",
            "[13 14]\n",
            "[15 16]\n",
            "[17]\n",
            "[18]\n",
            "[19]\n",
            "[20]\n",
            "\n",
            "Dividimos el array original en 13 arrays\n",
            "n = 20, m = 13, q = 1, r = 7\n",
            "Los primeros 7 arrays tienen 2 elementos. El resto de los arrays tienen 1 elementos\n",
            "[1 2]\n",
            "[3 4]\n",
            "[5 6]\n",
            "[7 8]\n",
            "[ 9 10]\n",
            "[11 12]\n",
            "[13 14]\n",
            "[15]\n",
            "[16]\n",
            "[17]\n",
            "[18]\n",
            "[19]\n",
            "[20]\n",
            "\n",
            "Dividimos el array original en 14 arrays\n",
            "n = 20, m = 14, q = 1, r = 6\n",
            "Los primeros 6 arrays tienen 2 elementos. El resto de los arrays tienen 1 elementos\n",
            "[1 2]\n",
            "[3 4]\n",
            "[5 6]\n",
            "[7 8]\n",
            "[ 9 10]\n",
            "[11 12]\n",
            "[13]\n",
            "[14]\n",
            "[15]\n",
            "[16]\n",
            "[17]\n",
            "[18]\n",
            "[19]\n",
            "[20]\n",
            "\n",
            "Dividimos el array original en 15 arrays\n",
            "n = 20, m = 15, q = 1, r = 5\n",
            "Los primeros 5 arrays tienen 2 elementos. El resto de los arrays tienen 1 elementos\n",
            "[1 2]\n",
            "[3 4]\n",
            "[5 6]\n",
            "[7 8]\n",
            "[ 9 10]\n",
            "[11]\n",
            "[12]\n",
            "[13]\n",
            "[14]\n",
            "[15]\n",
            "[16]\n",
            "[17]\n",
            "[18]\n",
            "[19]\n",
            "[20]\n",
            "\n",
            "Dividimos el array original en 16 arrays\n",
            "n = 20, m = 16, q = 1, r = 4\n",
            "Los primeros 4 arrays tienen 2 elementos. El resto de los arrays tienen 1 elementos\n",
            "[1 2]\n",
            "[3 4]\n",
            "[5 6]\n",
            "[7 8]\n",
            "[9]\n",
            "[10]\n",
            "[11]\n",
            "[12]\n",
            "[13]\n",
            "[14]\n",
            "[15]\n",
            "[16]\n",
            "[17]\n",
            "[18]\n",
            "[19]\n",
            "[20]\n",
            "\n",
            "Dividimos el array original en 17 arrays\n",
            "n = 20, m = 17, q = 1, r = 3\n",
            "Los primeros 3 arrays tienen 2 elementos. El resto de los arrays tienen 1 elementos\n",
            "[1 2]\n",
            "[3 4]\n",
            "[5 6]\n",
            "[7]\n",
            "[8]\n",
            "[9]\n",
            "[10]\n",
            "[11]\n",
            "[12]\n",
            "[13]\n",
            "[14]\n",
            "[15]\n",
            "[16]\n",
            "[17]\n",
            "[18]\n",
            "[19]\n",
            "[20]\n",
            "\n",
            "Dividimos el array original en 18 arrays\n",
            "n = 20, m = 18, q = 1, r = 2\n",
            "Los primeros 2 arrays tienen 2 elementos. El resto de los arrays tienen 1 elementos\n",
            "[1 2]\n",
            "[3 4]\n",
            "[5]\n",
            "[6]\n",
            "[7]\n",
            "[8]\n",
            "[9]\n",
            "[10]\n",
            "[11]\n",
            "[12]\n",
            "[13]\n",
            "[14]\n",
            "[15]\n",
            "[16]\n",
            "[17]\n",
            "[18]\n",
            "[19]\n",
            "[20]\n",
            "\n",
            "Dividimos el array original en 19 arrays\n",
            "n = 20, m = 19, q = 1, r = 1\n",
            "Los primeros 1 arrays tienen 2 elementos. El resto de los arrays tienen 1 elementos\n",
            "[1 2]\n",
            "[3]\n",
            "[4]\n",
            "[5]\n",
            "[6]\n",
            "[7]\n",
            "[8]\n",
            "[9]\n",
            "[10]\n",
            "[11]\n",
            "[12]\n",
            "[13]\n",
            "[14]\n",
            "[15]\n",
            "[16]\n",
            "[17]\n",
            "[18]\n",
            "[19]\n",
            "[20]\n",
            "\n",
            "Dividimos el array original en 20 arrays\n",
            "n = 20, m = 20, q = 1, r = 0\n",
            "Los 20 arrays resultantes tienen el mismo número de elementos: 1\n",
            "[1]\n",
            "[2]\n",
            "[3]\n",
            "[4]\n",
            "[5]\n",
            "[6]\n",
            "[7]\n",
            "[8]\n",
            "[9]\n",
            "[10]\n",
            "[11]\n",
            "[12]\n",
            "[13]\n",
            "[14]\n",
            "[15]\n",
            "[16]\n",
            "[17]\n",
            "[18]\n",
            "[19]\n",
            "[20]\n"
          ]
        }
      ]
    },
    {
      "cell_type": "markdown",
      "metadata": {
        "id": "aBbW90CbTITU"
      },
      "source": [
        "---\n",
        "\n"
      ]
    },
    {
      "cell_type": "markdown",
      "metadata": {
        "id": "wM8imj0ZeQj-"
      },
      "source": [
        "#### El método `.split()`\n",
        "\n",
        "A la hora de dividir arrays tenemos también el método `.split()`, pero falla en caso de que el número de arrays en que queramos dividir el array original no sea divisor del número de elementos del array."
      ]
    },
    {
      "cell_type": "code",
      "metadata": {
        "colab": {
          "base_uri": "https://localhost:8080/"
        },
        "id": "OK6jbUOdTkQ-",
        "outputId": "ecd8e801-b4f3-4080-9266-194ef92c3267"
      },
      "source": [
        "x = np.array([1, 2, 3, 4, 5, 6, 7, 8])\n",
        "y = np.split(x, 4)\n",
        "print(\"Del array original x =\", x)\n",
        "print(\"Dividiéndolo en 4 obtenemos:\", y)"
      ],
      "execution_count": 107,
      "outputs": [
        {
          "output_type": "stream",
          "name": "stdout",
          "text": [
            "Del array original x = [1 2 3 4 5 6 7 8]\n",
            "Dividiéndolo en 4 obtenemos: [array([1, 2]), array([3, 4]), array([5, 6]), array([7, 8])]\n"
          ]
        }
      ]
    },
    {
      "cell_type": "markdown",
      "metadata": {
        "id": "-TLUzf-QTxZ0"
      },
      "source": [
        "Al cumplirse que el número de arrays en que queremos dividir el array original es divisor del número de elementos del array, obtenemos el mismo resultado que al usar el método `.array_split()`.\n",
        "\n",
        "El siguiente caso, donde queremos dividir los 8 elementos en 3 arrays, nos dará error pues la división no es exacta:"
      ]
    },
    {
      "cell_type": "code",
      "metadata": {
        "id": "LuqcXMt3SmD_",
        "colab": {
          "base_uri": "https://localhost:8080/",
          "height": 339
        },
        "outputId": "bed71053-2cbf-486b-f88d-9703c74e5519"
      },
      "source": [
        "x = np.array([1, 2, 3, 4, 5, 6, 7, 8])\n",
        "y = np.split(x, 3)"
      ],
      "execution_count": 109,
      "outputs": [
        {
          "output_type": "error",
          "ename": "ValueError",
          "evalue": "ignored",
          "traceback": [
            "\u001b[0;31m---------------------------------------------------------------------------\u001b[0m",
            "\u001b[0;31mValueError\u001b[0m                                Traceback (most recent call last)",
            "\u001b[0;32m<ipython-input-109-c4e15fbab646>\u001b[0m in \u001b[0;36m<module>\u001b[0;34m()\u001b[0m\n\u001b[1;32m      1\u001b[0m \u001b[0mx\u001b[0m \u001b[0;34m=\u001b[0m \u001b[0mnp\u001b[0m\u001b[0;34m.\u001b[0m\u001b[0marray\u001b[0m\u001b[0;34m(\u001b[0m\u001b[0;34m[\u001b[0m\u001b[0;36m1\u001b[0m\u001b[0;34m,\u001b[0m \u001b[0;36m2\u001b[0m\u001b[0;34m,\u001b[0m \u001b[0;36m3\u001b[0m\u001b[0;34m,\u001b[0m \u001b[0;36m4\u001b[0m\u001b[0;34m,\u001b[0m \u001b[0;36m5\u001b[0m\u001b[0;34m,\u001b[0m \u001b[0;36m6\u001b[0m\u001b[0;34m,\u001b[0m \u001b[0;36m7\u001b[0m\u001b[0;34m,\u001b[0m \u001b[0;36m8\u001b[0m\u001b[0;34m]\u001b[0m\u001b[0;34m)\u001b[0m\u001b[0;34m\u001b[0m\u001b[0;34m\u001b[0m\u001b[0m\n\u001b[0;32m----> 2\u001b[0;31m \u001b[0my\u001b[0m \u001b[0;34m=\u001b[0m \u001b[0mnp\u001b[0m\u001b[0;34m.\u001b[0m\u001b[0msplit\u001b[0m\u001b[0;34m(\u001b[0m\u001b[0mx\u001b[0m\u001b[0;34m,\u001b[0m \u001b[0;36m3\u001b[0m\u001b[0;34m)\u001b[0m\u001b[0;34m\u001b[0m\u001b[0;34m\u001b[0m\u001b[0m\n\u001b[0m",
            "\u001b[0;32m<__array_function__ internals>\u001b[0m in \u001b[0;36msplit\u001b[0;34m(*args, **kwargs)\u001b[0m\n",
            "\u001b[0;32m/usr/local/lib/python3.7/dist-packages/numpy/lib/shape_base.py\u001b[0m in \u001b[0;36msplit\u001b[0;34m(ary, indices_or_sections, axis)\u001b[0m\n\u001b[1;32m    871\u001b[0m         \u001b[0;32mif\u001b[0m \u001b[0mN\u001b[0m \u001b[0;34m%\u001b[0m \u001b[0msections\u001b[0m\u001b[0;34m:\u001b[0m\u001b[0;34m\u001b[0m\u001b[0;34m\u001b[0m\u001b[0m\n\u001b[1;32m    872\u001b[0m             raise ValueError(\n\u001b[0;32m--> 873\u001b[0;31m                 'array split does not result in an equal division') from None\n\u001b[0m\u001b[1;32m    874\u001b[0m     \u001b[0;32mreturn\u001b[0m \u001b[0marray_split\u001b[0m\u001b[0;34m(\u001b[0m\u001b[0mary\u001b[0m\u001b[0;34m,\u001b[0m \u001b[0mindices_or_sections\u001b[0m\u001b[0;34m,\u001b[0m \u001b[0maxis\u001b[0m\u001b[0;34m)\u001b[0m\u001b[0;34m\u001b[0m\u001b[0;34m\u001b[0m\u001b[0m\n\u001b[1;32m    875\u001b[0m \u001b[0;34m\u001b[0m\u001b[0m\n",
            "\u001b[0;31mValueError\u001b[0m: array split does not result in an equal division"
          ]
        }
      ]
    },
    {
      "cell_type": "markdown",
      "metadata": {
        "id": "XWh0Ha3jUJcY"
      },
      "source": [
        "#### Dividiendo arrays 2D\n",
        "\n",
        "Podemos también dividir arrays 2D en múltiples arrays 2D:"
      ]
    },
    {
      "cell_type": "code",
      "metadata": {
        "colab": {
          "base_uri": "https://localhost:8080/"
        },
        "id": "SP-vHhpITZ8B",
        "outputId": "1b531a9d-076a-4737-e0b5-cb01fbe9682d"
      },
      "source": [
        "x = np.array([[-1, 0, 1], [-2, 0, 2], [-3, 0, 3], \n",
        "              [-4, 0, 4], [-5, 0, 5], [-6, 0, 6]])\n",
        "y = np.array_split(x, 3)\n",
        "print(\"Del array original x =\\n\", x)\n",
        "print(\"Dividiéndolo en 3 obtenemos:\")\n",
        "for i in y:\n",
        "  print(i)"
      ],
      "execution_count": 110,
      "outputs": [
        {
          "output_type": "stream",
          "name": "stdout",
          "text": [
            "Del array original x =\n",
            " [[-1  0  1]\n",
            " [-2  0  2]\n",
            " [-3  0  3]\n",
            " [-4  0  4]\n",
            " [-5  0  5]\n",
            " [-6  0  6]]\n",
            "Dividiéndolo en 3 obtenemos:\n",
            "[[-1  0  1]\n",
            " [-2  0  2]]\n",
            "[[-3  0  3]\n",
            " [-4  0  4]]\n",
            "[[-5  0  5]\n",
            " [-6  0  6]]\n"
          ]
        }
      ]
    },
    {
      "cell_type": "markdown",
      "metadata": {
        "id": "Bb2TePrrUy0x"
      },
      "source": [
        "Como resultado, obtenemos una lista con el número de arrays 2D que hemos indicado por parámetro.\n",
        "\n",
        "De nuevo, el array 2D original lo podemos dividir en 2, 3,... hasta en tantos arrays como elementos 1D contenga. Es decir, dado por ejemplo un array 2D con 6 arrays 1D, podemos dividirlo en 2, 3, 4, ..., 6 arrays 2D:"
      ]
    },
    {
      "cell_type": "code",
      "metadata": {
        "colab": {
          "base_uri": "https://localhost:8080/"
        },
        "id": "KONsp0PvUheM",
        "outputId": "77e2c114-679e-44d8-c83d-d33081d4f1fc"
      },
      "source": [
        "for i in range(2, x.shape[0] + 1):\n",
        "  print(\"\\nDividimos el array original en {} arrays:\".format(i))\n",
        "  for j in np.array_split(x, i):\n",
        "    print(j)"
      ],
      "execution_count": 111,
      "outputs": [
        {
          "output_type": "stream",
          "name": "stdout",
          "text": [
            "\n",
            "Dividimos el array original en 2 arrays:\n",
            "[[-1  0  1]\n",
            " [-2  0  2]\n",
            " [-3  0  3]]\n",
            "[[-4  0  4]\n",
            " [-5  0  5]\n",
            " [-6  0  6]]\n",
            "\n",
            "Dividimos el array original en 3 arrays:\n",
            "[[-1  0  1]\n",
            " [-2  0  2]]\n",
            "[[-3  0  3]\n",
            " [-4  0  4]]\n",
            "[[-5  0  5]\n",
            " [-6  0  6]]\n",
            "\n",
            "Dividimos el array original en 4 arrays:\n",
            "[[-1  0  1]\n",
            " [-2  0  2]]\n",
            "[[-3  0  3]\n",
            " [-4  0  4]]\n",
            "[[-5  0  5]]\n",
            "[[-6  0  6]]\n",
            "\n",
            "Dividimos el array original en 5 arrays:\n",
            "[[-1  0  1]\n",
            " [-2  0  2]]\n",
            "[[-3  0  3]]\n",
            "[[-4  0  4]]\n",
            "[[-5  0  5]]\n",
            "[[-6  0  6]]\n",
            "\n",
            "Dividimos el array original en 6 arrays:\n",
            "[[-1  0  1]]\n",
            "[[-2  0  2]]\n",
            "[[-3  0  3]]\n",
            "[[-4  0  4]]\n",
            "[[-5  0  5]]\n",
            "[[-6  0  6]]\n"
          ]
        }
      ]
    },
    {
      "cell_type": "markdown",
      "metadata": {
        "id": "Pi_2jbqpV6lN"
      },
      "source": [
        "**Observación.** En el caso 2D, vuelve a satisfacerse que si el número de arrays en que queremos dividir el array 2D original, $m$, es divisor del número de elementos 1D que tiene el array original 2D, $n$, entonces todos los arrays 2D resultantes tendrán el mismo número de arrays 1D, $q$, donde $q$ es el cociente de la división entera de $n$ entre $m$.\n",
        "\n",
        "En cambio, si el número introducido por parámetro, $m$, no es divisor del número total de arrays 1D que contiene el array original, $n$, entonces los $r$ primeros arrays 2D resultantes, siendo $r$ el resto de la división entera de $n$ entre $m$, tendrán cada uno de ellos $q + 1$ elementos, mientras que el resto de arrays 2D, los $m-r$ restantes, tendrán $q$ elementos. De modo que \n",
        "\n",
        "$$n = r\\cdot (q + 1) + (m - r)\\cdot q = qr + r + mq - qr = mq + r $$"
      ]
    },
    {
      "cell_type": "markdown",
      "metadata": {
        "id": "rzP-PEMdWbQ6"
      },
      "source": [
        "En el caso de dividir arrays multidimensionales, volvemos a tener la opción de configurar el parámetro `axis`."
      ]
    },
    {
      "cell_type": "code",
      "metadata": {
        "colab": {
          "base_uri": "https://localhost:8080/"
        },
        "id": "N51-AKsVVFmg",
        "outputId": "6a67e6dd-b62a-417b-ef37-ccc344c6fae1"
      },
      "source": [
        "x = np.array([[-1, 0, 1], [-2, 0, 2], [-3, 0, 3], \n",
        "              [-4, 0, 4], [-5, 0, 5], [-6, 0, 6]])\n",
        "print(\"Del array original x =\\n\", x)\n",
        "print(\"Dividiéndolo en 3 con axis = 0 obtenemos:\")\n",
        "y = np.array_split(x, 3, axis = 0)\n",
        "for i in y:\n",
        "  print(i)\n",
        "\n",
        "print(\"\\nDividiéndolo en 3 con axis = 1 obtenemos:\")\n",
        "y = np.array_split(x, 3, axis = 1)\n",
        "for i in y:\n",
        "  print(i)"
      ],
      "execution_count": 112,
      "outputs": [
        {
          "output_type": "stream",
          "name": "stdout",
          "text": [
            "Del array original x =\n",
            " [[-1  0  1]\n",
            " [-2  0  2]\n",
            " [-3  0  3]\n",
            " [-4  0  4]\n",
            " [-5  0  5]\n",
            " [-6  0  6]]\n",
            "Dividiéndolo en 3 con axis = 0 obtenemos:\n",
            "[[-1  0  1]\n",
            " [-2  0  2]]\n",
            "[[-3  0  3]\n",
            " [-4  0  4]]\n",
            "[[-5  0  5]\n",
            " [-6  0  6]]\n",
            "\n",
            "Dividiéndolo en 3 con axis = 1 obtenemos:\n",
            "[[-1]\n",
            " [-2]\n",
            " [-3]\n",
            " [-4]\n",
            " [-5]\n",
            " [-6]]\n",
            "[[0]\n",
            " [0]\n",
            " [0]\n",
            " [0]\n",
            " [0]\n",
            " [0]]\n",
            "[[1]\n",
            " [2]\n",
            " [3]\n",
            " [4]\n",
            " [5]\n",
            " [6]]\n"
          ]
        }
      ]
    },
    {
      "cell_type": "markdown",
      "metadata": {
        "id": "gWRimdmpZmuN"
      },
      "source": [
        "En el caso de `axis = 0`, obtenemos como resultado una lista de arrays 2D donde se han repartido los arrays 1D en el número de arrays 2D indicado por parámetro a la función y del modo que hemos explicado anteriormente.\n",
        "\n",
        "En el caso de `axis = 1`, obtenemos como resultado una lista de arrays 2D, tantos como se ha indicado por parámetro, donde se han repartido los elementos de cada array 1D.\n",
        "\n",
        "**Observación.** En el caso 2D, si configuramos `axis = 1`, si el número de arrays en que queremos dividir el array 2D original, $m$, es divisor del número de elementos contenidos en cada array 1D del array original 2D, $n$, entonces todos los arrays 2D resultantes tendrán tantos arrays 1D como tenían originalmente, los cuales tendrán todos el mismo número de elementos, $q$, donde $q$ es el cociente de la división entera de $n$ entre $m$.\n",
        "\n",
        "En cambio, si el número introducido por parámetro, $m$, no es divisor del número total de elementos contenidos en cada array 1D del array original 2D, $n$, entonces todos los arrays 2D resultantes tendrán el mismo número de arrays 1D que el original, pero los arrays 1D de los $r$ primeros arrays 2D resultantes, siendo $r$ el resto de la división entera de $n$ entre $m$, tendrán cada uno de ellos $q + 1$ elementos, mientras que los arrays 1D para el resto de arrays 2D, los $m-r$ restantes, tendrán $q$ elementos cada uno de ellos. De modo que \n",
        "\n",
        "$$n = r\\cdot (q + 1) + (m - r)\\cdot q = qr + r + mq - qr = mq + r $$"
      ]
    },
    {
      "cell_type": "markdown",
      "metadata": {
        "id": "6GZ9SQyebcRF"
      },
      "source": [
        "**Observación.** Para el caso de `axis = 1`, podremos dividir el array original en 2, 3, ..., hasta el número de elementos que contengan cada uno de los arrays 1D del array 2D original. "
      ]
    },
    {
      "cell_type": "markdown",
      "metadata": {
        "id": "loZ5oyRgbQ3d"
      },
      "source": [
        "---\n",
        "#### Ejemplo 5\n",
        "\n",
        "Consideremos un array 2D con 4 arrays 1D, cada uno de los cuales contiene 5 elementos."
      ]
    },
    {
      "cell_type": "code",
      "metadata": {
        "colab": {
          "base_uri": "https://localhost:8080/"
        },
        "id": "xCZkMHP0bs6T",
        "outputId": "6ef20645-b0d4-4b9d-f316-7055166f22bc"
      },
      "source": [
        "a = np.array([[1, 2, 3, 4, 5], \n",
        "              [6, 7, 8, 9, 10],\n",
        "              [11, 12, 13, 14, 15], \n",
        "              [16, 17, 18, 19, 20]])\n",
        "\n",
        "print(\"La shape del array 2D original es:\", a.shape)\n",
        "\n",
        "n = a.shape[-1] # Tomamos el número de elementos que contiene cada array 1D\n",
        "for m in range(2, n + 1):\n",
        "  print(\"\\nDividimos el array original 2D en {} arrays con axis = 1\".format(m))\n",
        "  q = n//m\n",
        "  r = n % m\n",
        "  print(\"n = {}, m = {}, q = {}, r = {}\".format(n, m, q, r))\n",
        "\n",
        "  print(\"Los {} arrays resultantes contienen el mismo número de arrays 1D que el original\".format(m), sep = \" \")\n",
        "  if r == 0:\n",
        "    print(\"cada uno de ellos con el mismo número de elementos: {}\".format(q))\n",
        "  \n",
        "  else:\n",
        "    print(\"\\nEn este caso, para los primeros {} arrays 2D, cada array 1D tiene {} elementos.\".format(r, q + 1))\n",
        "    print(\"para los arrays 2D restantes, cada array 1D tiene {} elementos\".format(q))\n",
        "\n",
        "  for i in np.array_split(a, m, axis = 1):\n",
        "    print(i)"
      ],
      "execution_count": 113,
      "outputs": [
        {
          "output_type": "stream",
          "name": "stdout",
          "text": [
            "La shape del array 2D original es: (4, 5)\n",
            "\n",
            "Dividimos el array original 2D en 2 arrays con axis = 1\n",
            "n = 5, m = 2, q = 2, r = 1\n",
            "Los 2 arrays resultantes contienen el mismo número de arrays 1D que el original\n",
            "\n",
            "En este caso, para los primeros 1 arrays 2D, cada array 1D tiene 3 elementos.\n",
            "para los arrays 2D restantes, cada array 1D tiene 2 elementos\n",
            "[[ 1  2  3]\n",
            " [ 6  7  8]\n",
            " [11 12 13]\n",
            " [16 17 18]]\n",
            "[[ 4  5]\n",
            " [ 9 10]\n",
            " [14 15]\n",
            " [19 20]]\n",
            "\n",
            "Dividimos el array original 2D en 3 arrays con axis = 1\n",
            "n = 5, m = 3, q = 1, r = 2\n",
            "Los 3 arrays resultantes contienen el mismo número de arrays 1D que el original\n",
            "\n",
            "En este caso, para los primeros 2 arrays 2D, cada array 1D tiene 2 elementos.\n",
            "para los arrays 2D restantes, cada array 1D tiene 1 elementos\n",
            "[[ 1  2]\n",
            " [ 6  7]\n",
            " [11 12]\n",
            " [16 17]]\n",
            "[[ 3  4]\n",
            " [ 8  9]\n",
            " [13 14]\n",
            " [18 19]]\n",
            "[[ 5]\n",
            " [10]\n",
            " [15]\n",
            " [20]]\n",
            "\n",
            "Dividimos el array original 2D en 4 arrays con axis = 1\n",
            "n = 5, m = 4, q = 1, r = 1\n",
            "Los 4 arrays resultantes contienen el mismo número de arrays 1D que el original\n",
            "\n",
            "En este caso, para los primeros 1 arrays 2D, cada array 1D tiene 2 elementos.\n",
            "para los arrays 2D restantes, cada array 1D tiene 1 elementos\n",
            "[[ 1  2]\n",
            " [ 6  7]\n",
            " [11 12]\n",
            " [16 17]]\n",
            "[[ 3]\n",
            " [ 8]\n",
            " [13]\n",
            " [18]]\n",
            "[[ 4]\n",
            " [ 9]\n",
            " [14]\n",
            " [19]]\n",
            "[[ 5]\n",
            " [10]\n",
            " [15]\n",
            " [20]]\n",
            "\n",
            "Dividimos el array original 2D en 5 arrays con axis = 1\n",
            "n = 5, m = 5, q = 1, r = 0\n",
            "Los 5 arrays resultantes contienen el mismo número de arrays 1D que el original\n",
            "cada uno de ellos con el mismo número de elementos: 1\n",
            "[[ 1]\n",
            " [ 6]\n",
            " [11]\n",
            " [16]]\n",
            "[[ 2]\n",
            " [ 7]\n",
            " [12]\n",
            " [17]]\n",
            "[[ 3]\n",
            " [ 8]\n",
            " [13]\n",
            " [18]]\n",
            "[[ 4]\n",
            " [ 9]\n",
            " [14]\n",
            " [19]]\n",
            "[[ 5]\n",
            " [10]\n",
            " [15]\n",
            " [20]]\n"
          ]
        }
      ]
    },
    {
      "cell_type": "markdown",
      "metadata": {
        "id": "R1YrJtN8eJc6"
      },
      "source": [
        "---\n",
        "\n"
      ]
    },
    {
      "cell_type": "markdown",
      "metadata": {
        "id": "tVAmM1nLeXcP"
      },
      "source": [
        "#### El método `.hsplit()`\n",
        "\n",
        "`numpy` nos proporciona una función helper, el método `.hsplit()` que lleva a cabo el proceso inverso a `.hstack()`"
      ]
    },
    {
      "cell_type": "code",
      "metadata": {
        "colab": {
          "base_uri": "https://localhost:8080/"
        },
        "id": "BJb-bp3Pea4N",
        "outputId": "97f10cde-9553-484b-9594-314545751fe6"
      },
      "source": [
        "a = np.array([[1, 2, 3, 4, 5], \n",
        "              [6, 7, 8, 9, 10],\n",
        "              [11, 12, 13, 14, 15], \n",
        "              [16, 17, 18, 19, 20]])\n",
        "\n",
        "for i in np.hsplit(a, 5):\n",
        "  print(i)"
      ],
      "execution_count": 114,
      "outputs": [
        {
          "output_type": "stream",
          "name": "stdout",
          "text": [
            "[[ 1]\n",
            " [ 6]\n",
            " [11]\n",
            " [16]]\n",
            "[[ 2]\n",
            " [ 7]\n",
            " [12]\n",
            " [17]]\n",
            "[[ 3]\n",
            " [ 8]\n",
            " [13]\n",
            " [18]]\n",
            "[[ 4]\n",
            " [ 9]\n",
            " [14]\n",
            " [19]]\n",
            "[[ 5]\n",
            " [10]\n",
            " [15]\n",
            " [20]]\n"
          ]
        }
      ]
    },
    {
      "cell_type": "markdown",
      "metadata": {
        "id": "1Sp1EvVTe4yN"
      },
      "source": [
        "El resultado de este método es equivalente al que obtendríamos si usáramos el método `.array_split()` con `axis = 1`. No obstante, este método dará error si el número de arrays en que queremos dividir el array original, $m$, no coincide con el número de elementos que contiene cada array 1D del array original 2D, $n$."
      ]
    },
    {
      "cell_type": "markdown",
      "metadata": {
        "id": "4b7WuSp9fQ0z"
      },
      "source": [
        "#### El método `.vsplit()`\n",
        "\n"
      ]
    },
    {
      "cell_type": "markdown",
      "metadata": {
        "id": "EDYbMcqvfXSp"
      },
      "source": [
        "`numpy` nos proporciona una función helper, el método `.vsplit()` que lleva a cabo el proceso inverso a `.vstack()`"
      ]
    },
    {
      "cell_type": "code",
      "metadata": {
        "colab": {
          "base_uri": "https://localhost:8080/"
        },
        "id": "AHggFGVQer2N",
        "outputId": "7ada0f2a-3e6e-40fb-9376-20a4226527b2"
      },
      "source": [
        "a = np.array([[1, 2, 3, 4, 5], \n",
        "              [6, 7, 8, 9, 10],\n",
        "              [11, 12, 13, 14, 15], \n",
        "              [16, 17, 18, 19, 20]])\n",
        "\n",
        "for i in np.vsplit(a, 2):\n",
        "  print(i)"
      ],
      "execution_count": 115,
      "outputs": [
        {
          "output_type": "stream",
          "name": "stdout",
          "text": [
            "[[ 1  2  3  4  5]\n",
            " [ 6  7  8  9 10]]\n",
            "[[11 12 13 14 15]\n",
            " [16 17 18 19 20]]\n"
          ]
        }
      ]
    },
    {
      "cell_type": "markdown",
      "metadata": {
        "id": "Wv-xEFvWffr2"
      },
      "source": [
        "El resultado de este método es equivalente al que obtendríamos si usáramos el método `.array_split()` con `axis = 0`. No obstante, este método dará error si el número de arrays en que queremos dividir el array original, $m$, no coincide con el número de arrays 1D del array original 2D, $n$."
      ]
    },
    {
      "cell_type": "markdown",
      "metadata": {
        "id": "uakblw29fr7u"
      },
      "source": [
        "#### Dividiendo arrays multidimensionales\n",
        "\n",
        "Para dividir arrays $d$-dimensionales, siendo $d > 2$, podemos usar el método `.array_split()` como hasta ahora.\n",
        "\n",
        "A medida que $d$ sea mayor, tendremos más posibilidades para el parámetro `axis`. En concreto, tendremos $d$ posibles elecciones: `axis = 0`, `axis = 1`, ..., hasta `axis = d - 1`. "
      ]
    },
    {
      "cell_type": "markdown",
      "metadata": {
        "id": "FdWgT_Wggikm"
      },
      "source": [
        "#### El método `.dsplit()`\n",
        "\n",
        "Si tenemos arrays multidimensionales, cuya dimensión es mayor o igual a 3, entonces podremos usar el método `.dsplit()`, que se trata de una función helper, la inversa a `.dstack()` y se corresponde con el resultado de `.array_split()` con `axis = 2`.\n",
        "\n",
        "Lo que hay que tener en cuenta que `.dsplit()` funcionará únicamente si el número de arrays $d$-dimensionales en que queremos dividir el array $d$-dimensional original, $m$, es divisor del número de elementos que contiene cada array $(d-2)$-dimensional del array original.\n",
        "\n",
        "Si d = 3, entonces el número de arrays tridimensionales $m$ que indiquemos por parámetro deberá ser divisor del número de elementos que contiene cada array unidimensional ($d - 2 = 1$) del array tridimensional original."
      ]
    },
    {
      "cell_type": "code",
      "metadata": {
        "colab": {
          "base_uri": "https://localhost:8080/"
        },
        "id": "otgkRrLn76sH",
        "outputId": "dbfed667-943d-43c9-9918-4e75cdf09d23"
      },
      "source": [
        "a = np.array([[[1, 2, 3, 4], \n",
        "              [6, 7, 8, 9],\n",
        "              [11, 12, 13, 14], \n",
        "              [16, 17, 18, 19]], \n",
        "\n",
        "              [[1, 2, 3, 4], \n",
        "              [6, 7, 8, 9],\n",
        "              [11, 12, 13, 14], \n",
        "              [16, 17, 18, 19]]])\n",
        "\n",
        "for i in np.dsplit(a, 2):\n",
        "  print(i)"
      ],
      "execution_count": 116,
      "outputs": [
        {
          "output_type": "stream",
          "name": "stdout",
          "text": [
            "[[[ 1  2]\n",
            "  [ 6  7]\n",
            "  [11 12]\n",
            "  [16 17]]\n",
            "\n",
            " [[ 1  2]\n",
            "  [ 6  7]\n",
            "  [11 12]\n",
            "  [16 17]]]\n",
            "[[[ 3  4]\n",
            "  [ 8  9]\n",
            "  [13 14]\n",
            "  [18 19]]\n",
            "\n",
            " [[ 3  4]\n",
            "  [ 8  9]\n",
            "  [13 14]\n",
            "  [18 19]]]\n"
          ]
        }
      ]
    },
    {
      "cell_type": "markdown",
      "metadata": {
        "id": "mxbU_Lqghkzk"
      },
      "source": [
        "### Buscando elementos en un array\n",
        "\n",
        "Podemos buscar elementos en concreto de un array con el método `.where()` que nos devolverá un array de índices en los cuales se encuentra el elemento que estamos buscando.\n",
        "\n",
        "Por ejemplo, dado el siguiente array 1D `x`, busquemos en qué posiciones éste toma el valor 0. "
      ]
    },
    {
      "cell_type": "code",
      "metadata": {
        "colab": {
          "base_uri": "https://localhost:8080/"
        },
        "id": "Vyp-hqXshy9y",
        "outputId": "0f18ac26-c1b5-4fad-c09c-6c696d98785d"
      },
      "source": [
        "x = np.array([1, 0, -1, 0, 2, 0, -2, 0])\n",
        "idx0 = np.where(x == 0) \n",
        "\n",
        "print(idx0)"
      ],
      "execution_count": 117,
      "outputs": [
        {
          "output_type": "stream",
          "name": "stdout",
          "text": [
            "(array([1, 3, 5, 7]),)\n"
          ]
        }
      ]
    },
    {
      "cell_type": "markdown",
      "metadata": {
        "id": "Ljmv3UfSiD9q"
      },
      "source": [
        "Como resultado hemos obtenido que en los índices 1, 3, 5 y 7 del array `x` se toma el valor 0."
      ]
    },
    {
      "cell_type": "markdown",
      "metadata": {
        "id": "KAEldycbiOhd"
      },
      "source": [
        "**Observación.** Podemos poner cualquier tipo de condición a modo de argumento del método `.where()`.\n",
        "\n",
        "Dado el siguiente array 1D `y`, busquemos en qué índices se toman valores pares."
      ]
    },
    {
      "cell_type": "code",
      "metadata": {
        "colab": {
          "base_uri": "https://localhost:8080/"
        },
        "id": "1QZcd8iPiCSr",
        "outputId": "ec2518c3-c282-4ad7-e960-f40e3c8eec0d"
      },
      "source": [
        "y = np.array([2, 3, 6, 7, 14, 15, 30, 31])\n",
        "z = np.where(y % 2 == 0)\n",
        "\n",
        "print(z)"
      ],
      "execution_count": 118,
      "outputs": [
        {
          "output_type": "stream",
          "name": "stdout",
          "text": [
            "(array([0, 2, 4, 6]),)\n"
          ]
        }
      ]
    },
    {
      "cell_type": "code",
      "metadata": {
        "colab": {
          "base_uri": "https://localhost:8080/"
        },
        "id": "mq34UMyl9-ej",
        "outputId": "aed9d90f-e297-4759-dbe4-c7f78422e437"
      },
      "source": [
        "y = np.array([[2, 3, 6, 7],\n",
        "              [14, 15, 30, 31]])\n",
        "z = np.where(y % 2 == 0)\n",
        "\n",
        "print(z)"
      ],
      "execution_count": 119,
      "outputs": [
        {
          "output_type": "stream",
          "name": "stdout",
          "text": [
            "(array([0, 0, 1, 1]), array([0, 2, 0, 2]))\n"
          ]
        }
      ]
    },
    {
      "cell_type": "markdown",
      "metadata": {
        "id": "t3xJhvUNi5al"
      },
      "source": [
        "#### El método `.searchsorted()`\n",
        "\n",
        "El método `.searchsorted()` lleva a cabo una búsqueda binaria en el array y devuelve los índices donde el valor indicado por parámetro sería colocado de modo que se mantuviese el orden de búsqueda:"
      ]
    },
    {
      "cell_type": "code",
      "metadata": {
        "colab": {
          "base_uri": "https://localhost:8080/"
        },
        "id": "7-28sxbAinPC",
        "outputId": "6afb04e0-da64-4bb1-ce51-9db6f24ff470"
      },
      "source": [
        "a = np.array([-10, -9, -8, -7])\n",
        "b = np.searchsorted(a, -9.5)\n",
        "c = np.searchsorted(a, -6.5)\n",
        "print(\"El elemento -9.5 deberá ocupar el índice\", b)\n",
        "print(\"El elemento -6.5 deberá ocupar el índice\", c)"
      ],
      "execution_count": 120,
      "outputs": [
        {
          "output_type": "stream",
          "name": "stdout",
          "text": [
            "El elemento -9.5 deberá ocupar el índice 1\n",
            "El elemento -6.5 deberá ocupar el índice 4\n"
          ]
        }
      ]
    },
    {
      "cell_type": "markdown",
      "metadata": {
        "id": "8V4r2yrYj7Cm"
      },
      "source": [
        "**Observación.** En caso de no proporcionar un array ya ordenado, `numpy` lo ordena por defecto:\n",
        "\n",
        "* Los números van en orden ascendente\n",
        "* Las letras y strings en orden alfabético"
      ]
    },
    {
      "cell_type": "code",
      "metadata": {
        "colab": {
          "base_uri": "https://localhost:8080/"
        },
        "id": "PeU4vDl3jeYQ",
        "outputId": "952f23c1-1279-4215-cbc2-3084b9569c8e"
      },
      "source": [
        "a = np.array([-10, -8, -9, -7])\n",
        "b = np.searchsorted(a, -9.5)\n",
        "c = np.searchsorted(a, -6.5)\n",
        "print(\"El elemento -9.5 deberá ocupar el índice\", b)\n",
        "print(\"El elemento -6.5 deberá ocupar el índice\", c)"
      ],
      "execution_count": 121,
      "outputs": [
        {
          "output_type": "stream",
          "name": "stdout",
          "text": [
            "El elemento -9.5 deberá ocupar el índice 1\n",
            "El elemento -6.5 deberá ocupar el índice 4\n"
          ]
        }
      ]
    },
    {
      "cell_type": "markdown",
      "metadata": {
        "id": "IMy5ytnzTl6u"
      },
      "source": [
        "Por defecto, se nos devuelve el primer índice (empezando por la izquierda) que podría ocupar el elemento que queremos introducir dentro del array. Para mostrar el último índice que podría ocupar dicho elemento, existe un parámetro llamado `side` y habrá que igualarlo a `\"right\"` para obtener dicho índice:"
      ]
    },
    {
      "cell_type": "code",
      "metadata": {
        "colab": {
          "base_uri": "https://localhost:8080/"
        },
        "id": "Gji6uwXCj3HI",
        "outputId": "e09300b2-e243-4174-d03a-81066d97b2c0"
      },
      "source": [
        "a = np.array([-10, -9, -8, -7])\n",
        "b_left = np.searchsorted(a, -9, side = \"left\")\n",
        "b_right = np.searchsorted(a, -9, side = \"right\")\n",
        "c_left = np.searchsorted(a, -7, side = \"left\")\n",
        "c_right = np.searchsorted(a, -7, side = \"right\")\n",
        "print(\"El elemento -9 puede ocupar como pronto el índice\", b_left)\n",
        "print(\"El elemento -9  puede ocupar como tarde el índice\", b_right)\n",
        "print(\"El elemento -7 puede ocupar como pronto el índice\", c_left)\n",
        "print(\"El elemento -7 puede ocupar como tarde  el índice\", c_right)"
      ],
      "execution_count": 122,
      "outputs": [
        {
          "output_type": "stream",
          "name": "stdout",
          "text": [
            "El elemento -9 puede ocupar como pronto el índice 1\n",
            "El elemento -9  puede ocupar como tarde el índice 2\n",
            "El elemento -7 puede ocupar como pronto el índice 3\n",
            "El elemento -7 puede ocupar como tarde  el índice 4\n"
          ]
        }
      ]
    },
    {
      "cell_type": "markdown",
      "metadata": {
        "id": "nGUZp51zVv1-"
      },
      "source": [
        "En vez de ir de elemento en elemento, podemos introducir por parámetro una lista de elementos a introducir en el array:"
      ]
    },
    {
      "cell_type": "code",
      "metadata": {
        "colab": {
          "base_uri": "https://localhost:8080/"
        },
        "id": "EbJqfWh4Uo6v",
        "outputId": "ee160597-e645-408a-8a2c-01c25b0d107d"
      },
      "source": [
        "x = np.array([4, 8, 12, 16])\n",
        "y = np.searchsorted(x, [3, 6, 9])\n",
        "print(y)"
      ],
      "execution_count": 123,
      "outputs": [
        {
          "output_type": "stream",
          "name": "stdout",
          "text": [
            "[0 1 2]\n"
          ]
        }
      ]
    },
    {
      "cell_type": "markdown",
      "metadata": {
        "id": "7HswImtOWEqh"
      },
      "source": [
        "Como resultado obtendremos un array con los índices en que se introducirían cada uno de los elementos de la lista dentro del array:\n",
        "\n",
        "* El elemento 3 ocuparía el índice 0 dentro del array original `x`, quedando como resultado `[3, 4, 8, 12, 16]`\n",
        "* El elemento 6 ocuparía el índice 1 dentro del array original `x` quedando como resultado `[4, 6, 8, 12, 16]`\n",
        "* El elemento 9 ocuparía el índice 2 dentro del array original `x` quedando como resultado `[4, 8, 9, 12, 16]`"
      ]
    },
    {
      "cell_type": "markdown",
      "metadata": {
        "id": "OnUtcdCwXb3W"
      },
      "source": [
        "### Ordenando arrays\n",
        "\n",
        "Ordenar arrays implica reordenar los elementos siguiendo una secuencia ordenada.\n",
        "\n",
        "A su vez, una secuencia ordenada es cualquier sucesión que tiene un orden ciuos elementos siguen, como por ejemplo el orden alfabético o numérico, tanto ascendente como descendente.\n",
        "\n",
        "Para ordenar los elementos de un array, disponemos del método `.sort()`"
      ]
    },
    {
      "cell_type": "code",
      "metadata": {
        "colab": {
          "base_uri": "https://localhost:8080/"
        },
        "id": "JKIQN9EnXzo-",
        "outputId": "1f34267d-85ef-4c82-fb71-4982936ac312"
      },
      "source": [
        "x = np.array([\"c\", \"m\", \"k\", \"z\", \"a\"])\n",
        "print(np.sort(x))"
      ],
      "execution_count": 124,
      "outputs": [
        {
          "output_type": "stream",
          "name": "stdout",
          "text": [
            "['a' 'c' 'k' 'm' 'z']\n"
          ]
        }
      ]
    },
    {
      "cell_type": "code",
      "metadata": {
        "colab": {
          "base_uri": "https://localhost:8080/"
        },
        "id": "QfpVtbmWX7hm",
        "outputId": "e1d2df18-f8ef-43ad-ea9c-6287a89b8bff"
      },
      "source": [
        "x = np.array([\"caracol\", \"mariposa\", \"escarabajo\", \"perezoso\", \"armadillo\"])\n",
        "print(np.sort(x))"
      ],
      "execution_count": 125,
      "outputs": [
        {
          "output_type": "stream",
          "name": "stdout",
          "text": [
            "['armadillo' 'caracol' 'escarabajo' 'mariposa' 'perezoso']\n"
          ]
        }
      ]
    },
    {
      "cell_type": "code",
      "metadata": {
        "colab": {
          "base_uri": "https://localhost:8080/"
        },
        "id": "MEZimUTQYFbZ",
        "outputId": "38843823-3752-4fdb-cca1-ecb48f005524"
      },
      "source": [
        "x = np.array([2, -2, 5, -5, 10, -10, 0])\n",
        "print(np.sort(x))"
      ],
      "execution_count": 126,
      "outputs": [
        {
          "output_type": "stream",
          "name": "stdout",
          "text": [
            "[-10  -5  -2   0   2   5  10]\n"
          ]
        }
      ]
    },
    {
      "cell_type": "code",
      "metadata": {
        "colab": {
          "base_uri": "https://localhost:8080/"
        },
        "id": "S3As5IdHYMHJ",
        "outputId": "6a345159-168f-4cef-d1d4-0897664890be"
      },
      "source": [
        "x = np.array([2.5, -2.3, 5.1, -5.7, 10.9, -10.6, 0.4])\n",
        "print(np.sort(x))"
      ],
      "execution_count": 127,
      "outputs": [
        {
          "output_type": "stream",
          "name": "stdout",
          "text": [
            "[-10.6  -5.7  -2.3   0.4   2.5   5.1  10.9]\n"
          ]
        }
      ]
    },
    {
      "cell_type": "code",
      "metadata": {
        "colab": {
          "base_uri": "https://localhost:8080/"
        },
        "id": "yW8PhfBdYgUS",
        "outputId": "0b8eee1b-8e9a-4bac-f4ba-17cc761c67ea"
      },
      "source": [
        "x = np.array([True, False, True, False])\n",
        "print(np.sort(x))"
      ],
      "execution_count": 128,
      "outputs": [
        {
          "output_type": "stream",
          "name": "stdout",
          "text": [
            "[False False  True  True]\n"
          ]
        }
      ]
    },
    {
      "cell_type": "markdown",
      "metadata": {
        "id": "AuRAAzZYYXNE"
      },
      "source": [
        "A modo de resultado obtenemos una copia del array original, con los elementos ordenados por defecto de forma ascendente."
      ]
    },
    {
      "cell_type": "markdown",
      "metadata": {
        "id": "elIDMGwja1GS"
      },
      "source": [
        "También podemos ordenar arrays multidimensionales:"
      ]
    },
    {
      "cell_type": "code",
      "metadata": {
        "colab": {
          "base_uri": "https://localhost:8080/"
        },
        "id": "z5zUkUiaYQRn",
        "outputId": "c0429e0e-d328-4ce2-c64b-1e84085ad222"
      },
      "source": [
        "y = np.array([[2, 4, 3], [-4, -2, -3]])\n",
        "print(np.sort(y))"
      ],
      "execution_count": 129,
      "outputs": [
        {
          "output_type": "stream",
          "name": "stdout",
          "text": [
            "[[ 2  3  4]\n",
            " [-4 -3 -2]]\n"
          ]
        }
      ]
    },
    {
      "cell_type": "markdown",
      "metadata": {
        "id": "OnHTxGO1bCtJ"
      },
      "source": [
        "Y podemos elegir sobre qué eje ordenarlos con el parámetro `axis`"
      ]
    },
    {
      "cell_type": "code",
      "metadata": {
        "colab": {
          "base_uri": "https://localhost:8080/"
        },
        "id": "A69ReS8HYqLx",
        "outputId": "08f3490c-f581-4589-c188-effaaf232f13"
      },
      "source": [
        "y = np.array([[2, 4, 3], [-4, -2, -3]])\n",
        "print(np.sort(y, axis = 0))\n",
        "print(np.sort(y, axis = 1))"
      ],
      "execution_count": 130,
      "outputs": [
        {
          "output_type": "stream",
          "name": "stdout",
          "text": [
            "[[-4 -2 -3]\n",
            " [ 2  4  3]]\n",
            "[[ 2  3  4]\n",
            " [-4 -3 -2]]\n"
          ]
        }
      ]
    },
    {
      "cell_type": "markdown",
      "metadata": {
        "id": "CnlXuZgWbhh3"
      },
      "source": [
        "Por defecto, si no indicamos el parámetro `axis` se ordena siempre con respecto al último eje.\n",
        "\n",
        "`axis = 0` ordena los elementos dentro de la mayor dimensión. En este caso, ordena los arrays 1D dentro del array 2D.\n",
        "\n",
        "`axis = 1` ordena los elementos dentro de la segunda mayor dimensión. En este caso, ordena los elementos de los arrays 1D.\n",
        "\n",
        "**Observación.** Dado un array $n$-dimensional, tendremos $n$ opciones para `axis`: 0 (dimensión mayor), 1 (segunda mayor dimensión), ..., $n-1$ (dimensión menor, equivalente a no indicar parámetro `axis` o igualar `axis = -1`)."
      ]
    },
    {
      "cell_type": "markdown",
      "metadata": {
        "id": "NHmbVPwUfqJo"
      },
      "source": [
        "### Elementos aleatorios en `numpy`\n",
        "\n",
        "**Número aleatorio.** Un número aleatorio singifica que se trata de un número que no puede ser predicho lógicamente.\n",
        "\n",
        "**¡Cuidado!** No hay que confundir número aleatorio con que se genere un número diferente cada vez que ejecutemos.\n",
        "\n",
        "Como los ordenadores trabajan mediante algoritmos, un programa destinado a generar números aleatorios implica que los números no serán realmente aleatorios. Los números aleatorios generados mediante un algoritmo son conocidos como **números pseudoaleatorios**.\n",
        "\n",
        "En este apartado trabajaremos con números pseudoaleatorios y veremos como generarlos.\n",
        "\n"
      ]
    },
    {
      "cell_type": "markdown",
      "metadata": {
        "id": "9WUzoMhKg9eB"
      },
      "source": [
        "#### El módulo `random`\n",
        "\n",
        "`numpy` tiene el módulo `random` dedicado a trabajar con números aleatorios\n",
        "\n",
        "Para generar números enteros aleatorios, usamos el método `.randint()`\n"
      ]
    },
    {
      "cell_type": "code",
      "metadata": {
        "id": "aRCcROTtbKz5"
      },
      "source": [
        "from numpy import random"
      ],
      "execution_count": 136,
      "outputs": []
    },
    {
      "cell_type": "code",
      "metadata": {
        "colab": {
          "base_uri": "https://localhost:8080/"
        },
        "id": "bFN7O7oHhJin",
        "outputId": "c5c9d3f4-3902-4340-e004-03e8e4301fe1"
      },
      "source": [
        "# Generamos un número entero aleatorio del 1 al 20\n",
        "n = random.randint(1, 20)\n",
        "print(n)"
      ],
      "execution_count": 135,
      "outputs": [
        {
          "output_type": "stream",
          "name": "stdout",
          "text": [
            "4\n"
          ]
        }
      ]
    },
    {
      "cell_type": "code",
      "metadata": {
        "colab": {
          "base_uri": "https://localhost:8080/"
        },
        "id": "nsUMXOAphVWB",
        "outputId": "74b2661f-2fcd-4c1c-fa2d-5124b4d18472"
      },
      "source": [
        "# Generamos un número entero aleatorio del 0 al 10\n",
        "m = random.randint(10)\n",
        "print(m)"
      ],
      "execution_count": 134,
      "outputs": [
        {
          "output_type": "stream",
          "name": "stdout",
          "text": [
            "9\n"
          ]
        }
      ]
    },
    {
      "cell_type": "markdown",
      "metadata": {
        "id": "NRpnodAkhjDo"
      },
      "source": [
        "Para generar números reales aleatorios dentro del intervalo $[0, 1]$, usamos el método `.rand()`"
      ]
    },
    {
      "cell_type": "code",
      "metadata": {
        "colab": {
          "base_uri": "https://localhost:8080/"
        },
        "id": "ZONsA67fharJ",
        "outputId": "e3126ad3-e1f4-4807-f62e-480d6247e5a9"
      },
      "source": [
        "# Generamos un número real aleatorio entre el 0 y el 1\n",
        "x = random.rand()\n",
        "print(x)"
      ],
      "execution_count": 137,
      "outputs": [
        {
          "output_type": "stream",
          "name": "stdout",
          "text": [
            "0.26120579120710474\n"
          ]
        }
      ]
    },
    {
      "cell_type": "markdown",
      "metadata": {
        "id": "-N1BS6noiFdf"
      },
      "source": [
        "#### Arrays aleatorios\n",
        "\n",
        "Podemos generar arrays aleatorios tanto con el método `.randint()` como con el método `.rand()`"
      ]
    },
    {
      "cell_type": "code",
      "metadata": {
        "colab": {
          "base_uri": "https://localhost:8080/"
        },
        "id": "_2aM6VEZh214",
        "outputId": "d7ceedd8-5ec6-434d-ba61-372a458be5d5"
      },
      "source": [
        "# Generamos un array 1D de 5 elementos enteros aleatorios\n",
        "a = random.randint(100, size = 5)\n",
        "print(a)"
      ],
      "execution_count": 138,
      "outputs": [
        {
          "output_type": "stream",
          "name": "stdout",
          "text": [
            "[17 34 49 73 58]\n"
          ]
        }
      ]
    },
    {
      "cell_type": "code",
      "metadata": {
        "colab": {
          "base_uri": "https://localhost:8080/"
        },
        "id": "ulnO_Cvwib5l",
        "outputId": "74ea061f-dac9-4628-d295-277301e45b08"
      },
      "source": [
        "# Generamos un array 1D de 3 elementos reales aleatorios\n",
        "b = random.rand(3)\n",
        "print(b)"
      ],
      "execution_count": 139,
      "outputs": [
        {
          "output_type": "stream",
          "name": "stdout",
          "text": [
            "[0.33030538 0.85270056 0.80302172]\n"
          ]
        }
      ]
    },
    {
      "cell_type": "code",
      "metadata": {
        "colab": {
          "base_uri": "https://localhost:8080/"
        },
        "id": "O6-11x2fiifb",
        "outputId": "3c80d3fc-1819-4f1b-c22a-6dc0edda355b"
      },
      "source": [
        "# Generamos un array 2D de 5 arrays 1D cada uno con 4 enteros aleatorios\n",
        "c = random.randint(50, size = (5, 4))\n",
        "print(c)"
      ],
      "execution_count": 140,
      "outputs": [
        {
          "output_type": "stream",
          "name": "stdout",
          "text": [
            "[[22 37 21 32]\n",
            " [26 34 20 24]\n",
            " [42 11 30 11]\n",
            " [ 5 30 17  3]\n",
            " [ 9 46 24 14]]\n"
          ]
        }
      ]
    },
    {
      "cell_type": "code",
      "metadata": {
        "colab": {
          "base_uri": "https://localhost:8080/"
        },
        "id": "iXoNyurdisZn",
        "outputId": "5c1f86f7-df27-46ce-ed72-d26243a21ab0"
      },
      "source": [
        "# Generamos un array 3D de 2 arrays 2D cada uno con 4 arrays 1D\n",
        "#   cada uno con 3 reales aleatorios\n",
        "d = random.rand(2, 4, 3)\n",
        "print(d)"
      ],
      "execution_count": 141,
      "outputs": [
        {
          "output_type": "stream",
          "name": "stdout",
          "text": [
            "[[[0.03336212 0.65438675 0.99766572]\n",
            "  [0.2683042  0.50161131 0.2664576 ]\n",
            "  [0.38338917 0.51532003 0.7258102 ]\n",
            "  [0.32917101 0.72399394 0.35562028]]\n",
            "\n",
            " [[0.82920607 0.51861468 0.65196359]\n",
            "  [0.6186471  0.89237559 0.7163549 ]\n",
            "  [0.41961168 0.34987288 0.5019301 ]\n",
            "  [0.42483795 0.38057148 0.6473463 ]]]\n"
          ]
        }
      ]
    },
    {
      "cell_type": "markdown",
      "metadata": {
        "id": "Mm_4umkJjI_-"
      },
      "source": [
        "#### Elegir un elemento aleatorio de un array\n",
        "\n",
        "Dado un array, podemos elegir aleatoriamente un elemento suyo con el método `.choice()`"
      ]
    },
    {
      "cell_type": "code",
      "metadata": {
        "colab": {
          "base_uri": "https://localhost:8080/"
        },
        "id": "jZTvsIL0jA_V",
        "outputId": "01cb898a-435d-45cb-f6bf-7b2eee3a22e0"
      },
      "source": [
        "x = np.array([1, 2, 3, 4, 5, -5, -4, -3, -2, -1])\n",
        "print(random.choice(x))"
      ],
      "execution_count": 142,
      "outputs": [
        {
          "output_type": "stream",
          "name": "stdout",
          "text": [
            "-4\n"
          ]
        }
      ]
    },
    {
      "cell_type": "markdown",
      "metadata": {
        "id": "yJrriJDgjh-r"
      },
      "source": [
        "El método `.choice()` también consta del parámetro `size`, con lo cual podemos generar un array aleatorio con los elementos de un array dado:"
      ]
    },
    {
      "cell_type": "code",
      "metadata": {
        "colab": {
          "base_uri": "https://localhost:8080/"
        },
        "id": "Zaq-KcLHjbjP",
        "outputId": "6372aacd-096e-40da-b8a0-47dc725ef80e"
      },
      "source": [
        "print(random.choice(x, size = (3, 6)))"
      ],
      "execution_count": 143,
      "outputs": [
        {
          "output_type": "stream",
          "name": "stdout",
          "text": [
            "[[-5  2  1  3  5 -5]\n",
            " [-5  2 -2  4 -4 -4]\n",
            " [-3 -5  2 -3  4  2]]\n"
          ]
        }
      ]
    },
    {
      "cell_type": "markdown",
      "metadata": {
        "id": "zbOew4_Ij7lH"
      },
      "source": [
        "**¡Cuidado!** El método `.choice()` solamente toma como parámetro arrays unidimensionales"
      ]
    },
    {
      "cell_type": "markdown",
      "metadata": {
        "id": "STDkSuc9lE3F"
      },
      "source": [
        "Existe otro parámetro del método `.choice()` que nos permite modificar las probabilidades de cada elemento. Éste es el parámetro `p`, al que le tendremos que proporcionar una lista de probabilidades (todos los elementos deben ser menores o iguales a 1 y la suma de todos ellos debe ser 1).\n",
        "\n",
        "**Observación.** Por defecto, todos los elementos son equiprobables, es decir, tienen la misma probabilidad que es $\\frac{1}{n}$, siendo $n$ el número de elementos del array."
      ]
    },
    {
      "cell_type": "code",
      "metadata": {
        "colab": {
          "base_uri": "https://localhost:8080/"
        },
        "id": "oUK1Bv-rlXm7",
        "outputId": "647f1ea2-6b20-44f4-814c-90388b726cd6"
      },
      "source": [
        "x = np.array([1, 2, 3, 4, 5, -5, -4, -3, -2, -1])\n",
        "print(random.choice(x, \n",
        "                    p = [0.2, 0.2, 0.05, 0.05, 0.05, 0.05, 0.1, 0.1, 0.05, 0.15],\n",
        "                    size = (2, 6)))"
      ],
      "execution_count": 145,
      "outputs": [
        {
          "output_type": "stream",
          "name": "stdout",
          "text": [
            "[[ 4 -1 -3 -4  2 -4]\n",
            " [ 2  2  2  1 -3  2]]\n"
          ]
        }
      ]
    },
    {
      "cell_type": "markdown",
      "metadata": {
        "id": "BtCUS1vgmBCr"
      },
      "source": [
        "En el chunk anterior se ha generado un array 2D con 2 arrays 1D cada uno con 6 elementos, donde las probabilidades para los elementos del array original son:\n",
        "\n",
        "* Los elementos `1` y `2` tienen probabilidad 0.2 de salir\n",
        "* El elemento `-1` tiene probabilidad 0.15\n",
        "* Los elementos `-4` y `-3` tienen probabilidad 0.1 de salir\n",
        "* Los elementos `3`, `4`, `5`, `6` y `-2` tienen probabilidad 0.05\n",
        "\n",
        "Todas las probabilidades se encuentran en el intervalo $[0, 1]$ y si las sumamos dan 1."
      ]
    },
    {
      "cell_type": "markdown",
      "metadata": {
        "id": "t4hsNgnim2Lc"
      },
      "source": [
        "#### Permutaciones aleatorias\n",
        "\n",
        "**Permutación.** Una permutación de un array se refiere a la reordenación de sus elementos.\n",
        "\n",
        "El módulo `random` de `numpy` nos proporciona dos métodos para crear permutaciones aleatorias de un array dado:\n",
        "\n",
        "* `.shuffle()` modifica el array original\n",
        "* `.permutation()` que crea una copia\n"
      ]
    },
    {
      "cell_type": "code",
      "metadata": {
        "colab": {
          "base_uri": "https://localhost:8080/"
        },
        "id": "c6JyERwfl_R6",
        "outputId": "44d44830-e65b-4e8b-a1c1-c2a8734e9c21"
      },
      "source": [
        "a = np.array([1, 2, 3, 4])\n",
        "random.shuffle(a)\n",
        "\n",
        "print(\"Array original permutado:\", a)"
      ],
      "execution_count": 146,
      "outputs": [
        {
          "output_type": "stream",
          "name": "stdout",
          "text": [
            "Array original permutado: [1 3 2 4]\n"
          ]
        }
      ]
    },
    {
      "cell_type": "code",
      "metadata": {
        "colab": {
          "base_uri": "https://localhost:8080/"
        },
        "id": "Un9yJnDLpml6",
        "outputId": "c8cd4059-1b63-4b68-fb83-e906acbe58a1"
      },
      "source": [
        "a = np.array([1, 2, 3, 4])\n",
        "b = random.permutation(a)\n",
        "\n",
        "print(\"Array original permutado:\", b)\n",
        "print(\"Array original:\", a)"
      ],
      "execution_count": 147,
      "outputs": [
        {
          "output_type": "stream",
          "name": "stdout",
          "text": [
            "Array original permutado: [4 1 3 2]\n",
            "Array original: [1 2 3 4]\n"
          ]
        }
      ]
    },
    {
      "cell_type": "markdown",
      "metadata": {
        "id": "fRE51UGhqkCh"
      },
      "source": [
        "### Funciones universales\n",
        "\n",
        "Las funciones universales son aquellas que operan sobre el objeto ndarray\n",
        "\n",
        "Podemos comprobar si un método se trata de una función universal con la función `type`. Cuando se trata de una función universal, obtenemos que es de tipo `np.ufunc`"
      ]
    },
    {
      "cell_type": "code",
      "metadata": {
        "colab": {
          "base_uri": "https://localhost:8080/"
        },
        "id": "kySYHm3PsQvH",
        "outputId": "3acd49bf-2f3f-4531-adc5-05c9d3c1abf6"
      },
      "source": [
        "# Es una función universal\n",
        "print(type(np.multiply))"
      ],
      "execution_count": 148,
      "outputs": [
        {
          "output_type": "stream",
          "name": "stdout",
          "text": [
            "<class 'numpy.ufunc'>\n"
          ]
        }
      ]
    },
    {
      "cell_type": "code",
      "metadata": {
        "colab": {
          "base_uri": "https://localhost:8080/"
        },
        "id": "a1E9M6IMs2Bt",
        "outputId": "92fca6de-2e65-4627-cc26-0f031e728574"
      },
      "source": [
        "type(np.multiply) == np.ufunc"
      ],
      "execution_count": 149,
      "outputs": [
        {
          "output_type": "execute_result",
          "data": {
            "text/plain": [
              "True"
            ]
          },
          "metadata": {},
          "execution_count": 149
        }
      ]
    },
    {
      "cell_type": "code",
      "metadata": {
        "colab": {
          "base_uri": "https://localhost:8080/"
        },
        "id": "6W7x51u9sLZD",
        "outputId": "882bbaa2-565a-4f07-e475-773469ff3297"
      },
      "source": [
        "# No es una función universal\n",
        "print(type(np.concatenate))"
      ],
      "execution_count": 150,
      "outputs": [
        {
          "output_type": "stream",
          "name": "stdout",
          "text": [
            "<class 'function'>\n"
          ]
        }
      ]
    },
    {
      "cell_type": "code",
      "metadata": {
        "colab": {
          "base_uri": "https://localhost:8080/"
        },
        "id": "a2pXuSfZs7J3",
        "outputId": "b88debc3-3464-4819-b31a-bfa08316dee2"
      },
      "source": [
        "type(np.concatenate) == np.ufunc"
      ],
      "execution_count": 151,
      "outputs": [
        {
          "output_type": "execute_result",
          "data": {
            "text/plain": [
              "False"
            ]
          },
          "metadata": {},
          "execution_count": 151
        }
      ]
    },
    {
      "cell_type": "markdown",
      "metadata": {
        "id": "h8Xb-y8rq3e7"
      },
      "source": [
        "#### Creando nuestras propias funciones universales\n",
        "\n",
        "Para crear una función universal propia, primero necesitamos definir una función tal cual aprendimos. A continuación, hay que añadirla a `numpy` con el método `.frompyfunc()`, que tomará por parámetros la función `function`, el número de inputs (arrays), `inputs` y el número de arrays que devuelve, `outputs`:"
      ]
    },
    {
      "cell_type": "code",
      "metadata": {
        "colab": {
          "base_uri": "https://localhost:8080/"
        },
        "id": "dusgi-ERqIBf",
        "outputId": "f1ff04a5-5bec-4959-8e71-181dfd21cd97"
      },
      "source": [
        "def my_sum(x, y):\n",
        "  return x + y\n",
        "\n",
        "my_sum = np.frompyfunc(my_sum, 2, 1) \n",
        "# function = my_sum\n",
        "# inputs = 2, pues my_sum toma dos arrays\n",
        "# outputs = 1, pues my_sum devuelve un array, el array suma\n",
        "\n",
        "a = np.array([1, 0, 7])\n",
        "b = np.array([-1, 2, 5])\n",
        "print(my_sum(a, b))"
      ],
      "execution_count": 152,
      "outputs": [
        {
          "output_type": "stream",
          "name": "stdout",
          "text": [
            "[0 2 12]\n"
          ]
        }
      ]
    },
    {
      "cell_type": "code",
      "metadata": {
        "colab": {
          "base_uri": "https://localhost:8080/"
        },
        "id": "JaNYKqmgx2DZ",
        "outputId": "1e4f17fb-203e-48ef-8c0e-4a60e6919ae6"
      },
      "source": [
        "my_sum(np.array([[1,2], [3,4]]), np.array([[1,0], [-1,0]]))"
      ],
      "execution_count": 153,
      "outputs": [
        {
          "output_type": "execute_result",
          "data": {
            "text/plain": [
              "array([[2, 2],\n",
              "       [2, 4]], dtype=object)"
            ]
          },
          "metadata": {},
          "execution_count": 153
        }
      ]
    },
    {
      "cell_type": "code",
      "metadata": {
        "colab": {
          "base_uri": "https://localhost:8080/"
        },
        "id": "UiostM1Er7bq",
        "outputId": "6640e7d2-bd62-4f41-faaa-c14c1b0111d8"
      },
      "source": [
        "print(type(my_sum))"
      ],
      "execution_count": 154,
      "outputs": [
        {
          "output_type": "stream",
          "name": "stdout",
          "text": [
            "<class 'numpy.ufunc'>\n"
          ]
        }
      ]
    },
    {
      "cell_type": "markdown",
      "metadata": {
        "id": "sq0dnZcStDUF"
      },
      "source": [
        "#### Aritmética"
      ]
    },
    {
      "cell_type": "code",
      "metadata": {
        "id": "V0FwLLiMtig-"
      },
      "source": [
        "a = np.array([12, 0, 7])\n",
        "b = np.array([8, 2, 5])"
      ],
      "execution_count": 155,
      "outputs": []
    },
    {
      "cell_type": "markdown",
      "metadata": {
        "id": "wUY04PQXtG9U"
      },
      "source": [
        "El método `.add()` suma arrays elemento a elemento"
      ]
    },
    {
      "cell_type": "code",
      "metadata": {
        "colab": {
          "base_uri": "https://localhost:8080/"
        },
        "id": "DAGzTDjHsm8K",
        "outputId": "64a74fc9-4be9-4671-b6d6-b2340a894cb9"
      },
      "source": [
        "print(np.add(a, b))"
      ],
      "execution_count": 156,
      "outputs": [
        {
          "output_type": "stream",
          "name": "stdout",
          "text": [
            "[20  2 12]\n"
          ]
        }
      ]
    },
    {
      "cell_type": "markdown",
      "metadata": {
        "id": "ndLenDpJtarZ"
      },
      "source": [
        "El método `.subtract()` resta arrays elemento a elemento\n"
      ]
    },
    {
      "cell_type": "code",
      "metadata": {
        "colab": {
          "base_uri": "https://localhost:8080/"
        },
        "id": "Gv_lwATztxEO",
        "outputId": "5ffec1fe-b891-4070-daef-3e201d389d82"
      },
      "source": [
        "print(np.subtract(a, b))"
      ],
      "execution_count": 157,
      "outputs": [
        {
          "output_type": "stream",
          "name": "stdout",
          "text": [
            "[ 4 -2  2]\n"
          ]
        }
      ]
    },
    {
      "cell_type": "markdown",
      "metadata": {
        "id": "5zjDL_TEt99L"
      },
      "source": [
        "El método `.multiply()` multiplica arrays elemento a elemento"
      ]
    },
    {
      "cell_type": "code",
      "metadata": {
        "colab": {
          "base_uri": "https://localhost:8080/"
        },
        "id": "TxW1U-RZtzCe",
        "outputId": "f277779f-5a63-4e5b-f9b7-a9a73d08ca2f"
      },
      "source": [
        "print(np.multiply(a, b))"
      ],
      "execution_count": 158,
      "outputs": [
        {
          "output_type": "stream",
          "name": "stdout",
          "text": [
            "[96  0 35]\n"
          ]
        }
      ]
    },
    {
      "cell_type": "markdown",
      "metadata": {
        "id": "0bbljeruuXhi"
      },
      "source": [
        "El método `.divide()` divide arrays elemento a elemento"
      ]
    },
    {
      "cell_type": "code",
      "metadata": {
        "colab": {
          "base_uri": "https://localhost:8080/"
        },
        "id": "CjTsfUIAuVl0",
        "outputId": "ce044aa4-28e6-44d1-f694-341d68b9b800"
      },
      "source": [
        "print(np.divide(a, b))"
      ],
      "execution_count": 159,
      "outputs": [
        {
          "output_type": "stream",
          "name": "stdout",
          "text": [
            "[1.5 0.  1.4]\n"
          ]
        }
      ]
    },
    {
      "cell_type": "markdown",
      "metadata": {
        "id": "4nJ3rEhqupkX"
      },
      "source": [
        "El método `.power()` calcula la potencia del primer array elevado al segundo elemento a elemento "
      ]
    },
    {
      "cell_type": "code",
      "metadata": {
        "colab": {
          "base_uri": "https://localhost:8080/"
        },
        "id": "Bp3nbY0JufQk",
        "outputId": "9428cf11-4e06-4bf9-a429-37e862446164"
      },
      "source": [
        "print(np.power(a, b))"
      ],
      "execution_count": 160,
      "outputs": [
        {
          "output_type": "stream",
          "name": "stdout",
          "text": [
            "[429981696         0     16807]\n"
          ]
        }
      ]
    },
    {
      "cell_type": "markdown",
      "metadata": {
        "id": "AI3bxfs-u8dA"
      },
      "source": [
        "Tanto el método `.mod()` como el método `.remainder()` calculan el resto de la división entera del primer array entre el segundo, elemento a elemento"
      ]
    },
    {
      "cell_type": "code",
      "metadata": {
        "colab": {
          "base_uri": "https://localhost:8080/"
        },
        "id": "QMg3YX-NuyLj",
        "outputId": "7d97e006-bb87-4f63-e00c-257eda7ab1f7"
      },
      "source": [
        "print(np.mod(a, b))\n",
        "print(np.remainder(a, b))"
      ],
      "execution_count": 161,
      "outputs": [
        {
          "output_type": "stream",
          "name": "stdout",
          "text": [
            "[4 0 2]\n",
            "[4 0 2]\n"
          ]
        }
      ]
    },
    {
      "cell_type": "markdown",
      "metadata": {
        "id": "2SKk39eGvaOe"
      },
      "source": [
        "El método `.divmod()` devuelve una tupla con 2 arrays, el primero contiene los cocientes y el segundo los restos de las divisiones enteras elemento a elemento "
      ]
    },
    {
      "cell_type": "code",
      "metadata": {
        "colab": {
          "base_uri": "https://localhost:8080/"
        },
        "id": "xxj-TwfxvJQP",
        "outputId": "a711fa31-a7b4-422f-d6d0-41ef87e17295"
      },
      "source": [
        "print(np.divmod(a, b))"
      ],
      "execution_count": 162,
      "outputs": [
        {
          "output_type": "stream",
          "name": "stdout",
          "text": [
            "(array([1, 0, 1]), array([4, 0, 2]))\n"
          ]
        }
      ]
    },
    {
      "cell_type": "markdown",
      "metadata": {
        "id": "pR3BhPcnv4AJ"
      },
      "source": [
        "El método `.absolute()` devuelve el valor absoluto de cada elemento de un array"
      ]
    },
    {
      "cell_type": "code",
      "metadata": {
        "colab": {
          "base_uri": "https://localhost:8080/"
        },
        "id": "HB4oQZw5vzt9",
        "outputId": "f971470a-72d9-485c-c3ed-c10f40bd4f8a"
      },
      "source": [
        "print(np.absolute(np.array([-1, 0, -2, 1, 2])))"
      ],
      "execution_count": 163,
      "outputs": [
        {
          "output_type": "stream",
          "name": "stdout",
          "text": [
            "[1 0 2 1 2]\n"
          ]
        }
      ]
    },
    {
      "cell_type": "markdown",
      "metadata": {
        "id": "AYlHpKkwfpXT"
      },
      "source": [
        "#### Redondeando decimales\n",
        "\n",
        "En `numpy` tenemos 5 formas de redondear los decimales de un número\n",
        "\n",
        "* `.trunc()` para truncar\n",
        "* `.fix()` también para truncar\n",
        "* `.round()` para redondear\n",
        "* `.floor()` para redondear a la baja\n",
        "* `.ceil()` para redondear a la alza"
      ]
    },
    {
      "cell_type": "code",
      "metadata": {
        "id": "QDh6w8rXwGOW"
      },
      "source": [
        "a = np.array([-5.1777, 5.7778, 5.5234])"
      ],
      "execution_count": 164,
      "outputs": []
    },
    {
      "cell_type": "code",
      "metadata": {
        "colab": {
          "base_uri": "https://localhost:8080/"
        },
        "id": "k00osHyRgZOU",
        "outputId": "752f6ea0-bff3-4ac6-e3b4-b8d2f2518fe2"
      },
      "source": [
        "print(\"Si truncamos con .trunc(), obtendremos {}\".format(np.trunc(a)))\n",
        "print(\"Si truncamos con .fix(), obtendremos {}\".format(np.fix(a)))"
      ],
      "execution_count": 165,
      "outputs": [
        {
          "output_type": "stream",
          "name": "stdout",
          "text": [
            "Si truncamos con .trunc(), obtendremos [-5.  5.  5.]\n",
            "Si truncamos con .fix(), obtendremos [-5.  5.  5.]\n"
          ]
        }
      ]
    },
    {
      "cell_type": "code",
      "metadata": {
        "colab": {
          "base_uri": "https://localhost:8080/"
        },
        "id": "6hAXO7fMgtnk",
        "outputId": "976aad8e-e03c-4410-d47a-f02d786f8cae"
      },
      "source": [
        "print(\"Si rendondeamos con .around(), obtendremos {}\".format(np.around(a)))"
      ],
      "execution_count": 166,
      "outputs": [
        {
          "output_type": "stream",
          "name": "stdout",
          "text": [
            "Si rendondeamos con .around(), obtendremos [-5.  6.  6.]\n"
          ]
        }
      ]
    },
    {
      "cell_type": "markdown",
      "metadata": {
        "id": "VrMrpkBCg81C"
      },
      "source": [
        "**Observación.** Como segundo parámetro, podemos indicar a cuántas cifras decimales queremos redondear"
      ]
    },
    {
      "cell_type": "code",
      "metadata": {
        "colab": {
          "base_uri": "https://localhost:8080/"
        },
        "id": "xjicgCI0g1xe",
        "outputId": "cbca91dc-6822-4635-b045-cca6873b5472"
      },
      "source": [
        "print(\"Si rendondeamos con .round() a 3 cifras decimales, obtendremos {}\".\n",
        "      format(np.round(a, 3)))"
      ],
      "execution_count": 167,
      "outputs": [
        {
          "output_type": "stream",
          "name": "stdout",
          "text": [
            "Si rendondeamos con .round() a 3 cifras decimales, obtendremos [-5.178  5.778  5.523]\n"
          ]
        }
      ]
    },
    {
      "cell_type": "code",
      "metadata": {
        "colab": {
          "base_uri": "https://localhost:8080/"
        },
        "id": "xjgNAcYDhHp0",
        "outputId": "2a84065b-164f-47e2-eb94-297c5b1774be"
      },
      "source": [
        "print(\"Si rendondeamos a la baja con .floor(), obtendremos {}\".format(np.floor(a)))"
      ],
      "execution_count": 168,
      "outputs": [
        {
          "output_type": "stream",
          "name": "stdout",
          "text": [
            "Si rendondeamos a la baja con .floor(), obtendremos [-6.  5.  5.]\n"
          ]
        }
      ]
    },
    {
      "cell_type": "code",
      "metadata": {
        "colab": {
          "base_uri": "https://localhost:8080/"
        },
        "id": "_fVSaRzYhM7e",
        "outputId": "9095f334-f1b2-46d5-e774-344d874065cb"
      },
      "source": [
        "print(\"Si rendondeamos con a la alza .ceil(), obtendremos {}\".format(np.ceil(a)))"
      ],
      "execution_count": 169,
      "outputs": [
        {
          "output_type": "stream",
          "name": "stdout",
          "text": [
            "Si rendondeamos con a la alza .ceil(), obtendremos [-5.  6.  6.]\n"
          ]
        }
      ]
    },
    {
      "cell_type": "markdown",
      "metadata": {
        "id": "_vHqBMzPhVWh"
      },
      "source": [
        "#### Sumas y Diferencias\n",
        "\n",
        "Ya concoemos el método `.add()` que dados dos arrays los suma elemento a elemento"
      ]
    },
    {
      "cell_type": "code",
      "metadata": {
        "id": "VdG_u-juhQSf"
      },
      "source": [
        "x = np.array([2, 3, 7])\n",
        "y = np.array([-1, 5, 0])"
      ],
      "execution_count": 170,
      "outputs": []
    },
    {
      "cell_type": "code",
      "metadata": {
        "colab": {
          "base_uri": "https://localhost:8080/"
        },
        "id": "FDHZO1UhhqSK",
        "outputId": "e8e507af-5e9a-4be9-e19a-f595b34971d8"
      },
      "source": [
        "print(np.add(x, y))"
      ],
      "execution_count": 171,
      "outputs": [
        {
          "output_type": "stream",
          "name": "stdout",
          "text": [
            "[1 8 7]\n"
          ]
        }
      ]
    },
    {
      "cell_type": "markdown",
      "metadata": {
        "id": "1dh7Hty2h0d-"
      },
      "source": [
        "El método `.sum()` nos calcula la suma de los elementos de un array"
      ]
    },
    {
      "cell_type": "code",
      "metadata": {
        "colab": {
          "base_uri": "https://localhost:8080/"
        },
        "id": "Hk6fQhvehtBl",
        "outputId": "f5347f51-0153-4ca5-fb60-d220a54ed102"
      },
      "source": [
        "print(\"La suma de los elementos de x es\", np.sum(x))\n",
        "print(\"La suma de los elementos de y es\", np.sum(y))"
      ],
      "execution_count": 172,
      "outputs": [
        {
          "output_type": "stream",
          "name": "stdout",
          "text": [
            "La suma de los elementos de x es 12\n",
            "La suma de los elementos de y es 4\n"
          ]
        }
      ]
    },
    {
      "cell_type": "markdown",
      "metadata": {
        "id": "NmpOOboOiUkA"
      },
      "source": [
        "**Observación.** Cuando por parámetro pasamos un array multidimensional, volvemos a tener disponible el ya más que conocido parámetro `axis`, para seleccionar sobre qué eje queremos realizar la suma"
      ]
    },
    {
      "cell_type": "code",
      "metadata": {
        "colab": {
          "base_uri": "https://localhost:8080/"
        },
        "id": "DTBeNHbRiDka",
        "outputId": "bedfca72-9363-4afa-c63a-330a274f845f"
      },
      "source": [
        "z = np.array([[[1, 2], [3, 4], [5, 6], [7, 8]], \n",
        "              [[2, 4], [3, 6], [4, 8], [5, 10]], \n",
        "              [[1, 3], [2, 4], [5, 7], [6, 8]]])\n",
        "\n",
        "for i in range(z.ndim):\n",
        "  print(\"\\nLa suma de los elementos de z sobre el axis {}  es\\n{}\".format(i, np.sum(z, axis = i)))\n",
        "\n",
        "print(\"\\nLa suma de todos los elementos de z es\", np.sum(z))"
      ],
      "execution_count": 173,
      "outputs": [
        {
          "output_type": "stream",
          "name": "stdout",
          "text": [
            "\n",
            "La suma de los elementos de z sobre el axis 0  es\n",
            "[[ 4  9]\n",
            " [ 8 14]\n",
            " [14 21]\n",
            " [18 26]]\n",
            "\n",
            "La suma de los elementos de z sobre el axis 1  es\n",
            "[[16 20]\n",
            " [14 28]\n",
            " [14 22]]\n",
            "\n",
            "La suma de los elementos de z sobre el axis 2  es\n",
            "[[ 3  7 11 15]\n",
            " [ 6  9 12 15]\n",
            " [ 4  6 12 14]]\n",
            "\n",
            "La suma de todos los elementos de z es 114\n"
          ]
        }
      ]
    },
    {
      "cell_type": "markdown",
      "metadata": {
        "id": "xFHeTdsejlpg"
      },
      "source": [
        "Para calcular la suma acumulada de los elementos de un array, disponemos del método `.cumsum()`"
      ]
    },
    {
      "cell_type": "code",
      "metadata": {
        "colab": {
          "base_uri": "https://localhost:8080/"
        },
        "id": "gb2ibXHqjs72",
        "outputId": "5a036322-768a-4728-e464-a330f424979c"
      },
      "source": [
        "print(\"La suma acumulada de los elementos de x es\", np.cumsum(x))\n",
        "print(\"La suma acumulada de los elementos de y es\", np.cumsum(y))"
      ],
      "execution_count": 174,
      "outputs": [
        {
          "output_type": "stream",
          "name": "stdout",
          "text": [
            "La suma acumulada de los elementos de x es [ 2  5 12]\n",
            "La suma acumulada de los elementos de y es [-1  4  4]\n"
          ]
        }
      ]
    },
    {
      "cell_type": "markdown",
      "metadata": {
        "id": "xPx64XfQj44p"
      },
      "source": [
        "**Observación.** Cuando por parámetro pasamos un array multidimensional, volvemos a tener disponible el ya más que conocido parámetro `axis`, para seleccionar sobre qué eje queremos realizar la suma acumulada"
      ]
    },
    {
      "cell_type": "code",
      "metadata": {
        "colab": {
          "base_uri": "https://localhost:8080/"
        },
        "id": "4RS6oyeYj-V3",
        "outputId": "44c6959b-707b-4bf3-bdca-449830df7e50"
      },
      "source": [
        "z = np.array([[[1, 2], [3, 4], [5, 6], [7, 8]], \n",
        "              [[2, 4], [3, 6], [4, 8], [5, 10]], \n",
        "              [[1, 3], [2, 4], [5, 7], [6, 8]]])\n",
        "\n",
        "for i in range(z.ndim):\n",
        "  print(\"\\nLa suma acumulada de los elementos de z sobre el axis {}  es\\n{}\".format(i, np.cumsum(z, axis = i)))\n",
        "\n",
        "print(\"\\nLa suma acumulada de todos los elementos de z es\", np.cumsum(z))"
      ],
      "execution_count": 175,
      "outputs": [
        {
          "output_type": "stream",
          "name": "stdout",
          "text": [
            "\n",
            "La suma acumulada de los elementos de z sobre el axis 0  es\n",
            "[[[ 1  2]\n",
            "  [ 3  4]\n",
            "  [ 5  6]\n",
            "  [ 7  8]]\n",
            "\n",
            " [[ 3  6]\n",
            "  [ 6 10]\n",
            "  [ 9 14]\n",
            "  [12 18]]\n",
            "\n",
            " [[ 4  9]\n",
            "  [ 8 14]\n",
            "  [14 21]\n",
            "  [18 26]]]\n",
            "\n",
            "La suma acumulada de los elementos de z sobre el axis 1  es\n",
            "[[[ 1  2]\n",
            "  [ 4  6]\n",
            "  [ 9 12]\n",
            "  [16 20]]\n",
            "\n",
            " [[ 2  4]\n",
            "  [ 5 10]\n",
            "  [ 9 18]\n",
            "  [14 28]]\n",
            "\n",
            " [[ 1  3]\n",
            "  [ 3  7]\n",
            "  [ 8 14]\n",
            "  [14 22]]]\n",
            "\n",
            "La suma acumulada de los elementos de z sobre el axis 2  es\n",
            "[[[ 1  3]\n",
            "  [ 3  7]\n",
            "  [ 5 11]\n",
            "  [ 7 15]]\n",
            "\n",
            " [[ 2  6]\n",
            "  [ 3  9]\n",
            "  [ 4 12]\n",
            "  [ 5 15]]\n",
            "\n",
            " [[ 1  4]\n",
            "  [ 2  6]\n",
            "  [ 5 12]\n",
            "  [ 6 14]]]\n",
            "\n",
            "La suma acumulada de todos los elementos de z es [  1   3   6  10  15  21  28  36  38  42  45  51  55  63  68  78  79  82\n",
            "  84  88  93 100 106 114]\n"
          ]
        }
      ]
    },
    {
      "cell_type": "markdown",
      "metadata": {
        "id": "m4Dx-NaUkyo8"
      },
      "source": [
        "Para calcular las diferencias entre los elementos de un array, disponemos del método `.diff()`"
      ]
    },
    {
      "cell_type": "code",
      "metadata": {
        "colab": {
          "base_uri": "https://localhost:8080/"
        },
        "id": "IYRXRu0MkEI4",
        "outputId": "360de1c0-09d6-4aec-e61d-331a52421d5e"
      },
      "source": [
        "print(\"La diferencia de elementos sucesivos de x es\", np.diff(x))\n",
        "print(\"La diferencia de elementos sucesivos de y es\", np.diff(y))"
      ],
      "execution_count": 176,
      "outputs": [
        {
          "output_type": "stream",
          "name": "stdout",
          "text": [
            "La diferencia de elementos sucesivos de x es [1 4]\n",
            "La diferencia de elementos sucesivos de y es [ 6 -5]\n"
          ]
        }
      ]
    },
    {
      "cell_type": "markdown",
      "metadata": {
        "id": "_opM_ONMlW1k"
      },
      "source": [
        "**Observación.** Cuando por parámetro pasamos un array multidimensional, volvemos a tener disponible el ya más que conocido parámetro `axis`, para seleccionar sobre qué eje queremos realizar la diferencia"
      ]
    },
    {
      "cell_type": "code",
      "metadata": {
        "colab": {
          "base_uri": "https://localhost:8080/"
        },
        "id": "iqVK9oeMlHNH",
        "outputId": "c220ebd7-f37b-4a93-b03c-da53d4401486"
      },
      "source": [
        "z = np.array([[[1, 2], [3, 4], [5, 6], [7, 8]], \n",
        "              [[2, 4], [3, 6], [4, 8], [5, 10]], \n",
        "              [[1, 3], [2, 4], [5, 7], [6, 8]]])\n",
        "\n",
        "for i in range(z.ndim):\n",
        "  print(\"\\nLa diferencia de los elementos sucesivos de z sobre el axis {}  es\\n{}\".format(i, np.diff(z, axis = i)))"
      ],
      "execution_count": 177,
      "outputs": [
        {
          "output_type": "stream",
          "name": "stdout",
          "text": [
            "\n",
            "La diferencia de los elementos sucesivos de z sobre el axis 0  es\n",
            "[[[ 1  2]\n",
            "  [ 0  2]\n",
            "  [-1  2]\n",
            "  [-2  2]]\n",
            "\n",
            " [[-1 -1]\n",
            "  [-1 -2]\n",
            "  [ 1 -1]\n",
            "  [ 1 -2]]]\n",
            "\n",
            "La diferencia de los elementos sucesivos de z sobre el axis 1  es\n",
            "[[[2 2]\n",
            "  [2 2]\n",
            "  [2 2]]\n",
            "\n",
            " [[1 2]\n",
            "  [1 2]\n",
            "  [1 2]]\n",
            "\n",
            " [[1 1]\n",
            "  [3 3]\n",
            "  [1 1]]]\n",
            "\n",
            "La diferencia de los elementos sucesivos de z sobre el axis 2  es\n",
            "[[[1]\n",
            "  [1]\n",
            "  [1]\n",
            "  [1]]\n",
            "\n",
            " [[2]\n",
            "  [3]\n",
            "  [4]\n",
            "  [5]]\n",
            "\n",
            " [[2]\n",
            "  [2]\n",
            "  [2]\n",
            "  [2]]]\n"
          ]
        }
      ]
    },
    {
      "cell_type": "markdown",
      "metadata": {
        "id": "_EYwUgE5whaq"
      },
      "source": [
        "El parámetro `n` nos permite elegir cuántas veces queremos calcular la diferencia entre los elementos sucesivos de un array:"
      ]
    },
    {
      "cell_type": "code",
      "metadata": {
        "colab": {
          "base_uri": "https://localhost:8080/"
        },
        "id": "XYMOSA8vwRdE",
        "outputId": "cb5a5f62-eb74-4482-8316-0a16817833b3"
      },
      "source": [
        "print(\"x =\", x)\n",
        "print(\"Realizando la diferencia entre sus elementos sucesivos obtenemos\", np.diff(x))\n",
        "print(\"Realizando 2 veces la diferencia entre sus elementos sucesivos obtenemos\", np.diff(x, n = 2))"
      ],
      "execution_count": 178,
      "outputs": [
        {
          "output_type": "stream",
          "name": "stdout",
          "text": [
            "x = [2 3 7]\n",
            "Realizando la diferencia entre sus elementos sucesivos obtenemos [1 4]\n",
            "Realizando 2 veces la diferencia entre sus elementos sucesivos obtenemos [3]\n"
          ]
        }
      ]
    },
    {
      "cell_type": "code",
      "metadata": {
        "colab": {
          "base_uri": "https://localhost:8080/"
        },
        "id": "Lz55Sb10w75m",
        "outputId": "0140481e-4a72-43ae-be3a-166915eabdf5"
      },
      "source": [
        "print(\"y =\", y)\n",
        "print(\"Realizando la diferencia entre sus elementos sucesivos obtenemos\", np.diff(y))\n",
        "print(\"Realizando 2 veces la diferencia entre sus elementos sucesivos obtenemos\", np.diff(y, n = 2))"
      ],
      "execution_count": 179,
      "outputs": [
        {
          "output_type": "stream",
          "name": "stdout",
          "text": [
            "y = [-1  5  0]\n",
            "Realizando la diferencia entre sus elementos sucesivos obtenemos [ 6 -5]\n",
            "Realizando 2 veces la diferencia entre sus elementos sucesivos obtenemos [-11]\n"
          ]
        }
      ]
    },
    {
      "cell_type": "markdown",
      "metadata": {
        "id": "cgVSH9eExLIg"
      },
      "source": [
        "#### Productos\n",
        "\n",
        "El método `.prod()` calcula el producto de los elementos de un array"
      ]
    },
    {
      "cell_type": "code",
      "metadata": {
        "colab": {
          "base_uri": "https://localhost:8080/"
        },
        "id": "oe5Jy23IxD_m",
        "outputId": "36f51a7c-c685-4f0d-bf20-45b94f84fa4a"
      },
      "source": [
        "a = np.array([2, 4, 6, 8])\n",
        "np.prod(a)"
      ],
      "execution_count": 180,
      "outputs": [
        {
          "output_type": "execute_result",
          "data": {
            "text/plain": [
              "384"
            ]
          },
          "metadata": {},
          "execution_count": 180
        }
      ]
    },
    {
      "cell_type": "markdown",
      "metadata": {
        "id": "gU7QCdfTxnEw"
      },
      "source": [
        "**Observación.** Cuando por parámetro pasamos un array multidimensional, volvemos a tener disponible el parámetro `axis`, para seleccionar sobre qué eje queremos realizar el producto de los elementos"
      ]
    },
    {
      "cell_type": "code",
      "metadata": {
        "colab": {
          "base_uri": "https://localhost:8080/"
        },
        "id": "DjdUhWonxdfy",
        "outputId": "824a3d1f-6379-4f2f-b11f-f9edb8b52521"
      },
      "source": [
        "b = np.array([[[1, 2], [3, 4], [5, 6], [7, 8]], \n",
        "              [[2, -4], [3, -6], [4, -8], [5, -10]], \n",
        "              [[-1, 3], [-2, 4], [-5, 7], [-6, 8]]])\n",
        "\n",
        "for i in range(b.ndim):\n",
        "  print(\"\\nEl producto de los elementos de b sobre el axis {}  es\\n{}\".format(i, np.prod(b, axis = i)))\n",
        "\n",
        "print(\"\\nEl producto de todos los elementos de b es\", np.prod(b))"
      ],
      "execution_count": 181,
      "outputs": [
        {
          "output_type": "stream",
          "name": "stdout",
          "text": [
            "\n",
            "El producto de los elementos de b sobre el axis 0  es\n",
            "[[  -2  -24]\n",
            " [ -18  -96]\n",
            " [-100 -336]\n",
            " [-210 -640]]\n",
            "\n",
            "El producto de los elementos de b sobre el axis 1  es\n",
            "[[ 105  384]\n",
            " [ 120 1920]\n",
            " [  60  672]]\n",
            "\n",
            "El producto de los elementos de b sobre el axis 2  es\n",
            "[[  2  12  30  56]\n",
            " [ -8 -18 -32 -50]\n",
            " [ -3  -8 -35 -48]]\n",
            "\n",
            "El producto de todos los elementos de b es 374561832960000\n"
          ]
        }
      ]
    },
    {
      "cell_type": "markdown",
      "metadata": {
        "id": "WDvO_syhyD3b"
      },
      "source": [
        "Con el método `.cumprod()` podemos calcular el producto acumulado de un array"
      ]
    },
    {
      "cell_type": "code",
      "metadata": {
        "colab": {
          "base_uri": "https://localhost:8080/"
        },
        "id": "yJOwTsxGx63e",
        "outputId": "98cd6e29-14e7-448c-803c-b61ca138d249"
      },
      "source": [
        "a = np.array([2, 4, 6, 8])\n",
        "np.cumprod(a)"
      ],
      "execution_count": 182,
      "outputs": [
        {
          "output_type": "execute_result",
          "data": {
            "text/plain": [
              "array([  2,   8,  48, 384])"
            ]
          },
          "metadata": {},
          "execution_count": 182
        }
      ]
    },
    {
      "cell_type": "markdown",
      "metadata": {
        "id": "RocoPakoyMyW"
      },
      "source": [
        "**Observación.** Cuando por parámetro pasamos un array multidimensional, volvemos a tener disponible el parámetro `axis`, para seleccionar sobre qué eje queremos realizar el producto de los elementos"
      ]
    },
    {
      "cell_type": "code",
      "metadata": {
        "colab": {
          "base_uri": "https://localhost:8080/"
        },
        "id": "DXBtyoJIySU7",
        "outputId": "92bb7b11-4989-4e39-d3dd-b73fdc734fb8"
      },
      "source": [
        "b = np.array([[[1, 2], [3, 4], [5, 6], [7, 8]], \n",
        "              [[2, -4], [3, -6], [4, -8], [5, -10]], \n",
        "              [[-1, 3], [-2, 4], [-5, 7], [-6, 8]]])\n",
        "\n",
        "for i in range(b.ndim):\n",
        "  print(\"\\nEl producto acumulado de los elementos de b sobre el axis {}  es\\n{}\".format(i, np.cumprod(b, axis = i)))\n",
        "\n",
        "print(\"\\nEl producto acumulado de todos los elementos de b es\", np.cumprod(b))"
      ],
      "execution_count": 183,
      "outputs": [
        {
          "output_type": "stream",
          "name": "stdout",
          "text": [
            "\n",
            "El producto acumulado de los elementos de b sobre el axis 0  es\n",
            "[[[   1    2]\n",
            "  [   3    4]\n",
            "  [   5    6]\n",
            "  [   7    8]]\n",
            "\n",
            " [[   2   -8]\n",
            "  [   9  -24]\n",
            "  [  20  -48]\n",
            "  [  35  -80]]\n",
            "\n",
            " [[  -2  -24]\n",
            "  [ -18  -96]\n",
            "  [-100 -336]\n",
            "  [-210 -640]]]\n",
            "\n",
            "El producto acumulado de los elementos de b sobre el axis 1  es\n",
            "[[[   1    2]\n",
            "  [   3    8]\n",
            "  [  15   48]\n",
            "  [ 105  384]]\n",
            "\n",
            " [[   2   -4]\n",
            "  [   6   24]\n",
            "  [  24 -192]\n",
            "  [ 120 1920]]\n",
            "\n",
            " [[  -1    3]\n",
            "  [   2   12]\n",
            "  [ -10   84]\n",
            "  [  60  672]]]\n",
            "\n",
            "El producto acumulado de los elementos de b sobre el axis 2  es\n",
            "[[[  1   2]\n",
            "  [  3  12]\n",
            "  [  5  30]\n",
            "  [  7  56]]\n",
            "\n",
            " [[  2  -8]\n",
            "  [  3 -18]\n",
            "  [  4 -32]\n",
            "  [  5 -50]]\n",
            "\n",
            " [[ -1  -3]\n",
            "  [ -2  -8]\n",
            "  [ -5 -35]\n",
            "  [ -6 -48]]]\n",
            "\n",
            "El producto acumulado de todos los elementos de b es [              1               2               6              24\n",
            "             120             720            5040           40320\n",
            "           80640         -322560         -967680         5806080\n",
            "        23224320      -185794560      -928972800      9289728000\n",
            "     -9289728000    -27869184000     55738368000    222953472000\n",
            "  -1114767360000  -7803371520000  46820229120000 374561832960000]\n"
          ]
        }
      ]
    },
    {
      "cell_type": "markdown",
      "metadata": {
        "id": "KdGK-yMUyd0W"
      },
      "source": [
        "#### Logaritmos\n",
        "\n",
        "Podemos calcular el logaritmo neperiano de todos los elementos de un array con el método `.log()`"
      ]
    },
    {
      "cell_type": "code",
      "metadata": {
        "colab": {
          "base_uri": "https://localhost:8080/"
        },
        "id": "zLj-NZExyW1j",
        "outputId": "9a4c101d-411d-4d15-c2e0-8a8ab79e4330"
      },
      "source": [
        "a = np.array([5, 12, 34, 7, 55])\n",
        "print(np.log(a))"
      ],
      "execution_count": 184,
      "outputs": [
        {
          "output_type": "stream",
          "name": "stdout",
          "text": [
            "[1.60943791 2.48490665 3.52636052 1.94591015 4.00733319]\n"
          ]
        }
      ]
    },
    {
      "cell_type": "markdown",
      "metadata": {
        "id": "ZWbqsRK4y0U4"
      },
      "source": [
        "`numpy` no ofrece ningún método que calcule logartimos en cualquier otra base que no sea `e`. Por eso, la creamos nosotros a partir del método `math.log()`"
      ]
    },
    {
      "cell_type": "code",
      "metadata": {
        "colab": {
          "base_uri": "https://localhost:8080/"
        },
        "id": "0VUsgjEeyuvA",
        "outputId": "f22e5380-6350-4cda-d129-4a402e48f951"
      },
      "source": [
        "from math import log\n",
        "\n",
        "nplog = np.frompyfunc(log, 2, 1)\n",
        "print(nplog(np.array([100, 1000, 50, 500]), 10))"
      ],
      "execution_count": 185,
      "outputs": [
        {
          "output_type": "stream",
          "name": "stdout",
          "text": [
            "[2.0 2.9999999999999996 1.6989700043360185 2.6989700043360183]\n"
          ]
        }
      ]
    },
    {
      "cell_type": "markdown",
      "metadata": {
        "id": "u23Pa-FUzcs5"
      },
      "source": [
        "#### MCM y MCD\n",
        "\n",
        "Podemos calcular el Mínimo Común Múltiplo de los elementos de un array con el método `.lcm.reduce()`"
      ]
    },
    {
      "cell_type": "code",
      "metadata": {
        "colab": {
          "base_uri": "https://localhost:8080/"
        },
        "id": "ltJpkd54zRAJ",
        "outputId": "1282c9ca-bae3-48c1-c459-16544b6268fc"
      },
      "source": [
        "a = np.array([2, 3, 5, 12])\n",
        "np.lcm.reduce(a)"
      ],
      "execution_count": 186,
      "outputs": [
        {
          "output_type": "execute_result",
          "data": {
            "text/plain": [
              "60"
            ]
          },
          "metadata": {},
          "execution_count": 186
        }
      ]
    },
    {
      "cell_type": "markdown",
      "metadata": {
        "id": "oSwX7URr0M-X"
      },
      "source": [
        "Podemos calcular el Máximo Común Divisor de los elementos de un array con el método `.gcd.reduce()`"
      ]
    },
    {
      "cell_type": "code",
      "metadata": {
        "colab": {
          "base_uri": "https://localhost:8080/"
        },
        "id": "wPyfNSg1zyOp",
        "outputId": "a786d8e0-4070-454c-e3d5-c6ba788ad671"
      },
      "source": [
        "b = np.array([15, 12, 27])\n",
        "np.gcd.reduce(b)"
      ],
      "execution_count": 187,
      "outputs": [
        {
          "output_type": "execute_result",
          "data": {
            "text/plain": [
              "3"
            ]
          },
          "metadata": {},
          "execution_count": 187
        }
      ]
    },
    {
      "cell_type": "markdown",
      "metadata": {
        "id": "9l2LrbmA0ita"
      },
      "source": [
        "#### Trigonometría\n",
        "\n",
        "En `numpy` el número $\\pi$ se obtiene con `np.pi`.\n",
        "\n",
        "En `numpy` disponemos de los métodos:\n",
        "\n",
        "* `.sin()`\n",
        "* `.cos()`\n",
        "* `.tan()`\n",
        "\n",
        "para calcular el seno, coseno y tangente de los elementos de un array (los valores se consideran en radianes)\n",
        "\n",
        "* `.deg2rad()`\n",
        "* `.rad2deg()`\n",
        "\n",
        "para calcular conversión de ángulos a radianes y de radianes a ángulos respectivamente\n",
        "\n",
        "* `.arcsin()`\n",
        "* `.arccos()`\n",
        "* `.arctan()`\n",
        "\n",
        "para calcular el arcoseno, arcocoseno y arcotangente y hallar ángulos (el resultado es devuelto en radianes)"
      ]
    },
    {
      "cell_type": "markdown",
      "metadata": {
        "id": "oUPLPsLG0lAp"
      },
      "source": [
        "#### Funciones hiperbólicas\n",
        "\n",
        "En `numpy` disponemos de los métodos:\n",
        "\n",
        "* `.sinh()`\n",
        "* `.cosh()`\n",
        "* `.tanh()`\n",
        "\n",
        "para calcular el seno, coseno y tangente hiperbólicos de los elementos de un array (los valores se consideran en radianes)\n",
        "\n",
        "* `.arcsinh()`\n",
        "* `.arccosh()`\n",
        "* `.arctanh()`\n",
        "\n",
        "para calcular el arcoseno, arcocoseno y arcotangente hiperbólicos y hallar ángulos (el resultado es devuelto en radianes)"
      ]
    },
    {
      "cell_type": "markdown",
      "metadata": {
        "id": "Kbn9ilSX0nh5"
      },
      "source": [
        "#### Conjuntos en `numpy`\n",
        "\n",
        "Para crear un conjunto a partir de un array, usamos el método `.unique()`:  "
      ]
    },
    {
      "cell_type": "code",
      "metadata": {
        "colab": {
          "base_uri": "https://localhost:8080/"
        },
        "id": "R1duUxYI1i2j",
        "outputId": "77145769-24c0-4eb0-b448-f98333aac841"
      },
      "source": [
        "a = np.array([1, 2, -1, 1, 5, 6, 2, 4, -1, 2])\n",
        "set_a = np.unique(a)\n",
        "print(set_a)"
      ],
      "execution_count": 188,
      "outputs": [
        {
          "output_type": "stream",
          "name": "stdout",
          "text": [
            "[-1  1  2  4  5  6]\n"
          ]
        }
      ]
    },
    {
      "cell_type": "markdown",
      "metadata": {
        "id": "jWonCV2B2cex"
      },
      "source": [
        "Para hallar la unión entre dos arrays 1D, usamos el m\bétodo `.union1d()`"
      ]
    },
    {
      "cell_type": "code",
      "metadata": {
        "colab": {
          "base_uri": "https://localhost:8080/"
        },
        "id": "KXCxPjsp2W1l",
        "outputId": "7fb2c1b9-b689-4bdc-f904-c6a969aebfc7"
      },
      "source": [
        "x = np.array([1, 2, 3, 4])\n",
        "y = np.array([-2, -1, 0, 1])\n",
        "print(np.union1d(x, y))"
      ],
      "execution_count": 189,
      "outputs": [
        {
          "output_type": "stream",
          "name": "stdout",
          "text": [
            "[-2 -1  0  1  2  3  4]\n"
          ]
        }
      ]
    },
    {
      "cell_type": "markdown",
      "metadata": {
        "id": "iXwnm2CG2ypz"
      },
      "source": [
        "Para hallar la intersección entre dos arrays 1D, usamos el método `.intersect1d()` "
      ]
    },
    {
      "cell_type": "code",
      "metadata": {
        "colab": {
          "base_uri": "https://localhost:8080/"
        },
        "id": "vw2ssToe2u6c",
        "outputId": "3f8eb14b-1488-4a4c-f129-c444ee6ff044"
      },
      "source": [
        "print(np.intersect1d(x, y))"
      ],
      "execution_count": 190,
      "outputs": [
        {
          "output_type": "stream",
          "name": "stdout",
          "text": [
            "[1]\n"
          ]
        }
      ]
    },
    {
      "cell_type": "markdown",
      "metadata": {
        "id": "rUq3jndq3CZB"
      },
      "source": [
        "Para hallar la diferencia entre dos arrays 1D, disponemos del método `.setdiff1d()`"
      ]
    },
    {
      "cell_type": "code",
      "metadata": {
        "colab": {
          "base_uri": "https://localhost:8080/"
        },
        "id": "eBGuFG0V28bk",
        "outputId": "ad0ba63e-553b-4030-8836-3358817cdd90"
      },
      "source": [
        "print(np.setdiff1d(x, y))\n",
        "print(np.setdiff1d(y, x))"
      ],
      "execution_count": 191,
      "outputs": [
        {
          "output_type": "stream",
          "name": "stdout",
          "text": [
            "[2 3 4]\n",
            "[-2 -1  0]\n"
          ]
        }
      ]
    },
    {
      "cell_type": "markdown",
      "metadata": {
        "id": "KB--3Jju3PJ4"
      },
      "source": [
        "Para hallar la diferencia simétrica entre dos arrays 1D, usamos el método `.setxor1d()`"
      ]
    },
    {
      "cell_type": "code",
      "metadata": {
        "colab": {
          "base_uri": "https://localhost:8080/"
        },
        "id": "6k-uIwGw3MAy",
        "outputId": "92fac806-1515-417d-9963-8b9170df1f26"
      },
      "source": [
        "print(np.setxor1d(x, y))"
      ],
      "execution_count": 192,
      "outputs": [
        {
          "output_type": "stream",
          "name": "stdout",
          "text": [
            "[-2 -1  0  2  3  4]\n"
          ]
        }
      ]
    }
  ]
}