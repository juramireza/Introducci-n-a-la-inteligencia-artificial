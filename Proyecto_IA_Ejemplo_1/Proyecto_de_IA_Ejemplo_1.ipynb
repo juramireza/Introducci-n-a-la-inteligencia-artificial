{
  "cells": [
    {
      "cell_type": "markdown",
      "metadata": {
        "id": "XG4spFGTqyob"
      },
      "source": [
        "#1.Importar librerías y conjuntos de datos "
      ]
    },
    {
      "cell_type": "code",
      "execution_count": 2,
      "metadata": {
        "id": "0yMuSEPPu0bw"
      },
      "outputs": [],
      "source": [
        "import pandas as pd #Manejo de dataframes\n",
        "import numpy as np #Manejo de arrays\n",
        "import seaborn as sns # Para realización de gráficos\n",
        "import matplotlib.pyplot as plt # Para realización de gráficos\n",
        "import zipfile #Para archivos comprimidos\n",
        "import cv2 #Para imágenes\n",
        "from skimage import io #Para imágenes\n",
        "import tensorflow as tf  \n",
        "from tensorflow.python.keras import Sequential #Contrucción de capas\n",
        "from tensorflow.keras import layers, optimizers\n",
        "from tensorflow.keras.applications import DenseNet121\n",
        "from tensorflow.keras.applications.resnet50 import ResNet50 #Aprendizaje por transferencia\n",
        "from tensorflow.keras.layers import *\n",
        "from tensorflow.keras.models import Model, load_model #Creación y cargue del modelo\n",
        "from tensorflow.keras.initializers import glorot_uniform\n",
        "from tensorflow.keras.utils import plot_model\n",
        "from tensorflow.keras.callbacks import ReduceLROnPlateau, EarlyStopping, ModelCheckpoint, LearningRateScheduler\n",
        "from IPython.display import display\n",
        "from tensorflow.keras import backend as K\n",
        "from sklearn.preprocessing import StandardScaler, normalize\n",
        "import os\n",
        "from google.colab import files \n",
        "%matplotlib inline"
      ]
    },
    {
      "cell_type": "markdown",
      "source": [
        "###Imprimir la versión de tensorflow"
      ],
      "metadata": {
        "id": "RtApBRy_4Sgl"
      }
    },
    {
      "cell_type": "code",
      "source": [
        "%tensorflow_version 2.x\n",
        "import tensorflow as tf\n",
        "\n",
        "print('Versión de Tensorflow: ' + tf.__version__)"
      ],
      "metadata": {
        "id": "gDPMGl7Y3ZT9",
        "colab": {
          "base_uri": "https://localhost:8080/"
        },
        "outputId": "7b74d6b1-6e6a-4e91-9153-96f3b194a264"
      },
      "execution_count": 3,
      "outputs": [
        {
          "output_type": "stream",
          "name": "stdout",
          "text": [
            "Versión de Tensorflow: 2.8.0\n"
          ]
        }
      ]
    },
    {
      "cell_type": "markdown",
      "metadata": {
        "id": "Jg67vLFDrAOp"
      },
      "source": [
        "###Montaje de la unidad "
      ]
    },
    {
      "cell_type": "code",
      "execution_count": 7,
      "metadata": {
        "colab": {
          "base_uri": "https://localhost:8080/"
        },
        "id": "PUqp6yM4rIgR",
        "outputId": "327dd837-8e1b-42a1-a817-b7cdef93e958"
      },
      "outputs": [
        {
          "output_type": "stream",
          "name": "stdout",
          "text": [
            "Drive already mounted at /content/drive; to attempt to forcibly remount, call drive.mount(\"/content/drive\", force_remount=True).\n"
          ]
        }
      ],
      "source": [
        "#Se monta la unidad de drive con el fin de extraer los datos que almacenamos en esta\n",
        "from google.colab import drive\n",
        "drive.mount('/content/drive')"
      ]
    },
    {
      "cell_type": "markdown",
      "metadata": {
        "id": "IE86-X1BxpJo"
      },
      "source": [
        "###Datos de imágenes con defectos con máscara"
      ]
    },
    {
      "cell_type": "code",
      "source": [
        "from google.colab import drive\n",
        "drive.mount('/content/drive')"
      ],
      "metadata": {
        "colab": {
          "base_uri": "https://localhost:8080/"
        },
        "id": "MeDrKi59GL2R",
        "outputId": "c0cf68d6-1247-4917-d390-f01f513a71fe"
      },
      "execution_count": 6,
      "outputs": [
        {
          "output_type": "stream",
          "name": "stdout",
          "text": [
            "Drive already mounted at /content/drive; to attempt to forcibly remount, call drive.mount(\"/content/drive\", force_remount=True).\n"
          ]
        }
      ]
    },
    {
      "cell_type": "code",
      "execution_count": 8,
      "metadata": {
        "id": "KVJIuhpixSMI"
      },
      "outputs": [],
      "source": [
        "# Se define un dataframe con los datos que contienen imágenes con defectos con máscara de segmentación \n",
        "defect_class_mask_df = pd.read_csv('/content/drive/MyDrive/Proyecto_Introducción_Inteligencia_Artificial_Ejemplo_1/train.csv')"
      ]
    },
    {
      "cell_type": "markdown",
      "metadata": {
        "id": "I0V2WLAsx5wI"
      },
      "source": [
        "###Datos de imágenes defectuosas y no defectuosas"
      ]
    },
    {
      "cell_type": "code",
      "execution_count": 9,
      "metadata": {
        "id": "kcjufCZhxSxK"
      },
      "outputs": [],
      "source": [
        "# Se define un dataframe con los datos que contienen imágenes con y sin defectos \n",
        "all_images_df = pd.read_csv('/content/drive/MyDrive/Proyecto_Introducción_Inteligencia_Artificial_Ejemplo_1/defect_and_no_defect.csv')"
      ]
    },
    {
      "cell_type": "markdown",
      "metadata": {
        "id": "S0RgSnpsybQY"
      },
      "source": [
        "####Vista a los datos de imágenes defectuosas junto con su máscara de segmentación. Los números de la columna \"ClassId\", hacen referencia al tipo de defecto que tiene la imágen."
      ]
    },
    {
      "cell_type": "code",
      "execution_count": 10,
      "metadata": {
        "colab": {
          "base_uri": "https://localhost:8080/",
          "height": 424
        },
        "id": "yNp5x_q8yIkH",
        "outputId": "64761108-e940-44af-b5f8-aeb13616045c"
      },
      "outputs": [
        {
          "output_type": "execute_result",
          "data": {
            "text/plain": [
              "            ImageId  ClassId  \\\n",
              "0     d2291de5c.jpg        1   \n",
              "1     78416c3d0.jpg        3   \n",
              "2     2283f2183.jpg        3   \n",
              "3     f0dc068a8.jpg        3   \n",
              "4     00d639396.jpg        3   \n",
              "...             ...      ...   \n",
              "5743  c12842f5e.jpg        3   \n",
              "5744  2222a03b3.jpg        3   \n",
              "5745  b43ea2c01.jpg        1   \n",
              "5746  1bc37a6f4.jpg        3   \n",
              "5747  f4413e172.jpg        3   \n",
              "\n",
              "                                          EncodedPixels  \n",
              "0     147963 3 148213 9 148461 18 148711 24 148965 2...  \n",
              "1     54365 3 54621 7 54877 10 55133 12 55388 14 556...  \n",
              "2     201217 43 201473 128 201729 213 201985 5086 20...  \n",
              "3     159207 26 159412 77 159617 128 159822 179 1600...  \n",
              "4     229356 17 229595 34 229850 36 230105 37 230360...  \n",
              "...                                                 ...  \n",
              "5743  88 23 342 29 596 34 850 39 1105 44 1361 46 161...  \n",
              "5744  63332 4 63587 11 63841 20 64096 27 64351 35 64...  \n",
              "5745  185024 7 185279 11 185535 12 185790 13 186045 ...  \n",
              "5746  303867 1 304122 3 304376 6 304613 3 304630 9 3...  \n",
              "5747  254911 3 255165 8 255419 12 255672 18 255926 2...  \n",
              "\n",
              "[5748 rows x 3 columns]"
            ],
            "text/html": [
              "\n",
              "  <div id=\"df-ce16d22c-cf41-4eb0-b5c4-728c2a45eb64\">\n",
              "    <div class=\"colab-df-container\">\n",
              "      <div>\n",
              "<style scoped>\n",
              "    .dataframe tbody tr th:only-of-type {\n",
              "        vertical-align: middle;\n",
              "    }\n",
              "\n",
              "    .dataframe tbody tr th {\n",
              "        vertical-align: top;\n",
              "    }\n",
              "\n",
              "    .dataframe thead th {\n",
              "        text-align: right;\n",
              "    }\n",
              "</style>\n",
              "<table border=\"1\" class=\"dataframe\">\n",
              "  <thead>\n",
              "    <tr style=\"text-align: right;\">\n",
              "      <th></th>\n",
              "      <th>ImageId</th>\n",
              "      <th>ClassId</th>\n",
              "      <th>EncodedPixels</th>\n",
              "    </tr>\n",
              "  </thead>\n",
              "  <tbody>\n",
              "    <tr>\n",
              "      <th>0</th>\n",
              "      <td>d2291de5c.jpg</td>\n",
              "      <td>1</td>\n",
              "      <td>147963 3 148213 9 148461 18 148711 24 148965 2...</td>\n",
              "    </tr>\n",
              "    <tr>\n",
              "      <th>1</th>\n",
              "      <td>78416c3d0.jpg</td>\n",
              "      <td>3</td>\n",
              "      <td>54365 3 54621 7 54877 10 55133 12 55388 14 556...</td>\n",
              "    </tr>\n",
              "    <tr>\n",
              "      <th>2</th>\n",
              "      <td>2283f2183.jpg</td>\n",
              "      <td>3</td>\n",
              "      <td>201217 43 201473 128 201729 213 201985 5086 20...</td>\n",
              "    </tr>\n",
              "    <tr>\n",
              "      <th>3</th>\n",
              "      <td>f0dc068a8.jpg</td>\n",
              "      <td>3</td>\n",
              "      <td>159207 26 159412 77 159617 128 159822 179 1600...</td>\n",
              "    </tr>\n",
              "    <tr>\n",
              "      <th>4</th>\n",
              "      <td>00d639396.jpg</td>\n",
              "      <td>3</td>\n",
              "      <td>229356 17 229595 34 229850 36 230105 37 230360...</td>\n",
              "    </tr>\n",
              "    <tr>\n",
              "      <th>...</th>\n",
              "      <td>...</td>\n",
              "      <td>...</td>\n",
              "      <td>...</td>\n",
              "    </tr>\n",
              "    <tr>\n",
              "      <th>5743</th>\n",
              "      <td>c12842f5e.jpg</td>\n",
              "      <td>3</td>\n",
              "      <td>88 23 342 29 596 34 850 39 1105 44 1361 46 161...</td>\n",
              "    </tr>\n",
              "    <tr>\n",
              "      <th>5744</th>\n",
              "      <td>2222a03b3.jpg</td>\n",
              "      <td>3</td>\n",
              "      <td>63332 4 63587 11 63841 20 64096 27 64351 35 64...</td>\n",
              "    </tr>\n",
              "    <tr>\n",
              "      <th>5745</th>\n",
              "      <td>b43ea2c01.jpg</td>\n",
              "      <td>1</td>\n",
              "      <td>185024 7 185279 11 185535 12 185790 13 186045 ...</td>\n",
              "    </tr>\n",
              "    <tr>\n",
              "      <th>5746</th>\n",
              "      <td>1bc37a6f4.jpg</td>\n",
              "      <td>3</td>\n",
              "      <td>303867 1 304122 3 304376 6 304613 3 304630 9 3...</td>\n",
              "    </tr>\n",
              "    <tr>\n",
              "      <th>5747</th>\n",
              "      <td>f4413e172.jpg</td>\n",
              "      <td>3</td>\n",
              "      <td>254911 3 255165 8 255419 12 255672 18 255926 2...</td>\n",
              "    </tr>\n",
              "  </tbody>\n",
              "</table>\n",
              "<p>5748 rows × 3 columns</p>\n",
              "</div>\n",
              "      <button class=\"colab-df-convert\" onclick=\"convertToInteractive('df-ce16d22c-cf41-4eb0-b5c4-728c2a45eb64')\"\n",
              "              title=\"Convert this dataframe to an interactive table.\"\n",
              "              style=\"display:none;\">\n",
              "        \n",
              "  <svg xmlns=\"http://www.w3.org/2000/svg\" height=\"24px\"viewBox=\"0 0 24 24\"\n",
              "       width=\"24px\">\n",
              "    <path d=\"M0 0h24v24H0V0z\" fill=\"none\"/>\n",
              "    <path d=\"M18.56 5.44l.94 2.06.94-2.06 2.06-.94-2.06-.94-.94-2.06-.94 2.06-2.06.94zm-11 1L8.5 8.5l.94-2.06 2.06-.94-2.06-.94L8.5 2.5l-.94 2.06-2.06.94zm10 10l.94 2.06.94-2.06 2.06-.94-2.06-.94-.94-2.06-.94 2.06-2.06.94z\"/><path d=\"M17.41 7.96l-1.37-1.37c-.4-.4-.92-.59-1.43-.59-.52 0-1.04.2-1.43.59L10.3 9.45l-7.72 7.72c-.78.78-.78 2.05 0 2.83L4 21.41c.39.39.9.59 1.41.59.51 0 1.02-.2 1.41-.59l7.78-7.78 2.81-2.81c.8-.78.8-2.07 0-2.86zM5.41 20L4 18.59l7.72-7.72 1.47 1.35L5.41 20z\"/>\n",
              "  </svg>\n",
              "      </button>\n",
              "      \n",
              "  <style>\n",
              "    .colab-df-container {\n",
              "      display:flex;\n",
              "      flex-wrap:wrap;\n",
              "      gap: 12px;\n",
              "    }\n",
              "\n",
              "    .colab-df-convert {\n",
              "      background-color: #E8F0FE;\n",
              "      border: none;\n",
              "      border-radius: 50%;\n",
              "      cursor: pointer;\n",
              "      display: none;\n",
              "      fill: #1967D2;\n",
              "      height: 32px;\n",
              "      padding: 0 0 0 0;\n",
              "      width: 32px;\n",
              "    }\n",
              "\n",
              "    .colab-df-convert:hover {\n",
              "      background-color: #E2EBFA;\n",
              "      box-shadow: 0px 1px 2px rgba(60, 64, 67, 0.3), 0px 1px 3px 1px rgba(60, 64, 67, 0.15);\n",
              "      fill: #174EA6;\n",
              "    }\n",
              "\n",
              "    [theme=dark] .colab-df-convert {\n",
              "      background-color: #3B4455;\n",
              "      fill: #D2E3FC;\n",
              "    }\n",
              "\n",
              "    [theme=dark] .colab-df-convert:hover {\n",
              "      background-color: #434B5C;\n",
              "      box-shadow: 0px 1px 3px 1px rgba(0, 0, 0, 0.15);\n",
              "      filter: drop-shadow(0px 1px 2px rgba(0, 0, 0, 0.3));\n",
              "      fill: #FFFFFF;\n",
              "    }\n",
              "  </style>\n",
              "\n",
              "      <script>\n",
              "        const buttonEl =\n",
              "          document.querySelector('#df-ce16d22c-cf41-4eb0-b5c4-728c2a45eb64 button.colab-df-convert');\n",
              "        buttonEl.style.display =\n",
              "          google.colab.kernel.accessAllowed ? 'block' : 'none';\n",
              "\n",
              "        async function convertToInteractive(key) {\n",
              "          const element = document.querySelector('#df-ce16d22c-cf41-4eb0-b5c4-728c2a45eb64');\n",
              "          const dataTable =\n",
              "            await google.colab.kernel.invokeFunction('convertToInteractive',\n",
              "                                                     [key], {});\n",
              "          if (!dataTable) return;\n",
              "\n",
              "          const docLinkHtml = 'Like what you see? Visit the ' +\n",
              "            '<a target=\"_blank\" href=https://colab.research.google.com/notebooks/data_table.ipynb>data table notebook</a>'\n",
              "            + ' to learn more about interactive tables.';\n",
              "          element.innerHTML = '';\n",
              "          dataTable['output_type'] = 'display_data';\n",
              "          await google.colab.output.renderOutput(dataTable, element);\n",
              "          const docLink = document.createElement('div');\n",
              "          docLink.innerHTML = docLinkHtml;\n",
              "          element.appendChild(docLink);\n",
              "        }\n",
              "      </script>\n",
              "    </div>\n",
              "  </div>\n",
              "  "
            ]
          },
          "metadata": {},
          "execution_count": 10
        }
      ],
      "source": [
        "#Se imprime una vista del dataframe defect_class_mask_df\n",
        "defect_class_mask_df"
      ]
    },
    {
      "cell_type": "markdown",
      "metadata": {
        "id": "9Psr57tSz7JN"
      },
      "source": [
        "###Vista a los datos de imágenes defectuosas y no defectuosas. Entonces hay dos categorías: \n",
        "\n",
        "1. 0 No hay defecto\n",
        "2. 1 Tiene defectos"
      ]
    },
    {
      "cell_type": "code",
      "execution_count": 11,
      "metadata": {
        "colab": {
          "base_uri": "https://localhost:8080/",
          "height": 424
        },
        "id": "zMCHHo6Lznsr",
        "outputId": "93ca9611-5498-4d12-c9f2-bbb88bcb585f"
      },
      "outputs": [
        {
          "output_type": "execute_result",
          "data": {
            "text/plain": [
              "             ImageID  label\n",
              "0      0002cc93b.jpg      1\n",
              "1      0007a71bf.jpg      1\n",
              "2      000a4bcdd.jpg      1\n",
              "3      000f6bf48.jpg      1\n",
              "4      0014fce06.jpg      1\n",
              "...              ...    ...\n",
              "12992  0482ee1d6.jpg      0\n",
              "12993  04802a6c2.jpg      0\n",
              "12994  03ae2bc91.jpg      0\n",
              "12995  04238d7e3.jpg      0\n",
              "12996  023353d24.jpg      0\n",
              "\n",
              "[12997 rows x 2 columns]"
            ],
            "text/html": [
              "\n",
              "  <div id=\"df-b75ceb6a-6647-4566-b0a8-daf0c3767043\">\n",
              "    <div class=\"colab-df-container\">\n",
              "      <div>\n",
              "<style scoped>\n",
              "    .dataframe tbody tr th:only-of-type {\n",
              "        vertical-align: middle;\n",
              "    }\n",
              "\n",
              "    .dataframe tbody tr th {\n",
              "        vertical-align: top;\n",
              "    }\n",
              "\n",
              "    .dataframe thead th {\n",
              "        text-align: right;\n",
              "    }\n",
              "</style>\n",
              "<table border=\"1\" class=\"dataframe\">\n",
              "  <thead>\n",
              "    <tr style=\"text-align: right;\">\n",
              "      <th></th>\n",
              "      <th>ImageID</th>\n",
              "      <th>label</th>\n",
              "    </tr>\n",
              "  </thead>\n",
              "  <tbody>\n",
              "    <tr>\n",
              "      <th>0</th>\n",
              "      <td>0002cc93b.jpg</td>\n",
              "      <td>1</td>\n",
              "    </tr>\n",
              "    <tr>\n",
              "      <th>1</th>\n",
              "      <td>0007a71bf.jpg</td>\n",
              "      <td>1</td>\n",
              "    </tr>\n",
              "    <tr>\n",
              "      <th>2</th>\n",
              "      <td>000a4bcdd.jpg</td>\n",
              "      <td>1</td>\n",
              "    </tr>\n",
              "    <tr>\n",
              "      <th>3</th>\n",
              "      <td>000f6bf48.jpg</td>\n",
              "      <td>1</td>\n",
              "    </tr>\n",
              "    <tr>\n",
              "      <th>4</th>\n",
              "      <td>0014fce06.jpg</td>\n",
              "      <td>1</td>\n",
              "    </tr>\n",
              "    <tr>\n",
              "      <th>...</th>\n",
              "      <td>...</td>\n",
              "      <td>...</td>\n",
              "    </tr>\n",
              "    <tr>\n",
              "      <th>12992</th>\n",
              "      <td>0482ee1d6.jpg</td>\n",
              "      <td>0</td>\n",
              "    </tr>\n",
              "    <tr>\n",
              "      <th>12993</th>\n",
              "      <td>04802a6c2.jpg</td>\n",
              "      <td>0</td>\n",
              "    </tr>\n",
              "    <tr>\n",
              "      <th>12994</th>\n",
              "      <td>03ae2bc91.jpg</td>\n",
              "      <td>0</td>\n",
              "    </tr>\n",
              "    <tr>\n",
              "      <th>12995</th>\n",
              "      <td>04238d7e3.jpg</td>\n",
              "      <td>0</td>\n",
              "    </tr>\n",
              "    <tr>\n",
              "      <th>12996</th>\n",
              "      <td>023353d24.jpg</td>\n",
              "      <td>0</td>\n",
              "    </tr>\n",
              "  </tbody>\n",
              "</table>\n",
              "<p>12997 rows × 2 columns</p>\n",
              "</div>\n",
              "      <button class=\"colab-df-convert\" onclick=\"convertToInteractive('df-b75ceb6a-6647-4566-b0a8-daf0c3767043')\"\n",
              "              title=\"Convert this dataframe to an interactive table.\"\n",
              "              style=\"display:none;\">\n",
              "        \n",
              "  <svg xmlns=\"http://www.w3.org/2000/svg\" height=\"24px\"viewBox=\"0 0 24 24\"\n",
              "       width=\"24px\">\n",
              "    <path d=\"M0 0h24v24H0V0z\" fill=\"none\"/>\n",
              "    <path d=\"M18.56 5.44l.94 2.06.94-2.06 2.06-.94-2.06-.94-.94-2.06-.94 2.06-2.06.94zm-11 1L8.5 8.5l.94-2.06 2.06-.94-2.06-.94L8.5 2.5l-.94 2.06-2.06.94zm10 10l.94 2.06.94-2.06 2.06-.94-2.06-.94-.94-2.06-.94 2.06-2.06.94z\"/><path d=\"M17.41 7.96l-1.37-1.37c-.4-.4-.92-.59-1.43-.59-.52 0-1.04.2-1.43.59L10.3 9.45l-7.72 7.72c-.78.78-.78 2.05 0 2.83L4 21.41c.39.39.9.59 1.41.59.51 0 1.02-.2 1.41-.59l7.78-7.78 2.81-2.81c.8-.78.8-2.07 0-2.86zM5.41 20L4 18.59l7.72-7.72 1.47 1.35L5.41 20z\"/>\n",
              "  </svg>\n",
              "      </button>\n",
              "      \n",
              "  <style>\n",
              "    .colab-df-container {\n",
              "      display:flex;\n",
              "      flex-wrap:wrap;\n",
              "      gap: 12px;\n",
              "    }\n",
              "\n",
              "    .colab-df-convert {\n",
              "      background-color: #E8F0FE;\n",
              "      border: none;\n",
              "      border-radius: 50%;\n",
              "      cursor: pointer;\n",
              "      display: none;\n",
              "      fill: #1967D2;\n",
              "      height: 32px;\n",
              "      padding: 0 0 0 0;\n",
              "      width: 32px;\n",
              "    }\n",
              "\n",
              "    .colab-df-convert:hover {\n",
              "      background-color: #E2EBFA;\n",
              "      box-shadow: 0px 1px 2px rgba(60, 64, 67, 0.3), 0px 1px 3px 1px rgba(60, 64, 67, 0.15);\n",
              "      fill: #174EA6;\n",
              "    }\n",
              "\n",
              "    [theme=dark] .colab-df-convert {\n",
              "      background-color: #3B4455;\n",
              "      fill: #D2E3FC;\n",
              "    }\n",
              "\n",
              "    [theme=dark] .colab-df-convert:hover {\n",
              "      background-color: #434B5C;\n",
              "      box-shadow: 0px 1px 3px 1px rgba(0, 0, 0, 0.15);\n",
              "      filter: drop-shadow(0px 1px 2px rgba(0, 0, 0, 0.3));\n",
              "      fill: #FFFFFF;\n",
              "    }\n",
              "  </style>\n",
              "\n",
              "      <script>\n",
              "        const buttonEl =\n",
              "          document.querySelector('#df-b75ceb6a-6647-4566-b0a8-daf0c3767043 button.colab-df-convert');\n",
              "        buttonEl.style.display =\n",
              "          google.colab.kernel.accessAllowed ? 'block' : 'none';\n",
              "\n",
              "        async function convertToInteractive(key) {\n",
              "          const element = document.querySelector('#df-b75ceb6a-6647-4566-b0a8-daf0c3767043');\n",
              "          const dataTable =\n",
              "            await google.colab.kernel.invokeFunction('convertToInteractive',\n",
              "                                                     [key], {});\n",
              "          if (!dataTable) return;\n",
              "\n",
              "          const docLinkHtml = 'Like what you see? Visit the ' +\n",
              "            '<a target=\"_blank\" href=https://colab.research.google.com/notebooks/data_table.ipynb>data table notebook</a>'\n",
              "            + ' to learn more about interactive tables.';\n",
              "          element.innerHTML = '';\n",
              "          dataTable['output_type'] = 'display_data';\n",
              "          await google.colab.output.renderOutput(dataTable, element);\n",
              "          const docLink = document.createElement('div');\n",
              "          docLink.innerHTML = docLinkHtml;\n",
              "          element.appendChild(docLink);\n",
              "        }\n",
              "      </script>\n",
              "    </div>\n",
              "  </div>\n",
              "  "
            ]
          },
          "metadata": {},
          "execution_count": 11
        }
      ],
      "source": [
        "#Se imprime una vista del dataframe all_images_df\n",
        "all_images_df"
      ]
    },
    {
      "cell_type": "markdown",
      "metadata": {
        "id": "9u-r0emS1bNn"
      },
      "source": [
        "#2.Exploración de los conjuntos de datos\n",
        "\n",
        "Los datos para este trabajo fueron descargados desde https://www.kaggle.com/competitions/severstal-steel-defect-detection/rules"
      ]
    },
    {
      "cell_type": "code",
      "execution_count": 12,
      "metadata": {
        "id": "qTS1bwlW1pBo"
      },
      "outputs": [],
      "source": [
        "#Se agrega una columna de unos al final del conjunto de datos, esta columna se utiliza para contar el número de imagenes por categoría, es decir, \n",
        "#por 'ClassId', entonces, simplemente va a contener un uno en cada registro de la tabla. \n",
        "defect_class_mask_df['mask'] = defect_class_mask_df['ClassId'].map(lambda x: 1)"
      ]
    },
    {
      "cell_type": "code",
      "execution_count": 13,
      "metadata": {
        "colab": {
          "base_uri": "https://localhost:8080/",
          "height": 1000
        },
        "id": "M3_5t0rm2TSg",
        "outputId": "4e713e43-be57-4326-e177-698fd7fc6e86"
      },
      "outputs": [
        {
          "output_type": "execute_result",
          "data": {
            "text/plain": [
              "          ImageId  ClassId                                      EncodedPixels  \\\n",
              "0   d2291de5c.jpg        1  147963 3 148213 9 148461 18 148711 24 148965 2...   \n",
              "1   78416c3d0.jpg        3  54365 3 54621 7 54877 10 55133 12 55388 14 556...   \n",
              "2   2283f2183.jpg        3  201217 43 201473 128 201729 213 201985 5086 20...   \n",
              "3   f0dc068a8.jpg        3  159207 26 159412 77 159617 128 159822 179 1600...   \n",
              "4   00d639396.jpg        3  229356 17 229595 34 229850 36 230105 37 230360...   \n",
              "5   17d02873a.jpg        3  254980 43 255236 127 255492 211 255748 253 256...   \n",
              "6   47b5ab1bd.jpg        3  128976 8 129230 12 129484 16 129739 23 129995 ...   \n",
              "7   a6ecee828.jpg        3  179011 27 179126 73 179259 39 179375 80 179497...   \n",
              "8   11aaf18e2.jpg        3  303235 2 303489 7 303743 9 303997 11 304181 2 ...   \n",
              "9   cdf669a1f.jpg        4  310246 11 310499 25 310753 28 311007 31 311262...   \n",
              "10  fb9558035.jpg        4  159233 1 159489 2 159745 4 160001 5 160257 6 1...   \n",
              "11  9fac588ab.jpg        3  68321 32 68513 96 68706 159 68930 191 69186 19...   \n",
              "12  83d9b39c8.jpg        3  175089 15 175313 47 175538 78 175762 110 17598...   \n",
              "13  749407e33.jpg        3  15704 3 15960 8 16216 13 16471 19 16727 23 169...   \n",
              "14  e2bdd4236.jpg        3  17490 175 17746 175 18002 175 18258 175 18514 ...   \n",
              "15  8bab4626b.jpg        3  37390 2 37644 5 37898 7 38151 11 38405 13 3865...   \n",
              "16  3bde297da.jpg        3  154381 5 154635 17 154889 27 155143 36 155397 ...   \n",
              "17  ff5483763.jpg        3  168785 7 169034 20 169284 33 169533 46 169779 ...   \n",
              "18  a369c5c1f.jpg        3  18358 11 18606 32 18854 53 19102 73 19225 6 19...   \n",
              "19  d62e553a8.jpg        3  11453 1 11709 2 11964 4 12220 5 12475 7 12731 ...   \n",
              "20  ceccb1eef.jpg        1  361364 18 361613 42 361862 55 362112 67 362337...   \n",
              "21  eda5114ee.jpg        3  38877 2 39129 6 39381 10 39633 14 39885 18 401...   \n",
              "22  23c450c03.jpg        1  9251 24 9505 29 9759 32 10013 36 10267 39 1032...   \n",
              "23  ab6afa374.jpg        3  65986 39 66165 116 66344 193 66561 232 66817 2...   \n",
              "24  a0906d0b3.jpg        4  213842 5 214096 9 214351 11 214605 15 214860 1...   \n",
              "25  5562229c3.jpg        3  22966 17 23189 49 23412 82 23636 113 23859 145...   \n",
              "26  2365be47a.jpg        3  31096 3 31352 7 31608 12 31863 17 32119 21 323...   \n",
              "27  737ae5c95.jpg        4  50890 4 51146 6 51401 8 51657 9 51912 11 52048...   \n",
              "28  f89ce1e24.jpg        3  325112 9 325352 25 325592 41 325832 57 326071 ...   \n",
              "29  a239718e1.jpg        3  322214 4 322470 12 322726 20 322982 28 323238 ...   \n",
              "30  2694c98fb.jpg        3  212692 11 212928 31 213164 51 213400 71 213636...   \n",
              "31  a9108753d.jpg        3  3244 4 3494 10 3743 18 3993 24 4245 28 4501 29...   \n",
              "32  c4f5ebbb2.jpg        4  229758 5 230006 13 230254 21 230502 29 230750 ...   \n",
              "33  75361926d.jpg        4  144404 7 144652 17 144906 20 145160 24 145414 ...   \n",
              "34  fc8cb11db.jpg        1  271869 4 272115 14 272358 27 272601 40 272845 ...   \n",
              "35  9f054c54f.jpg        1  191060 15 191309 24 191563 29 191818 32 191889...   \n",
              "36  faea44200.jpg        3  308123 102 308379 102 308635 102 308891 102 30...   \n",
              "37  9b72243dc.jpg        3  207915 9 208167 28 208385 2 208420 44 208641 6...   \n",
              "38  10bbf7cb3.jpg        3  324770 1 325024 5 325278 8 325533 11 325787 14...   \n",
              "39  d1cd969d5.jpg        3  307684 6 307916 7 307937 11 308167 13 308191 1...   \n",
              "40  1082cfe08.jpg        4  240140 9 240395 27 240650 46 240905 64 241160 ...   \n",
              "41  927be944d.jpg        1  26369 15 26625 30 26881 30 27137 30 27393 31 2...   \n",
              "42  0518e79e9.jpg        3  154369 38 154625 42 154881 46 155137 50 155393...   \n",
              "43  64934ac51.jpg        3  357377 28 357633 83 357889 130 358145 169 3584...   \n",
              "44  26b0e74fe.jpg        3  156299 6 156545 16 156791 25 157037 35 157283 ...   \n",
              "45  7b2257638.jpg        3  77828 64 78084 190 78340 253 78596 253 78852 2...   \n",
              "46  975f12b62.jpg        3  185857 11 186113 31 186369 51 186625 72 186881...   \n",
              "47  92932546c.jpg        3  53236 13 53468 37 53700 61 53931 86 54163 110 ...   \n",
              "48  464a009f9.jpg        3  81550 10 81792 31 82034 52 82277 73 82519 94 8...   \n",
              "49  24db6ba0d.jpg        1  217946 7 218143 4 218198 21 218373 2 218394 13...   \n",
              "\n",
              "    mask  \n",
              "0      1  \n",
              "1      1  \n",
              "2      1  \n",
              "3      1  \n",
              "4      1  \n",
              "5      1  \n",
              "6      1  \n",
              "7      1  \n",
              "8      1  \n",
              "9      1  \n",
              "10     1  \n",
              "11     1  \n",
              "12     1  \n",
              "13     1  \n",
              "14     1  \n",
              "15     1  \n",
              "16     1  \n",
              "17     1  \n",
              "18     1  \n",
              "19     1  \n",
              "20     1  \n",
              "21     1  \n",
              "22     1  \n",
              "23     1  \n",
              "24     1  \n",
              "25     1  \n",
              "26     1  \n",
              "27     1  \n",
              "28     1  \n",
              "29     1  \n",
              "30     1  \n",
              "31     1  \n",
              "32     1  \n",
              "33     1  \n",
              "34     1  \n",
              "35     1  \n",
              "36     1  \n",
              "37     1  \n",
              "38     1  \n",
              "39     1  \n",
              "40     1  \n",
              "41     1  \n",
              "42     1  \n",
              "43     1  \n",
              "44     1  \n",
              "45     1  \n",
              "46     1  \n",
              "47     1  \n",
              "48     1  \n",
              "49     1  "
            ],
            "text/html": [
              "\n",
              "  <div id=\"df-40623a0c-c4f7-4377-97a7-c1b16cd328b9\">\n",
              "    <div class=\"colab-df-container\">\n",
              "      <div>\n",
              "<style scoped>\n",
              "    .dataframe tbody tr th:only-of-type {\n",
              "        vertical-align: middle;\n",
              "    }\n",
              "\n",
              "    .dataframe tbody tr th {\n",
              "        vertical-align: top;\n",
              "    }\n",
              "\n",
              "    .dataframe thead th {\n",
              "        text-align: right;\n",
              "    }\n",
              "</style>\n",
              "<table border=\"1\" class=\"dataframe\">\n",
              "  <thead>\n",
              "    <tr style=\"text-align: right;\">\n",
              "      <th></th>\n",
              "      <th>ImageId</th>\n",
              "      <th>ClassId</th>\n",
              "      <th>EncodedPixels</th>\n",
              "      <th>mask</th>\n",
              "    </tr>\n",
              "  </thead>\n",
              "  <tbody>\n",
              "    <tr>\n",
              "      <th>0</th>\n",
              "      <td>d2291de5c.jpg</td>\n",
              "      <td>1</td>\n",
              "      <td>147963 3 148213 9 148461 18 148711 24 148965 2...</td>\n",
              "      <td>1</td>\n",
              "    </tr>\n",
              "    <tr>\n",
              "      <th>1</th>\n",
              "      <td>78416c3d0.jpg</td>\n",
              "      <td>3</td>\n",
              "      <td>54365 3 54621 7 54877 10 55133 12 55388 14 556...</td>\n",
              "      <td>1</td>\n",
              "    </tr>\n",
              "    <tr>\n",
              "      <th>2</th>\n",
              "      <td>2283f2183.jpg</td>\n",
              "      <td>3</td>\n",
              "      <td>201217 43 201473 128 201729 213 201985 5086 20...</td>\n",
              "      <td>1</td>\n",
              "    </tr>\n",
              "    <tr>\n",
              "      <th>3</th>\n",
              "      <td>f0dc068a8.jpg</td>\n",
              "      <td>3</td>\n",
              "      <td>159207 26 159412 77 159617 128 159822 179 1600...</td>\n",
              "      <td>1</td>\n",
              "    </tr>\n",
              "    <tr>\n",
              "      <th>4</th>\n",
              "      <td>00d639396.jpg</td>\n",
              "      <td>3</td>\n",
              "      <td>229356 17 229595 34 229850 36 230105 37 230360...</td>\n",
              "      <td>1</td>\n",
              "    </tr>\n",
              "    <tr>\n",
              "      <th>5</th>\n",
              "      <td>17d02873a.jpg</td>\n",
              "      <td>3</td>\n",
              "      <td>254980 43 255236 127 255492 211 255748 253 256...</td>\n",
              "      <td>1</td>\n",
              "    </tr>\n",
              "    <tr>\n",
              "      <th>6</th>\n",
              "      <td>47b5ab1bd.jpg</td>\n",
              "      <td>3</td>\n",
              "      <td>128976 8 129230 12 129484 16 129739 23 129995 ...</td>\n",
              "      <td>1</td>\n",
              "    </tr>\n",
              "    <tr>\n",
              "      <th>7</th>\n",
              "      <td>a6ecee828.jpg</td>\n",
              "      <td>3</td>\n",
              "      <td>179011 27 179126 73 179259 39 179375 80 179497...</td>\n",
              "      <td>1</td>\n",
              "    </tr>\n",
              "    <tr>\n",
              "      <th>8</th>\n",
              "      <td>11aaf18e2.jpg</td>\n",
              "      <td>3</td>\n",
              "      <td>303235 2 303489 7 303743 9 303997 11 304181 2 ...</td>\n",
              "      <td>1</td>\n",
              "    </tr>\n",
              "    <tr>\n",
              "      <th>9</th>\n",
              "      <td>cdf669a1f.jpg</td>\n",
              "      <td>4</td>\n",
              "      <td>310246 11 310499 25 310753 28 311007 31 311262...</td>\n",
              "      <td>1</td>\n",
              "    </tr>\n",
              "    <tr>\n",
              "      <th>10</th>\n",
              "      <td>fb9558035.jpg</td>\n",
              "      <td>4</td>\n",
              "      <td>159233 1 159489 2 159745 4 160001 5 160257 6 1...</td>\n",
              "      <td>1</td>\n",
              "    </tr>\n",
              "    <tr>\n",
              "      <th>11</th>\n",
              "      <td>9fac588ab.jpg</td>\n",
              "      <td>3</td>\n",
              "      <td>68321 32 68513 96 68706 159 68930 191 69186 19...</td>\n",
              "      <td>1</td>\n",
              "    </tr>\n",
              "    <tr>\n",
              "      <th>12</th>\n",
              "      <td>83d9b39c8.jpg</td>\n",
              "      <td>3</td>\n",
              "      <td>175089 15 175313 47 175538 78 175762 110 17598...</td>\n",
              "      <td>1</td>\n",
              "    </tr>\n",
              "    <tr>\n",
              "      <th>13</th>\n",
              "      <td>749407e33.jpg</td>\n",
              "      <td>3</td>\n",
              "      <td>15704 3 15960 8 16216 13 16471 19 16727 23 169...</td>\n",
              "      <td>1</td>\n",
              "    </tr>\n",
              "    <tr>\n",
              "      <th>14</th>\n",
              "      <td>e2bdd4236.jpg</td>\n",
              "      <td>3</td>\n",
              "      <td>17490 175 17746 175 18002 175 18258 175 18514 ...</td>\n",
              "      <td>1</td>\n",
              "    </tr>\n",
              "    <tr>\n",
              "      <th>15</th>\n",
              "      <td>8bab4626b.jpg</td>\n",
              "      <td>3</td>\n",
              "      <td>37390 2 37644 5 37898 7 38151 11 38405 13 3865...</td>\n",
              "      <td>1</td>\n",
              "    </tr>\n",
              "    <tr>\n",
              "      <th>16</th>\n",
              "      <td>3bde297da.jpg</td>\n",
              "      <td>3</td>\n",
              "      <td>154381 5 154635 17 154889 27 155143 36 155397 ...</td>\n",
              "      <td>1</td>\n",
              "    </tr>\n",
              "    <tr>\n",
              "      <th>17</th>\n",
              "      <td>ff5483763.jpg</td>\n",
              "      <td>3</td>\n",
              "      <td>168785 7 169034 20 169284 33 169533 46 169779 ...</td>\n",
              "      <td>1</td>\n",
              "    </tr>\n",
              "    <tr>\n",
              "      <th>18</th>\n",
              "      <td>a369c5c1f.jpg</td>\n",
              "      <td>3</td>\n",
              "      <td>18358 11 18606 32 18854 53 19102 73 19225 6 19...</td>\n",
              "      <td>1</td>\n",
              "    </tr>\n",
              "    <tr>\n",
              "      <th>19</th>\n",
              "      <td>d62e553a8.jpg</td>\n",
              "      <td>3</td>\n",
              "      <td>11453 1 11709 2 11964 4 12220 5 12475 7 12731 ...</td>\n",
              "      <td>1</td>\n",
              "    </tr>\n",
              "    <tr>\n",
              "      <th>20</th>\n",
              "      <td>ceccb1eef.jpg</td>\n",
              "      <td>1</td>\n",
              "      <td>361364 18 361613 42 361862 55 362112 67 362337...</td>\n",
              "      <td>1</td>\n",
              "    </tr>\n",
              "    <tr>\n",
              "      <th>21</th>\n",
              "      <td>eda5114ee.jpg</td>\n",
              "      <td>3</td>\n",
              "      <td>38877 2 39129 6 39381 10 39633 14 39885 18 401...</td>\n",
              "      <td>1</td>\n",
              "    </tr>\n",
              "    <tr>\n",
              "      <th>22</th>\n",
              "      <td>23c450c03.jpg</td>\n",
              "      <td>1</td>\n",
              "      <td>9251 24 9505 29 9759 32 10013 36 10267 39 1032...</td>\n",
              "      <td>1</td>\n",
              "    </tr>\n",
              "    <tr>\n",
              "      <th>23</th>\n",
              "      <td>ab6afa374.jpg</td>\n",
              "      <td>3</td>\n",
              "      <td>65986 39 66165 116 66344 193 66561 232 66817 2...</td>\n",
              "      <td>1</td>\n",
              "    </tr>\n",
              "    <tr>\n",
              "      <th>24</th>\n",
              "      <td>a0906d0b3.jpg</td>\n",
              "      <td>4</td>\n",
              "      <td>213842 5 214096 9 214351 11 214605 15 214860 1...</td>\n",
              "      <td>1</td>\n",
              "    </tr>\n",
              "    <tr>\n",
              "      <th>25</th>\n",
              "      <td>5562229c3.jpg</td>\n",
              "      <td>3</td>\n",
              "      <td>22966 17 23189 49 23412 82 23636 113 23859 145...</td>\n",
              "      <td>1</td>\n",
              "    </tr>\n",
              "    <tr>\n",
              "      <th>26</th>\n",
              "      <td>2365be47a.jpg</td>\n",
              "      <td>3</td>\n",
              "      <td>31096 3 31352 7 31608 12 31863 17 32119 21 323...</td>\n",
              "      <td>1</td>\n",
              "    </tr>\n",
              "    <tr>\n",
              "      <th>27</th>\n",
              "      <td>737ae5c95.jpg</td>\n",
              "      <td>4</td>\n",
              "      <td>50890 4 51146 6 51401 8 51657 9 51912 11 52048...</td>\n",
              "      <td>1</td>\n",
              "    </tr>\n",
              "    <tr>\n",
              "      <th>28</th>\n",
              "      <td>f89ce1e24.jpg</td>\n",
              "      <td>3</td>\n",
              "      <td>325112 9 325352 25 325592 41 325832 57 326071 ...</td>\n",
              "      <td>1</td>\n",
              "    </tr>\n",
              "    <tr>\n",
              "      <th>29</th>\n",
              "      <td>a239718e1.jpg</td>\n",
              "      <td>3</td>\n",
              "      <td>322214 4 322470 12 322726 20 322982 28 323238 ...</td>\n",
              "      <td>1</td>\n",
              "    </tr>\n",
              "    <tr>\n",
              "      <th>30</th>\n",
              "      <td>2694c98fb.jpg</td>\n",
              "      <td>3</td>\n",
              "      <td>212692 11 212928 31 213164 51 213400 71 213636...</td>\n",
              "      <td>1</td>\n",
              "    </tr>\n",
              "    <tr>\n",
              "      <th>31</th>\n",
              "      <td>a9108753d.jpg</td>\n",
              "      <td>3</td>\n",
              "      <td>3244 4 3494 10 3743 18 3993 24 4245 28 4501 29...</td>\n",
              "      <td>1</td>\n",
              "    </tr>\n",
              "    <tr>\n",
              "      <th>32</th>\n",
              "      <td>c4f5ebbb2.jpg</td>\n",
              "      <td>4</td>\n",
              "      <td>229758 5 230006 13 230254 21 230502 29 230750 ...</td>\n",
              "      <td>1</td>\n",
              "    </tr>\n",
              "    <tr>\n",
              "      <th>33</th>\n",
              "      <td>75361926d.jpg</td>\n",
              "      <td>4</td>\n",
              "      <td>144404 7 144652 17 144906 20 145160 24 145414 ...</td>\n",
              "      <td>1</td>\n",
              "    </tr>\n",
              "    <tr>\n",
              "      <th>34</th>\n",
              "      <td>fc8cb11db.jpg</td>\n",
              "      <td>1</td>\n",
              "      <td>271869 4 272115 14 272358 27 272601 40 272845 ...</td>\n",
              "      <td>1</td>\n",
              "    </tr>\n",
              "    <tr>\n",
              "      <th>35</th>\n",
              "      <td>9f054c54f.jpg</td>\n",
              "      <td>1</td>\n",
              "      <td>191060 15 191309 24 191563 29 191818 32 191889...</td>\n",
              "      <td>1</td>\n",
              "    </tr>\n",
              "    <tr>\n",
              "      <th>36</th>\n",
              "      <td>faea44200.jpg</td>\n",
              "      <td>3</td>\n",
              "      <td>308123 102 308379 102 308635 102 308891 102 30...</td>\n",
              "      <td>1</td>\n",
              "    </tr>\n",
              "    <tr>\n",
              "      <th>37</th>\n",
              "      <td>9b72243dc.jpg</td>\n",
              "      <td>3</td>\n",
              "      <td>207915 9 208167 28 208385 2 208420 44 208641 6...</td>\n",
              "      <td>1</td>\n",
              "    </tr>\n",
              "    <tr>\n",
              "      <th>38</th>\n",
              "      <td>10bbf7cb3.jpg</td>\n",
              "      <td>3</td>\n",
              "      <td>324770 1 325024 5 325278 8 325533 11 325787 14...</td>\n",
              "      <td>1</td>\n",
              "    </tr>\n",
              "    <tr>\n",
              "      <th>39</th>\n",
              "      <td>d1cd969d5.jpg</td>\n",
              "      <td>3</td>\n",
              "      <td>307684 6 307916 7 307937 11 308167 13 308191 1...</td>\n",
              "      <td>1</td>\n",
              "    </tr>\n",
              "    <tr>\n",
              "      <th>40</th>\n",
              "      <td>1082cfe08.jpg</td>\n",
              "      <td>4</td>\n",
              "      <td>240140 9 240395 27 240650 46 240905 64 241160 ...</td>\n",
              "      <td>1</td>\n",
              "    </tr>\n",
              "    <tr>\n",
              "      <th>41</th>\n",
              "      <td>927be944d.jpg</td>\n",
              "      <td>1</td>\n",
              "      <td>26369 15 26625 30 26881 30 27137 30 27393 31 2...</td>\n",
              "      <td>1</td>\n",
              "    </tr>\n",
              "    <tr>\n",
              "      <th>42</th>\n",
              "      <td>0518e79e9.jpg</td>\n",
              "      <td>3</td>\n",
              "      <td>154369 38 154625 42 154881 46 155137 50 155393...</td>\n",
              "      <td>1</td>\n",
              "    </tr>\n",
              "    <tr>\n",
              "      <th>43</th>\n",
              "      <td>64934ac51.jpg</td>\n",
              "      <td>3</td>\n",
              "      <td>357377 28 357633 83 357889 130 358145 169 3584...</td>\n",
              "      <td>1</td>\n",
              "    </tr>\n",
              "    <tr>\n",
              "      <th>44</th>\n",
              "      <td>26b0e74fe.jpg</td>\n",
              "      <td>3</td>\n",
              "      <td>156299 6 156545 16 156791 25 157037 35 157283 ...</td>\n",
              "      <td>1</td>\n",
              "    </tr>\n",
              "    <tr>\n",
              "      <th>45</th>\n",
              "      <td>7b2257638.jpg</td>\n",
              "      <td>3</td>\n",
              "      <td>77828 64 78084 190 78340 253 78596 253 78852 2...</td>\n",
              "      <td>1</td>\n",
              "    </tr>\n",
              "    <tr>\n",
              "      <th>46</th>\n",
              "      <td>975f12b62.jpg</td>\n",
              "      <td>3</td>\n",
              "      <td>185857 11 186113 31 186369 51 186625 72 186881...</td>\n",
              "      <td>1</td>\n",
              "    </tr>\n",
              "    <tr>\n",
              "      <th>47</th>\n",
              "      <td>92932546c.jpg</td>\n",
              "      <td>3</td>\n",
              "      <td>53236 13 53468 37 53700 61 53931 86 54163 110 ...</td>\n",
              "      <td>1</td>\n",
              "    </tr>\n",
              "    <tr>\n",
              "      <th>48</th>\n",
              "      <td>464a009f9.jpg</td>\n",
              "      <td>3</td>\n",
              "      <td>81550 10 81792 31 82034 52 82277 73 82519 94 8...</td>\n",
              "      <td>1</td>\n",
              "    </tr>\n",
              "    <tr>\n",
              "      <th>49</th>\n",
              "      <td>24db6ba0d.jpg</td>\n",
              "      <td>1</td>\n",
              "      <td>217946 7 218143 4 218198 21 218373 2 218394 13...</td>\n",
              "      <td>1</td>\n",
              "    </tr>\n",
              "  </tbody>\n",
              "</table>\n",
              "</div>\n",
              "      <button class=\"colab-df-convert\" onclick=\"convertToInteractive('df-40623a0c-c4f7-4377-97a7-c1b16cd328b9')\"\n",
              "              title=\"Convert this dataframe to an interactive table.\"\n",
              "              style=\"display:none;\">\n",
              "        \n",
              "  <svg xmlns=\"http://www.w3.org/2000/svg\" height=\"24px\"viewBox=\"0 0 24 24\"\n",
              "       width=\"24px\">\n",
              "    <path d=\"M0 0h24v24H0V0z\" fill=\"none\"/>\n",
              "    <path d=\"M18.56 5.44l.94 2.06.94-2.06 2.06-.94-2.06-.94-.94-2.06-.94 2.06-2.06.94zm-11 1L8.5 8.5l.94-2.06 2.06-.94-2.06-.94L8.5 2.5l-.94 2.06-2.06.94zm10 10l.94 2.06.94-2.06 2.06-.94-2.06-.94-.94-2.06-.94 2.06-2.06.94z\"/><path d=\"M17.41 7.96l-1.37-1.37c-.4-.4-.92-.59-1.43-.59-.52 0-1.04.2-1.43.59L10.3 9.45l-7.72 7.72c-.78.78-.78 2.05 0 2.83L4 21.41c.39.39.9.59 1.41.59.51 0 1.02-.2 1.41-.59l7.78-7.78 2.81-2.81c.8-.78.8-2.07 0-2.86zM5.41 20L4 18.59l7.72-7.72 1.47 1.35L5.41 20z\"/>\n",
              "  </svg>\n",
              "      </button>\n",
              "      \n",
              "  <style>\n",
              "    .colab-df-container {\n",
              "      display:flex;\n",
              "      flex-wrap:wrap;\n",
              "      gap: 12px;\n",
              "    }\n",
              "\n",
              "    .colab-df-convert {\n",
              "      background-color: #E8F0FE;\n",
              "      border: none;\n",
              "      border-radius: 50%;\n",
              "      cursor: pointer;\n",
              "      display: none;\n",
              "      fill: #1967D2;\n",
              "      height: 32px;\n",
              "      padding: 0 0 0 0;\n",
              "      width: 32px;\n",
              "    }\n",
              "\n",
              "    .colab-df-convert:hover {\n",
              "      background-color: #E2EBFA;\n",
              "      box-shadow: 0px 1px 2px rgba(60, 64, 67, 0.3), 0px 1px 3px 1px rgba(60, 64, 67, 0.15);\n",
              "      fill: #174EA6;\n",
              "    }\n",
              "\n",
              "    [theme=dark] .colab-df-convert {\n",
              "      background-color: #3B4455;\n",
              "      fill: #D2E3FC;\n",
              "    }\n",
              "\n",
              "    [theme=dark] .colab-df-convert:hover {\n",
              "      background-color: #434B5C;\n",
              "      box-shadow: 0px 1px 3px 1px rgba(0, 0, 0, 0.15);\n",
              "      filter: drop-shadow(0px 1px 2px rgba(0, 0, 0, 0.3));\n",
              "      fill: #FFFFFF;\n",
              "    }\n",
              "  </style>\n",
              "\n",
              "      <script>\n",
              "        const buttonEl =\n",
              "          document.querySelector('#df-40623a0c-c4f7-4377-97a7-c1b16cd328b9 button.colab-df-convert');\n",
              "        buttonEl.style.display =\n",
              "          google.colab.kernel.accessAllowed ? 'block' : 'none';\n",
              "\n",
              "        async function convertToInteractive(key) {\n",
              "          const element = document.querySelector('#df-40623a0c-c4f7-4377-97a7-c1b16cd328b9');\n",
              "          const dataTable =\n",
              "            await google.colab.kernel.invokeFunction('convertToInteractive',\n",
              "                                                     [key], {});\n",
              "          if (!dataTable) return;\n",
              "\n",
              "          const docLinkHtml = 'Like what you see? Visit the ' +\n",
              "            '<a target=\"_blank\" href=https://colab.research.google.com/notebooks/data_table.ipynb>data table notebook</a>'\n",
              "            + ' to learn more about interactive tables.';\n",
              "          element.innerHTML = '';\n",
              "          dataTable['output_type'] = 'display_data';\n",
              "          await google.colab.output.renderOutput(dataTable, element);\n",
              "          const docLink = document.createElement('div');\n",
              "          docLink.innerHTML = docLinkHtml;\n",
              "          element.appendChild(docLink);\n",
              "        }\n",
              "      </script>\n",
              "    </div>\n",
              "  </div>\n",
              "  "
            ]
          },
          "metadata": {},
          "execution_count": 13
        }
      ],
      "source": [
        "#Se imprimen los primeros 50 registros después de agregar la columna de mask \n",
        "defect_class_mask_df.head(50)"
      ]
    },
    {
      "cell_type": "markdown",
      "metadata": {
        "id": "bZP03DuN3P5A"
      },
      "source": [
        "A continuación, se presenta un gráfico que permite visualizar el número de imágenes que hay por categoría o tipo de defecto. "
      ]
    },
    {
      "cell_type": "code",
      "execution_count": 14,
      "metadata": {
        "colab": {
          "base_uri": "https://localhost:8080/",
          "height": 676
        },
        "id": "h2UwqW1V3C7Q",
        "outputId": "45f2c4d5-b6a6-4b09-e194-51e11e13f189"
      },
      "outputs": [
        {
          "output_type": "stream",
          "name": "stderr",
          "text": [
            "/usr/local/lib/python3.7/dist-packages/seaborn/_decorators.py:43: FutureWarning: Pass the following variable as a keyword arg: x. From version 0.12, the only valid positional argument will be `data`, and passing other arguments without an explicit keyword will result in an error or misinterpretation.\n",
            "  FutureWarning\n"
          ]
        },
        {
          "output_type": "display_data",
          "data": {
            "text/plain": [
              "<Figure size 720x720 with 1 Axes>"
            ],
            "image/png": "[encoded data removed]"
          },
          "metadata": {
            "needs_background": "light"
          }
        }
      ],
      "source": [
        "#Se realiza un gráfico de barras que muestre el número de imágenes por tipo de defecto \n",
        "plt.figure(figsize=(10,10))\n",
        "sns.countplot(defect_class_mask_df['ClassId'])\n",
        "plt.ylabel('Número de imágenes por defecto')\n",
        "plt.xlabel('ClassID')\n",
        "plt.title('Número de imágenes por clase')\n",
        "plt.show()"
      ]
    },
    {
      "cell_type": "markdown",
      "metadata": {
        "id": "kxB6HmzjPWr_"
      },
      "source": [
        "Con base en el gráfico se concluye, que de la categoría 3 o del defecto número tres, es el que poseen la mayoría de las imagenes. "
      ]
    },
    {
      "cell_type": "code",
      "execution_count": 15,
      "metadata": {
        "id": "ifmMxI6T3cn3"
      },
      "outputs": [],
      "source": [
        "# Algunas imágenes están clasificadas con más de un defecto, exploremos esto con más detalle.\n",
        "# Entonces, se agrupan las imagenes por la columnas de ImageId y se suma la columna de mask, esto con el fin de contar \n",
        "#con una tabla que contenga la cantidad de defectos de cada imagen.\n",
        "defect_type = defect_class_mask_df.groupby(['ImageId'])['mask'].sum()\n"
      ]
    },
    {
      "cell_type": "code",
      "execution_count": 16,
      "metadata": {
        "colab": {
          "base_uri": "https://localhost:8080/"
        },
        "id": "DNsfBVtH3ePv",
        "outputId": "908f2876-7242-418a-b701-3a76fa8d36dc"
      },
      "outputs": [
        {
          "output_type": "execute_result",
          "data": {
            "text/plain": [
              "ImageId\n",
              "0002cc93b.jpg    1\n",
              "0007a71bf.jpg    1\n",
              "000a4bcdd.jpg    1\n",
              "000f6bf48.jpg    1\n",
              "0014fce06.jpg    1\n",
              "0025bde0c.jpg    2\n",
              "002af848d.jpg    1\n",
              "002fc4e19.jpg    2\n",
              "0030401a5.jpg    1\n",
              "0046839bd.jpg    1\n",
              "005d86c25.jpg    1\n",
              "008621629.jpg    1\n",
              "0088260da.jpg    1\n",
              "008ef3d74.jpg    1\n",
              "0095cd374.jpg    1\n",
              "00ac8372f.jpg    2\n",
              "00bc01bfe.jpg    1\n",
              "00bf8497a.jpg    1\n",
              "00c88fed0.jpg    1\n",
              "00cdb56a0.jpg    1\n",
              "00d639396.jpg    1\n",
              "00e0398ad.jpg    1\n",
              "00ec97699.jpg    1\n",
              "00f1665e6.jpg    1\n",
              "00f6e702c.jpg    1\n",
              "01053d28f.jpg    1\n",
              "010db68d1.jpg    1\n",
              "012a9a4c7.jpg    1\n",
              "012f26693.jpg    2\n",
              "01338c0ea.jpg    1\n",
              "0141c9bf3.jpg    1\n",
              "0148e9891.jpg    1\n",
              "014ebe543.jpg    1\n",
              "01661826d.jpg    1\n",
              "0167a740e.jpg    1\n",
              "016af13d0.jpg    1\n",
              "017c828a1.jpg    1\n",
              "018ccdfed.jpg    1\n",
              "01afbfa7a.jpg    1\n",
              "01b043500.jpg    1\n",
              "01b492dd6.jpg    1\n",
              "01c3ef286.jpg    1\n",
              "01cf446d4.jpg    1\n",
              "01cfacf80.jpg    2\n",
              "01df77e59.jpg    1\n",
              "01ebe0d32.jpg    1\n",
              "01fd320c9.jpg    1\n",
              "01fd50e68.jpg    1\n",
              "020ff3106.jpg    1\n",
              "0217af9b1.jpg    1\n",
              "Name: mask, dtype: int64"
            ]
          },
          "metadata": {},
          "execution_count": 16
        }
      ],
      "source": [
        "#Se imprime el dataframe, que contiene el número de defectos que tiene cada imagen. \n",
        "defect_type.head(50)"
      ]
    },
    {
      "cell_type": "code",
      "execution_count": 17,
      "metadata": {
        "colab": {
          "base_uri": "https://localhost:8080/"
        },
        "id": "RIplYnvg4Lfn",
        "outputId": "8854d2b8-ca9a-4f48-9156-45b2ccb1f21e"
      },
      "outputs": [
        {
          "output_type": "execute_result",
          "data": {
            "text/plain": [
              "1    5201\n",
              "2     272\n",
              "3       1\n",
              "Name: mask, dtype: int64"
            ]
          },
          "metadata": {},
          "execution_count": 17
        }
      ],
      "source": [
        "# Algunas imágenes están clasificadas con más de un defecto, exploremos esto con más detalle.\n",
        "#Entonces, se cuentan las imagnes por el número de defectos y se obtiene que: \n",
        "# Hay una imagen con 3 tipos de defectos\n",
        "# Hay 272 imágenes con 2 tipos de defectos\n",
        "# Hay 5201 imágenes con 1 tipo de defecto\n",
        "defect_type.value_counts()"
      ]
    },
    {
      "cell_type": "code",
      "execution_count": 18,
      "metadata": {
        "colab": {
          "base_uri": "https://localhost:8080/",
          "height": 621
        },
        "id": "HL5q7rH94de8",
        "outputId": "e513fc1a-1ae4-45d6-9fdc-afafab35369f"
      },
      "outputs": [
        {
          "output_type": "display_data",
          "data": {
            "text/plain": [
              "<Figure size 720x720 with 1 Axes>"
            ],
            "image/png": "[encoded data removed]"
          },
          "metadata": {
            "needs_background": "light"
          }
        }
      ],
      "source": [
        "#Se hace un gráfico de barras en el que se muestra el número imágenes con base en el número de defectos que tenga la imágen\n",
        "plt.figure(figsize=(10,10))\n",
        "sns.barplot(x = defect_type.value_counts().index, y = defect_type.value_counts() )\n",
        "plt.xlabel('ClassID')\n",
        "plt.title('Número de defectos en la imágen')\n",
        "plt.show()"
      ]
    },
    {
      "cell_type": "code",
      "execution_count": 19,
      "metadata": {
        "colab": {
          "base_uri": "https://localhost:8080/"
        },
        "id": "TfGmSQY04iI-",
        "outputId": "35555d80-2c8a-473a-e770-2857aef3921b"
      },
      "outputs": [
        {
          "output_type": "execute_result",
          "data": {
            "text/plain": [
              "(5748, 4)"
            ]
          },
          "metadata": {},
          "execution_count": 19
        }
      ],
      "source": [
        "#Se imprimen las dimensiones del dataframe de imágenes defectuosas, que estan etiquetadas por el tipo de defecto\n",
        "defect_class_mask_df.shape"
      ]
    },
    {
      "cell_type": "code",
      "execution_count": 20,
      "metadata": {
        "colab": {
          "base_uri": "https://localhost:8080/"
        },
        "id": "QzWMOiDk4kll",
        "outputId": "a3686f7d-10fa-4c0f-bf89-033ba2a53be9"
      },
      "outputs": [
        {
          "output_type": "execute_result",
          "data": {
            "text/plain": [
              "(12997, 2)"
            ]
          },
          "metadata": {},
          "execution_count": 20
        }
      ],
      "source": [
        "#Se imprimen las dimensiones del dataframe de las imágenes defectuosas y no defectuosas\n",
        "all_images_df.shape"
      ]
    },
    {
      "cell_type": "code",
      "execution_count": 21,
      "metadata": {
        "colab": {
          "base_uri": "https://localhost:8080/"
        },
        "id": "I7-BWbRj4mrC",
        "outputId": "a6b8bd13-4cd3-4c50-f197-24f8a37faccf"
      },
      "outputs": [
        {
          "output_type": "execute_result",
          "data": {
            "text/plain": [
              "1    7095\n",
              "0    5902\n",
              "Name: label, dtype: int64"
            ]
          },
          "metadata": {},
          "execution_count": 21
        }
      ],
      "source": [
        "# Contemos imágenes con y sin defectos\n",
        "all_images_df.label.value_counts()"
      ]
    },
    {
      "cell_type": "code",
      "execution_count": 22,
      "metadata": {
        "colab": {
          "base_uri": "https://localhost:8080/",
          "height": 621
        },
        "id": "AEH6eevw4qTO",
        "outputId": "2d88f0dd-da09-4c62-fbfa-dcae3d48dc3b"
      },
      "outputs": [
        {
          "output_type": "display_data",
          "data": {
            "text/plain": [
              "<Figure size 720x720 with 1 Axes>"
            ],
            "image/png": "[encoded data removed]"
          },
          "metadata": {
            "needs_background": "light"
          }
        }
      ],
      "source": [
        "#Se hace un gráfico de barras en el que se muestra el número de imágenes con base en si es defectuosa o no \n",
        "plt.figure(figsize=(10,10))\n",
        "sns.barplot(x = all_images_df.label.value_counts().index, y = all_images_df.label.value_counts() )\n",
        "plt.ylabel('Número de imágenes')\n",
        "plt.xlabel('0 - No-defectuosa             1- Defectuosa')\n",
        "plt.title('Imágenes defectuosas y no defectuosas')\n",
        "plt.show()"
      ]
    },
    {
      "cell_type": "code",
      "execution_count": 24,
      "metadata": {
        "colab": {
          "base_uri": "https://localhost:8080/",
          "height": 1000
        },
        "id": "g38lxR-94s2B",
        "outputId": "8891e76d-ef8f-4caf-d996-9de0753edaad"
      },
      "outputs": [
        {
          "output_type": "display_data",
          "data": {
            "text/plain": [
              "<Figure size 432x288 with 1 Axes>"
            ],
            "image/png": "[encoded data removed]"
          },
          "metadata": {
            "needs_background": "light"
          }
        },
        {
          "output_type": "display_data",
          "data": {
            "text/plain": [
              "<Figure size 432x288 with 1 Axes>"
            ],
            "image/png": "[encoded data removed]"
          },
          "metadata": {
            "needs_background": "light"
          }
        },
        {
          "output_type": "display_data",
          "data": {
            "text/plain": [
              "<Figure size 432x288 with 1 Axes>"
            ],
            "image/png": "[encoded data removed]"
          },
          "metadata": {
            "needs_background": "light"
          }
        },
        {
          "output_type": "display_data",
          "data": {
            "text/plain": [
              "<Figure size 432x288 with 1 Axes>"
            ],
            "image/png": "[encoded data removed]"
          },
          "metadata": {
            "needs_background": "light"
          }
        },
        {
          "output_type": "display_data",
          "data": {
            "text/plain": [
              "<Figure size 432x288 with 1 Axes>"
            ],
            "image/png": "[encoded data removed]"
          },
          "metadata": {
            "needs_background": "light"
          }
        },
        {
          "output_type": "display_data",
          "data": {
            "text/plain": [
              "<Figure size 432x288 with 1 Axes>"
            ],
            "image/png": "[encoded data removed]"
          },
          "metadata": {
            "needs_background": "light"
          }
        },
        {
          "output_type": "display_data",
          "data": {
            "text/plain": [
              "<Figure size 432x288 with 1 Axes>"
            ],
            "image/png": "[encoded data removed]"
          },
          "metadata": {
            "needs_background": "light"
          }
        },
        {
          "output_type": "display_data",
          "data": {
            "text/plain": [
              "<Figure size 432x288 with 1 Axes>"
            ],
            "image/png": "[encoded data removed]"
          },
          "metadata": {
            "needs_background": "light"
          }
        },
        {
          "output_type": "display_data",
          "data": {
            "text/plain": [
              "<Figure size 432x288 with 1 Axes>"
            ],
            "image/png": "[encoded data removed]"
          },
          "metadata": {
            "needs_background": "light"
          }
        },
        {
          "output_type": "display_data",
          "data": {
            "text/plain": [
              "<Figure size 432x288 with 1 Axes>"
            ],
            "image/png": "[encoded data removed]"
          },
          "metadata": {
            "needs_background": "light"
          }
        }
      ],
      "source": [
        "# Visualizar imágenes con defectos junto con sus etiquetas correspondientes\n",
        "# Las imágenes son de 256 x 1600\n",
        "from google.colab.patches import cv2_imshow\n",
        "train_dir = '/content/drive/MyDrive/Proyecto_Introducción_Inteligencia_Artificial_Ejemplo_1/train_images'\n",
        "\n",
        "for i in range(10):\n",
        "  # Especificar el path de las imágenes a partir de su ID de imagen\n",
        "  img = io.imread(os.path.join(train_dir, defect_class_mask_df.ImageId[i]))\n",
        "  plt.figure()\n",
        "  plt.title(defect_class_mask_df.ClassId[i])\n",
        "  plt.imshow(img)"
      ]
    },
    {
      "cell_type": "code",
      "execution_count": 27,
      "metadata": {
        "colab": {
          "base_uri": "https://localhost:8080/"
        },
        "id": "SQ7GMxpy6fgd",
        "outputId": "f8208854-7131-4916-968f-e762349aaaff"
      },
      "outputs": [
        {
          "output_type": "stream",
          "name": "stdout",
          "text": [
            "/content/drive/MyDrive/Proyecto_Introducción_Inteligencia_Artificial_Ejemplo_1\n"
          ]
        }
      ],
      "source": [
        "# El archivo de Utilities contiene el código de las funciones rle2mask, mask2rle, función de pérdida personalizada y generador de datos personalizados\n",
        "# dado que los datos proporcionados para la segmentación están en formato RLE (run length encoded), usaremos la siguiente función para convertir el RLE a máscara.\n",
        "# podemos convertir la máscara nuevamente a RLE para evaluar el rendimiento del modelo (accuracy).\n",
        "# El código fuente para estas funciones se obtuvo de: https://www.kaggle.com/paulorzp/rle-functions-run-lenght-encode-decode\n",
        "\n",
        "%cd /content/drive/MyDrive/Proyecto_Introducción_Inteligencia_Artificial_Ejemplo_1\n",
        "from utilities import rle2mask , mask2rle\n",
        "\n",
        "train_dir = '/content/drive/MyDrive/Proyecto_Introducción_Inteligencia_Artificial_Ejemplo_1/train_images'"
      ]
    },
    {
      "cell_type": "code",
      "execution_count": null,
      "metadata": {
        "colab": {
          "base_uri": "https://localhost:8080/",
          "height": 424
        },
        "id": "slqX7U9KWVNs",
        "outputId": "58afddd0-f785-4437-c851-6aaea4c4fb7e"
      },
      "outputs": [
        {
          "output_type": "execute_result",
          "data": {
            "text/plain": [
              "            ImageId  ClassId  \\\n",
              "0     d2291de5c.jpg        1   \n",
              "1     78416c3d0.jpg        3   \n",
              "2     2283f2183.jpg        3   \n",
              "3     f0dc068a8.jpg        3   \n",
              "4     00d639396.jpg        3   \n",
              "...             ...      ...   \n",
              "5743  c12842f5e.jpg        3   \n",
              "5744  2222a03b3.jpg        3   \n",
              "5745  b43ea2c01.jpg        1   \n",
              "5746  1bc37a6f4.jpg        3   \n",
              "5747  f4413e172.jpg        3   \n",
              "\n",
              "                                          EncodedPixels  mask  \n",
              "0     147963 3 148213 9 148461 18 148711 24 148965 2...     1  \n",
              "1     54365 3 54621 7 54877 10 55133 12 55388 14 556...     1  \n",
              "2     201217 43 201473 128 201729 213 201985 5086 20...     1  \n",
              "3     159207 26 159412 77 159617 128 159822 179 1600...     1  \n",
              "4     229356 17 229595 34 229850 36 230105 37 230360...     1  \n",
              "...                                                 ...   ...  \n",
              "5743  88 23 342 29 596 34 850 39 1105 44 1361 46 161...     1  \n",
              "5744  63332 4 63587 11 63841 20 64096 27 64351 35 64...     1  \n",
              "5745  185024 7 185279 11 185535 12 185790 13 186045 ...     1  \n",
              "5746  303867 1 304122 3 304376 6 304613 3 304630 9 3...     1  \n",
              "5747  254911 3 255165 8 255419 12 255672 18 255926 2...     1  \n",
              "\n",
              "[5748 rows x 4 columns]"
            ],
            "text/html": [
              "\n",
              "  <div id=\"df-2e8b8973-8d81-4a8e-aae9-0a48202d5f3c\">\n",
              "    <div class=\"colab-df-container\">\n",
              "      <div>\n",
              "<style scoped>\n",
              "    .dataframe tbody tr th:only-of-type {\n",
              "        vertical-align: middle;\n",
              "    }\n",
              "\n",
              "    .dataframe tbody tr th {\n",
              "        vertical-align: top;\n",
              "    }\n",
              "\n",
              "    .dataframe thead th {\n",
              "        text-align: right;\n",
              "    }\n",
              "</style>\n",
              "<table border=\"1\" class=\"dataframe\">\n",
              "  <thead>\n",
              "    <tr style=\"text-align: right;\">\n",
              "      <th></th>\n",
              "      <th>ImageId</th>\n",
              "      <th>ClassId</th>\n",
              "      <th>EncodedPixels</th>\n",
              "      <th>mask</th>\n",
              "    </tr>\n",
              "  </thead>\n",
              "  <tbody>\n",
              "    <tr>\n",
              "      <th>0</th>\n",
              "      <td>d2291de5c.jpg</td>\n",
              "      <td>1</td>\n",
              "      <td>147963 3 148213 9 148461 18 148711 24 148965 2...</td>\n",
              "      <td>1</td>\n",
              "    </tr>\n",
              "    <tr>\n",
              "      <th>1</th>\n",
              "      <td>78416c3d0.jpg</td>\n",
              "      <td>3</td>\n",
              "      <td>54365 3 54621 7 54877 10 55133 12 55388 14 556...</td>\n",
              "      <td>1</td>\n",
              "    </tr>\n",
              "    <tr>\n",
              "      <th>2</th>\n",
              "      <td>2283f2183.jpg</td>\n",
              "      <td>3</td>\n",
              "      <td>201217 43 201473 128 201729 213 201985 5086 20...</td>\n",
              "      <td>1</td>\n",
              "    </tr>\n",
              "    <tr>\n",
              "      <th>3</th>\n",
              "      <td>f0dc068a8.jpg</td>\n",
              "      <td>3</td>\n",
              "      <td>159207 26 159412 77 159617 128 159822 179 1600...</td>\n",
              "      <td>1</td>\n",
              "    </tr>\n",
              "    <tr>\n",
              "      <th>4</th>\n",
              "      <td>00d639396.jpg</td>\n",
              "      <td>3</td>\n",
              "      <td>229356 17 229595 34 229850 36 230105 37 230360...</td>\n",
              "      <td>1</td>\n",
              "    </tr>\n",
              "    <tr>\n",
              "      <th>...</th>\n",
              "      <td>...</td>\n",
              "      <td>...</td>\n",
              "      <td>...</td>\n",
              "      <td>...</td>\n",
              "    </tr>\n",
              "    <tr>\n",
              "      <th>5743</th>\n",
              "      <td>c12842f5e.jpg</td>\n",
              "      <td>3</td>\n",
              "      <td>88 23 342 29 596 34 850 39 1105 44 1361 46 161...</td>\n",
              "      <td>1</td>\n",
              "    </tr>\n",
              "    <tr>\n",
              "      <th>5744</th>\n",
              "      <td>2222a03b3.jpg</td>\n",
              "      <td>3</td>\n",
              "      <td>63332 4 63587 11 63841 20 64096 27 64351 35 64...</td>\n",
              "      <td>1</td>\n",
              "    </tr>\n",
              "    <tr>\n",
              "      <th>5745</th>\n",
              "      <td>b43ea2c01.jpg</td>\n",
              "      <td>1</td>\n",
              "      <td>185024 7 185279 11 185535 12 185790 13 186045 ...</td>\n",
              "      <td>1</td>\n",
              "    </tr>\n",
              "    <tr>\n",
              "      <th>5746</th>\n",
              "      <td>1bc37a6f4.jpg</td>\n",
              "      <td>3</td>\n",
              "      <td>303867 1 304122 3 304376 6 304613 3 304630 9 3...</td>\n",
              "      <td>1</td>\n",
              "    </tr>\n",
              "    <tr>\n",
              "      <th>5747</th>\n",
              "      <td>f4413e172.jpg</td>\n",
              "      <td>3</td>\n",
              "      <td>254911 3 255165 8 255419 12 255672 18 255926 2...</td>\n",
              "      <td>1</td>\n",
              "    </tr>\n",
              "  </tbody>\n",
              "</table>\n",
              "<p>5748 rows × 4 columns</p>\n",
              "</div>\n",
              "      <button class=\"colab-df-convert\" onclick=\"convertToInteractive('df-2e8b8973-8d81-4a8e-aae9-0a48202d5f3c')\"\n",
              "              title=\"Convert this dataframe to an interactive table.\"\n",
              "              style=\"display:none;\">\n",
              "        \n",
              "  <svg xmlns=\"http://www.w3.org/2000/svg\" height=\"24px\"viewBox=\"0 0 24 24\"\n",
              "       width=\"24px\">\n",
              "    <path d=\"M0 0h24v24H0V0z\" fill=\"none\"/>\n",
              "    <path d=\"M18.56 5.44l.94 2.06.94-2.06 2.06-.94-2.06-.94-.94-2.06-.94 2.06-2.06.94zm-11 1L8.5 8.5l.94-2.06 2.06-.94-2.06-.94L8.5 2.5l-.94 2.06-2.06.94zm10 10l.94 2.06.94-2.06 2.06-.94-2.06-.94-.94-2.06-.94 2.06-2.06.94z\"/><path d=\"M17.41 7.96l-1.37-1.37c-.4-.4-.92-.59-1.43-.59-.52 0-1.04.2-1.43.59L10.3 9.45l-7.72 7.72c-.78.78-.78 2.05 0 2.83L4 21.41c.39.39.9.59 1.41.59.51 0 1.02-.2 1.41-.59l7.78-7.78 2.81-2.81c.8-.78.8-2.07 0-2.86zM5.41 20L4 18.59l7.72-7.72 1.47 1.35L5.41 20z\"/>\n",
              "  </svg>\n",
              "      </button>\n",
              "      \n",
              "  <style>\n",
              "    .colab-df-container {\n",
              "      display:flex;\n",
              "      flex-wrap:wrap;\n",
              "      gap: 12px;\n",
              "    }\n",
              "\n",
              "    .colab-df-convert {\n",
              "      background-color: #E8F0FE;\n",
              "      border: none;\n",
              "      border-radius: 50%;\n",
              "      cursor: pointer;\n",
              "      display: none;\n",
              "      fill: #1967D2;\n",
              "      height: 32px;\n",
              "      padding: 0 0 0 0;\n",
              "      width: 32px;\n",
              "    }\n",
              "\n",
              "    .colab-df-convert:hover {\n",
              "      background-color: #E2EBFA;\n",
              "      box-shadow: 0px 1px 2px rgba(60, 64, 67, 0.3), 0px 1px 3px 1px rgba(60, 64, 67, 0.15);\n",
              "      fill: #174EA6;\n",
              "    }\n",
              "\n",
              "    [theme=dark] .colab-df-convert {\n",
              "      background-color: #3B4455;\n",
              "      fill: #D2E3FC;\n",
              "    }\n",
              "\n",
              "    [theme=dark] .colab-df-convert:hover {\n",
              "      background-color: #434B5C;\n",
              "      box-shadow: 0px 1px 3px 1px rgba(0, 0, 0, 0.15);\n",
              "      filter: drop-shadow(0px 1px 2px rgba(0, 0, 0, 0.3));\n",
              "      fill: #FFFFFF;\n",
              "    }\n",
              "  </style>\n",
              "\n",
              "      <script>\n",
              "        const buttonEl =\n",
              "          document.querySelector('#df-2e8b8973-8d81-4a8e-aae9-0a48202d5f3c button.colab-df-convert');\n",
              "        buttonEl.style.display =\n",
              "          google.colab.kernel.accessAllowed ? 'block' : 'none';\n",
              "\n",
              "        async function convertToInteractive(key) {\n",
              "          const element = document.querySelector('#df-2e8b8973-8d81-4a8e-aae9-0a48202d5f3c');\n",
              "          const dataTable =\n",
              "            await google.colab.kernel.invokeFunction('convertToInteractive',\n",
              "                                                     [key], {});\n",
              "          if (!dataTable) return;\n",
              "\n",
              "          const docLinkHtml = 'Like what you see? Visit the ' +\n",
              "            '<a target=\"_blank\" href=https://colab.research.google.com/notebooks/data_table.ipynb>data table notebook</a>'\n",
              "            + ' to learn more about interactive tables.';\n",
              "          element.innerHTML = '';\n",
              "          dataTable['output_type'] = 'display_data';\n",
              "          await google.colab.output.renderOutput(dataTable, element);\n",
              "          const docLink = document.createElement('div');\n",
              "          docLink.innerHTML = docLinkHtml;\n",
              "          element.appendChild(docLink);\n",
              "        }\n",
              "      </script>\n",
              "    </div>\n",
              "  </div>\n",
              "  "
            ]
          },
          "metadata": {},
          "execution_count": 21
        }
      ],
      "source": [
        "defect_class_mask_df"
      ]
    },
    {
      "cell_type": "code",
      "execution_count": 28,
      "metadata": {
        "colab": {
          "base_uri": "https://localhost:8080/"
        },
        "id": "BWUX7-jcWYgU",
        "outputId": "fb3e438c-3d0c-4670-b844-ca6c55e46a25"
      },
      "outputs": [
        {
          "output_type": "execute_result",
          "data": {
            "text/plain": [
              "(256, 1600)"
            ]
          },
          "metadata": {},
          "execution_count": 28
        }
      ],
      "source": [
        "# Intentemos usar rle2mask en un imagen de prueba\n",
        "image_index = 20 #20 30\n",
        "mask = rle2mask(defect_class_mask_df.EncodedPixels[image_index], img.shape[0], img.shape[1])\n",
        "mask.shape"
      ]
    },
    {
      "cell_type": "code",
      "execution_count": 29,
      "metadata": {
        "colab": {
          "base_uri": "https://localhost:8080/",
          "height": 122
        },
        "id": "SY7uff9KWdOd",
        "outputId": "d622e1f3-de7f-43c9-aaaa-4a2c355247d9"
      },
      "outputs": [
        {
          "output_type": "execute_result",
          "data": {
            "text/plain": [
              "<matplotlib.image.AxesImage at 0x7f6316fec490>"
            ]
          },
          "metadata": {},
          "execution_count": 29
        },
        {
          "output_type": "display_data",
          "data": {
            "text/plain": [
              "<Figure size 432x288 with 1 Axes>"
            ],
            "image/png": "[encoded data removed]"
          },
          "metadata": {
            "needs_background": "light"
          }
        }
      ],
      "source": [
        "# Veamos la máscara\n",
        "plt.imshow(mask)"
      ]
    },
    {
      "cell_type": "code",
      "execution_count": 30,
      "metadata": {
        "colab": {
          "base_uri": "https://localhost:8080/",
          "height": 122
        },
        "id": "8y6hnTkBWf4s",
        "outputId": "50a68b29-30b4-4681-9e7b-4b9d1a4b69d0"
      },
      "outputs": [
        {
          "output_type": "execute_result",
          "data": {
            "text/plain": [
              "(256, 1600, 3)"
            ]
          },
          "metadata": {},
          "execution_count": 30
        },
        {
          "output_type": "display_data",
          "data": {
            "text/plain": [
              "<Figure size 432x288 with 1 Axes>"
            ],
            "image/png": "[encoded data removed]"
          },
          "metadata": {
            "needs_background": "light"
          }
        }
      ],
      "source": [
        "img = io.imread(os.path.join(train_dir, defect_class_mask_df.ImageId[image_index]))\n",
        "plt.imshow(img)\n",
        "img.shape"
      ]
    },
    {
      "cell_type": "code",
      "execution_count": 31,
      "metadata": {
        "colab": {
          "base_uri": "https://localhost:8080/",
          "height": 1000
        },
        "id": "ZdFXgrWgWh4J",
        "outputId": "47da2efd-59d1-40fd-9859-f9ebb6a74b6e"
      },
      "outputs": [
        {
          "output_type": "display_data",
          "data": {
            "text/plain": [
              "<Figure size 432x288 with 1 Axes>"
            ],
            "image/png": "[encoded data removed]"
          },
          "metadata": {
            "needs_background": "light"
          }
        },
        {
          "output_type": "display_data",
          "data": {
            "text/plain": [
              "<Figure size 432x288 with 1 Axes>"
            ],
            "image/png": "[encoded data removed]"
          },
          "metadata": {
            "needs_background": "light"
          }
        },
        {
          "output_type": "display_data",
          "data": {
            "text/plain": [
              "<Figure size 432x288 with 1 Axes>"
            ],
            "image/png": "[encoded data removed]"
          },
          "metadata": {
            "needs_background": "light"
          }
        },
        {
          "output_type": "display_data",
          "data": {
            "text/plain": [
              "<Figure size 432x288 with 1 Axes>"
            ],
            "image/png": "[encoded data removed]"
          },
          "metadata": {
            "needs_background": "light"
          }
        },
        {
          "output_type": "display_data",
          "data": {
            "text/plain": [
              "<Figure size 432x288 with 1 Axes>"
            ],
            "image/png": "[encoded data removed]"
          },
          "metadata": {
            "needs_background": "light"
          }
        },
        {
          "output_type": "display_data",
          "data": {
            "text/plain": [
              "<Figure size 432x288 with 1 Axes>"
            ],
            "image/png": "[encoded data removed]"
          },
          "metadata": {
            "needs_background": "light"
          }
        },
        {
          "output_type": "display_data",
          "data": {
            "text/plain": [
              "<Figure size 432x288 with 1 Axes>"
            ],
            "image/png": "[encoded data removed]"
          },
          "metadata": {
            "needs_background": "light"
          }
        },
        {
          "output_type": "display_data",
          "data": {
            "text/plain": [
              "<Figure size 432x288 with 1 Axes>"
            ],
            "image/png": "[encoded data removed]"
          },
          "metadata": {
            "needs_background": "light"
          }
        },
        {
          "output_type": "display_data",
          "data": {
            "text/plain": [
              "<Figure size 432x288 with 1 Axes>"
            ],
            "image/png": "[encoded data removed]"
          },
          "metadata": {
            "needs_background": "light"
          }
        },
        {
          "output_type": "display_data",
          "data": {
            "text/plain": [
              "<Figure size 432x288 with 1 Axes>"
            ],
            "image/png": "[encoded data removed]"
          },
          "metadata": {
            "needs_background": "light"
          }
        }
      ],
      "source": [
        "for i in range(10):\n",
        "\n",
        "  # Read the images using opencv and converting to rgb format\n",
        "  img = io.imread(os.path.join(train_dir, defect_class_mask_df.ImageId[i]))\n",
        "  img = cv2.cvtColor(img, cv2.COLOR_BGR2RGB)\n",
        "\n",
        "  # Get the mask for the image from rle\n",
        "  mask = rle2mask(defect_class_mask_df.EncodedPixels[i], img.shape[0], img.shape[1])\n",
        "  \n",
        "  # Let's color the pixels with values = 1 \n",
        "  img[mask == 1,1] = 255\n",
        "  plt.figure()\n",
        "  plt.imshow(img)\n",
        "  plt.title(defect_class_mask_df.ClassId[i])"
      ]
    },
    {
      "cell_type": "markdown",
      "metadata": {
        "id": "_0_cG6tXWnFu"
      },
      "source": [
        "#Construcción y entrenamiento de un modelo de deep learning para detectar la presencia o ausencia de un defecto en una imagen, es decir, vamos a hacer un modelo de clasificación"
      ]
    },
    {
      "cell_type": "code",
      "execution_count": 32,
      "metadata": {
        "colab": {
          "base_uri": "https://localhost:8080/",
          "height": 424
        },
        "id": "FDGGAnG9W2Wl",
        "outputId": "e75fe9d5-554b-4676-f172-a31681405bcd"
      },
      "outputs": [
        {
          "output_type": "execute_result",
          "data": {
            "text/plain": [
              "             ImageID  label\n",
              "0      0002cc93b.jpg      1\n",
              "1      0007a71bf.jpg      1\n",
              "2      000a4bcdd.jpg      1\n",
              "3      000f6bf48.jpg      1\n",
              "4      0014fce06.jpg      1\n",
              "...              ...    ...\n",
              "12992  0482ee1d6.jpg      0\n",
              "12993  04802a6c2.jpg      0\n",
              "12994  03ae2bc91.jpg      0\n",
              "12995  04238d7e3.jpg      0\n",
              "12996  023353d24.jpg      0\n",
              "\n",
              "[12997 rows x 2 columns]"
            ],
            "text/html": [
              "\n",
              "  <div id=\"df-4fe7ece2-d34b-477e-802d-6e5797aabc82\">\n",
              "    <div class=\"colab-df-container\">\n",
              "      <div>\n",
              "<style scoped>\n",
              "    .dataframe tbody tr th:only-of-type {\n",
              "        vertical-align: middle;\n",
              "    }\n",
              "\n",
              "    .dataframe tbody tr th {\n",
              "        vertical-align: top;\n",
              "    }\n",
              "\n",
              "    .dataframe thead th {\n",
              "        text-align: right;\n",
              "    }\n",
              "</style>\n",
              "<table border=\"1\" class=\"dataframe\">\n",
              "  <thead>\n",
              "    <tr style=\"text-align: right;\">\n",
              "      <th></th>\n",
              "      <th>ImageID</th>\n",
              "      <th>label</th>\n",
              "    </tr>\n",
              "  </thead>\n",
              "  <tbody>\n",
              "    <tr>\n",
              "      <th>0</th>\n",
              "      <td>0002cc93b.jpg</td>\n",
              "      <td>1</td>\n",
              "    </tr>\n",
              "    <tr>\n",
              "      <th>1</th>\n",
              "      <td>0007a71bf.jpg</td>\n",
              "      <td>1</td>\n",
              "    </tr>\n",
              "    <tr>\n",
              "      <th>2</th>\n",
              "      <td>000a4bcdd.jpg</td>\n",
              "      <td>1</td>\n",
              "    </tr>\n",
              "    <tr>\n",
              "      <th>3</th>\n",
              "      <td>000f6bf48.jpg</td>\n",
              "      <td>1</td>\n",
              "    </tr>\n",
              "    <tr>\n",
              "      <th>4</th>\n",
              "      <td>0014fce06.jpg</td>\n",
              "      <td>1</td>\n",
              "    </tr>\n",
              "    <tr>\n",
              "      <th>...</th>\n",
              "      <td>...</td>\n",
              "      <td>...</td>\n",
              "    </tr>\n",
              "    <tr>\n",
              "      <th>12992</th>\n",
              "      <td>0482ee1d6.jpg</td>\n",
              "      <td>0</td>\n",
              "    </tr>\n",
              "    <tr>\n",
              "      <th>12993</th>\n",
              "      <td>04802a6c2.jpg</td>\n",
              "      <td>0</td>\n",
              "    </tr>\n",
              "    <tr>\n",
              "      <th>12994</th>\n",
              "      <td>03ae2bc91.jpg</td>\n",
              "      <td>0</td>\n",
              "    </tr>\n",
              "    <tr>\n",
              "      <th>12995</th>\n",
              "      <td>04238d7e3.jpg</td>\n",
              "      <td>0</td>\n",
              "    </tr>\n",
              "    <tr>\n",
              "      <th>12996</th>\n",
              "      <td>023353d24.jpg</td>\n",
              "      <td>0</td>\n",
              "    </tr>\n",
              "  </tbody>\n",
              "</table>\n",
              "<p>12997 rows × 2 columns</p>\n",
              "</div>\n",
              "      <button class=\"colab-df-convert\" onclick=\"convertToInteractive('df-4fe7ece2-d34b-477e-802d-6e5797aabc82')\"\n",
              "              title=\"Convert this dataframe to an interactive table.\"\n",
              "              style=\"display:none;\">\n",
              "        \n",
              "  <svg xmlns=\"http://www.w3.org/2000/svg\" height=\"24px\"viewBox=\"0 0 24 24\"\n",
              "       width=\"24px\">\n",
              "    <path d=\"M0 0h24v24H0V0z\" fill=\"none\"/>\n",
              "    <path d=\"M18.56 5.44l.94 2.06.94-2.06 2.06-.94-2.06-.94-.94-2.06-.94 2.06-2.06.94zm-11 1L8.5 8.5l.94-2.06 2.06-.94-2.06-.94L8.5 2.5l-.94 2.06-2.06.94zm10 10l.94 2.06.94-2.06 2.06-.94-2.06-.94-.94-2.06-.94 2.06-2.06.94z\"/><path d=\"M17.41 7.96l-1.37-1.37c-.4-.4-.92-.59-1.43-.59-.52 0-1.04.2-1.43.59L10.3 9.45l-7.72 7.72c-.78.78-.78 2.05 0 2.83L4 21.41c.39.39.9.59 1.41.59.51 0 1.02-.2 1.41-.59l7.78-7.78 2.81-2.81c.8-.78.8-2.07 0-2.86zM5.41 20L4 18.59l7.72-7.72 1.47 1.35L5.41 20z\"/>\n",
              "  </svg>\n",
              "      </button>\n",
              "      \n",
              "  <style>\n",
              "    .colab-df-container {\n",
              "      display:flex;\n",
              "      flex-wrap:wrap;\n",
              "      gap: 12px;\n",
              "    }\n",
              "\n",
              "    .colab-df-convert {\n",
              "      background-color: #E8F0FE;\n",
              "      border: none;\n",
              "      border-radius: 50%;\n",
              "      cursor: pointer;\n",
              "      display: none;\n",
              "      fill: #1967D2;\n",
              "      height: 32px;\n",
              "      padding: 0 0 0 0;\n",
              "      width: 32px;\n",
              "    }\n",
              "\n",
              "    .colab-df-convert:hover {\n",
              "      background-color: #E2EBFA;\n",
              "      box-shadow: 0px 1px 2px rgba(60, 64, 67, 0.3), 0px 1px 3px 1px rgba(60, 64, 67, 0.15);\n",
              "      fill: #174EA6;\n",
              "    }\n",
              "\n",
              "    [theme=dark] .colab-df-convert {\n",
              "      background-color: #3B4455;\n",
              "      fill: #D2E3FC;\n",
              "    }\n",
              "\n",
              "    [theme=dark] .colab-df-convert:hover {\n",
              "      background-color: #434B5C;\n",
              "      box-shadow: 0px 1px 3px 1px rgba(0, 0, 0, 0.15);\n",
              "      filter: drop-shadow(0px 1px 2px rgba(0, 0, 0, 0.3));\n",
              "      fill: #FFFFFF;\n",
              "    }\n",
              "  </style>\n",
              "\n",
              "      <script>\n",
              "        const buttonEl =\n",
              "          document.querySelector('#df-4fe7ece2-d34b-477e-802d-6e5797aabc82 button.colab-df-convert');\n",
              "        buttonEl.style.display =\n",
              "          google.colab.kernel.accessAllowed ? 'block' : 'none';\n",
              "\n",
              "        async function convertToInteractive(key) {\n",
              "          const element = document.querySelector('#df-4fe7ece2-d34b-477e-802d-6e5797aabc82');\n",
              "          const dataTable =\n",
              "            await google.colab.kernel.invokeFunction('convertToInteractive',\n",
              "                                                     [key], {});\n",
              "          if (!dataTable) return;\n",
              "\n",
              "          const docLinkHtml = 'Like what you see? Visit the ' +\n",
              "            '<a target=\"_blank\" href=https://colab.research.google.com/notebooks/data_table.ipynb>data table notebook</a>'\n",
              "            + ' to learn more about interactive tables.';\n",
              "          element.innerHTML = '';\n",
              "          dataTable['output_type'] = 'display_data';\n",
              "          await google.colab.output.renderOutput(dataTable, element);\n",
              "          const docLink = document.createElement('div');\n",
              "          docLink.innerHTML = docLinkHtml;\n",
              "          element.appendChild(docLink);\n",
              "        }\n",
              "      </script>\n",
              "    </div>\n",
              "  </div>\n",
              "  "
            ]
          },
          "metadata": {},
          "execution_count": 32
        }
      ],
      "source": [
        "all_images_df"
      ]
    },
    {
      "cell_type": "code",
      "execution_count": 33,
      "metadata": {
        "id": "NuGg_kscW-at"
      },
      "outputs": [],
      "source": [
        "# Dividir el dataset (defective and non defective)  en entrenamiento y testing\n",
        "from sklearn.model_selection import train_test_split\n",
        "train, test = train_test_split(all_images_df, test_size=0.15)"
      ]
    },
    {
      "cell_type": "code",
      "execution_count": 34,
      "metadata": {
        "colab": {
          "base_uri": "https://localhost:8080/"
        },
        "id": "cZYKP-RwW_tJ",
        "outputId": "c3c5849b-72fb-40e8-a4fd-aea8ceb252bc"
      },
      "outputs": [
        {
          "output_type": "execute_result",
          "data": {
            "text/plain": [
              "(11047, 2)"
            ]
          },
          "metadata": {},
          "execution_count": 34
        }
      ],
      "source": [
        "train.shape"
      ]
    },
    {
      "cell_type": "code",
      "execution_count": 35,
      "metadata": {
        "colab": {
          "base_uri": "https://localhost:8080/"
        },
        "id": "uHGQE6iXXBRU",
        "outputId": "788509d2-a6ff-4647-93c6-fb3cddf23fdd"
      },
      "outputs": [
        {
          "output_type": "execute_result",
          "data": {
            "text/plain": [
              "(1950, 2)"
            ]
          },
          "metadata": {},
          "execution_count": 35
        }
      ],
      "source": [
        "test.shape"
      ]
    },
    {
      "cell_type": "code",
      "execution_count": 37,
      "metadata": {
        "id": "1M-ctlK9XC0E"
      },
      "outputs": [],
      "source": [
        "train_dir = '/content/drive/MyDrive/Proyecto_Introducción_Inteligencia_Artificial_Ejemplo_1/train_images'"
      ]
    },
    {
      "cell_type": "code",
      "execution_count": 38,
      "metadata": {
        "colab": {
          "base_uri": "https://localhost:8080/"
        },
        "id": "AQxOVX4WXLwc",
        "outputId": "2ace253f-7d21-473c-f152-6744acecffdc"
      },
      "outputs": [
        {
          "output_type": "stream",
          "name": "stdout",
          "text": [
            "Found 9390 validated image filenames.\n",
            "Found 1657 validated image filenames.\n"
          ]
        }
      ],
      "source": [
        "# Crear un generador de imágenes para el conjunto de datos de entrenamiento y validación\n",
        "# Dividiremos los datos en entrenamiento, validación y testing.\n",
        "# Training = 9390 \n",
        "# validation = 1657 \n",
        "# testing = 1950 \n",
        "\n",
        "from keras_preprocessing.image import ImageDataGenerator\n",
        "\n",
        "# Crear un generador de datos que escale los datos de 0 a 1 y hacer una división de validación de 0,15\n",
        "datagen = ImageDataGenerator(rescale=1./255., validation_split = 0.15)\n",
        "\n",
        "train_generator = datagen.flow_from_dataframe(\n",
        "dataframe = train,\n",
        "directory = train_dir,\n",
        "x_col = \"ImageID\",\n",
        "y_col = \"label\",\n",
        "subset = \"training\",\n",
        "batch_size = 16,\n",
        "shuffle = True,\n",
        "class_mode = \"other\",\n",
        "target_size = (256, 256))\n",
        "\n",
        "\n",
        "valid_generator = datagen.flow_from_dataframe(\n",
        "dataframe = train,\n",
        "directory = train_dir,\n",
        "x_col = \"ImageID\",\n",
        "y_col = \"label\",\n",
        "subset = \"validation\",\n",
        "batch_size = 16,\n",
        "shuffle = True,\n",
        "class_mode = \"other\",\n",
        "target_size = (256, 256))"
      ]
    },
    {
      "cell_type": "code",
      "execution_count": 39,
      "metadata": {
        "colab": {
          "base_uri": "https://localhost:8080/"
        },
        "id": "sP39rrA_XPIV",
        "outputId": "1039b51d-e38c-47bb-94d5-534b5cc5c232"
      },
      "outputs": [
        {
          "output_type": "stream",
          "name": "stdout",
          "text": [
            "Found 1950 validated image filenames.\n"
          ]
        }
      ],
      "source": [
        "# Crear un generador de datos para imágenes de test\n",
        "test_datagen = ImageDataGenerator(rescale=1./255.)\n",
        "\n",
        "test_generator = test_datagen.flow_from_dataframe(\n",
        "dataframe = test,\n",
        "directory = train_dir,\n",
        "x_col = \"ImageID\",\n",
        "y_col = None,\n",
        "batch_size = 16,\n",
        "shuffle = False,\n",
        "class_mode = None,\n",
        "target_size = (256, 256))\n"
      ]
    },
    {
      "cell_type": "code",
      "execution_count": 40,
      "metadata": {
        "id": "MHzqybyVXw6I",
        "colab": {
          "base_uri": "https://localhost:8080/"
        },
        "outputId": "a82cfd83-ecc4-4008-a5c8-f00469edce59"
      },
      "outputs": [
        {
          "output_type": "stream",
          "name": "stdout",
          "text": [
            "Downloading data from https://storage.googleapis.com/tensorflow/keras-applications/resnet/resnet50_weights_tf_dim_ordering_tf_kernels_notop.h5\n",
            "94773248/94765736 [==============================] - 0s 0us/step\n",
            "94781440/94765736 [==============================] - 0s 0us/step\n"
          ]
        }
      ],
      "source": [
        "basemodel = ResNet50(weights = 'imagenet', include_top = False, input_tensor = Input(shape=(256,256,3)))"
      ]
    },
    {
      "cell_type": "code",
      "execution_count": 41,
      "metadata": {
        "colab": {
          "base_uri": "https://localhost:8080/"
        },
        "id": "yUet3zo4X3EM",
        "outputId": "1942e79c-ef00-45a6-ff99-4780ff40c062"
      },
      "outputs": [
        {
          "output_type": "stream",
          "name": "stdout",
          "text": [
            "Model: \"resnet50\"\n",
            "__________________________________________________________________________________________________\n",
            " Layer (type)                   Output Shape         Param #     Connected to                     \n",
            "==================================================================================================\n",
            " input_1 (InputLayer)           [(None, 256, 256, 3  0           []                               \n",
            "                                )]                                                                \n",
            "                                                                                                  \n",
            " conv1_pad (ZeroPadding2D)      (None, 262, 262, 3)  0           ['input_1[0][0]']                \n",
            "                                                                                                  \n",
            " conv1_conv (Conv2D)            (None, 128, 128, 64  9472        ['conv1_pad[0][0]']              \n",
            "                                )                                                                 \n",
            "                                                                                                  \n",
            " conv1_bn (BatchNormalization)  (None, 128, 128, 64  256         ['conv1_conv[0][0]']             \n",
            "                                )                                                                 \n",
            "                                                                                                  \n",
            " conv1_relu (Activation)        (None, 128, 128, 64  0           ['conv1_bn[0][0]']               \n",
            "                                )                                                                 \n",
            "                                                                                                  \n",
            " pool1_pad (ZeroPadding2D)      (None, 130, 130, 64  0           ['conv1_relu[0][0]']             \n",
            "                                )                                                                 \n",
            "                                                                                                  \n",
            " pool1_pool (MaxPooling2D)      (None, 64, 64, 64)   0           ['pool1_pad[0][0]']              \n",
            "                                                                                                  \n",
            " conv2_block1_1_conv (Conv2D)   (None, 64, 64, 64)   4160        ['pool1_pool[0][0]']             \n",
            "                                                                                                  \n",
            " conv2_block1_1_bn (BatchNormal  (None, 64, 64, 64)  256         ['conv2_block1_1_conv[0][0]']    \n",
            " ization)                                                                                         \n",
            "                                                                                                  \n",
            " conv2_block1_1_relu (Activatio  (None, 64, 64, 64)  0           ['conv2_block1_1_bn[0][0]']      \n",
            " n)                                                                                               \n",
            "                                                                                                  \n",
            " conv2_block1_2_conv (Conv2D)   (None, 64, 64, 64)   36928       ['conv2_block1_1_relu[0][0]']    \n",
            "                                                                                                  \n",
            " conv2_block1_2_bn (BatchNormal  (None, 64, 64, 64)  256         ['conv2_block1_2_conv[0][0]']    \n",
            " ization)                                                                                         \n",
            "                                                                                                  \n",
            " conv2_block1_2_relu (Activatio  (None, 64, 64, 64)  0           ['conv2_block1_2_bn[0][0]']      \n",
            " n)                                                                                               \n",
            "                                                                                                  \n",
            " conv2_block1_0_conv (Conv2D)   (None, 64, 64, 256)  16640       ['pool1_pool[0][0]']             \n",
            "                                                                                                  \n",
            " conv2_block1_3_conv (Conv2D)   (None, 64, 64, 256)  16640       ['conv2_block1_2_relu[0][0]']    \n",
            "                                                                                                  \n",
            " conv2_block1_0_bn (BatchNormal  (None, 64, 64, 256)  1024       ['conv2_block1_0_conv[0][0]']    \n",
            " ization)                                                                                         \n",
            "                                                                                                  \n",
            " conv2_block1_3_bn (BatchNormal  (None, 64, 64, 256)  1024       ['conv2_block1_3_conv[0][0]']    \n",
            " ization)                                                                                         \n",
            "                                                                                                  \n",
            " conv2_block1_add (Add)         (None, 64, 64, 256)  0           ['conv2_block1_0_bn[0][0]',      \n",
            "                                                                  'conv2_block1_3_bn[0][0]']      \n",
            "                                                                                                  \n",
            " conv2_block1_out (Activation)  (None, 64, 64, 256)  0           ['conv2_block1_add[0][0]']       \n",
            "                                                                                                  \n",
            " conv2_block2_1_conv (Conv2D)   (None, 64, 64, 64)   16448       ['conv2_block1_out[0][0]']       \n",
            "                                                                                                  \n",
            " conv2_block2_1_bn (BatchNormal  (None, 64, 64, 64)  256         ['conv2_block2_1_conv[0][0]']    \n",
            " ization)                                                                                         \n",
            "                                                                                                  \n",
            " conv2_block2_1_relu (Activatio  (None, 64, 64, 64)  0           ['conv2_block2_1_bn[0][0]']      \n",
            " n)                                                                                               \n",
            "                                                                                                  \n",
            " conv2_block2_2_conv (Conv2D)   (None, 64, 64, 64)   36928       ['conv2_block2_1_relu[0][0]']    \n",
            "                                                                                                  \n",
            " conv2_block2_2_bn (BatchNormal  (None, 64, 64, 64)  256         ['conv2_block2_2_conv[0][0]']    \n",
            " ization)                                                                                         \n",
            "                                                                                                  \n",
            " conv2_block2_2_relu (Activatio  (None, 64, 64, 64)  0           ['conv2_block2_2_bn[0][0]']      \n",
            " n)                                                                                               \n",
            "                                                                                                  \n",
            " conv2_block2_3_conv (Conv2D)   (None, 64, 64, 256)  16640       ['conv2_block2_2_relu[0][0]']    \n",
            "                                                                                                  \n",
            " conv2_block2_3_bn (BatchNormal  (None, 64, 64, 256)  1024       ['conv2_block2_3_conv[0][0]']    \n",
            " ization)                                                                                         \n",
            "                                                                                                  \n",
            " conv2_block2_add (Add)         (None, 64, 64, 256)  0           ['conv2_block1_out[0][0]',       \n",
            "                                                                  'conv2_block2_3_bn[0][0]']      \n",
            "                                                                                                  \n",
            " conv2_block2_out (Activation)  (None, 64, 64, 256)  0           ['conv2_block2_add[0][0]']       \n",
            "                                                                                                  \n",
            " conv2_block3_1_conv (Conv2D)   (None, 64, 64, 64)   16448       ['conv2_block2_out[0][0]']       \n",
            "                                                                                                  \n",
            " conv2_block3_1_bn (BatchNormal  (None, 64, 64, 64)  256         ['conv2_block3_1_conv[0][0]']    \n",
            " ization)                                                                                         \n",
            "                                                                                                  \n",
            " conv2_block3_1_relu (Activatio  (None, 64, 64, 64)  0           ['conv2_block3_1_bn[0][0]']      \n",
            " n)                                                                                               \n",
            "                                                                                                  \n",
            " conv2_block3_2_conv (Conv2D)   (None, 64, 64, 64)   36928       ['conv2_block3_1_relu[0][0]']    \n",
            "                                                                                                  \n",
            " conv2_block3_2_bn (BatchNormal  (None, 64, 64, 64)  256         ['conv2_block3_2_conv[0][0]']    \n",
            " ization)                                                                                         \n",
            "                                                                                                  \n",
            " conv2_block3_2_relu (Activatio  (None, 64, 64, 64)  0           ['conv2_block3_2_bn[0][0]']      \n",
            " n)                                                                                               \n",
            "                                                                                                  \n",
            " conv2_block3_3_conv (Conv2D)   (None, 64, 64, 256)  16640       ['conv2_block3_2_relu[0][0]']    \n",
            "                                                                                                  \n",
            " conv2_block3_3_bn (BatchNormal  (None, 64, 64, 256)  1024       ['conv2_block3_3_conv[0][0]']    \n",
            " ization)                                                                                         \n",
            "                                                                                                  \n",
            " conv2_block3_add (Add)         (None, 64, 64, 256)  0           ['conv2_block2_out[0][0]',       \n",
            "                                                                  'conv2_block3_3_bn[0][0]']      \n",
            "                                                                                                  \n",
            " conv2_block3_out (Activation)  (None, 64, 64, 256)  0           ['conv2_block3_add[0][0]']       \n",
            "                                                                                                  \n",
            " conv3_block1_1_conv (Conv2D)   (None, 32, 32, 128)  32896       ['conv2_block3_out[0][0]']       \n",
            "                                                                                                  \n",
            " conv3_block1_1_bn (BatchNormal  (None, 32, 32, 128)  512        ['conv3_block1_1_conv[0][0]']    \n",
            " ization)                                                                                         \n",
            "                                                                                                  \n",
            " conv3_block1_1_relu (Activatio  (None, 32, 32, 128)  0          ['conv3_block1_1_bn[0][0]']      \n",
            " n)                                                                                               \n",
            "                                                                                                  \n",
            " conv3_block1_2_conv (Conv2D)   (None, 32, 32, 128)  147584      ['conv3_block1_1_relu[0][0]']    \n",
            "                                                                                                  \n",
            " conv3_block1_2_bn (BatchNormal  (None, 32, 32, 128)  512        ['conv3_block1_2_conv[0][0]']    \n",
            " ization)                                                                                         \n",
            "                                                                                                  \n",
            " conv3_block1_2_relu (Activatio  (None, 32, 32, 128)  0          ['conv3_block1_2_bn[0][0]']      \n",
            " n)                                                                                               \n",
            "                                                                                                  \n",
            " conv3_block1_0_conv (Conv2D)   (None, 32, 32, 512)  131584      ['conv2_block3_out[0][0]']       \n",
            "                                                                                                  \n",
            " conv3_block1_3_conv (Conv2D)   (None, 32, 32, 512)  66048       ['conv3_block1_2_relu[0][0]']    \n",
            "                                                                                                  \n",
            " conv3_block1_0_bn (BatchNormal  (None, 32, 32, 512)  2048       ['conv3_block1_0_conv[0][0]']    \n",
            " ization)                                                                                         \n",
            "                                                                                                  \n",
            " conv3_block1_3_bn (BatchNormal  (None, 32, 32, 512)  2048       ['conv3_block1_3_conv[0][0]']    \n",
            " ization)                                                                                         \n",
            "                                                                                                  \n",
            " conv3_block1_add (Add)         (None, 32, 32, 512)  0           ['conv3_block1_0_bn[0][0]',      \n",
            "                                                                  'conv3_block1_3_bn[0][0]']      \n",
            "                                                                                                  \n",
            " conv3_block1_out (Activation)  (None, 32, 32, 512)  0           ['conv3_block1_add[0][0]']       \n",
            "                                                                                                  \n",
            " conv3_block2_1_conv (Conv2D)   (None, 32, 32, 128)  65664       ['conv3_block1_out[0][0]']       \n",
            "                                                                                                  \n",
            " conv3_block2_1_bn (BatchNormal  (None, 32, 32, 128)  512        ['conv3_block2_1_conv[0][0]']    \n",
            " ization)                                                                                         \n",
            "                                                                                                  \n",
            " conv3_block2_1_relu (Activatio  (None, 32, 32, 128)  0          ['conv3_block2_1_bn[0][0]']      \n",
            " n)                                                                                               \n",
            "                                                                                                  \n",
            " conv3_block2_2_conv (Conv2D)   (None, 32, 32, 128)  147584      ['conv3_block2_1_relu[0][0]']    \n",
            "                                                                                                  \n",
            " conv3_block2_2_bn (BatchNormal  (None, 32, 32, 128)  512        ['conv3_block2_2_conv[0][0]']    \n",
            " ization)                                                                                         \n",
            "                                                                                                  \n",
            " conv3_block2_2_relu (Activatio  (None, 32, 32, 128)  0          ['conv3_block2_2_bn[0][0]']      \n",
            " n)                                                                                               \n",
            "                                                                                                  \n",
            " conv3_block2_3_conv (Conv2D)   (None, 32, 32, 512)  66048       ['conv3_block2_2_relu[0][0]']    \n",
            "                                                                                                  \n",
            " conv3_block2_3_bn (BatchNormal  (None, 32, 32, 512)  2048       ['conv3_block2_3_conv[0][0]']    \n",
            " ization)                                                                                         \n",
            "                                                                                                  \n",
            " conv3_block2_add (Add)         (None, 32, 32, 512)  0           ['conv3_block1_out[0][0]',       \n",
            "                                                                  'conv3_block2_3_bn[0][0]']      \n",
            "                                                                                                  \n",
            " conv3_block2_out (Activation)  (None, 32, 32, 512)  0           ['conv3_block2_add[0][0]']       \n",
            "                                                                                                  \n",
            " conv3_block3_1_conv (Conv2D)   (None, 32, 32, 128)  65664       ['conv3_block2_out[0][0]']       \n",
            "                                                                                                  \n",
            " conv3_block3_1_bn (BatchNormal  (None, 32, 32, 128)  512        ['conv3_block3_1_conv[0][0]']    \n",
            " ization)                                                                                         \n",
            "                                                                                                  \n",
            " conv3_block3_1_relu (Activatio  (None, 32, 32, 128)  0          ['conv3_block3_1_bn[0][0]']      \n",
            " n)                                                                                               \n",
            "                                                                                                  \n",
            " conv3_block3_2_conv (Conv2D)   (None, 32, 32, 128)  147584      ['conv3_block3_1_relu[0][0]']    \n",
            "                                                                                                  \n",
            " conv3_block3_2_bn (BatchNormal  (None, 32, 32, 128)  512        ['conv3_block3_2_conv[0][0]']    \n",
            " ization)                                                                                         \n",
            "                                                                                                  \n",
            " conv3_block3_2_relu (Activatio  (None, 32, 32, 128)  0          ['conv3_block3_2_bn[0][0]']      \n",
            " n)                                                                                               \n",
            "                                                                                                  \n",
            " conv3_block3_3_conv (Conv2D)   (None, 32, 32, 512)  66048       ['conv3_block3_2_relu[0][0]']    \n",
            "                                                                                                  \n",
            " conv3_block3_3_bn (BatchNormal  (None, 32, 32, 512)  2048       ['conv3_block3_3_conv[0][0]']    \n",
            " ization)                                                                                         \n",
            "                                                                                                  \n",
            " conv3_block3_add (Add)         (None, 32, 32, 512)  0           ['conv3_block2_out[0][0]',       \n",
            "                                                                  'conv3_block3_3_bn[0][0]']      \n",
            "                                                                                                  \n",
            " conv3_block3_out (Activation)  (None, 32, 32, 512)  0           ['conv3_block3_add[0][0]']       \n",
            "                                                                                                  \n",
            " conv3_block4_1_conv (Conv2D)   (None, 32, 32, 128)  65664       ['conv3_block3_out[0][0]']       \n",
            "                                                                                                  \n",
            " conv3_block4_1_bn (BatchNormal  (None, 32, 32, 128)  512        ['conv3_block4_1_conv[0][0]']    \n",
            " ization)                                                                                         \n",
            "                                                                                                  \n",
            " conv3_block4_1_relu (Activatio  (None, 32, 32, 128)  0          ['conv3_block4_1_bn[0][0]']      \n",
            " n)                                                                                               \n",
            "                                                                                                  \n",
            " conv3_block4_2_conv (Conv2D)   (None, 32, 32, 128)  147584      ['conv3_block4_1_relu[0][0]']    \n",
            "                                                                                                  \n",
            " conv3_block4_2_bn (BatchNormal  (None, 32, 32, 128)  512        ['conv3_block4_2_conv[0][0]']    \n",
            " ization)                                                                                         \n",
            "                                                                                                  \n",
            " conv3_block4_2_relu (Activatio  (None, 32, 32, 128)  0          ['conv3_block4_2_bn[0][0]']      \n",
            " n)                                                                                               \n",
            "                                                                                                  \n",
            " conv3_block4_3_conv (Conv2D)   (None, 32, 32, 512)  66048       ['conv3_block4_2_relu[0][0]']    \n",
            "                                                                                                  \n",
            " conv3_block4_3_bn (BatchNormal  (None, 32, 32, 512)  2048       ['conv3_block4_3_conv[0][0]']    \n",
            " ization)                                                                                         \n",
            "                                                                                                  \n",
            " conv3_block4_add (Add)         (None, 32, 32, 512)  0           ['conv3_block3_out[0][0]',       \n",
            "                                                                  'conv3_block4_3_bn[0][0]']      \n",
            "                                                                                                  \n",
            " conv3_block4_out (Activation)  (None, 32, 32, 512)  0           ['conv3_block4_add[0][0]']       \n",
            "                                                                                                  \n",
            " conv4_block1_1_conv (Conv2D)   (None, 16, 16, 256)  131328      ['conv3_block4_out[0][0]']       \n",
            "                                                                                                  \n",
            " conv4_block1_1_bn (BatchNormal  (None, 16, 16, 256)  1024       ['conv4_block1_1_conv[0][0]']    \n",
            " ization)                                                                                         \n",
            "                                                                                                  \n",
            " conv4_block1_1_relu (Activatio  (None, 16, 16, 256)  0          ['conv4_block1_1_bn[0][0]']      \n",
            " n)                                                                                               \n",
            "                                                                                                  \n",
            " conv4_block1_2_conv (Conv2D)   (None, 16, 16, 256)  590080      ['conv4_block1_1_relu[0][0]']    \n",
            "                                                                                                  \n",
            " conv4_block1_2_bn (BatchNormal  (None, 16, 16, 256)  1024       ['conv4_block1_2_conv[0][0]']    \n",
            " ization)                                                                                         \n",
            "                                                                                                  \n",
            " conv4_block1_2_relu (Activatio  (None, 16, 16, 256)  0          ['conv4_block1_2_bn[0][0]']      \n",
            " n)                                                                                               \n",
            "                                                                                                  \n",
            " conv4_block1_0_conv (Conv2D)   (None, 16, 16, 1024  525312      ['conv3_block4_out[0][0]']       \n",
            "                                )                                                                 \n",
            "                                                                                                  \n",
            " conv4_block1_3_conv (Conv2D)   (None, 16, 16, 1024  263168      ['conv4_block1_2_relu[0][0]']    \n",
            "                                )                                                                 \n",
            "                                                                                                  \n",
            " conv4_block1_0_bn (BatchNormal  (None, 16, 16, 1024  4096       ['conv4_block1_0_conv[0][0]']    \n",
            " ization)                       )                                                                 \n",
            "                                                                                                  \n",
            " conv4_block1_3_bn (BatchNormal  (None, 16, 16, 1024  4096       ['conv4_block1_3_conv[0][0]']    \n",
            " ization)                       )                                                                 \n",
            "                                                                                                  \n",
            " conv4_block1_add (Add)         (None, 16, 16, 1024  0           ['conv4_block1_0_bn[0][0]',      \n",
            "                                )                                 'conv4_block1_3_bn[0][0]']      \n",
            "                                                                                                  \n",
            " conv4_block1_out (Activation)  (None, 16, 16, 1024  0           ['conv4_block1_add[0][0]']       \n",
            "                                )                                                                 \n",
            "                                                                                                  \n",
            " conv4_block2_1_conv (Conv2D)   (None, 16, 16, 256)  262400      ['conv4_block1_out[0][0]']       \n",
            "                                                                                                  \n",
            " conv4_block2_1_bn (BatchNormal  (None, 16, 16, 256)  1024       ['conv4_block2_1_conv[0][0]']    \n",
            " ization)                                                                                         \n",
            "                                                                                                  \n",
            " conv4_block2_1_relu (Activatio  (None, 16, 16, 256)  0          ['conv4_block2_1_bn[0][0]']      \n",
            " n)                                                                                               \n",
            "                                                                                                  \n",
            " conv4_block2_2_conv (Conv2D)   (None, 16, 16, 256)  590080      ['conv4_block2_1_relu[0][0]']    \n",
            "                                                                                                  \n",
            " conv4_block2_2_bn (BatchNormal  (None, 16, 16, 256)  1024       ['conv4_block2_2_conv[0][0]']    \n",
            " ization)                                                                                         \n",
            "                                                                                                  \n",
            " conv4_block2_2_relu (Activatio  (None, 16, 16, 256)  0          ['conv4_block2_2_bn[0][0]']      \n",
            " n)                                                                                               \n",
            "                                                                                                  \n",
            " conv4_block2_3_conv (Conv2D)   (None, 16, 16, 1024  263168      ['conv4_block2_2_relu[0][0]']    \n",
            "                                )                                                                 \n",
            "                                                                                                  \n",
            " conv4_block2_3_bn (BatchNormal  (None, 16, 16, 1024  4096       ['conv4_block2_3_conv[0][0]']    \n",
            " ization)                       )                                                                 \n",
            "                                                                                                  \n",
            " conv4_block2_add (Add)         (None, 16, 16, 1024  0           ['conv4_block1_out[0][0]',       \n",
            "                                )                                 'conv4_block2_3_bn[0][0]']      \n",
            "                                                                                                  \n",
            " conv4_block2_out (Activation)  (None, 16, 16, 1024  0           ['conv4_block2_add[0][0]']       \n",
            "                                )                                                                 \n",
            "                                                                                                  \n",
            " conv4_block3_1_conv (Conv2D)   (None, 16, 16, 256)  262400      ['conv4_block2_out[0][0]']       \n",
            "                                                                                                  \n",
            " conv4_block3_1_bn (BatchNormal  (None, 16, 16, 256)  1024       ['conv4_block3_1_conv[0][0]']    \n",
            " ization)                                                                                         \n",
            "                                                                                                  \n",
            " conv4_block3_1_relu (Activatio  (None, 16, 16, 256)  0          ['conv4_block3_1_bn[0][0]']      \n",
            " n)                                                                                               \n",
            "                                                                                                  \n",
            " conv4_block3_2_conv (Conv2D)   (None, 16, 16, 256)  590080      ['conv4_block3_1_relu[0][0]']    \n",
            "                                                                                                  \n",
            " conv4_block3_2_bn (BatchNormal  (None, 16, 16, 256)  1024       ['conv4_block3_2_conv[0][0]']    \n",
            " ization)                                                                                         \n",
            "                                                                                                  \n",
            " conv4_block3_2_relu (Activatio  (None, 16, 16, 256)  0          ['conv4_block3_2_bn[0][0]']      \n",
            " n)                                                                                               \n",
            "                                                                                                  \n",
            " conv4_block3_3_conv (Conv2D)   (None, 16, 16, 1024  263168      ['conv4_block3_2_relu[0][0]']    \n",
            "                                )                                                                 \n",
            "                                                                                                  \n",
            " conv4_block3_3_bn (BatchNormal  (None, 16, 16, 1024  4096       ['conv4_block3_3_conv[0][0]']    \n",
            " ization)                       )                                                                 \n",
            "                                                                                                  \n",
            " conv4_block3_add (Add)         (None, 16, 16, 1024  0           ['conv4_block2_out[0][0]',       \n",
            "                                )                                 'conv4_block3_3_bn[0][0]']      \n",
            "                                                                                                  \n",
            " conv4_block3_out (Activation)  (None, 16, 16, 1024  0           ['conv4_block3_add[0][0]']       \n",
            "                                )                                                                 \n",
            "                                                                                                  \n",
            " conv4_block4_1_conv (Conv2D)   (None, 16, 16, 256)  262400      ['conv4_block3_out[0][0]']       \n",
            "                                                                                                  \n",
            " conv4_block4_1_bn (BatchNormal  (None, 16, 16, 256)  1024       ['conv4_block4_1_conv[0][0]']    \n",
            " ization)                                                                                         \n",
            "                                                                                                  \n",
            " conv4_block4_1_relu (Activatio  (None, 16, 16, 256)  0          ['conv4_block4_1_bn[0][0]']      \n",
            " n)                                                                                               \n",
            "                                                                                                  \n",
            " conv4_block4_2_conv (Conv2D)   (None, 16, 16, 256)  590080      ['conv4_block4_1_relu[0][0]']    \n",
            "                                                                                                  \n",
            " conv4_block4_2_bn (BatchNormal  (None, 16, 16, 256)  1024       ['conv4_block4_2_conv[0][0]']    \n",
            " ization)                                                                                         \n",
            "                                                                                                  \n",
            " conv4_block4_2_relu (Activatio  (None, 16, 16, 256)  0          ['conv4_block4_2_bn[0][0]']      \n",
            " n)                                                                                               \n",
            "                                                                                                  \n",
            " conv4_block4_3_conv (Conv2D)   (None, 16, 16, 1024  263168      ['conv4_block4_2_relu[0][0]']    \n",
            "                                )                                                                 \n",
            "                                                                                                  \n",
            " conv4_block4_3_bn (BatchNormal  (None, 16, 16, 1024  4096       ['conv4_block4_3_conv[0][0]']    \n",
            " ization)                       )                                                                 \n",
            "                                                                                                  \n",
            " conv4_block4_add (Add)         (None, 16, 16, 1024  0           ['conv4_block3_out[0][0]',       \n",
            "                                )                                 'conv4_block4_3_bn[0][0]']      \n",
            "                                                                                                  \n",
            " conv4_block4_out (Activation)  (None, 16, 16, 1024  0           ['conv4_block4_add[0][0]']       \n",
            "                                )                                                                 \n",
            "                                                                                                  \n",
            " conv4_block5_1_conv (Conv2D)   (None, 16, 16, 256)  262400      ['conv4_block4_out[0][0]']       \n",
            "                                                                                                  \n",
            " conv4_block5_1_bn (BatchNormal  (None, 16, 16, 256)  1024       ['conv4_block5_1_conv[0][0]']    \n",
            " ization)                                                                                         \n",
            "                                                                                                  \n",
            " conv4_block5_1_relu (Activatio  (None, 16, 16, 256)  0          ['conv4_block5_1_bn[0][0]']      \n",
            " n)                                                                                               \n",
            "                                                                                                  \n",
            " conv4_block5_2_conv (Conv2D)   (None, 16, 16, 256)  590080      ['conv4_block5_1_relu[0][0]']    \n",
            "                                                                                                  \n",
            " conv4_block5_2_bn (BatchNormal  (None, 16, 16, 256)  1024       ['conv4_block5_2_conv[0][0]']    \n",
            " ization)                                                                                         \n",
            "                                                                                                  \n",
            " conv4_block5_2_relu (Activatio  (None, 16, 16, 256)  0          ['conv4_block5_2_bn[0][0]']      \n",
            " n)                                                                                               \n",
            "                                                                                                  \n",
            " conv4_block5_3_conv (Conv2D)   (None, 16, 16, 1024  263168      ['conv4_block5_2_relu[0][0]']    \n",
            "                                )                                                                 \n",
            "                                                                                                  \n",
            " conv4_block5_3_bn (BatchNormal  (None, 16, 16, 1024  4096       ['conv4_block5_3_conv[0][0]']    \n",
            " ization)                       )                                                                 \n",
            "                                                                                                  \n",
            " conv4_block5_add (Add)         (None, 16, 16, 1024  0           ['conv4_block4_out[0][0]',       \n",
            "                                )                                 'conv4_block5_3_bn[0][0]']      \n",
            "                                                                                                  \n",
            " conv4_block5_out (Activation)  (None, 16, 16, 1024  0           ['conv4_block5_add[0][0]']       \n",
            "                                )                                                                 \n",
            "                                                                                                  \n",
            " conv4_block6_1_conv (Conv2D)   (None, 16, 16, 256)  262400      ['conv4_block5_out[0][0]']       \n",
            "                                                                                                  \n",
            " conv4_block6_1_bn (BatchNormal  (None, 16, 16, 256)  1024       ['conv4_block6_1_conv[0][0]']    \n",
            " ization)                                                                                         \n",
            "                                                                                                  \n",
            " conv4_block6_1_relu (Activatio  (None, 16, 16, 256)  0          ['conv4_block6_1_bn[0][0]']      \n",
            " n)                                                                                               \n",
            "                                                                                                  \n",
            " conv4_block6_2_conv (Conv2D)   (None, 16, 16, 256)  590080      ['conv4_block6_1_relu[0][0]']    \n",
            "                                                                                                  \n",
            " conv4_block6_2_bn (BatchNormal  (None, 16, 16, 256)  1024       ['conv4_block6_2_conv[0][0]']    \n",
            " ization)                                                                                         \n",
            "                                                                                                  \n",
            " conv4_block6_2_relu (Activatio  (None, 16, 16, 256)  0          ['conv4_block6_2_bn[0][0]']      \n",
            " n)                                                                                               \n",
            "                                                                                                  \n",
            " conv4_block6_3_conv (Conv2D)   (None, 16, 16, 1024  263168      ['conv4_block6_2_relu[0][0]']    \n",
            "                                )                                                                 \n",
            "                                                                                                  \n",
            " conv4_block6_3_bn (BatchNormal  (None, 16, 16, 1024  4096       ['conv4_block6_3_conv[0][0]']    \n",
            " ization)                       )                                                                 \n",
            "                                                                                                  \n",
            " conv4_block6_add (Add)         (None, 16, 16, 1024  0           ['conv4_block5_out[0][0]',       \n",
            "                                )                                 'conv4_block6_3_bn[0][0]']      \n",
            "                                                                                                  \n",
            " conv4_block6_out (Activation)  (None, 16, 16, 1024  0           ['conv4_block6_add[0][0]']       \n",
            "                                )                                                                 \n",
            "                                                                                                  \n",
            " conv5_block1_1_conv (Conv2D)   (None, 8, 8, 512)    524800      ['conv4_block6_out[0][0]']       \n",
            "                                                                                                  \n",
            " conv5_block1_1_bn (BatchNormal  (None, 8, 8, 512)   2048        ['conv5_block1_1_conv[0][0]']    \n",
            " ization)                                                                                         \n",
            "                                                                                                  \n",
            " conv5_block1_1_relu (Activatio  (None, 8, 8, 512)   0           ['conv5_block1_1_bn[0][0]']      \n",
            " n)                                                                                               \n",
            "                                                                                                  \n",
            " conv5_block1_2_conv (Conv2D)   (None, 8, 8, 512)    2359808     ['conv5_block1_1_relu[0][0]']    \n",
            "                                                                                                  \n",
            " conv5_block1_2_bn (BatchNormal  (None, 8, 8, 512)   2048        ['conv5_block1_2_conv[0][0]']    \n",
            " ization)                                                                                         \n",
            "                                                                                                  \n",
            " conv5_block1_2_relu (Activatio  (None, 8, 8, 512)   0           ['conv5_block1_2_bn[0][0]']      \n",
            " n)                                                                                               \n",
            "                                                                                                  \n",
            " conv5_block1_0_conv (Conv2D)   (None, 8, 8, 2048)   2099200     ['conv4_block6_out[0][0]']       \n",
            "                                                                                                  \n",
            " conv5_block1_3_conv (Conv2D)   (None, 8, 8, 2048)   1050624     ['conv5_block1_2_relu[0][0]']    \n",
            "                                                                                                  \n",
            " conv5_block1_0_bn (BatchNormal  (None, 8, 8, 2048)  8192        ['conv5_block1_0_conv[0][0]']    \n",
            " ization)                                                                                         \n",
            "                                                                                                  \n",
            " conv5_block1_3_bn (BatchNormal  (None, 8, 8, 2048)  8192        ['conv5_block1_3_conv[0][0]']    \n",
            " ization)                                                                                         \n",
            "                                                                                                  \n",
            " conv5_block1_add (Add)         (None, 8, 8, 2048)   0           ['conv5_block1_0_bn[0][0]',      \n",
            "                                                                  'conv5_block1_3_bn[0][0]']      \n",
            "                                                                                                  \n",
            " conv5_block1_out (Activation)  (None, 8, 8, 2048)   0           ['conv5_block1_add[0][0]']       \n",
            "                                                                                                  \n",
            " conv5_block2_1_conv (Conv2D)   (None, 8, 8, 512)    1049088     ['conv5_block1_out[0][0]']       \n",
            "                                                                                                  \n",
            " conv5_block2_1_bn (BatchNormal  (None, 8, 8, 512)   2048        ['conv5_block2_1_conv[0][0]']    \n",
            " ization)                                                                                         \n",
            "                                                                                                  \n",
            " conv5_block2_1_relu (Activatio  (None, 8, 8, 512)   0           ['conv5_block2_1_bn[0][0]']      \n",
            " n)                                                                                               \n",
            "                                                                                                  \n",
            " conv5_block2_2_conv (Conv2D)   (None, 8, 8, 512)    2359808     ['conv5_block2_1_relu[0][0]']    \n",
            "                                                                                                  \n",
            " conv5_block2_2_bn (BatchNormal  (None, 8, 8, 512)   2048        ['conv5_block2_2_conv[0][0]']    \n",
            " ization)                                                                                         \n",
            "                                                                                                  \n",
            " conv5_block2_2_relu (Activatio  (None, 8, 8, 512)   0           ['conv5_block2_2_bn[0][0]']      \n",
            " n)                                                                                               \n",
            "                                                                                                  \n",
            " conv5_block2_3_conv (Conv2D)   (None, 8, 8, 2048)   1050624     ['conv5_block2_2_relu[0][0]']    \n",
            "                                                                                                  \n",
            " conv5_block2_3_bn (BatchNormal  (None, 8, 8, 2048)  8192        ['conv5_block2_3_conv[0][0]']    \n",
            " ization)                                                                                         \n",
            "                                                                                                  \n",
            " conv5_block2_add (Add)         (None, 8, 8, 2048)   0           ['conv5_block1_out[0][0]',       \n",
            "                                                                  'conv5_block2_3_bn[0][0]']      \n",
            "                                                                                                  \n",
            " conv5_block2_out (Activation)  (None, 8, 8, 2048)   0           ['conv5_block2_add[0][0]']       \n",
            "                                                                                                  \n",
            " conv5_block3_1_conv (Conv2D)   (None, 8, 8, 512)    1049088     ['conv5_block2_out[0][0]']       \n",
            "                                                                                                  \n",
            " conv5_block3_1_bn (BatchNormal  (None, 8, 8, 512)   2048        ['conv5_block3_1_conv[0][0]']    \n",
            " ization)                                                                                         \n",
            "                                                                                                  \n",
            " conv5_block3_1_relu (Activatio  (None, 8, 8, 512)   0           ['conv5_block3_1_bn[0][0]']      \n",
            " n)                                                                                               \n",
            "                                                                                                  \n",
            " conv5_block3_2_conv (Conv2D)   (None, 8, 8, 512)    2359808     ['conv5_block3_1_relu[0][0]']    \n",
            "                                                                                                  \n",
            " conv5_block3_2_bn (BatchNormal  (None, 8, 8, 512)   2048        ['conv5_block3_2_conv[0][0]']    \n",
            " ization)                                                                                         \n",
            "                                                                                                  \n",
            " conv5_block3_2_relu (Activatio  (None, 8, 8, 512)   0           ['conv5_block3_2_bn[0][0]']      \n",
            " n)                                                                                               \n",
            "                                                                                                  \n",
            " conv5_block3_3_conv (Conv2D)   (None, 8, 8, 2048)   1050624     ['conv5_block3_2_relu[0][0]']    \n",
            "                                                                                                  \n",
            " conv5_block3_3_bn (BatchNormal  (None, 8, 8, 2048)  8192        ['conv5_block3_3_conv[0][0]']    \n",
            " ization)                                                                                         \n",
            "                                                                                                  \n",
            " conv5_block3_add (Add)         (None, 8, 8, 2048)   0           ['conv5_block2_out[0][0]',       \n",
            "                                                                  'conv5_block3_3_bn[0][0]']      \n",
            "                                                                                                  \n",
            " conv5_block3_out (Activation)  (None, 8, 8, 2048)   0           ['conv5_block3_add[0][0]']       \n",
            "                                                                                                  \n",
            "==================================================================================================\n",
            "Total params: 23,587,712\n",
            "Trainable params: 23,534,592\n",
            "Non-trainable params: 53,120\n",
            "__________________________________________________________________________________________________\n"
          ]
        }
      ],
      "source": [
        "basemodel.summary()"
      ]
    },
    {
      "cell_type": "code",
      "execution_count": 42,
      "metadata": {
        "id": "arAm2zPYX7Ex"
      },
      "outputs": [],
      "source": [
        "# Congelar los pesos del modelo\n",
        "for layer in basemodel.layers:\n",
        "  layers.trainable = False"
      ]
    },
    {
      "cell_type": "code",
      "execution_count": 43,
      "metadata": {
        "id": "HnPxu4JvX9TV"
      },
      "outputs": [],
      "source": [
        "headmodel = basemodel.output\n",
        "headmodel = AveragePooling2D(pool_size = (4,4))(headmodel)\n",
        "headmodel = Flatten(name= 'flatten')(headmodel)\n",
        "headmodel = Dense(256, activation = \"relu\")(headmodel)\n",
        "headmodel = Dropout(0.3)(headmodel)\n",
        "headmodel = Dense(1, activation = 'sigmoid')(headmodel)\n",
        "\n",
        "model = Model(inputs = basemodel.input, outputs = headmodel)"
      ]
    },
    {
      "cell_type": "code",
      "execution_count": 44,
      "metadata": {
        "id": "6KSBMokUX_nV"
      },
      "outputs": [],
      "source": [
        "model.compile(loss = 'binary_crossentropy', optimizer='adam', metrics= [\"accuracy\"])"
      ]
    },
    {
      "cell_type": "markdown",
      "metadata": {
        "id": "LNBV_rrnAYdC"
      },
      "source": [
        "##Generación de checkpoints"
      ]
    },
    {
      "cell_type": "code",
      "execution_count": 45,
      "metadata": {
        "id": "2rDQR_JiYDM2"
      },
      "outputs": [],
      "source": [
        "# Usar la parada temprana para parar el entrenamiento si la pérdida en validación no baja después de un cierto número de epochs (paciencia)\n",
        "earlystopping = EarlyStopping(monitor='val_loss', mode='min', verbose=1, patience=20)\n",
        "\n",
        "# Guardamos el modelo con menor error de validación\n",
        "checkpointer = ModelCheckpoint(filepath=\"resnet-weights.hdf5\", verbose=1, save_best_only=True)"
      ]
    },
    {
      "cell_type": "markdown",
      "metadata": {
        "id": "aZRGf9XkuEo-"
      },
      "source": [
        "#Verificar disponibilidad de una GPU"
      ]
    },
    {
      "cell_type": "code",
      "execution_count": 46,
      "metadata": {
        "id": "ycm5pSsevaVN",
        "colab": {
          "base_uri": "https://localhost:8080/"
        },
        "outputId": "6109e866-91a5-4328-a6e0-cf13c31bf7e4"
      },
      "outputs": [
        {
          "output_type": "stream",
          "name": "stdout",
          "text": [
            "GPU encontrada: /device:GPU:0\n"
          ]
        }
      ],
      "source": [
        "nombre_gpu = tf.test.gpu_device_name()\n",
        "if nombre_gpu != '/device:GPU:0':\n",
        "  raise SystemError('GPU no encontrada')\n",
        "print('GPU encontrada: {}'.format(nombre_gpu))"
      ]
    },
    {
      "cell_type": "markdown",
      "metadata": {
        "id": "LWrH4WRm-zBn"
      },
      "source": [
        "#Entrenamiento con GPU"
      ]
    },
    {
      "cell_type": "code",
      "execution_count": 47,
      "metadata": {
        "colab": {
          "base_uri": "https://localhost:8080/"
        },
        "id": "4WbPOEt9C9N8",
        "outputId": "51e9ded2-5706-44e6-edb8-9cff0a80ed09"
      },
      "outputs": [
        {
          "output_type": "stream",
          "name": "stdout",
          "text": [
            "Epoch 1/40\n",
            "586/586 [==============================] - ETA: 0s - loss: 0.6148 - accuracy: 0.7266\n",
            "Epoch 1: val_loss improved from inf to 0.68656, saving model to resnet-weights.hdf5\n",
            "586/586 [==============================] - 2669s 5s/step - loss: 0.6148 - accuracy: 0.7266 - val_loss: 0.6866 - val_accuracy: 0.5407\n",
            "Epoch 2/40\n",
            "586/586 [==============================] - ETA: 0s - loss: 0.4244 - accuracy: 0.8049\n",
            "Epoch 2: val_loss improved from 0.68656 to 0.62754, saving model to resnet-weights.hdf5\n",
            "586/586 [==============================] - 152s 259ms/step - loss: 0.4244 - accuracy: 0.8049 - val_loss: 0.6275 - val_accuracy: 0.5583\n",
            "Epoch 3/40\n",
            "586/586 [==============================] - ETA: 0s - loss: 0.3906 - accuracy: 0.8266\n",
            "Epoch 3: val_loss improved from 0.62754 to 0.43368, saving model to resnet-weights.hdf5\n",
            "586/586 [==============================] - 154s 262ms/step - loss: 0.3906 - accuracy: 0.8266 - val_loss: 0.4337 - val_accuracy: 0.8064\n",
            "Epoch 4/40\n",
            "586/586 [==============================] - ETA: 0s - loss: 0.3693 - accuracy: 0.8434\n",
            "Epoch 4: val_loss did not improve from 0.43368\n",
            "586/586 [==============================] - 148s 252ms/step - loss: 0.3693 - accuracy: 0.8434 - val_loss: 1.8589 - val_accuracy: 0.6462\n",
            "Epoch 5/40\n",
            "586/586 [==============================] - ETA: 0s - loss: 0.3189 - accuracy: 0.8708\n",
            "Epoch 5: val_loss did not improve from 0.43368\n",
            "586/586 [==============================] - 148s 253ms/step - loss: 0.3189 - accuracy: 0.8708 - val_loss: 1.1844 - val_accuracy: 0.5953\n",
            "Epoch 6/40\n",
            "586/586 [==============================] - ETA: 0s - loss: 0.2785 - accuracy: 0.8882\n",
            "Epoch 6: val_loss did not improve from 0.43368\n",
            "586/586 [==============================] - 148s 252ms/step - loss: 0.2785 - accuracy: 0.8882 - val_loss: 1.4450 - val_accuracy: 0.6626\n",
            "Epoch 7/40\n",
            "586/586 [==============================] - ETA: 0s - loss: 0.2773 - accuracy: 0.8893\n",
            "Epoch 7: val_loss did not improve from 0.43368\n",
            "586/586 [==============================] - 147s 251ms/step - loss: 0.2773 - accuracy: 0.8893 - val_loss: 0.5585 - val_accuracy: 0.7755\n",
            "Epoch 8/40\n",
            "586/586 [==============================] - ETA: 0s - loss: 0.2466 - accuracy: 0.9040\n",
            "Epoch 8: val_loss did not improve from 0.43368\n",
            "586/586 [==============================] - 148s 252ms/step - loss: 0.2466 - accuracy: 0.9040 - val_loss: 0.7695 - val_accuracy: 0.6098\n",
            "Epoch 9/40\n",
            "586/586 [==============================] - ETA: 0s - loss: 0.2232 - accuracy: 0.9133\n",
            "Epoch 9: val_loss did not improve from 0.43368\n",
            "586/586 [==============================] - 149s 253ms/step - loss: 0.2232 - accuracy: 0.9133 - val_loss: 0.7446 - val_accuracy: 0.7646\n",
            "Epoch 10/40\n",
            "586/586 [==============================] - ETA: 0s - loss: 0.2130 - accuracy: 0.9180\n",
            "Epoch 10: val_loss did not improve from 0.43368\n",
            "586/586 [==============================] - 148s 252ms/step - loss: 0.2130 - accuracy: 0.9180 - val_loss: 0.7193 - val_accuracy: 0.7573\n",
            "Epoch 11/40\n",
            "586/586 [==============================] - ETA: 0s - loss: 0.1995 - accuracy: 0.9198\n",
            "Epoch 11: val_loss did not improve from 0.43368\n",
            "586/586 [==============================] - 149s 254ms/step - loss: 0.1995 - accuracy: 0.9198 - val_loss: 0.4838 - val_accuracy: 0.8040\n",
            "Epoch 12/40\n",
            "586/586 [==============================] - ETA: 0s - loss: 0.1889 - accuracy: 0.9278\n",
            "Epoch 12: val_loss did not improve from 0.43368\n",
            "586/586 [==============================] - 148s 253ms/step - loss: 0.1889 - accuracy: 0.9278 - val_loss: 0.4560 - val_accuracy: 0.8222\n",
            "Epoch 13/40\n",
            "586/586 [==============================] - ETA: 0s - loss: 0.1630 - accuracy: 0.9375\n",
            "Epoch 13: val_loss improved from 0.43368 to 0.32980, saving model to resnet-weights.hdf5\n",
            "586/586 [==============================] - 152s 259ms/step - loss: 0.1630 - accuracy: 0.9375 - val_loss: 0.3298 - val_accuracy: 0.8720\n",
            "Epoch 14/40\n",
            "586/586 [==============================] - ETA: 0s - loss: 0.1532 - accuracy: 0.9410\n",
            "Epoch 14: val_loss did not improve from 0.32980\n",
            "586/586 [==============================] - 148s 253ms/step - loss: 0.1532 - accuracy: 0.9410 - val_loss: 0.6029 - val_accuracy: 0.7828\n",
            "Epoch 15/40\n",
            "586/586 [==============================] - ETA: 0s - loss: 0.1369 - accuracy: 0.9473\n",
            "Epoch 15: val_loss did not improve from 0.32980\n",
            "586/586 [==============================] - 150s 255ms/step - loss: 0.1369 - accuracy: 0.9473 - val_loss: 2.3892 - val_accuracy: 0.5158\n",
            "Epoch 16/40\n",
            "586/586 [==============================] - ETA: 0s - loss: 0.1371 - accuracy: 0.9473\n",
            "Epoch 16: val_loss did not improve from 0.32980\n",
            "586/586 [==============================] - 149s 255ms/step - loss: 0.1371 - accuracy: 0.9473 - val_loss: 1.0632 - val_accuracy: 0.6292\n",
            "Epoch 17/40\n",
            "586/586 [==============================] - ETA: 0s - loss: 0.1245 - accuracy: 0.9522\n",
            "Epoch 17: val_loss did not improve from 0.32980\n",
            "586/586 [==============================] - 150s 255ms/step - loss: 0.1245 - accuracy: 0.9522 - val_loss: 3.2326 - val_accuracy: 0.5322\n",
            "Epoch 18/40\n",
            "586/586 [==============================] - ETA: 0s - loss: 0.1156 - accuracy: 0.9587\n",
            "Epoch 18: val_loss did not improve from 0.32980\n",
            "586/586 [==============================] - 150s 255ms/step - loss: 0.1156 - accuracy: 0.9587 - val_loss: 0.8939 - val_accuracy: 0.7433\n",
            "Epoch 19/40\n",
            "586/586 [==============================] - ETA: 0s - loss: 0.1003 - accuracy: 0.9632\n",
            "Epoch 19: val_loss did not improve from 0.32980\n",
            "586/586 [==============================] - 151s 258ms/step - loss: 0.1003 - accuracy: 0.9632 - val_loss: 0.7316 - val_accuracy: 0.7773\n",
            "Epoch 20/40\n",
            "586/586 [==============================] - ETA: 0s - loss: 0.0915 - accuracy: 0.9665\n",
            "Epoch 20: val_loss did not improve from 0.32980\n",
            "586/586 [==============================] - 149s 254ms/step - loss: 0.0915 - accuracy: 0.9665 - val_loss: 1.2279 - val_accuracy: 0.7306\n",
            "Epoch 21/40\n",
            "586/586 [==============================] - ETA: 0s - loss: 0.0855 - accuracy: 0.9694\n",
            "Epoch 21: val_loss did not improve from 0.32980\n",
            "586/586 [==============================] - 149s 253ms/step - loss: 0.0855 - accuracy: 0.9694 - val_loss: 1.4012 - val_accuracy: 0.7112\n",
            "Epoch 22/40\n",
            "586/586 [==============================] - ETA: 0s - loss: 0.0842 - accuracy: 0.9679\n",
            "Epoch 22: val_loss did not improve from 0.32980\n",
            "586/586 [==============================] - 149s 253ms/step - loss: 0.0842 - accuracy: 0.9679 - val_loss: 0.5592 - val_accuracy: 0.8155\n",
            "Epoch 23/40\n",
            "586/586 [==============================] - ETA: 0s - loss: 0.0708 - accuracy: 0.9758\n",
            "Epoch 23: val_loss did not improve from 0.32980\n",
            "586/586 [==============================] - 149s 254ms/step - loss: 0.0708 - accuracy: 0.9758 - val_loss: 0.9994 - val_accuracy: 0.7148\n",
            "Epoch 24/40\n",
            "586/586 [==============================] - ETA: 0s - loss: 0.0680 - accuracy: 0.9758\n",
            "Epoch 24: val_loss did not improve from 0.32980\n",
            "586/586 [==============================] - 148s 253ms/step - loss: 0.0680 - accuracy: 0.9758 - val_loss: 1.3978 - val_accuracy: 0.7937\n",
            "Epoch 25/40\n",
            "586/586 [==============================] - ETA: 0s - loss: 0.0622 - accuracy: 0.9771\n",
            "Epoch 25: val_loss improved from 0.32980 to 0.25712, saving model to resnet-weights.hdf5\n",
            "586/586 [==============================] - 152s 260ms/step - loss: 0.0622 - accuracy: 0.9771 - val_loss: 0.2571 - val_accuracy: 0.9150\n",
            "Epoch 26/40\n",
            "586/586 [==============================] - ETA: 0s - loss: 0.0598 - accuracy: 0.9797\n",
            "Epoch 26: val_loss did not improve from 0.25712\n",
            "586/586 [==============================] - 149s 254ms/step - loss: 0.0598 - accuracy: 0.9797 - val_loss: 0.5215 - val_accuracy: 0.8550\n",
            "Epoch 27/40\n",
            "586/586 [==============================] - ETA: 0s - loss: 0.0517 - accuracy: 0.9817\n",
            "Epoch 27: val_loss did not improve from 0.25712\n",
            "586/586 [==============================] - 148s 252ms/step - loss: 0.0517 - accuracy: 0.9817 - val_loss: 3.4181 - val_accuracy: 0.6250\n",
            "Epoch 28/40\n",
            "586/586 [==============================] - ETA: 0s - loss: 0.0371 - accuracy: 0.9875\n",
            "Epoch 28: val_loss did not improve from 0.25712\n",
            "586/586 [==============================] - 148s 252ms/step - loss: 0.0371 - accuracy: 0.9875 - val_loss: 7.5316 - val_accuracy: 0.5874\n",
            "Epoch 29/40\n",
            "586/586 [==============================] - ETA: 0s - loss: 0.0608 - accuracy: 0.9786\n",
            "Epoch 29: val_loss did not improve from 0.25712\n",
            "586/586 [==============================] - 148s 252ms/step - loss: 0.0608 - accuracy: 0.9786 - val_loss: 8.2451 - val_accuracy: 0.4854\n",
            "Epoch 30/40\n",
            "586/586 [==============================] - ETA: 0s - loss: 0.0753 - accuracy: 0.9755\n",
            "Epoch 30: val_loss did not improve from 0.25712\n",
            "586/586 [==============================] - 149s 254ms/step - loss: 0.0753 - accuracy: 0.9755 - val_loss: 1.9371 - val_accuracy: 0.7130\n",
            "Epoch 31/40\n",
            "586/586 [==============================] - ETA: 0s - loss: 0.0560 - accuracy: 0.9809\n",
            "Epoch 31: val_loss did not improve from 0.25712\n",
            "586/586 [==============================] - 149s 254ms/step - loss: 0.0560 - accuracy: 0.9809 - val_loss: 0.5876 - val_accuracy: 0.8343\n",
            "Epoch 32/40\n",
            "586/586 [==============================] - ETA: 0s - loss: 0.0321 - accuracy: 0.9887\n",
            "Epoch 32: val_loss did not improve from 0.25712\n",
            "586/586 [==============================] - 148s 253ms/step - loss: 0.0321 - accuracy: 0.9887 - val_loss: 0.8778 - val_accuracy: 0.8240\n",
            "Epoch 33/40\n",
            "586/586 [==============================] - ETA: 0s - loss: 0.0351 - accuracy: 0.9879\n",
            "Epoch 33: val_loss did not improve from 0.25712\n",
            "586/586 [==============================] - 148s 252ms/step - loss: 0.0351 - accuracy: 0.9879 - val_loss: 2.5469 - val_accuracy: 0.6972\n",
            "Epoch 34/40\n",
            "586/586 [==============================] - ETA: 0s - loss: 0.0444 - accuracy: 0.9850\n",
            "Epoch 34: val_loss did not improve from 0.25712\n",
            "586/586 [==============================] - 147s 251ms/step - loss: 0.0444 - accuracy: 0.9850 - val_loss: 4.1816 - val_accuracy: 0.6383\n",
            "Epoch 35/40\n",
            "586/586 [==============================] - ETA: 0s - loss: 0.0516 - accuracy: 0.9822\n",
            "Epoch 35: val_loss did not improve from 0.25712\n",
            "586/586 [==============================] - 147s 251ms/step - loss: 0.0516 - accuracy: 0.9822 - val_loss: 1.6044 - val_accuracy: 0.6596\n",
            "Epoch 36/40\n",
            "586/586 [==============================] - ETA: 0s - loss: 0.0301 - accuracy: 0.9897\n",
            "Epoch 36: val_loss did not improve from 0.25712\n",
            "586/586 [==============================] - 148s 252ms/step - loss: 0.0301 - accuracy: 0.9897 - val_loss: 6.2509 - val_accuracy: 0.6675\n",
            "Epoch 37/40\n",
            "586/586 [==============================] - ETA: 0s - loss: 0.0352 - accuracy: 0.9879\n",
            "Epoch 37: val_loss did not improve from 0.25712\n",
            "586/586 [==============================] - 149s 253ms/step - loss: 0.0352 - accuracy: 0.9879 - val_loss: 2.1870 - val_accuracy: 0.6869\n",
            "Epoch 38/40\n",
            "586/586 [==============================] - ETA: 0s - loss: 0.0307 - accuracy: 0.9902\n",
            "Epoch 38: val_loss did not improve from 0.25712\n",
            "586/586 [==============================] - 148s 252ms/step - loss: 0.0307 - accuracy: 0.9902 - val_loss: 3.2270 - val_accuracy: 0.6553\n",
            "Epoch 39/40\n",
            "586/586 [==============================] - ETA: 0s - loss: 0.0308 - accuracy: 0.9905\n",
            "Epoch 39: val_loss did not improve from 0.25712\n",
            "586/586 [==============================] - 150s 256ms/step - loss: 0.0308 - accuracy: 0.9905 - val_loss: 0.9129 - val_accuracy: 0.8113\n",
            "Epoch 40/40\n",
            "586/586 [==============================] - ETA: 0s - loss: 0.0248 - accuracy: 0.9922\n",
            "Epoch 40: val_loss did not improve from 0.25712\n",
            "586/586 [==============================] - 148s 253ms/step - loss: 0.0248 - accuracy: 0.9922 - val_loss: 1.5268 - val_accuracy: 0.7621\n"
          ]
        }
      ],
      "source": [
        "import timeit\n",
        "\n",
        "def entrenamiento_gpu():\n",
        "  with tf.device('/device:GPU:0'):\n",
        "    model.fit(train_generator, steps_per_epoch= train_generator.n // 16, epochs = 40, validation_data= valid_generator, validation_steps= valid_generator.n // 16, callbacks=[checkpointer, earlystopping])\n",
        "  \n",
        "  return None\n",
        "\n",
        "gpu_time = timeit.timeit('entrenamiento_gpu()', number=1, setup='from __main__ import entrenamiento_gpu')\n"
      ]
    },
    {
      "cell_type": "code",
      "execution_count": 48,
      "metadata": {
        "id": "ornUHsMMjdse"
      },
      "outputs": [],
      "source": [
        "# Guardamos la arquitectura del modelo entrenado\n",
        "\n",
        "model_json = model.to_json()\n",
        "with open(\"resnet-classifier-model.json\",\"w\") as json_file:\n",
        "  json_file.write(model_json)"
      ]
    },
    {
      "cell_type": "markdown",
      "metadata": {
        "id": "thL2VWuOjjLm"
      },
      "source": [
        "#Evaluación de la calidad del modelo"
      ]
    },
    {
      "cell_type": "code",
      "execution_count": 54,
      "metadata": {
        "id": "55JG8_SojiBa"
      },
      "outputs": [],
      "source": [
        "with open('/content/drive/MyDrive/Proyecto_Introducción_Inteligencia_Artificial_Ejemplo_1/resnet-classifier-model.json', 'r') as json_file:\n",
        "    json_savedModel= json_file.read()\n",
        "# Cargamos el modelo \n",
        "model = tf.keras.models.model_from_json(json_savedModel)\n",
        "model.load_weights('/content/drive/MyDrive/Proyecto_Introducción_Inteligencia_Artificial_Ejemplo_1/resnet-weights.hdf5')\n",
        "model.compile(loss = 'binary_crossentropy', optimizer='adam', metrics= [\"accuracy\"])"
      ]
    },
    {
      "cell_type": "code",
      "execution_count": 55,
      "metadata": {
        "id": "ScXhE4S4kSwW",
        "colab": {
          "base_uri": "https://localhost:8080/"
        },
        "outputId": "71fd69a9-83f0-46d6-e327-f5c2599c739c"
      },
      "outputs": [
        {
          "output_type": "stream",
          "name": "stdout",
          "text": [
            "121/121 [==============================] - 487s 4s/step\n"
          ]
        }
      ],
      "source": [
        "# Hacemos la predicción (CUIDADO TARDA MUCHO TIEMPO (~10 mins)!)\n",
        "\n",
        "from keras_preprocessing.image import ImageDataGenerator\n",
        "\n",
        "test_predict = model.predict(test_generator, steps = test_generator.n // 16, verbose =1)"
      ]
    },
    {
      "cell_type": "code",
      "execution_count": 56,
      "metadata": {
        "id": "D1By1WyKpqlV",
        "colab": {
          "base_uri": "https://localhost:8080/"
        },
        "outputId": "cc98cfd6-ca80-4e23-d623-95d4f8b4a5a4"
      },
      "outputs": [
        {
          "output_type": "execute_result",
          "data": {
            "text/plain": [
              "array([[9.5858294e-01],\n",
              "       [5.7138610e-01],\n",
              "       [4.2011152e-12],\n",
              "       ...,\n",
              "       [9.9999988e-01],\n",
              "       [1.0000000e+00],\n",
              "       [1.0000000e+00]], dtype=float32)"
            ]
          },
          "metadata": {},
          "execution_count": 56
        }
      ],
      "source": [
        "test_predict"
      ]
    },
    {
      "cell_type": "code",
      "execution_count": 57,
      "metadata": {
        "id": "uuTHqBIDpupN"
      },
      "outputs": [],
      "source": [
        "# Dado que usamos la función de activación sigmoidea al final, nuestro resultado contiene valores continuos de 0 a 1.\n",
        "# La red se usa inicialmente para clasificar si la imagen tiene defecto o no\n",
        "# Luego, estas imágenes (defectuosas) se pasan por la red de segmentación para obtener la ubicación y el tipo de defecto.\n",
        "# Vamos a elegir 0.01, para asegurarnos de que omitimos las imágenes para que no pasen por la red de segmentación a menos que\n",
        "# estemos muy seguros de que no tiene ningún defecto y si no estamos seguros, podemos pasar esta imagen a través de la red de segmentación.\n",
        "\n",
        "\n",
        "predict = []\n",
        "\n",
        "for i in test_predict:\n",
        "  if i < 0.01: #0.5\n",
        "    predict.append(0)\n",
        "  else:\n",
        "    predict.append(1)\n",
        "\n",
        "predict = np.asarray(predict)"
      ]
    },
    {
      "cell_type": "code",
      "execution_count": 58,
      "metadata": {
        "id": "i0eLuVpCp2fk",
        "colab": {
          "base_uri": "https://localhost:8080/"
        },
        "outputId": "17ee0355-2177-409b-e4c9-20575fccbe7f"
      },
      "outputs": [
        {
          "output_type": "execute_result",
          "data": {
            "text/plain": [
              "1936"
            ]
          },
          "metadata": {},
          "execution_count": 58
        }
      ],
      "source": [
        "len(predict)"
      ]
    },
    {
      "cell_type": "code",
      "execution_count": 59,
      "metadata": {
        "id": "_fv03P01p6DE",
        "colab": {
          "base_uri": "https://localhost:8080/"
        },
        "outputId": "0a10dd07-f799-494c-85c7-055c714f8783"
      },
      "outputs": [
        {
          "output_type": "execute_result",
          "data": {
            "text/plain": [
              "1936"
            ]
          },
          "metadata": {},
          "execution_count": 59
        }
      ],
      "source": [
        "# como usamos el generador de prueba, limitó las imágenes a 1936, debido al tamaño del lote\n",
        "\n",
        "original = np.asarray(test.label)[:1936]\n",
        "len(original)"
      ]
    },
    {
      "cell_type": "code",
      "execution_count": 60,
      "metadata": {
        "id": "G2cpPgYnp89s",
        "colab": {
          "base_uri": "https://localhost:8080/"
        },
        "outputId": "1d4fe0f0-bbbc-4426-f549-81c1fd40c9c1"
      },
      "outputs": [
        {
          "output_type": "execute_result",
          "data": {
            "text/plain": [
              "0.8615702479338843"
            ]
          },
          "metadata": {},
          "execution_count": 60
        }
      ],
      "source": [
        "# Buscamos la accuracy del modelo\n",
        "from sklearn.metrics import accuracy_score\n",
        "\n",
        "accuracy = accuracy_score(original, predict)\n",
        "accuracy"
      ]
    },
    {
      "cell_type": "code",
      "execution_count": 62,
      "metadata": {
        "id": "u2gqXDgIqAWc",
        "colab": {
          "base_uri": "https://localhost:8080/",
          "height": 445
        },
        "outputId": "222c9561-8163-446e-f368-2aa4b4dd6607"
      },
      "outputs": [
        {
          "output_type": "execute_result",
          "data": {
            "text/plain": [
              "<matplotlib.axes._subplots.AxesSubplot at 0x7f6317b3dcd0>"
            ]
          },
          "metadata": {},
          "execution_count": 62
        },
        {
          "output_type": "display_data",
          "data": {
            "text/plain": [
              "<Figure size 504x504 with 2 Axes>"
            ],
            "image/png": "[encoded data removed]"
          },
          "metadata": {
            "needs_background": "light"
          }
        }
      ],
      "source": [
        "# Representamos la matriz de confusión\n",
        "from sklearn.metrics import confusion_matrix\n",
        "\n",
        "cm = confusion_matrix(original, predict)\n",
        "plt.figure(figsize = (7,7))\n",
        "sns.heatmap(cm, annot=True)"
      ]
    },
    {
      "cell_type": "code",
      "execution_count": 63,
      "metadata": {
        "id": "7IxMccAkqIN-",
        "colab": {
          "base_uri": "https://localhost:8080/"
        },
        "outputId": "48240318-f6e5-4cb0-dc61-c3edfdf4f6fe"
      },
      "outputs": [
        {
          "output_type": "stream",
          "name": "stdout",
          "text": [
            "              precision    recall  f1-score   support\n",
            "\n",
            "           0       0.99      0.72      0.83       931\n",
            "           1       0.79      0.99      0.88      1005\n",
            "\n",
            "    accuracy                           0.86      1936\n",
            "   macro avg       0.89      0.86      0.86      1936\n",
            "weighted avg       0.89      0.86      0.86      1936\n",
            "\n"
          ]
        }
      ],
      "source": [
        "# Imprimimos el reporte de clasificación\n",
        "\n",
        "from sklearn.metrics import classification_report\n",
        "\n",
        "report = classification_report(original,predict, labels = [0,1])\n",
        "print(report)"
      ]
    }
  ],
  "metadata": {
    "colab": {
      "collapsed_sections": [],
      "name": "Proyecto_de_IA.ipynb",
      "provenance": []
    },
    "kernelspec": {
      "display_name": "Python 3",
      "name": "python3"
    },
    "language_info": {
      "name": "python"
    },
    "accelerator": "GPU"
  },
  "nbformat": 4,
  "nbformat_minor": 0
}